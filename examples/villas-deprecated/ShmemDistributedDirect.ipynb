{
 "cells": [
  {
   "cell_type": "markdown",
   "metadata": {},
   "source": [
    "# Shmem Distributed Direct"
   ]
  },
  {
   "cell_type": "markdown",
   "metadata": {},
   "source": [
    "## Run Monolithic reference case"
   ]
  },
  {
   "cell_type": "code",
   "execution_count": null,
   "metadata": {},
   "outputs": [],
   "source": [
    "%%bash\n",
    "cd ../../../\n",
    "build/dpsim-villas/examples/cxx/ShmemDistributedReference"
   ]
  },
  {
   "cell_type": "code",
   "execution_count": null,
   "metadata": {},
   "outputs": [],
   "source": [
    "import villas.dataprocessing.readtools as rt\n",
    "from villas.dataprocessing.timeseries import TimeSeries as ts"
   ]
  },
  {
   "cell_type": "code",
   "execution_count": null,
   "metadata": {},
   "outputs": [],
   "source": [
    "log_name = \"../../../logs/ShmemDistributedRef/ShmemDistributedRef.csv\"\n",
    "ts_ref = rt.read_timeseries_dpsim(log_name)"
   ]
  },
  {
   "cell_type": "code",
   "execution_count": null,
   "metadata": {},
   "outputs": [],
   "source": [
    "import matplotlib.pyplot as plt\n",
    "\n",
    "plt.plot(ts_ref[\"v1\"].values.real)\n",
    "plt.plot(ts_ref[\"v2\"].values.real)\n",
    "plt.plot(ts_ref[\"r12\"].values.real)"
   ]
  },
  {
   "cell_type": "markdown",
   "metadata": {},
   "source": [
    "## Distributed"
   ]
  },
  {
   "cell_type": "code",
   "execution_count": null,
   "metadata": {},
   "outputs": [],
   "source": [
    "%%bash\n",
    "cd ../../../\n",
    "build/dpsim/examples/cxx/ShmemDistributedDirect 0 & P1=$!\n",
    "build/dpsim/examples/cxx/ShmemDistributedDirect 1 & P2=$!\n",
    "    \n",
    "for job in $P1 $P2; do\n",
    "    wait $job || exit 1\n",
    "done"
   ]
  },
  {
   "cell_type": "code",
   "execution_count": null,
   "metadata": {},
   "outputs": [],
   "source": [
    "log_name = \"../../../logs/ShmemDistributedDirect_1/ShmemDistributedDirect_1.csv\"\n",
    "ts_direct1 = rt.read_timeseries_dpsim(log_name)"
   ]
  },
  {
   "cell_type": "code",
   "execution_count": null,
   "metadata": {},
   "outputs": [],
   "source": [
    "log_name = \"../../../logs/ShmemDistributedDirect_2/ShmemDistributedDirect_2.csv\"\n",
    "ts_direct2 = rt.read_timeseries_dpsim(log_name)"
   ]
  },
  {
   "cell_type": "code",
   "execution_count": null,
   "metadata": {},
   "outputs": [],
   "source": [
    "plt.plot(ts_direct1[\"v1\"].values.real)\n",
    "plt.plot(ts_direct1[\"v2\"].values.real)\n",
    "plt.plot(ts_direct2[\"v2\"].values.real)\n",
    "plt.plot(ts_direct1[\"r12\"].values.real)"
   ]
  },
  {
   "cell_type": "code",
   "execution_count": null,
   "metadata": {},
   "outputs": [],
   "source": []
  }
 ],
 "metadata": {
  "kernelspec": {
   "display_name": "Python 3.9.10 64-bit",
   "language": "python",
   "name": "python3"
  },
  "language_info": {
   "codemirror_mode": {
    "name": "ipython",
    "version": 3
   },
   "file_extension": ".py",
   "mimetype": "text/x-python",
   "name": "python",
   "nbconvert_exporter": "python",
   "pygments_lexer": "ipython3",
   "version": "3.9.13"
  },
  "tests": {
   "skip": true
  },
  "vscode": {
   "interpreter": {
    "hash": "e7370f93d1d0cde622a1f8e1c04877d8463912d04d973331ad4851f04de6915a"
   }
  }
 },
 "nbformat": 4,
 "nbformat_minor": 4
}
