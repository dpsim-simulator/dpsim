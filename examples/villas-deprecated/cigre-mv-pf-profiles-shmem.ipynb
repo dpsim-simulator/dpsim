{
 "cells": [
  {
   "attachments": {},
   "cell_type": "markdown",
   "metadata": {},
   "source": [
    "# CIGRE MV Powerflow with Profiles Test"
   ]
  },
  {
   "attachments": {},
   "cell_type": "markdown",
   "metadata": {},
   "source": [
    "## Run simulation"
   ]
  },
  {
   "cell_type": "code",
   "execution_count": null,
   "metadata": {},
   "outputs": [],
   "source": [
    "import requests\n",
    "import glob\n",
    "\n",
    "def download_grid_data(name, url):\n",
    "    with open(name, 'wb') as out_file:\n",
    "        content = requests.get(url, stream=True).content\n",
    "        out_file.write(content)\n",
    "\n",
    "url = 'https://raw.githubusercontent.com/dpsim-simulator/cim-grid-data/master/CIGRE_MV/NEPLAN/CIGRE_MV_no_tapchanger_With_LoadFlow_Results/Rootnet_FULL_NE_06J16h'\n",
    "filename = 'CIGRE-MV'\n",
    "download_grid_data(filename+'_EQ.xml', url+'_EQ.xml')\n",
    "download_grid_data(filename+'_TP.xml', url+'_TP.xml')\n",
    "download_grid_data(filename+'_SV.xml', url+'_SV.xml')\n",
    "\n",
    "files = glob.glob(filename+'_*.xml')\n",
    "print(files)"
   ]
  },
  {
   "cell_type": "code",
   "execution_count": null,
   "metadata": {},
   "outputs": [],
   "source": [
    "import os\n",
    "\n",
    "profiles = ['Load_H_1','Load_H_3','Load_H_4','Load_H_5','Load_H_6','Load_H_8','Load_H_10','Load_H_11','Load_H_12','Load_H_14','Load_I_1','Load_I_3','Load_I_7','Load_I_9','Load_I_10','Load_I_12','Load_I_13','Load_I_14']\n",
    "for profile in profiles:\n",
    "    filename = './profiles/'+profile+'.csv'\n",
    "    os.makedirs(os.path.dirname(filename), exist_ok=True)\n",
    "    download_grid_data(filename, 'https://raw.githubusercontent.com/dpsim-simulator/example-profile-data/master/CIGRE_MV_NoTap/load_profiles/'+profile+'.csv')\n",
    "    \n",
    "profile_files = glob.glob('profiles/Load*.csv')\n"
   ]
  },
  {
   "cell_type": "code",
   "execution_count": null,
   "metadata": {},
   "outputs": [],
   "source": [
    "import pathlib\n",
    "\n",
    "profile_path = str(pathlib.Path().resolve())+'/profiles/'\n",
    "print(profile_path)"
   ]
  },
  {
   "cell_type": "code",
   "execution_count": null,
   "metadata": {},
   "outputs": [],
   "source": [
    "import dpsimpy\n",
    "import dpsimpyvillas"
   ]
  },
  {
   "cell_type": "code",
   "execution_count": null,
   "metadata": {},
   "outputs": [],
   "source": [
    "name = 'CIGRE-MV-Profiles'\n",
    "reader = dpsimpy.CIMReader(name)\n",
    "system = reader.loadCIM(50, files, dpsimpy.Domain.SP, dpsimpy.PhaseType.Single, dpsimpy.GeneratorType.PVNode)"
   ]
  },
  {
   "cell_type": "code",
   "execution_count": null,
   "metadata": {},
   "outputs": [],
   "source": [
    "assignList = { }\n",
    "assignList['LOAD-H-1'] = 'Load_H_1'\n",
    "assignList['LOAD-H-3'] = 'Load_H_3'\n",
    "assignList['LOAD-H-4'] = 'Load_H_4'\n",
    "assignList['LOAD-H-5'] = 'Load_H_5'\n",
    "assignList['LOAD-H-6'] = 'Load_H_6'\n",
    "assignList['LOAD-H-8'] = 'Load_H_8'\n",
    "assignList['LOAD-H-10'] = 'Load_H_10'\n",
    "assignList['LOAD-H-11'] = 'Load_H_11'\n",
    "assignList['LOAD-H-12'] = 'Load_H_12'\n",
    "assignList['LOAD-H-14'] = 'Load_H_14'\n",
    "assignList['LOAD-I-1'] = 'Load_I_1'\n",
    "assignList['LOAD-I-3'] = 'Load_I_3'\n",
    "assignList['LOAD-I-7'] = 'Load_I_7'\n",
    "assignList['LOAD-I-9'] = 'Load_I_9'\n",
    "assignList['LOAD-I-10'] = 'Load_I_10'\n",
    "assignList['LOAD-I-12'] = 'Load_I_12'\n",
    "assignList['LOAD-I-13'] = 'Load_I_13'\n",
    "assignList['LOAD-I-14'] = 'Load_I_14'"
   ]
  },
  {
   "cell_type": "code",
   "execution_count": null,
   "metadata": {},
   "outputs": [],
   "source": [
    "csvreader = dpsimpy.CSVReader(profile_path, assignList, dpsimpy.LogLevel.info)\n",
    "csvreader.assignLoadProfile(system, 0, 1, 300, dpsimpy.CSVReaderMode.MANUAL, dpsimpy.CSVReaderFormat.SECONDS)"
   ]
  },
  {
   "cell_type": "code",
   "execution_count": null,
   "metadata": {},
   "outputs": [],
   "source": [
    "system"
   ]
  },
  {
   "cell_type": "code",
   "execution_count": null,
   "metadata": {},
   "outputs": [],
   "source": [
    "sim = dpsimpy.Simulation(name)\n",
    "sim.set_system(system)\n",
    "sim.set_domain(dpsimpy.Domain.SP)\n",
    "sim.set_solver(dpsimpy.Solver.NRP)\n",
    "sim.set_time_step(1)\n",
    "sim.set_final_time(300)\n",
    "\n",
    "logger = dpsimpy.Logger(name)\n",
    "sim.add_logger(logger)\n",
    "\n",
    "intf = dpsimpyvillas.InterfaceShmem()\n",
    "sim.add_interface(intf)"
   ]
  },
  {
   "cell_type": "code",
   "execution_count": null,
   "metadata": {},
   "outputs": [],
   "source": [
    "obj_list = system.list_idobjects()\n",
    "node_list = {k: v for k, v in obj_list.items() if v == 'SimNode<std::complex<double> >'}\n",
    "node_list"
   ]
  },
  {
   "cell_type": "code",
   "execution_count": null,
   "metadata": {},
   "outputs": [],
   "source": [
    "for i in range(14):\n",
    "    sim.export_attribute(sim.get_idobj_attr('N'+str(i), 'v').derive_coeff(0,0).derive_mag(), 2*i)\n",
    "    sim.export_attribute(sim.get_idobj_attr('N'+str(i), 'v').derive_coeff(0,0).derive_phase(), 2*i+1)"
   ]
  },
  {
   "cell_type": "code",
   "execution_count": null,
   "metadata": {},
   "outputs": [],
   "source": [
    "for node in system.nodes:\n",
    "    logger.log_attribute(node.name()+'.V', 'v', node)"
   ]
  },
  {
   "cell_type": "code",
   "execution_count": null,
   "metadata": {},
   "outputs": [],
   "source": [
    "sim.run()"
   ]
  }
 ],
 "metadata": {
  "kernelspec": {
   "display_name": "Python 3.9.10 64-bit",
   "language": "python",
   "name": "python3"
  },
  "language_info": {
   "codemirror_mode": {
    "name": "ipython",
    "version": 3
   },
   "file_extension": ".py",
   "mimetype": "text/x-python",
   "name": "python",
   "nbconvert_exporter": "python",
   "pygments_lexer": "ipython3",
   "version": "3.9.13"
  },
  "tests": {
   "skip": true
  },
  "vscode": {
   "interpreter": {
    "hash": "e7370f93d1d0cde622a1f8e1c04877d8463912d04d973331ad4851f04de6915a"
   }
  }
 },
 "nbformat": 4,
 "nbformat_minor": 4
}
