{
 "cells": [
  {
   "cell_type": "markdown",
   "metadata": {},
   "source": [
    "# WSCC 9bus Ideal Current Source - EMT vs. DP"
   ]
  },
  {
   "cell_type": "code",
   "execution_count": null,
   "metadata": {},
   "outputs": [],
   "source": [
    "import requests\n",
    "import glob\n",
    "\n",
    "\n",
    "def download_grid_data(name, url):\n",
    "    with open(name, \"wb\") as out_file:\n",
    "        content = requests.get(url, stream=True).content\n",
    "        out_file.write(content)\n",
    "\n",
    "\n",
    "url = \"https://raw.githubusercontent.com/dpsim-simulator/cim-grid-data/master/WSCC-09/WSCC-09/WSCC-09\"\n",
    "filename = \"WSCC-09\"\n",
    "download_grid_data(filename + \"_EQ.xml\", url + \"_EQ.xml\")\n",
    "download_grid_data(filename + \"_TP.xml\", url + \"_TP.xml\")\n",
    "download_grid_data(filename + \"_SV.xml\", url + \"_SV.xml\")\n",
    "\n",
    "files = glob.glob(filename + \"_*.xml\")\n",
    "print(files)"
   ]
  },
  {
   "cell_type": "code",
   "execution_count": null,
   "metadata": {},
   "outputs": [],
   "source": [
    "from villas.dataprocessing.readtools import *\n",
    "from villas.dataprocessing.timeseries import *\n",
    "import matplotlib.pyplot as plt\n",
    "import re\n",
    "import numpy as np\n",
    "import math\n",
    "import os\n",
    "import subprocess\n",
    "\n",
    "PEAK1PH_TO_RMS3PH = np.sqrt(3.0 / 2.0)\n",
    "\n",
    "name = \"DP_WSCC-9bus_IdealVS\"\n",
    "name_emt = \"EMT_WSCC-9bus_IdealCS\"\n",
    "\n",
    "timestep = 100e-6\n",
    "duration = 0.1\n",
    "\n",
    "root_path = (\n",
    "    subprocess.Popen([\"git\", \"rev-parse\", \"--show-toplevel\"], stdout=subprocess.PIPE)\n",
    "    .communicate()[0]\n",
    "    .rstrip()\n",
    "    .decode(\"utf-8\")\n",
    ")\n",
    "path_exec = root_path + \"/build/dpsim/examples/cxx/\""
   ]
  },
  {
   "cell_type": "markdown",
   "metadata": {},
   "source": [
    "## Run Simulation"
   ]
  },
  {
   "cell_type": "code",
   "execution_count": null,
   "metadata": {},
   "outputs": [],
   "source": [
    "sim = subprocess.Popen(\n",
    "    [\n",
    "        path_exec + name,\n",
    "        \"--timestep\",\n",
    "        str(timestep),\n",
    "        \"--duration\",\n",
    "        str(duration),\n",
    "        files[0],\n",
    "        files[1],\n",
    "        files[2],\n",
    "    ],\n",
    "    stdout=subprocess.PIPE,\n",
    "    stderr=subprocess.STDOUT,\n",
    ")\n",
    "print(sim.communicate()[0].decode())\n",
    "sim = subprocess.Popen(\n",
    "    [\n",
    "        path_exec + name_emt,\n",
    "        \"--timestep\",\n",
    "        str(timestep),\n",
    "        \"--duration\",\n",
    "        str(duration),\n",
    "        files[0],\n",
    "        files[1],\n",
    "        files[2],\n",
    "    ],\n",
    "    stdout=subprocess.PIPE,\n",
    "    stderr=subprocess.STDOUT,\n",
    ")\n",
    "print(sim.communicate()[0].decode())"
   ]
  },
  {
   "cell_type": "markdown",
   "metadata": {},
   "source": [
    "## Read DPsim Results"
   ]
  },
  {
   "cell_type": "code",
   "execution_count": null,
   "metadata": {},
   "outputs": [],
   "source": [
    "model_name = \"DP_WSCC-9bus_IdealVS\"\n",
    "path = \"logs/\" + model_name + \"/\"\n",
    "dpsim_result_file = path + model_name + \".csv\"\n",
    "ts_dpsim_dp = read_timeseries_csv(dpsim_result_file)\n",
    "\n",
    "model_name = \"EMT_WSCC-9bus_IdealCS\"\n",
    "path = \"logs/\" + model_name + \"/\"\n",
    "dpsim_result_file = path + model_name + \".csv\"\n",
    "ts_dpsim_emt = read_timeseries_csv(dpsim_result_file)\n",
    "\n",
    "model_name = \"EMT_WSCC-9bus_IdealCS_PF\"\n",
    "path = \"logs/\" + model_name + \"/\"\n",
    "dpsim_result_file = path + model_name + \".csv\"\n",
    "ts_dpsim_pf = read_timeseries_csv(dpsim_result_file)"
   ]
  },
  {
   "cell_type": "markdown",
   "metadata": {},
   "source": [
    "## Bus voltages"
   ]
  },
  {
   "cell_type": "code",
   "execution_count": null,
   "metadata": {},
   "outputs": [],
   "source": [
    "plt.figure(figsize=(12, 8))\n",
    "for phase in [\"0\"]:  # , '1','2']:\n",
    "    for name in [\"v1_\" + phase, \"v2_\" + phase, \"v3_\" + phase]:\n",
    "        plt.plot(\n",
    "            ts_dpsim_emt[name].time,\n",
    "            PEAK1PH_TO_RMS3PH * ts_dpsim_emt[name].values,\n",
    "            label=name + \" (EMT)\",\n",
    "        )\n",
    "for name in [\"v1\", \"v2\", \"v3\"]:\n",
    "    plt.plot(\n",
    "        ts_dpsim_dp[name].time, ts_dpsim_dp[name].abs().values, label=name + \" (DP)\"\n",
    "    )\n",
    "for name in [\"BUS1.V\", \"BUS2.V\", \"BUS3.V\"]:\n",
    "    plt.plot(\n",
    "        ts_dpsim_pf[name].time,\n",
    "        ts_dpsim_pf[name].abs().values,\n",
    "        label=name + \" (PF)\",\n",
    "        linestyle=\"--\",\n",
    "    )\n",
    "plt.legend()\n",
    "plt.show()"
   ]
  },
  {
   "cell_type": "markdown",
   "metadata": {},
   "source": [
    "## Bus angles from DP"
   ]
  },
  {
   "cell_type": "code",
   "execution_count": null,
   "metadata": {},
   "outputs": [],
   "source": [
    "plt.figure(figsize=(12, 8))\n",
    "for name in [\"v1\", \"v2\", \"v3\"]:\n",
    "    plt.plot(\n",
    "        ts_dpsim_dp[name].time, ts_dpsim_dp[name].phase().values, label=name + \" (DP)\"\n",
    "    )\n",
    "for name in [\"BUS1.V\", \"BUS2.V\", \"BUS3.V\"]:\n",
    "    plt.plot(\n",
    "        ts_dpsim_pf[name].time,\n",
    "        ts_dpsim_pf[name].phase().values,\n",
    "        label=name + \" (PF)\",\n",
    "        linestyle=\"--\",\n",
    "    )\n",
    "plt.legend()\n",
    "plt.show()"
   ]
  },
  {
   "cell_type": "markdown",
   "metadata": {},
   "source": [
    "# Generator currents"
   ]
  },
  {
   "cell_type": "code",
   "execution_count": null,
   "metadata": {},
   "outputs": [],
   "source": [
    "plt.figure(figsize=(12, 8))\n",
    "for phase in [\"0\"]:  # ,'1','2']:\n",
    "    for name in [\"GEN1.I_\" + phase, \"GEN2.I_\" + phase, \"GEN3.I_\" + phase]:\n",
    "        plt.plot(\n",
    "            ts_dpsim_emt[name].time,\n",
    "            PEAK1PH_TO_RMS3PH * ts_dpsim_emt[name].values,\n",
    "            label=name + \"(EMT)\",\n",
    "        )\n",
    "for name in [\"GEN1.I\", \"GEN2.I\", \"GEN3.I\"]:\n",
    "    plt.plot(\n",
    "        ts_dpsim_dp[name].interpolate(timestep).time,\n",
    "        ts_dpsim_dp[name].interpolate(timestep).frequency_shift(60).values,\n",
    "        label=name + \"(DP)\",\n",
    "        linestyle=\"--\",\n",
    "    )\n",
    "plt.legend()\n",
    "plt.show()"
   ]
  },
  {
   "cell_type": "markdown",
   "metadata": {},
   "source": [
    "## Assert generator current"
   ]
  },
  {
   "cell_type": "code",
   "execution_count": null,
   "metadata": {},
   "outputs": [],
   "source": [
    "ts_emt_rms3ph = {}\n",
    "rmse_rel = {}\n",
    "for name in [\"GEN1.I\", \"GEN2.I\", \"GEN3.I\"]:\n",
    "    ts_emt_rms3ph[name + \"_0\"] = ts_dpsim_emt[name + \"_0\"]\n",
    "    ts_emt_rms3ph[name + \"_0\"].values = (\n",
    "        PEAK1PH_TO_RMS3PH * ts_emt_rms3ph[name + \"_0\"].values\n",
    "    )\n",
    "    rmse_rel[name] = ts_dpsim_dp[name].rmse(\n",
    "        ts_emt_rms3ph[name + \"_0\"],\n",
    "        ts_dpsim_dp[name].interpolate(timestep).frequency_shift(60),\n",
    "    ) / np.max(ts_dpsim_dp[name].abs().values)\n",
    "    print(\"Rel. RMSE for {}: {}\".format(name, rmse_rel[name]))\n",
    "    assert rmse_rel[name] < 1e-2"
   ]
  },
  {
   "cell_type": "code",
   "execution_count": null,
   "metadata": {},
   "outputs": [],
   "source": []
  }
 ],
 "metadata": {
  "kernelspec": {
   "display_name": "Python 3 (ipykernel)",
   "language": "python",
   "name": "python3"
  },
  "language_info": {
   "codemirror_mode": {
    "name": "ipython",
    "version": 3
   },
   "file_extension": ".py",
   "mimetype": "text/x-python",
   "name": "python",
   "nbconvert_exporter": "python",
   "pygments_lexer": "ipython3",
   "version": "3.9.12"
  },
  "tests": {
   "skip": false
  }
 },
 "nbformat": 4,
 "nbformat_minor": 4
}
