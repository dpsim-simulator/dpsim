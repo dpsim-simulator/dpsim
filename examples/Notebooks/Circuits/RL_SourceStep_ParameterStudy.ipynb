{
 "cells": [
  {
   "cell_type": "markdown",
   "metadata": {},
   "source": [
    "# RL Source Step Parameter Study"
   ]
  },
  {
   "cell_type": "markdown",
   "metadata": {},
   "source": [
    "## Run"
   ]
  },
  {
   "cell_type": "code",
   "execution_count": null,
   "metadata": {},
   "outputs": [],
   "source": [
    "%%bash\n",
    "mkdir logs\n",
    "TOP=${TOP:-$(git rev-parse --show-toplevel)}\n",
    "${TOP}/build/dpsim/examples/cxx/DP_EMT_RL_SourceStep"
   ]
  },
  {
   "cell_type": "markdown",
   "metadata": {},
   "source": [
    "## Evaluation - Voltage Step"
   ]
  },
  {
   "cell_type": "code",
   "execution_count": null,
   "metadata": {},
   "outputs": [],
   "source": [
    "import villas.dataprocessing.readtools as rt\n",
    "from villas.dataprocessing.timeseries import TimeSeries as ts\n",
    "import matplotlib.pyplot as plt\n",
    "import pandas as pd\n",
    "import numpy as np"
   ]
  },
  {
   "cell_type": "code",
   "execution_count": null,
   "metadata": {},
   "outputs": [],
   "source": [
    "def calc_dpsim_variable_timestep_mae(ref, test_list):\n",
    "    # find the minimum number of time steps available in the list of timeseries results\n",
    "    min_length = ref.values.shape[0]\n",
    "    for test in test_list:\n",
    "        if test.values.shape[0] < min_length:\n",
    "            min_length = test.values.shape[0]\n",
    "            \n",
    "    # calculate maximum amplitude of EMT reference signal to normalize error\n",
    "    max_amp = np.max(np.abs(ref.values[:min_length]))\n",
    "\n",
    "    # Calculate difference for each timeseries with respect to the 50µs reference\n",
    "    diff_list = []\n",
    "    for test in test_list:\n",
    "        diff_list.append( (test.values[:min_length] - ref.values[:min_length]) )#/ max_amp )\n",
    "\n",
    "    # calculate mean absolute error\n",
    "    mae = []\n",
    "    for diff in diff_list:\n",
    "        mae.append( np.sum(np.abs(diff)) / min_length )\n",
    "        \n",
    "    return mae, diff_list"
   ]
  },
  {
   "cell_type": "code",
   "execution_count": null,
   "metadata": {},
   "outputs": [],
   "source": [
    "def calc_mae_dp(pd_ref, pd_test, max_step=11):\n",
    "    mae_dp_list = []\n",
    "\n",
    "    for load_idx in range(1,max_step): \n",
    "        pd_test_list = pd_test.query('timestep > 1 and step=='+str(load_idx))\n",
    "        test_list = []\n",
    "        for index, row in pd_test_list.iterrows():\n",
    "            test_list.append(row['values']['v3_intpl_shift'])\n",
    "\n",
    "        ref = pd_ref.query('timestep == 1 and step=='+str(load_idx)).iloc[0]['values']['v3_shift']\n",
    "        mae_dp, diff_list = calc_dpsim_variable_timestep_mae(ref, test_list)\n",
    "        mae_dp_list.append(mae_dp)\n",
    "    \n",
    "    return mae_dp_list"
   ]
  },
  {
   "cell_type": "code",
   "execution_count": null,
   "metadata": {},
   "outputs": [],
   "source": [
    "def calc_mae_dp_no_step(pd_ref, pd_test):\n",
    "    pd_test_list = pd_test.query('timestep > 1')\n",
    "    test_list = []\n",
    "    for index, row in pd_test_list.iterrows():\n",
    "        test_list.append(row['values']['v3_intpl_shift'])\n",
    "\n",
    "    ref = pd_ref.query('timestep == 1').iloc[0]['values']['v3_shift']\n",
    "    mae_dp, diff_list = calc_dpsim_variable_timestep_mae(ref, test_list)\n",
    "     \n",
    "    return mae_dp"
   ]
  },
  {
   "cell_type": "code",
   "execution_count": null,
   "metadata": {},
   "outputs": [],
   "source": [
    "def calc_mae_emt(pd_ref, pd_test, max_step=11):\n",
    "    mae_emt_list = []\n",
    "\n",
    "    for load_idx in range(1,max_step): \n",
    "        pd_test_list = pd_test.query('timestep > 1 and step=='+str(load_idx))\n",
    "        test_list = []\n",
    "        for index, row in pd_test_list.iterrows():\n",
    "            test_list.append(row['values']['v3_intpl'])\n",
    "\n",
    "        ref = pd_ref.query('timestep == 1 and step=='+str(load_idx)).iloc[0]['values']['v3']\n",
    "        mae, diff_list = calc_dpsim_variable_timestep_mae(ref, test_list)\n",
    "        mae_emt_list.append(mae)\n",
    "        \n",
    "    return mae_emt_list"
   ]
  },
  {
   "cell_type": "code",
   "execution_count": null,
   "metadata": {},
   "outputs": [],
   "source": [
    "def calc_mae_emt_no_step(pd_ref, pd_test):    \n",
    "    pd_test_list = pd_test.query('timestep > 1')\n",
    "    test_list = []\n",
    "    for index, row in pd_test_list.iterrows():\n",
    "        test_list.append(row['values']['v3_intpl'])\n",
    "\n",
    "    ref = pd_ref.query('timestep == 1').iloc[0]['values']['v3']\n",
    "    mae, diff_list = calc_dpsim_variable_timestep_mae(ref, test_list)\n",
    "          \n",
    "    return mae"
   ]
  },
  {
   "cell_type": "markdown",
   "metadata": {},
   "source": [
    "### DP Results"
   ]
  },
  {
   "cell_type": "code",
   "execution_count": null,
   "metadata": {},
   "outputs": [],
   "source": [
    "%%capture\n",
    "result_list = []\n",
    "for ts_idx in range(1,21):\n",
    "    logs_dir = '../../../logs_source_step/'\n",
    "    log_name = logs_dir+'DP_RL_SourceStep_T' + str(ts_idx) + '/' \\\n",
    "            'DP_RL_SourceStep_T' + str(ts_idx)\n",
    "\n",
    "    ts_curr = rt.read_timeseries_dpsim(log_name + '.csv')\n",
    "    if ts_idx > 1:\n",
    "        ts_curr = ts.interpolate_list(ts_curr, 0.00005)\n",
    "    ts_curr = ts.frequency_shift_list(ts_curr, 50)\n",
    "    result_list.append({'timestep': ts_idx, 'values': ts_curr})      \n",
    "        \n",
    "pd_dp_1 = pd.DataFrame(result_list)\n",
    "\n",
    "result_list = []\n",
    "for ts_idx in range(40,401,20):\n",
    "    logs_dir = '../../../logs_source_step/'\n",
    "    log_name = logs_dir+'DP_RL_SourceStep_T' + str(ts_idx) + '/' \\\n",
    "            'DP_RL_SourceStep_T' + str(ts_idx)\n",
    "\n",
    "    ts_curr = rt.read_timeseries_dpsim(log_name + '.csv')\n",
    "    if ts_idx > 1:\n",
    "        ts_curr = ts.interpolate_list(ts_curr, 0.00005)\n",
    "    ts_curr = ts.frequency_shift_list(ts_curr, 50)\n",
    "    result_list.append({'timestep': ts_idx, 'values': ts_curr})      \n",
    "        \n",
    "pd_dp_2 = pd.DataFrame(result_list)"
   ]
  },
  {
   "cell_type": "code",
   "execution_count": null,
   "metadata": {},
   "outputs": [],
   "source": [
    "%%capture\n",
    "result_list = []\n",
    "for ts_idx in range(1,21):\n",
    "    for load_idx in range(1,11):\n",
    "        logs_dir = '../../../logs_source_step/'\n",
    "        log_name = logs_dir+'DP_RL_SourceStep_T' + str(ts_idx) + '_V' + str(load_idx) + '/' \\\n",
    "                'DP_RL_SourceStep_T' + str(ts_idx) + '_V' + str(load_idx)\n",
    "    \n",
    "        ts_curr = rt.read_timeseries_dpsim(log_name + '.csv')\n",
    "        if ts_idx > 1:\n",
    "            ts_curr = ts.interpolate_list(ts_curr, 0.00005)\n",
    "        ts_curr = ts.frequency_shift_list(ts_curr, 50)\n",
    "        result_list.append({'timestep': ts_idx, 'step': load_idx, 'values': ts_curr})      \n",
    "        \n",
    "pd_dp_vstep_1 = pd.DataFrame(result_list)"
   ]
  },
  {
   "cell_type": "code",
   "execution_count": null,
   "metadata": {},
   "outputs": [],
   "source": [
    "curr = pd_dp_1.query('timestep=='+str(1))['values'].values[0]\n",
    "plt.plot(curr['v3_shift'].time, curr['v3_shift'].values)"
   ]
  },
  {
   "cell_type": "code",
   "execution_count": null,
   "metadata": {},
   "outputs": [],
   "source": [
    "nom_amp = max(curr['v3_shift'].values)"
   ]
  },
  {
   "cell_type": "code",
   "execution_count": null,
   "metadata": {},
   "outputs": [],
   "source": [
    "sourcestep = 9\n",
    "timestep = 20\n",
    "curr = pd_dp_vstep_1.query('timestep=='+str(timestep)+' and step=='+str(sourcestep))['values'].values[0]\n",
    "plt.plot(curr['v3_intpl_shift'].time, curr['v3_intpl_shift'].values)"
   ]
  },
  {
   "cell_type": "code",
   "execution_count": null,
   "metadata": {},
   "outputs": [],
   "source": [
    "mae_dp_list_1 = calc_mae_dp(pd_dp_vstep_1, pd_dp_vstep_1)"
   ]
  },
  {
   "cell_type": "code",
   "execution_count": null,
   "metadata": {},
   "outputs": [],
   "source": [
    "import matplotlib.ticker as ticker\n",
    "ax = plt.figure().gca()\n",
    "ax.xaxis.set_major_locator(ticker.MultipleLocator(0.0002))\n",
    "\n",
    "timesteps = np.arange(2,21)*0.00005\n",
    "for load_idx in range(1,10,4):  \n",
    "    plt.plot(timesteps, mae_dp_list_1[load_idx] / nom_amp, 'o-', label=str(load_idx*10+10)+'% step')\n",
    "#plt.ylim([-0.01,0.2])\n",
    "#plt.xlim([0,0.0009])\n",
    "\n",
    "plt.xlabel('timestep (s)')\n",
    "plt.ylabel('mean relative error voltage')\n",
    "plt.grid()\n",
    "plt.legend()\n",
    "plt.tight_layout()\n",
    "plt.savefig('dp_rl_source_step_voltage_1ms.pdf')"
   ]
  },
  {
   "cell_type": "code",
   "execution_count": null,
   "metadata": {},
   "outputs": [],
   "source": [
    "sourcestep = 4\n",
    "timestep = 15\n",
    "curr = pd_dp_vstep_1.query('timestep=='+str(1)+' and step=='+str(sourcestep))['values'].values[0]\n",
    "curr_vts = pd_dp_vstep_1.query('timestep=='+str(timestep)+' and step=='+str(sourcestep))['values'].values[0]\n",
    "min_len = min(curr['v3_shift'].values.shape, curr_vts['v3_intpl_shift'].values.shape)[0]\n",
    "plt.plot(curr['v3_shift'].time[:min_len], curr['v3_shift'].values[:min_len] - curr_vts['v3_intpl_shift'].values[:min_len])"
   ]
  },
  {
   "cell_type": "code",
   "execution_count": null,
   "metadata": {},
   "outputs": [],
   "source": [
    "%%capture\n",
    "result_list = []\n",
    "for ts_idx in range(40,401,20):\n",
    "    for load_idx in range(1,11):\n",
    "        logs_dir = '../../../logs_source_step/'\n",
    "        log_name = logs_dir+'DP_RL_SourceStep_T' + str(ts_idx) + '_V' + str(load_idx) + '/' \\\n",
    "            'DP_RL_SourceStep_T' + str(ts_idx) + '_V' + str(load_idx)\n",
    "    \n",
    "        ts_curr = rt.read_timeseries_dpsim(log_name + '.csv')\n",
    "        if ts_idx > 1:\n",
    "            ts_curr = ts.interpolate_list(ts_curr, 0.00005)\n",
    "        ts_curr = ts.frequency_shift_list(ts_curr, 50)\n",
    "        result_list.append({'timestep': ts_idx, 'step': load_idx, 'values': ts_curr})      \n",
    "        \n",
    "pd_dp_vstep_2 = pd.DataFrame(result_list)"
   ]
  },
  {
   "cell_type": "code",
   "execution_count": null,
   "metadata": {},
   "outputs": [],
   "source": [
    "sourcestep = 2\n",
    "timestep = 360\n",
    "curr = pd_dp_vstep_2.query('timestep=='+str(timestep)+' and step=='+str(sourcestep))['values'].values[0]\n",
    "plt.plot(curr['v3_intpl_shift'].time, curr['v3_intpl_shift'].values)"
   ]
  },
  {
   "cell_type": "code",
   "execution_count": null,
   "metadata": {},
   "outputs": [],
   "source": [
    "mae_dp_list_2 = calc_mae_dp(pd_dp_vstep_1, pd_dp_vstep_2)"
   ]
  },
  {
   "cell_type": "code",
   "execution_count": null,
   "metadata": {},
   "outputs": [],
   "source": [
    "timesteps = np.arange(40,401,20)*0.00005\n",
    "for load_idx in range(1,10,4):  \n",
    "    plt.plot(timesteps, mae_dp_list_2[load_idx] / nom_amp, 'o-', label=str(load_idx*10+10)+'% step')\n",
    "#plt.ylim([-0.01,0.2])\n",
    "#plt.xlim([0,0.0009])\n",
    "\n",
    "plt.xlabel('timestep (s)')\n",
    "plt.ylabel('mean relative error voltage')\n",
    "plt.grid()\n",
    "plt.legend()\n",
    "plt.tight_layout()\n",
    "plt.savefig('dp_rl_source_step_voltage_20ms.pdf')"
   ]
  },
  {
   "cell_type": "markdown",
   "metadata": {},
   "source": [
    "### EMT Results"
   ]
  },
  {
   "cell_type": "code",
   "execution_count": null,
   "metadata": {},
   "outputs": [],
   "source": [
    "%%capture\n",
    "result_list = []\n",
    "for ts_idx in range(1,21):\n",
    "    logs_dir = '../../../logs_source_step/'\n",
    "    log_name = logs_dir+'EMT_RL_SourceStep_T' + str(ts_idx) + '/' \\\n",
    "            'EMT_RL_SourceStep_T' + str(ts_idx)\n",
    "\n",
    "    ts_curr = rt.read_timeseries_dpsim(log_name + '.csv')\n",
    "    if ts_idx > 1:\n",
    "        ts_curr = ts.interpolate_list(ts_curr, 0.00005)\n",
    "    result_list.append({'timestep': ts_idx, 'values': ts_curr})      \n",
    "        \n",
    "pd_emt_1 = pd.DataFrame(result_list)\n",
    "\n",
    "result_list = []\n",
    "for ts_idx in range(40,401,20):\n",
    "    logs_dir = '../../../logs_source_step/'\n",
    "    log_name = logs_dir+'EMT_RL_SourceStep_T' + str(ts_idx) + '/' \\\n",
    "            'EMT_RL_SourceStep_T' + str(ts_idx)\n",
    "\n",
    "    ts_curr = rt.read_timeseries_dpsim(log_name + '.csv')\n",
    "    if ts_idx > 1:\n",
    "        ts_curr = ts.interpolate_list(ts_curr, 0.00005)\n",
    "    result_list.append({'timestep': ts_idx, 'values': ts_curr})      \n",
    "        \n",
    "pd_emt_2 = pd.DataFrame(result_list)"
   ]
  },
  {
   "cell_type": "code",
   "execution_count": null,
   "metadata": {},
   "outputs": [],
   "source": [
    "%%capture\n",
    "result_list = []\n",
    "for ts_idx in range(1,21):\n",
    "    for load_idx in range(1,11):\n",
    "        logs_dir = '../../../logs_source_step/'\n",
    "        log_name = logs_dir+'EMT_RL_SourceStep_T' + str(ts_idx) + '_V' + str(load_idx) + '/' \\\n",
    "            'EMT_RL_SourceStep_T' + str(ts_idx) + '_V' + str(load_idx)\n",
    "    \n",
    "        ts_curr = rt.read_timeseries_dpsim(log_name + '.csv')\n",
    "        if ts_idx > 1:\n",
    "            ts_curr = ts.interpolate_list(ts_curr, 0.00005)\n",
    "        result_list.append({'timestep': ts_idx, 'step': load_idx, 'values': ts_curr})      \n",
    "        \n",
    "pd_emt_vstep_1 = pd.DataFrame(result_list)"
   ]
  },
  {
   "cell_type": "code",
   "execution_count": null,
   "metadata": {},
   "outputs": [],
   "source": [
    "sourcestep = 1\n",
    "timestep = 20\n",
    "curr = pd_emt_vstep_1.query('timestep=='+str(timestep)+' and step=='+str(sourcestep))['values'].values[0]\n",
    "plt.plot(curr['v3_intpl'].time, curr['v3_intpl'].values)"
   ]
  },
  {
   "cell_type": "code",
   "execution_count": null,
   "metadata": {},
   "outputs": [],
   "source": [
    "mae_emt_list_1 = calc_mae_emt(pd_emt_vstep_1, pd_emt_vstep_1)"
   ]
  },
  {
   "cell_type": "code",
   "execution_count": null,
   "metadata": {},
   "outputs": [],
   "source": [
    "timesteps = np.arange(2,21)*0.00005\n",
    "\n",
    "for i in range(1,10,4):  \n",
    "    plt.plot(timesteps, mae_dp_list_1[i] / nom_amp, 'o-', label=str(i*10+10)+'% step, dp')\n",
    "for i in range(1,10,4):  \n",
    "    plt.plot(timesteps, mae_emt_list_1[i] / nom_amp, 'o-', label=str(i*10+10)+'% step, emt')\n",
    "\n",
    "#plt.ylim([-0.01,0.2])\n",
    "#plt.xlim([0,0.0009])\n",
    "\n",
    "plt.xlabel('timestep (s)')\n",
    "plt.ylabel('mean relative error voltage')\n",
    "plt.grid()\n",
    "plt.legend()\n",
    "plt.tight_layout()\n",
    "plt.savefig('dp_emt_rl_source_step_voltage_1ms.pdf')"
   ]
  },
  {
   "cell_type": "code",
   "execution_count": null,
   "metadata": {},
   "outputs": [],
   "source": [
    "%%capture\n",
    "result_list = []\n",
    "for ts_idx in range(40,401,20):\n",
    "    for load_idx in range(1,11):\n",
    "        log_dir = '../../../logs_source_step/'\n",
    "        log_name = log_dir + 'EMT_RL_SourceStep_T' + str(ts_idx) + '_V' + str(load_idx) + '/' \\\n",
    "                    'EMT_RL_SourceStep_T' + str(ts_idx) + '_V' + str(load_idx)    \n",
    "        ts_curr = rt.read_timeseries_dpsim(log_name + '.csv')\n",
    "        if ts_idx > 1:\n",
    "            ts_curr = ts.interpolate_list(ts_curr, 0.00005)\n",
    "        result_list.append({'timestep': ts_idx, 'step': load_idx, 'values': ts_curr})      \n",
    "        \n",
    "pd_emt_vstep_2 = pd.DataFrame(result_list)"
   ]
  },
  {
   "cell_type": "code",
   "execution_count": null,
   "metadata": {},
   "outputs": [],
   "source": [
    "sourcestep = 2\n",
    "timestep = 200\n",
    "curr = pd_emt_vstep_2.query('timestep=='+str(timestep)+' and step=='+str(sourcestep))['values'].values[0]\n",
    "plt.plot(curr['v3_intpl'].time, curr['v3_intpl'].values)"
   ]
  },
  {
   "cell_type": "code",
   "execution_count": null,
   "metadata": {},
   "outputs": [],
   "source": [
    "mae_emt_list_2 = calc_mae_emt(pd_emt_vstep_1, pd_emt_vstep_2)"
   ]
  },
  {
   "cell_type": "code",
   "execution_count": null,
   "metadata": {},
   "outputs": [],
   "source": [
    "timesteps = np.arange(40,401,20)*0.00005\n",
    "\n",
    "for load_idx in range(1,10,4):  \n",
    "    plt.plot(timesteps, mae_dp_list_2[load_idx] / nom_amp, 'o-', label=str(load_idx*10+10)+'% step, dp')\n",
    "\n",
    "for load_idx in range(1,10,4):  \n",
    "    plt.plot(timesteps, mae_emt_list_2[load_idx] / nom_amp, 'o-', label=str(load_idx*10+10)+'% step, emt')\n",
    "\n",
    "#plt.ylim([0,0.1])\n",
    "plt.xlabel('timestep (s)')\n",
    "plt.ylabel('mean relative error voltage')\n",
    "plt.grid()\n",
    "plt.legend()\n",
    "plt.tight_layout()\n",
    "plt.savefig('dp_emt_rl_source_step_voltage_20ms.pdf')"
   ]
  },
  {
   "cell_type": "markdown",
   "metadata": {},
   "source": [
    "## Evaluation - Frequency Step"
   ]
  },
  {
   "cell_type": "markdown",
   "metadata": {},
   "source": [
    "### DP Results"
   ]
  },
  {
   "cell_type": "code",
   "execution_count": null,
   "metadata": {},
   "outputs": [],
   "source": [
    "%%capture\n",
    "result_list = []\n",
    "for ts_idx in range(1,21):\n",
    "    for load_idx in range(1,11):\n",
    "        log_dir = '../../../logs_source_step/'\n",
    "        log_name = log_dir + 'DP_RL_SourceStep_T' + str(ts_idx) + '_F' + str(load_idx) + '/' \\\n",
    "                    'DP_RL_SourceStep_T' + str(ts_idx) + '_F' + str(load_idx)\n",
    "\n",
    "        ts_curr = rt.read_timeseries_dpsim(log_name + '.csv')\n",
    "        if ts_idx > 1:\n",
    "            ts_curr = ts.interpolate_list(ts_curr, 0.00005)\n",
    "        ts_curr = ts.frequency_shift_list(ts_curr, 50)\n",
    "        result_list.append({'timestep': ts_idx, 'step': load_idx, 'values': ts_curr})      \n",
    "        \n",
    "pd_dp_fstep_1 = pd.DataFrame(result_list)"
   ]
  },
  {
   "cell_type": "code",
   "execution_count": null,
   "metadata": {},
   "outputs": [],
   "source": [
    "sourcestep = 8\n",
    "timestep = 15\n",
    "curr = pd_dp_fstep_1.query('timestep=='+str(timestep)+' and step=='+str(sourcestep))['values'].values[0]\n",
    "plt.plot(curr['v3_intpl_shift'].time, curr['v3_intpl_shift'].values)"
   ]
  },
  {
   "cell_type": "code",
   "execution_count": null,
   "metadata": {},
   "outputs": [],
   "source": [
    "mae_dp_fstep_1 = calc_mae_dp(pd_dp_fstep_1, pd_dp_fstep_1)\n",
    "mae_dp_1 = calc_mae_dp_no_step(pd_dp_1, pd_dp_1)"
   ]
  },
  {
   "cell_type": "code",
   "execution_count": null,
   "metadata": {},
   "outputs": [],
   "source": [
    "timesteps = np.arange(2,21)*0.00005\n",
    "plt.plot(timesteps, mae_dp_1 / nom_amp, 'o-', label='freq. dev. 0Hz')\n",
    "for i in range(0,4,2):   \n",
    "    plt.plot(timesteps, mae_dp_fstep_1[i] / nom_amp, 'o-', label='freq. dev. '+str(i+1)+'Hz')\n",
    "\n",
    "plt.xlabel('timestep (s)')\n",
    "plt.ylabel('mean relative error voltage')\n",
    "plt.grid()\n",
    "plt.legend()\n",
    "plt.tight_layout()\n",
    "plt.savefig('dp_rl_source_step_frequency_1ms.pdf')"
   ]
  },
  {
   "cell_type": "code",
   "execution_count": null,
   "metadata": {},
   "outputs": [],
   "source": [
    "%%capture\n",
    "result_list = []\n",
    "for ts_idx in range(40,401,20):\n",
    "    for load_idx in range(1,11):\n",
    "        log_dir = '../../../logs_source_step/'\n",
    "        log_name = log_dir + 'DP_RL_SourceStep_T' + str(ts_idx) + '_F' + str(load_idx) + '/' \\\n",
    "                   'DP_RL_SourceStep_T' + str(ts_idx) + '_F' + str(load_idx)\n",
    "    \n",
    "        ts_curr = rt.read_timeseries_dpsim(log_name + '.csv')\n",
    "        if ts_idx > 1:\n",
    "            ts_curr = ts.interpolate_list(ts_curr, 0.00005)\n",
    "        ts_curr = ts.frequency_shift_list(ts_curr, 50)\n",
    "        result_list.append({'timestep': ts_idx, 'step': load_idx, 'values': ts_curr})      \n",
    "        \n",
    "pd_dp_fstep_2 = pd.DataFrame(result_list)"
   ]
  },
  {
   "cell_type": "code",
   "execution_count": null,
   "metadata": {},
   "outputs": [],
   "source": [
    "mae_dp_fstep_2 = calc_mae_dp(pd_dp_fstep_1, pd_dp_fstep_2)\n",
    "mae_dp_2 = calc_mae_dp_no_step(pd_dp_1, pd_dp_2)"
   ]
  },
  {
   "cell_type": "code",
   "execution_count": null,
   "metadata": {},
   "outputs": [],
   "source": [
    "timesteps = np.arange(40,401,20)*0.00005\n",
    "plt.plot(timesteps, mae_dp_2 / nom_amp, 'o-', label='freq. dev. 0Hz')\n",
    "for i in range(0,4,2):   \n",
    "    plt.plot(timesteps, mae_dp_fstep_2[i] / nom_amp, 'o-', label='freq. dev. '+str(i+1)+'Hz')\n",
    "\n",
    "plt.xlabel('timestep (s)')\n",
    "plt.ylabel('mean relative error voltage')\n",
    "plt.grid()\n",
    "plt.legend()\n",
    "plt.tight_layout()\n",
    "plt.savefig('dp_rl_source_step_frequency_20ms.pdf')"
   ]
  },
  {
   "cell_type": "markdown",
   "metadata": {},
   "source": [
    "### EMT Results"
   ]
  },
  {
   "cell_type": "code",
   "execution_count": null,
   "metadata": {},
   "outputs": [],
   "source": [
    "%%capture\n",
    "result_list = []\n",
    "for ts_idx in range(1,21):\n",
    "    for load_idx in range(1,11):\n",
    "        log_dir = '../../../logs_source_step/'\n",
    "        log_name = log_dir + 'EMT_RL_SourceStep_T' + str(ts_idx) + '_F' + str(load_idx) + '/' \\\n",
    "            'EMT_RL_SourceStep_T' + str(ts_idx) + '_F' + str(load_idx)\n",
    "    \n",
    "        ts_curr = rt.read_timeseries_dpsim(log_name + '.csv')\n",
    "        if ts_idx > 1:\n",
    "            ts_curr = ts.interpolate_list(ts_curr, 0.00005)\n",
    "        result_list.append({'timestep': ts_idx, 'step': load_idx, 'values': ts_curr})      \n",
    "        \n",
    "pd_emt_fstep_1 = pd.DataFrame(result_list)"
   ]
  },
  {
   "cell_type": "code",
   "execution_count": null,
   "metadata": {},
   "outputs": [],
   "source": [
    "mae_emt_fstep_1 = calc_mae_emt(pd_emt_fstep_1, pd_emt_fstep_1)\n",
    "mae_emt_1 = calc_mae_emt_no_step(pd_emt_1, pd_emt_1)"
   ]
  },
  {
   "cell_type": "code",
   "execution_count": null,
   "metadata": {},
   "outputs": [],
   "source": [
    "timesteps = np.arange(2,21)*0.00005\n",
    "\n",
    "plt.plot(timesteps, mae_dp_1 / nom_amp, 'o-', label='freq. dev. 0Hz, dp')\n",
    "for i in range(0,4,2):  \n",
    "    plt.plot(timesteps, mae_dp_fstep_1[i] / nom_amp, 'o-', label='freq. dev. '+str(i+1)+'Hz, dp')\n",
    "\n",
    "plt.plot(timesteps, mae_emt_1 / nom_amp, 'o-', label='freq. dev. 0Hz, emt')\n",
    "for i in range(0,4,2):    \n",
    "    plt.plot(timesteps, mae_emt_fstep_1[i] / nom_amp, 'o-', label='freq. dev. '+str(i+1)+'Hz, emt')\n",
    "\n",
    "plt.xlabel('timestep (s)')\n",
    "plt.ylabel('mean relative error voltage')\n",
    "plt.grid()\n",
    "plt.legend()\n",
    "plt.tight_layout()\n",
    "plt.savefig('dp_emt_rl_source_step_frequency_1ms.pdf')"
   ]
  },
  {
   "cell_type": "code",
   "execution_count": null,
   "metadata": {},
   "outputs": [],
   "source": [
    "%%capture\n",
    "result_list = []\n",
    "for ts_idx in range(40,401,20):\n",
    "    for load_idx in range(1,11):\n",
    "        log_dir = '../../../logs_source_step/'\n",
    "        log_name = log_dir+'EMT_RL_SourceStep_T' + str(ts_idx) + '_F' + str(load_idx) + '/' \\\n",
    "            'EMT_RL_SourceStep_T' + str(ts_idx) + '_F' + str(load_idx)\n",
    "    \n",
    "        ts_curr = rt.read_timeseries_dpsim(log_name + '.csv')\n",
    "        if ts_idx > 1:\n",
    "            ts_curr = ts.interpolate_list(ts_curr, 0.00005)\n",
    "        result_list.append({'timestep': ts_idx, 'step': load_idx, 'values': ts_curr})      \n",
    "        \n",
    "pd_emt_fstep_2 = pd.DataFrame(result_list)"
   ]
  },
  {
   "cell_type": "code",
   "execution_count": null,
   "metadata": {},
   "outputs": [],
   "source": [
    "mae_emt_fstep_2 = calc_mae_emt(pd_emt_fstep_1, pd_emt_fstep_2)\n",
    "mae_emt_2 = calc_mae_emt_no_step(pd_emt_1, pd_emt_2)"
   ]
  },
  {
   "cell_type": "code",
   "execution_count": null,
   "metadata": {},
   "outputs": [],
   "source": [
    "timesteps = np.arange(40,401,20)*0.00005\n",
    "\n",
    "plt.plot(timesteps, mae_dp_2 / nom_amp, 'o-', label='freq. dev. 0Hz, dp')\n",
    "for i in range(0,4,2):  \n",
    "    plt.plot(timesteps, mae_dp_fstep_2[i] / nom_amp, 'o-', label='freq. dev. '+str(i+1)+'Hz, dp')\n",
    "\n",
    "plt.plot(timesteps, mae_emt_2 / nom_amp, 'o-', label='freq. dev. 0Hz, emt')\n",
    "for i in range(0,4,2):  \n",
    "    plt.plot(timesteps, mae_emt_fstep_2[i] / nom_amp, 'o-', label='freq. dev. '+str(i+1)+'Hz, emt')\n",
    "    \n",
    "#plt.xlim([0.0015,0.008])\n",
    "#plt.ylim([0,400])\n",
    "#plt.ylim([0,0.1])\n",
    "plt.xlabel('timestep (s)')\n",
    "plt.ylabel('mean relative error voltage')\n",
    "plt.grid()\n",
    "plt.legend()\n",
    "plt.tight_layout()\n",
    "plt.savefig('dp_emt_rl_source_step_frequency_20ms.pdf')"
   ]
  },
  {
   "cell_type": "code",
   "execution_count": null,
   "metadata": {},
   "outputs": [],
   "source": []
  }
 ],
 "metadata": {
  "kernelspec": {
   "display_name": "Python 3",
   "language": "python",
   "name": "python3"
  },
  "language_info": {
   "codemirror_mode": {
    "name": "ipython",
    "version": 3
   },
   "file_extension": ".py",
   "mimetype": "text/x-python",
   "name": "python",
   "nbconvert_exporter": "python",
   "pygments_lexer": "ipython3",
   "version": "3.7.5"
  },
  "tests": {
   "skip": true
  }
 },
 "nbformat": 4,
 "nbformat_minor": 4
}
