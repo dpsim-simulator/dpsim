{
 "cells": [
  {
   "cell_type": "markdown",
   "source": [
    "# EMT Simulation of topology with slack, line and PQ load"
   ],
   "metadata": {}
  },
  {
   "cell_type": "code",
   "execution_count": null,
   "source": [
    "from villas.dataprocessing.readtools import *\n",
    "from villas.dataprocessing.timeseries import *\n",
    "import matplotlib.pyplot as plt\n",
    "import dpsimpy\n",
    "import re\n",
    "\n",
    "# %matplotlib widget"
   ],
   "outputs": [],
   "metadata": {}
  },
  {
   "cell_type": "markdown",
   "source": [
    "## Simulation"
   ],
   "metadata": {}
  },
  {
   "cell_type": "code",
   "execution_count": null,
   "source": [
    "# Parameters\n",
    "V_nom = 20e3\n",
    "p_load_nom = 100e3\n",
    "q_load_nom = 50e3\n",
    "line_resistance = 0.05\n",
    "line_inductance = 0.1\n",
    "line_capacitance = 0.1e-6\n",
    "\n",
    "# Simulation parameters\n",
    "time_step = 0.001\n",
    "final_time = 1.0\n",
    "\n",
    "# POWERFLOW FOR INITIALIZATION\n",
    "time_step_pf = final_time\n",
    "final_time_pf = final_time + time_step_pf\n",
    "sim_name_pf = 'EMT_Slack_PiLine_PQLoad_with_PF_Init_PF'\n",
    "dpsimpy.Logger.set_log_dir('logs/' + sim_name_pf)\n",
    "\n",
    "# Components\n",
    "n1_pf = dpsimpy.sp.SimNode('n1', dpsimpy.PhaseType.Single)\n",
    "n2_pf = dpsimpy.sp.SimNode('n2', dpsimpy.PhaseType.Single)\n",
    "\n",
    "extnet_pf = dpsimpy.sp.ph1.NetworkInjection('Slack', dpsimpy.LogLevel.debug)\n",
    "extnet_pf.set_parameters(voltage_set_point=V_nom)\n",
    "extnet_pf.set_base_voltage(V_nom)\n",
    "extnet_pf.modify_power_flow_bus_type(dpsimpy.PowerflowBusType.VD)\n",
    "\n",
    "line_pf = dpsimpy.sp.ph1.PiLine('PiLine', dpsimpy.LogLevel.debug)\n",
    "line_pf.set_parameters(R=line_resistance, L=line_inductance, C=line_capacitance)\n",
    "line_pf.set_base_voltage(V_nom)\n",
    "\n",
    "load_pf = dpsimpy.sp.ph1.Shunt('Load', dpsimpy.LogLevel.debug)\n",
    "load_pf.set_parameters(G=p_load_nom / (V_nom**2), B=-q_load_nom / (V_nom**2))\n",
    "load_pf.set_base_voltage(V_nom)\n",
    "\n",
    "# Topology\n",
    "extnet_pf.connect([n1_pf])\n",
    "line_pf.connect([n1_pf, n2_pf])\n",
    "load_pf.connect([n2_pf])\n",
    "system_pf = dpsimpy.SystemTopology(50, [n1_pf, n2_pf], [extnet_pf, line_pf, load_pf])\n",
    "\n",
    "# Logging\n",
    "logger_pf = dpsimpy.Logger(sim_name_pf)\n",
    "logger_pf.log_attribute('v1', 'v', n1_pf)\n",
    "logger_pf.log_attribute('v2', 'v', n2_pf)\n",
    "logger_pf.log_attribute('i12', 'i_intf', line_pf)\n",
    "\n",
    "# Simulation\n",
    "sim_pf = dpsimpy.Simulation(sim_name_pf, dpsimpy.LogLevel.debug)\n",
    "sim_pf.set_system(system_pf)\n",
    "sim_pf.set_time_step(time_step_pf)\n",
    "sim_pf.set_final_time(final_time_pf)\n",
    "sim_pf.set_domain(dpsimpy.Domain.SP)\n",
    "sim_pf.set_solver(dpsimpy.Solver.NRP)\n",
    "sim_pf.do_init_from_nodes_and_terminals(False)\n",
    "sim_pf.add_logger(logger_pf)\n",
    "sim_pf.run()\n",
    "\n",
    "\n",
    "# DYNAMIC SIMULATION\n",
    "time_step_emt = time_step\n",
    "final_time_emt = final_time + time_step_emt\n",
    "sim_name_emt = 'EMT_Slack_PiLine_PQLoad_with_PF_Init_EMT'\n",
    "dpsimpy.Logger.set_log_dir('logs/' + sim_name_emt)\n",
    "\n",
    "# Components\n",
    "gnd = dpsimpy.emt.SimNode.gnd\n",
    "n1_emt = dpsimpy.emt.SimNode('n1', dpsimpy.PhaseType.ABC)\n",
    "n2_emt = dpsimpy.emt.SimNode('n2', dpsimpy.PhaseType.ABC)\n",
    "\n",
    "extnet_emt = dpsimpy.emt.ph3.NetworkInjection('Slack', dpsimpy.LogLevel.debug)\n",
    "line_emt = dpsimpy.emt.ph3.PiLine('PiLine', dpsimpy.LogLevel.debug)\n",
    "\n",
    "line_emt.set_parameters(dpsimpy.Math.single_phase_parameter_to_three_phase(line_resistance),\n",
    "                            dpsimpy.Math.single_phase_parameter_to_three_phase(line_inductance),\n",
    "                            dpsimpy.Math.single_phase_parameter_to_three_phase(line_capacitance))\n",
    "\n",
    "load_emt = dpsimpy.emt.ph3.RXLoad('Load', dpsimpy.LogLevel.debug)\n",
    "load_emt.set_parameters(dpsimpy.Math.single_phase_power_to_three_phase(p_load_nom),\n",
    "                           dpsimpy.Math.single_phase_power_to_three_phase(q_load_nom),\n",
    "                           V_nom)\n",
    "\n",
    "\n",
    "# Topology\n",
    "extnet_emt.connect([n1_emt])\n",
    "line_emt.connect([n1_emt, n2_emt])\n",
    "load_emt.connect([n2_emt])\n",
    "system_emt = dpsimpy.SystemTopology(50, [n1_emt, n2_emt], [extnet_emt, line_emt, load_emt])\n",
    "\n",
    "# Initialization of dynamic topology\n",
    "system_emt.init_with_powerflow(system_pf)\n",
    "\n",
    "# Logging\n",
    "logger_emt = dpsimpy.Logger(sim_name_emt)\n",
    "logger_emt.log_attribute('v1', 'v', n1_emt)\n",
    "logger_emt.log_attribute('v2', 'v', n2_emt)\n",
    "logger_emt.log_attribute('i12', 'i_intf', line_emt)\n",
    "logger_emt.log_attribute('irx', 'i_intf', load_emt)\n",
    "\n",
    "# load step sized in absolute terms\n",
    "load_switch = dpsimpy.emt.ph3.Switch(\"Load_Add_Switch_n2\", dpsimpy.LogLevel.debug)\n",
    "connection_node = system_emt.node('n2')\n",
    "resistance = np.abs(connection_node.initial_single_voltage())**2 / 100e3\n",
    "load_switch.set_parameters(np.identity(3)*1e9, np.identity(3)*resistance)\n",
    "load_switch.open()\n",
    "system_emt.add(load_switch)\n",
    "system_emt.connect_component(load_switch, [gnd, system_emt.node('n2')])\n",
    "logger_emt.log_attribute('switchedload_i', 'i_intf', load_switch)\n",
    "load_step_event = dpsimpy.event.SwitchEvent3Ph(0.1 - time_step_emt, load_switch, True)\n",
    "\n",
    "# Simulation\n",
    "sim_emt = dpsimpy.Simulation(sim_name_emt, dpsimpy.LogLevel.debug)\n",
    "sim_emt.set_system(system_emt)\n",
    "sim_emt.set_time_step(time_step_emt)\n",
    "sim_emt.set_final_time(final_time_emt)\n",
    "sim_emt.set_domain(dpsimpy.Domain.EMT)\n",
    "sim_emt.add_logger(logger_emt)\n",
    "sim_emt.add_event(load_step_event)\n",
    "sim_emt.run()"
   ],
   "outputs": [],
   "metadata": {}
  },
  {
   "cell_type": "markdown",
   "source": [
    "## PF results"
   ],
   "metadata": {}
  },
  {
   "cell_type": "code",
   "execution_count": null,
   "source": [
    "modelName = 'EMT_Slack_PiLine_PQLoad_with_PF_Init_PF'\n",
    "path = 'logs/' + modelName + '/'\n",
    "dpsim_result_file = path + modelName + '.csv'\n",
    "\n",
    "ts_dpsim_pf = read_timeseries_csv(dpsim_result_file)"
   ],
   "outputs": [],
   "metadata": {}
  },
  {
   "cell_type": "markdown",
   "source": [
    "## EMT results"
   ],
   "metadata": {}
  },
  {
   "cell_type": "code",
   "execution_count": null,
   "source": [
    "modelName = 'EMT_Slack_PiLine_PQLoad_with_PF_Init_EMT'\n",
    "path = 'logs/' + modelName + '/'\n",
    "dpsim_result_file = path + modelName + '.csv'\n",
    "PEAK1PH_TO_RMS3PH = np.sqrt(3.0/2.0)\n",
    "ts_dpsim = read_timeseries_csv(dpsim_result_file)"
   ],
   "outputs": [],
   "metadata": {}
  },
  {
   "cell_type": "code",
   "execution_count": null,
   "source": [
    "plt.figure(figsize=(12,6))\n",
    "for ts_name, ts_obj  in ts_dpsim.items():\n",
    "    if '_0' in ts_name and 'v' in ts_name:\n",
    "        plt.plot(ts_obj.time, PEAK1PH_TO_RMS3PH*ts_obj.values, label=ts_name)\n",
    "for ts_name, ts_obj  in ts_dpsim_pf.items():\n",
    "    if 'v' in ts_name:\n",
    "        plt.plot(ts_obj.time, ts_obj.abs().values, label=ts_name+'_pf', linestyle=':')\n",
    "plt.xlim(4.9,5.5)\n",
    "plt.legend()\n",
    "plt.show()"
   ],
   "outputs": [],
   "metadata": {}
  },
  {
   "cell_type": "code",
   "execution_count": null,
   "source": [
    "plt.figure(figsize=(12,6))\n",
    "for ts_name, ts_obj  in ts_dpsim.items():\n",
    "    if '_0' in ts_name and 'i' in ts_name:\n",
    "        plt.plot(ts_obj.time, PEAK1PH_TO_RMS3PH*ts_obj.values, label=ts_name)\n",
    "for ts_name, ts_obj  in ts_dpsim_pf.items():\n",
    "   if 'i' in ts_name:\n",
    "        plt.plot(ts_obj.time, ts_obj.abs().values, label=ts_name+'_pf', linestyle=':')\n",
    "plt.xlim(4.9, 5.5)\n",
    "plt.legend()\n",
    "plt.show()"
   ],
   "outputs": [],
   "metadata": {}
  },
  {
   "cell_type": "code",
   "execution_count": null,
   "source": [
    "Fs = int(1 / (ts_dpsim['i12_0'].time[1] - ts_dpsim['i12_0'].time[0]))\n",
    "plt.figure(figsize=(12,6))\n",
    "plt.magnitude_spectrum(ts_dpsim['i12_0'].values, Fs=Fs, label='i12_0')\n",
    "\n",
    "plt.xlim(44,55)\n",
    "plt.legend()\n",
    "plt.show()"
   ],
   "outputs": [],
   "metadata": {}
  },
  {
   "cell_type": "code",
   "execution_count": null,
   "source": [],
   "outputs": [],
   "metadata": {}
  }
 ],
 "metadata": {
  "kernelspec": {
   "display_name": "Python 3",
   "language": "python",
   "name": "python3"
  },
  "language_info": {
   "codemirror_mode": {
    "name": "ipython",
    "version": 3
   },
   "file_extension": ".py",
   "mimetype": "text/x-python",
   "name": "python",
   "nbconvert_exporter": "python",
   "pygments_lexer": "ipython3",
   "version": "3.8.9"
  }
 },
 "nbformat": 4,
 "nbformat_minor": 4
}