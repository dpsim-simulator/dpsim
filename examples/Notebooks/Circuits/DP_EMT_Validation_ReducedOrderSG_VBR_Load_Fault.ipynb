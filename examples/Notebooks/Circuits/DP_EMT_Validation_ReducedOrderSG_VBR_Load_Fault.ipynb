{
 "cells": [
  {
   "cell_type": "markdown",
   "metadata": {},
   "source": [
    "# Validation of the DP and EMT 3th, 4th and 6th Order VBR SynGen against SP domain"
   ]
  },
  {
   "cell_type": "markdown",
   "metadata": {},
   "source": [
    "## Run C++ examples"
   ]
  },
  {
   "cell_type": "code",
   "execution_count": null,
   "metadata": {},
   "outputs": [],
   "source": [
    "import os\n",
    "import subprocess\n",
    "\n",
    "# %matplotlib widget\n",
    "\n",
    "name = [\n",
    "    \"SP_ReducedOrderSG_VBR_Load_Fault\",\n",
    "    \"DP_ReducedOrderSG_VBR_Load_Fault\",\n",
    "    \"EMT_ReducedOrderSG_VBR_Load_Fault\",\n",
    "]\n",
    "options = [\"SGModel=3\", \"SGModel=4\", \"SGModel=6a\", \"SGModel=6b\"]\n",
    "\n",
    "dpsim_path = (\n",
    "    subprocess.Popen([\"git\", \"rev-parse\", \"--show-toplevel\"], stdout=subprocess.PIPE)\n",
    "    .communicate()[0]\n",
    "    .rstrip()\n",
    "    .decode(\"utf-8\")\n",
    ")\n",
    "\n",
    "path_exec = dpsim_path + \"/build/dpsim/examples/cxx/\"\n",
    "for i in range(len(name)):\n",
    "    for j in range(len(options)):\n",
    "        sim = subprocess.Popen(\n",
    "            [path_exec + name[i], \"-o\", options[j]],\n",
    "            stdout=subprocess.PIPE,\n",
    "            stderr=subprocess.STDOUT,\n",
    "        )\n",
    "        print(sim.communicate()[0].decode())\n",
    "        print(path_exec + name[i])"
   ]
  },
  {
   "cell_type": "markdown",
   "metadata": {},
   "source": [
    "### Load Results"
   ]
  },
  {
   "cell_type": "code",
   "execution_count": null,
   "metadata": {},
   "outputs": [],
   "source": [
    "from villas.dataprocessing.readtools import *\n",
    "from villas.dataprocessing.timeseries import *\n",
    "from villas.dataprocessing.timeseries import TimeSeries as ts\n",
    "import matplotlib.pyplot as plt\n",
    "import re\n",
    "import numpy as np\n",
    "import math\n",
    "import os\n",
    "\n",
    "work_dir = os.getcwd() + \"/logs/\"\n",
    "file_name_3Order = \"SynGen3Order_VBR_Load_Fault\"\n",
    "file_name_4Order = \"SynGen4Order_VBR_Load_Fault\"\n",
    "file_name_6aOrder = \"SynGen6aOrder_VBR_Load_Fault\"\n",
    "file_name_6bOrder = \"SynGen6bOrder_VBR_Load_Fault\"\n",
    "\n",
    "ts_dpsim_SP = []\n",
    "ts_dpsim_SP_shift = []\n",
    "ts_dpsim_DP = []\n",
    "ts_dpsim_DP_shift = []\n",
    "ts_dpsim_EMT = []\n",
    "file_names = [file_name_3Order, file_name_4Order, file_name_6aOrder, file_name_6bOrder]\n",
    "for i in range(len(file_names)):\n",
    "    path_logfile = (\n",
    "        work_dir + \"SP_\" + file_names[i] + \"/\" + \"SP_\" + file_names[i] + \".csv\"\n",
    "    )\n",
    "    ts_dpsim_SP.append(read_timeseries_dpsim(path_logfile))\n",
    "    ts_dpsim_SP_shift.append(ts.frequency_shift_list(ts_dpsim_SP[i], 60))\n",
    "\n",
    "    path_logfile = (\n",
    "        work_dir + \"DP_\" + file_names[i] + \"/\" + \"DP_\" + file_names[i] + \".csv\"\n",
    "    )\n",
    "    ts_dpsim_DP.append(read_timeseries_dpsim(path_logfile))\n",
    "    ts_dpsim_DP_shift.append(ts.frequency_shift_list(ts_dpsim_DP[i], 60))\n",
    "    print(path_logfile)\n",
    "\n",
    "    path_logfile = (\n",
    "        work_dir + \"EMT_\" + file_names[i] + \"/\" + \"EMT_\" + file_names[i] + \".csv\"\n",
    "    )\n",
    "    ts_dpsim_EMT.append(read_timeseries_dpsim(path_logfile))"
   ]
  },
  {
   "cell_type": "markdown",
   "metadata": {},
   "source": [
    "### Declare plot function"
   ]
  },
  {
   "cell_type": "code",
   "execution_count": null,
   "metadata": {},
   "outputs": [],
   "source": [
    "width = 16\n",
    "height = 4\n",
    "color_EMT = \"black\"\n",
    "color_SP = \"C10\"\n",
    "color_DP = \"C11\"\n",
    "linestyle_EMT = \"-\"\n",
    "linestyle_SP = \"-\"\n",
    "linestyle_DP = \"dashed\"\n",
    "common_time = 50e-6\n",
    "roi_start = 0\n",
    "roi_end = 4.5\n",
    "roi = range(int(roi_start / common_time), int(roi_end / common_time))\n",
    "\n",
    "\n",
    "def plot_etorque(SGOrder):\n",
    "    if SGOrder == 3:\n",
    "        idx = 0\n",
    "    if SGOrder == 4:\n",
    "        idx = 1\n",
    "    if SGOrder == 6:\n",
    "        # Marconato's model\n",
    "        idx = 2\n",
    "    if SGOrder == 7:\n",
    "        # Anderson's model\n",
    "        idx = 3\n",
    "\n",
    "    time = ts_dpsim_EMT[idx][\"Te\"].interpolate(common_time).time[roi]\n",
    "    values_emt = ts_dpsim_EMT[idx][\"Te\"].interpolate(common_time).values[roi]\n",
    "    values_sp = ts_dpsim_SP[idx][\"Te\"].interpolate(common_time).values[roi]\n",
    "    values_dp = ts_dpsim_DP[idx][\"Te\"].interpolate(common_time).values[roi]\n",
    "\n",
    "    fig = plt.figure(figsize=(width, height))\n",
    "    plt.plot(\n",
    "        time,\n",
    "        values_emt,\n",
    "        label=\"EMT\",\n",
    "        linestyle=linestyle_EMT,\n",
    "        color=color_EMT,\n",
    "        linewidth=3,\n",
    "    )\n",
    "    plt.plot(\n",
    "        time, values_sp, label=\"SP\", color=color_SP, linestyle=linestyle_SP, linewidth=3\n",
    "    )\n",
    "    plt.plot(\n",
    "        time, values_dp, label=\"DP\", color=color_DP, linestyle=linestyle_DP, linewidth=3\n",
    "    )\n",
    "    plt.ylabel(\"Electrical torque (p.u.)\")\n",
    "    plt.xlabel(\"Time (s)\")\n",
    "    plt.xlim(0, 4.5)\n",
    "    plt.grid()\n",
    "    plt.legend(loc=\"lower right\")\n",
    "    plt.show()\n",
    "\n",
    "    # calculate RMSE\n",
    "    nom_value = 0.540541  # power flow result\n",
    "    rmse_emt = ts_dpsim_SP[idx][\"Te\"].rmse(\n",
    "        ts_dpsim_SP[idx][\"Te\"].interpolate(common_time),\n",
    "        ts_dpsim_EMT[idx][\"Te\"].interpolate(common_time),\n",
    "    )\n",
    "    print(\n",
    "        \"RMSE EMT = {:.6f} (pu), which is {:.3f}% of the nominal value = {:.3f} (pu) \".format(\n",
    "            rmse_emt, rmse_emt / nom_value * 100, nom_value\n",
    "        )\n",
    "    )\n",
    "    rmse_dp = ts_dpsim_SP[idx][\"Te\"].rmse(\n",
    "        ts_dpsim_SP[idx][\"Te\"].interpolate(common_time),\n",
    "        ts_dpsim_DP[idx][\"Te\"].interpolate(common_time),\n",
    "    )\n",
    "    print(\n",
    "        \"RMSE DP = {:.6f} (pu), which is {:.3f}% of the nominal value = {:.3f} (pu) \".format(\n",
    "            rmse_dp, rmse_dp / nom_value * 100, nom_value\n",
    "        )\n",
    "    )\n",
    "\n",
    "    return (rmse_emt / nom_value * 100, rmse_dp / nom_value * 100)\n",
    "\n",
    "\n",
    "def plot_elecVar(SGOrder, variable_EMT, variable_SP, variable_DP, ylabel):\n",
    "    if SGOrder == 3:\n",
    "        idx = 0\n",
    "    if SGOrder == 4:\n",
    "        idx = 1\n",
    "    if SGOrder == 6:\n",
    "        # Marconato's model\n",
    "        idx = 2\n",
    "    if SGOrder == 7:\n",
    "        # Anderson's model\n",
    "        idx = 3\n",
    "\n",
    "    time = ts_dpsim_EMT[idx][variable_EMT].interpolate(common_time).time[roi]\n",
    "    values_emt = ts_dpsim_EMT[idx][variable_EMT].interpolate(common_time).values[roi]\n",
    "    values_sp = (\n",
    "        np.sqrt(2 / 3)\n",
    "        * ts_dpsim_SP_shift[idx][variable_SP].interpolate(common_time).values[roi]\n",
    "    )\n",
    "    values_dp = (\n",
    "        np.sqrt(2 / 3)\n",
    "        * ts_dpsim_DP_shift[idx][variable_DP].interpolate(common_time).values[roi]\n",
    "    )\n",
    "\n",
    "    fig = plt.figure(figsize=(width, height))\n",
    "    plt.plot(\n",
    "        time,\n",
    "        values_emt,\n",
    "        label=\"EMT\",\n",
    "        linestyle=linestyle_EMT,\n",
    "        color=color_EMT,\n",
    "        linewidth=3,\n",
    "    )\n",
    "    plt.plot(\n",
    "        time, values_sp, label=\"SP\", color=color_SP, linestyle=linestyle_SP, linewidth=3\n",
    "    )\n",
    "    plt.plot(\n",
    "        time, values_dp, label=\"DP\", color=color_DP, linestyle=linestyle_DP, linewidth=3\n",
    "    )\n",
    "    plt.ylabel(ylabel)\n",
    "    plt.xlabel(\"Time (s)\")\n",
    "    plt.xlim(0.9, 1.2)\n",
    "    plt.grid()\n",
    "    plt.legend(loc=\"lower right\")\n",
    "    plt.show()\n",
    "\n",
    "    # calculate RMSE\n",
    "    ts_dpsim_SP_real = TimeSeries(\n",
    "        variable_SP,\n",
    "        ts_dpsim_SP_shift[idx][variable_SP].time,\n",
    "        np.sqrt(2 / 3) * ts_dpsim_SP_shift[idx][variable_SP].values.real,\n",
    "    )\n",
    "    rmse_emt = ts_dpsim_SP_real.rmse(\n",
    "        ts_dpsim_SP_real.interpolate(common_time),\n",
    "        ts_dpsim_EMT[idx][variable_EMT].interpolate(common_time),\n",
    "    )\n",
    "    nom_value = abs(\n",
    "        max(ts_dpsim_SP_shift[idx][variable_SP].values[0 : int(0.5 / common_time)])\n",
    "    )\n",
    "    print(\n",
    "        \"RMSE EMT = {:.6f} (pu), which is {:.3f}% of the nominal value = {:.3f} (pu) \".format(\n",
    "            rmse_emt, rmse_emt / nom_value * 100, nom_value\n",
    "        )\n",
    "    )\n",
    "\n",
    "    ts_dpsim_DP_real = TimeSeries(\n",
    "        variable_DP,\n",
    "        ts_dpsim_DP_shift[idx][variable_DP].time,\n",
    "        np.sqrt(2 / 3) * ts_dpsim_DP_shift[idx][variable_DP].values.real,\n",
    "    )\n",
    "    rmse_dp = ts_dpsim_SP_real.rmse(\n",
    "        ts_dpsim_SP_real.interpolate(common_time),\n",
    "        ts_dpsim_DP_real.interpolate(common_time),\n",
    "    )\n",
    "    print(\n",
    "        \"RMSE DP = {:.6f} (pu), which is {:.3f}% of the nominal value = {:.3f} (pu) \".format(\n",
    "            rmse_dp, rmse_dp / nom_value * 100, nom_value\n",
    "        )\n",
    "    )\n",
    "\n",
    "    return (rmse_emt / nom_value * 100, rmse_dp / nom_value * 100)"
   ]
  },
  {
   "cell_type": "markdown",
   "metadata": {},
   "source": [
    "### Electrical torque"
   ]
  },
  {
   "cell_type": "markdown",
   "metadata": {},
   "source": [
    "#### 3th order SG"
   ]
  },
  {
   "cell_type": "code",
   "execution_count": null,
   "metadata": {},
   "outputs": [],
   "source": [
    "rmse_emt_3order, rmse_dp_3order = plot_etorque(3)"
   ]
  },
  {
   "cell_type": "markdown",
   "metadata": {},
   "source": [
    "#### 4th order SG"
   ]
  },
  {
   "cell_type": "code",
   "execution_count": null,
   "metadata": {},
   "outputs": [],
   "source": [
    "rmse_emt_4order, rmse_dp_4order = plot_etorque(4)"
   ]
  },
  {
   "cell_type": "markdown",
   "metadata": {},
   "source": [
    "#### 6th order SG (Marconato's model)"
   ]
  },
  {
   "cell_type": "code",
   "execution_count": null,
   "metadata": {},
   "outputs": [],
   "source": [
    "rmse_emt_6aorder, rmse_dp_6aorder = plot_etorque(6)"
   ]
  },
  {
   "cell_type": "markdown",
   "metadata": {},
   "source": [
    "#### 6th order SG (Anderson-Fouad's model)"
   ]
  },
  {
   "cell_type": "code",
   "execution_count": null,
   "metadata": {},
   "outputs": [],
   "source": [
    "rmse_emt_6border, rmse_dp_6border = plot_etorque(7)"
   ]
  },
  {
   "cell_type": "markdown",
   "metadata": {},
   "source": [
    "### Assert"
   ]
  },
  {
   "cell_type": "code",
   "execution_count": null,
   "metadata": {},
   "outputs": [],
   "source": [
    "tol = 0.001  # %\n",
    "\n",
    "assert rmse_emt_3order < tol\n",
    "assert rmse_emt_4order < tol\n",
    "assert rmse_emt_6aorder < tol\n",
    "assert rmse_emt_6border < tol\n",
    "assert rmse_dp_3order < tol\n",
    "assert rmse_dp_4order < tol\n",
    "assert rmse_dp_6aorder < tol\n",
    "assert rmse_emt_6border < tol"
   ]
  },
  {
   "cell_type": "markdown",
   "metadata": {},
   "source": [
    "### Generator current"
   ]
  },
  {
   "cell_type": "markdown",
   "metadata": {},
   "source": [
    "#### 3th order SG"
   ]
  },
  {
   "cell_type": "code",
   "execution_count": null,
   "metadata": {},
   "outputs": [],
   "source": [
    "rmse_emt_3order, rmse_dp_3order = plot_elecVar(\n",
    "    3, \"i_gen_0\", \"i_gen_shift\", \"i_gen_shift\", \"Current (A)\"\n",
    ")"
   ]
  },
  {
   "cell_type": "markdown",
   "metadata": {},
   "source": [
    "#### 4th order SG"
   ]
  },
  {
   "cell_type": "code",
   "execution_count": null,
   "metadata": {},
   "outputs": [],
   "source": [
    "rmse_emt_4order, rmse_dp_4order = plot_elecVar(\n",
    "    4, \"i_gen_0\", \"i_gen_shift\", \"i_gen_shift\", \"Current (A)\"\n",
    ")"
   ]
  },
  {
   "cell_type": "markdown",
   "metadata": {},
   "source": [
    "#### 6th order SG (Marconato's model)"
   ]
  },
  {
   "cell_type": "code",
   "execution_count": null,
   "metadata": {},
   "outputs": [],
   "source": [
    "rmse_emt_6aorder, rmse_dp_6aorder = plot_elecVar(\n",
    "    6, \"i_gen_0\", \"i_gen_shift\", \"i_gen_shift\", \"Current (A)\"\n",
    ")"
   ]
  },
  {
   "cell_type": "markdown",
   "metadata": {},
   "source": [
    "#### 6th order SG (Andeson-Fouad's model)"
   ]
  },
  {
   "cell_type": "code",
   "execution_count": null,
   "metadata": {},
   "outputs": [],
   "source": [
    "rmse_emt_6border, rmse_dp_6aorder = plot_elecVar(\n",
    "    7, \"i_gen_0\", \"i_gen_shift\", \"i_gen_shift\", \"Current (A)\"\n",
    ")"
   ]
  },
  {
   "cell_type": "markdown",
   "metadata": {},
   "source": [
    "### Assert"
   ]
  },
  {
   "cell_type": "code",
   "execution_count": null,
   "metadata": {},
   "outputs": [],
   "source": [
    "tol = 0.001  # %\n",
    "\n",
    "assert rmse_emt_3order < tol\n",
    "assert rmse_emt_4order < tol\n",
    "assert rmse_emt_6aorder < tol\n",
    "assert rmse_emt_6border < tol\n",
    "assert rmse_dp_3order < tol\n",
    "assert rmse_dp_4order < tol\n",
    "assert rmse_dp_6aorder < tol\n",
    "assert rmse_dp_6border < tol"
   ]
  },
  {
   "cell_type": "markdown",
   "metadata": {},
   "source": [
    "### Generator voltage"
   ]
  },
  {
   "cell_type": "markdown",
   "metadata": {},
   "source": [
    "#### 3th order SG"
   ]
  },
  {
   "cell_type": "code",
   "execution_count": null,
   "metadata": {},
   "outputs": [],
   "source": [
    "rmse_emt_3order, rmse_dp_3order = plot_elecVar(\n",
    "    3, \"v_gen_0\", \"v_gen_shift\", \"v_gen_shift\", \"Voltage (V)\"\n",
    ")"
   ]
  },
  {
   "cell_type": "markdown",
   "metadata": {},
   "source": [
    "#### 4th order SG"
   ]
  },
  {
   "cell_type": "code",
   "execution_count": null,
   "metadata": {},
   "outputs": [],
   "source": [
    "rmse_emt_4order, rmse_dp_4order = plot_elecVar(\n",
    "    4, \"v_gen_0\", \"v_gen_shift\", \"v_gen_shift\", \"Voltage (V)\"\n",
    ")"
   ]
  },
  {
   "cell_type": "markdown",
   "metadata": {},
   "source": [
    "#### 6th order SG (Marconato's model)"
   ]
  },
  {
   "cell_type": "code",
   "execution_count": null,
   "metadata": {},
   "outputs": [],
   "source": [
    "rmse_emt_6aorder, rmse_dp_6aorder = plot_elecVar(\n",
    "    6, \"v_gen_0\", \"v_gen_shift\", \"v_gen_shift\", \"Voltage (V)\"\n",
    ")"
   ]
  },
  {
   "cell_type": "markdown",
   "metadata": {},
   "source": [
    "#### 6th order SG (Anderson-Fouad's model)"
   ]
  },
  {
   "cell_type": "code",
   "execution_count": null,
   "metadata": {},
   "outputs": [],
   "source": [
    "rmse_emt_6border, rmse_dp_6border = plot_elecVar(\n",
    "    7, \"v_gen_0\", \"v_gen_shift\", \"v_gen_shift\", \"Voltage (V)\"\n",
    ")"
   ]
  },
  {
   "cell_type": "markdown",
   "metadata": {},
   "source": [
    "### Assert"
   ]
  },
  {
   "cell_type": "code",
   "execution_count": null,
   "metadata": {},
   "outputs": [],
   "source": [
    "tol = 0.001  # %\n",
    "\n",
    "assert rmse_emt_3order < tol\n",
    "assert rmse_emt_4order < tol\n",
    "assert rmse_emt_6aorder < tol\n",
    "assert rmse_emt_6border < tol\n",
    "assert rmse_dp_3order < tol\n",
    "assert rmse_dp_4order < tol\n",
    "assert rmse_dp_6aorder < tol\n",
    "assert rmse_dp_6border < tol"
   ]
  }
 ],
 "metadata": {
  "kernelspec": {
   "display_name": "Python 3.9.10 64-bit",
   "language": "python",
   "name": "python3"
  },
  "language_info": {
   "codemirror_mode": {
    "name": "ipython",
    "version": 3
   },
   "file_extension": ".py",
   "mimetype": "text/x-python",
   "name": "python",
   "nbconvert_exporter": "python",
   "pygments_lexer": "ipython3",
   "version": "3.9.10"
  },
  "tests": {
   "skip": false
  },
  "vscode": {
   "interpreter": {
    "hash": "e7370f93d1d0cde622a1f8e1c04877d8463912d04d973331ad4851f04de6915a"
   }
  }
 },
 "nbformat": 4,
 "nbformat_minor": 4
}
