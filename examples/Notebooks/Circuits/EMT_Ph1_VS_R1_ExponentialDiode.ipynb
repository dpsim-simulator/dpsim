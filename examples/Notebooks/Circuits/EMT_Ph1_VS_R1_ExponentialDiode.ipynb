{
 "cells": [
  {
   "cell_type": "markdown",
   "metadata": {},
   "source": [
    "# Test of Exponential Diode: VS-R-Diode in series"
   ]
  },
  {
   "cell_type": "code",
   "execution_count": null,
   "metadata": {},
   "outputs": [],
   "source": [
    "import sys\n",
    "import subprocess\n",
    "build_path = subprocess.Popen(['git', 'rev-parse', '--show-toplevel'], stdout=subprocess.PIPE).communicate()[0].rstrip().decode('utf-8') + '/build'\n",
    "sys.path.append(build_path)\n",
    "sys.path"
   ]
  },
  {
   "cell_type": "markdown",
   "metadata": {},
   "source": [
    "## Setup Simulation"
   ]
  },
  {
   "cell_type": "code",
   "execution_count": null,
   "metadata": {},
   "outputs": [],
   "source": [
    "from villas.dataprocessing.readtools import *\n",
    "from villas.dataprocessing.timeseries import *\n",
    "from villas.dataprocessing.timeseries import TimeSeries as ts\n",
    "import matplotlib.pyplot as plt\n",
    "import numpy as np\n",
    "import dpsimpy\n",
    "import re\n",
    "import os\n",
    "\n",
    "#%matplotlib widget\n",
    "\n",
    "#Define simulation scenario\n",
    "time_step = 0.0001\n",
    "final_time = 0.1 #0.006\n",
    "simName = \"EMT_Ph1_VS_R1_ExponentialDiode\"\n",
    "\n",
    "dpsimpy.Logger.set_log_dir('logs/' + simName)\n",
    "\n",
    "#Nodes\n",
    "gnd = dpsimpy.emt.SimNode.gnd\n",
    "n1 = dpsimpy.emt.SimNode(\"n1\", dpsimpy.PhaseType.Single)\n",
    "n2 = dpsimpy.emt.SimNode(\"n2\", dpsimpy.PhaseType.Single)\n",
    "\n",
    "#Components\n",
    "vs = dpsimpy.emt.ph1.VoltageSource(\"vs\")\n",
    "vs.set_parameters(complex(1.,0.), 50.0);\n",
    "\n",
    "load = dpsimpy.emt.ph1.Resistor(\"r1\")\n",
    "load.set_parameters(10.)\n",
    "\n",
    "expDiode = dpsimpy.emt.ph1.ExponentialDiode(\"ExponentialDiode\");\n",
    "\n",
    "#Topology\n",
    "vs.connect([gnd, n1]);\n",
    "load.connect([n2, n1]);\n",
    "expDiode.connect([n2, gnd]);\n",
    "\n",
    "sys = dpsimpy.SystemTopology(50, [n1, n2], [vs, load, expDiode])\n",
    "\n",
    "#Logging\n",
    "logger = dpsimpy.Logger(simName)\n",
    "logger.log_attribute(\"I_ExponentialDiode\", \"i_intf\", expDiode)\n",
    "logger.log_attribute(\"V_ExponentialDiode\", \"v_intf\", expDiode)\n",
    "logger.log_attribute(\"V_Resistor\", \"v_intf\", load)\n",
    "logger.log_attribute(\"V_VS\", \"v_intf\", vs)\n",
    "\n",
    "# Simulation\n",
    "sim = dpsimpy.Simulation(simName)\n",
    "sim.set_system(sys)\n",
    "sim.set_time_step(time_step)\n",
    "sim.set_final_time(final_time)\n",
    "sim.set_domain(dpsimpy.Domain.EMT)\n",
    "sim.set_solver(dpsimpy.Solver.ITERATIVEMNA)\n",
    "sim.add_logger(logger)\n",
    "sim.run()"
   ]
  },
  {
   "cell_type": "markdown",
   "metadata": {},
   "source": [
    "## Read and visualize results"
   ]
  },
  {
   "cell_type": "code",
   "execution_count": null,
   "metadata": {},
   "outputs": [],
   "source": [
    "path_logfile = os.getcwd() + \"/logs/\" + simName + '/' + simName + '.csv'\n",
    "ts_dpsim_EMT = read_timeseries_dpsim(path_logfile)\n",
    "\n",
    "plt.close('all')\n",
    "fig1 = plt.figure()\n",
    "\n",
    "plt.plot(ts_dpsim_EMT['V_ExponentialDiode'].time, ts_dpsim_EMT['V_ExponentialDiode'].values, \"b-\", label='V_D')\n",
    "plt.plot(ts_dpsim_EMT['V_Resistor'].time, ts_dpsim_EMT['V_Resistor'].values, \"g-\", label='V_R')\n",
    "plt.plot(ts_dpsim_EMT['V_VS'].time, ts_dpsim_EMT['V_VS'].values, \"r-\", label='V_VS')\n",
    "\n",
    "plt.legend(loc = 4)\n",
    "\n",
    "plt.title('Voltages')\n",
    "plt.xlabel('t [s]')\n",
    "plt.ylabel('Voltage [V]')\n",
    "\n",
    "fig2 = plt.figure()\n",
    "\n",
    "plt.plot(ts_dpsim_EMT['I_ExponentialDiode'].time, ts_dpsim_EMT['I_ExponentialDiode'].values, \"r-\", label='I_D')\n",
    "\n",
    "plt.legend(loc = 4)\n",
    "\n",
    "plt.title('ExponentialDiode Current')\n",
    "plt.xlabel('t [s]')\n",
    "plt.ylabel('Current [A]')"
   ]
  },
  {
   "cell_type": "code",
   "execution_count": null,
   "metadata": {},
   "outputs": [],
   "source": []
  }
 ],
 "metadata": {
  "kernelspec": {
   "display_name": "Python 3 (ipykernel)",
   "language": "python",
   "name": "python3"
  },
  "language_info": {
   "codemirror_mode": {
    "name": "ipython",
    "version": 3
   },
   "file_extension": ".py",
   "mimetype": "text/x-python",
   "name": "python",
   "nbconvert_exporter": "python",
   "pygments_lexer": "ipython3",
   "version": "3.9.13"
  }
 },
 "nbformat": 4,
 "nbformat_minor": 4
}
