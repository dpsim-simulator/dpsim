{
 "cells": [
  {
   "cell_type": "markdown",
   "source": [
    "# Testing control params"
   ],
   "metadata": {}
  },
  {
   "cell_type": "markdown",
   "source": [
    "## Set up simulation"
   ],
   "metadata": {}
  },
  {
   "cell_type": "code",
   "execution_count": null,
   "source": [
    "import numpy as np\n",
    "import dpsimpy"
   ],
   "outputs": [],
   "metadata": {}
  },
  {
   "cell_type": "code",
   "execution_count": null,
   "source": [
    "def EMTSimulation(name, kp, ki):\n",
    "    final_time = 4\n",
    "    time_step = 1e-3\n",
    "    sim_name = name\n",
    "    pv_with_control = True\n",
    "    cmd_scale_P = kp\n",
    "    cmd_scale_I = ki\n",
    "    V_nom = 20e3\n",
    "\n",
    "    time_step_pf = final_time\n",
    "    final_time_pf = final_time + time_step_pf\n",
    "    sim_name_pf = sim_name + \"_PF\"\n",
    "    dpsimpy.Logger.set_log_dir('logs/' + sim_name_pf)\n",
    "\n",
    "    # Components\n",
    "    n1_pf = dpsimpy.sp.SimNode('n1', dpsimpy.PhaseType.Single)\n",
    "    n2_pf = dpsimpy.sp.SimNode('n2', dpsimpy.PhaseType.Single)\n",
    "\n",
    "    extnet_pf = dpsimpy.sp.ph1.NetworkInjection('Slack', dpsimpy.LogLevel.debug)\n",
    "    extnet_pf.set_parameters(voltage_set_point=V_nom)\n",
    "    extnet_pf.set_base_voltage(V_nom)\n",
    "    extnet_pf.modify_power_flow_bus_type(dpsimpy.PowerflowBusType.VD)\n",
    "\n",
    "    line_pf = dpsimpy.sp.ph1.PiLine('PiLine', dpsimpy.LogLevel.debug)\n",
    "    line_pf.set_parameters(R=0.5*5, L=0.5/314*5, C=50e-6/314*5)\n",
    "    line_pf.set_base_voltage(V_nom)\n",
    "\n",
    "    load_pf = dpsimpy.sp.ph1.Load('Load', dpsimpy.LogLevel.debug)\n",
    "    load_pf.set_parameters(active_power=-100e3, reactive_power=-50e3, nominal_voltage=20e3)\n",
    "    load_pf.modify_power_flow_bus_type(dpsimpy.PowerflowBusType.PQ)\n",
    "\n",
    "    # Topology\n",
    "    extnet_pf.connect([n1_pf])\n",
    "    line_pf.connect([n1_pf, n2_pf])\n",
    "    load_pf.connect([n2_pf])\n",
    "    system_pf = dpsimpy.SystemTopology(50, [n1_pf, n2_pf], [extnet_pf, line_pf, load_pf])\n",
    "\n",
    "    # Logging\n",
    "    logger_pf = dpsimpy.Logger(sim_name_pf)\n",
    "    logger_pf.log_attribute('v1', 'v', n1_pf)\n",
    "    logger_pf.log_attribute('v2', 'v', n2_pf)\n",
    "\n",
    "    # Simulation\n",
    "    sim_pf = dpsimpy.Simulation(sim_name_pf, dpsimpy.LogLevel.debug)\n",
    "    sim_pf.set_system(system_pf)\n",
    "    sim_pf.set_time_step(time_step_pf)\n",
    "    sim_pf.set_final_time(final_time_pf)\n",
    "    sim_pf.set_domain(dpsimpy.Domain.SP)\n",
    "    sim_pf.set_solver(dpsimpy.Solver.NRP)\n",
    "    sim_pf.do_init_from_nodes_and_terminals(False)\n",
    "    sim_pf.add_logger(logger_pf)\n",
    "    sim_pf.run()\n",
    "\n",
    "    time_step_emt = time_step\n",
    "    final_time_emt = final_time + time_step_emt\n",
    "    sim_name_emt = sim_name + \"_EMT\"\n",
    "    dpsimpy.Logger.set_log_dir('logs/' + sim_name_emt)\n",
    "\n",
    "    # Components\n",
    "    gnd = dpsimpy.emt.SimNode.gnd\n",
    "    n1_emt = dpsimpy.emt.SimNode('n1', dpsimpy.PhaseType.ABC)\n",
    "    n2_emt = dpsimpy.emt.SimNode('n2', dpsimpy.PhaseType.ABC)\n",
    "\n",
    "    extnet_emt = dpsimpy.emt.ph3.NetworkInjection('Slack', dpsimpy.LogLevel.debug)\n",
    "\n",
    "    line_emt = dpsimpy.emt.ph3.PiLine('PiLine', dpsimpy.LogLevel.debug)\n",
    "    line_emt.set_parameters(\n",
    "        series_resistance=dpsimpy.Math.single_phase_parameter_to_three_phase(0.5*5),\n",
    "        series_inductance=dpsimpy.Math.single_phase_parameter_to_three_phase((0.5/314)*5),\n",
    "        parallel_capacitance=dpsimpy.Math.single_phase_parameter_to_three_phase((50e-6/314)*5))\n",
    "\n",
    "    pv = dpsimpy.emt.ph3.AvVoltageSourceInverterDQ(\"pv\", \"pv\", dpsimpy.LogLevel.debug, with_trafo=True)\n",
    "    pv.set_parameters(sys_omega=2 * np.pi * 50, sys_volt_nom=V_nom, p_ref=100e3, q_ref=50e3)\n",
    "    pv.set_controller_parameters(Kp_pll=cmd_scale_P * 0.25, Ki_pll=cmd_scale_I * 0.2,\n",
    "                                Kp_power_ctrl=cmd_scale_P *0.001, Ki_power_ctrl=cmd_scale_I * 0.008 ,\n",
    "                                Kp_curr_ctrl=cmd_scale_P * 0.3, Ki_curr_ctrl=cmd_scale_I * 1, omega_cutoff=2*np.pi*50)\n",
    "    pv.set_filter_parameters(Lf=0.002,Cf=789.3e-6,Rf=0.1,Rc=0.1)\n",
    "    pv.set_transformer_parameters(nom_voltage_end_1=V_nom, nom_voltage_end_2=1500, rated_power=5e6,\n",
    "                                ratio_abs=V_nom / 1500, ratio_phase=0,resistance=0, inductance=0.928e-3,\n",
    "                                omega=2 * np.pi * 50)\n",
    "    pv.set_initial_state_values(p_init=100e3, q_init=50e3, phi_d_init=0, phi_q_init=0, gamma_d_init=0, gamma_q_init=0)\n",
    "    pv.with_control(pv_with_control)\n",
    "\n",
    "    # Topology\n",
    "    extnet_emt.connect([n1_emt])\n",
    "    line_emt.connect([n1_emt, n2_emt])\n",
    "    pv.connect([n2_emt])\n",
    "    system_emt = dpsimpy.SystemTopology(50, [n1_emt, n2_emt], [extnet_emt, line_emt, pv])\n",
    "\n",
    "    # Initialization of dynamic topology\n",
    "    system_emt.init_with_powerflow(system_pf)\n",
    "\n",
    "    # Logging\n",
    "    logger_emt = dpsimpy.Logger(sim_name_emt)\n",
    "    logger_emt.log_attribute('v1', 'v', n1_emt)\n",
    "    logger_emt.log_attribute('v2', 'v', n2_emt)\n",
    "    logger_emt.log_attribute('i12', 'i_intf', line_emt)\n",
    "\n",
    "\n",
    "    input_names = [\n",
    "        \"pv_powerctrl_input_pref\", \"pv_powerctrl_input_qref\", \"pv_powerctrl_input_vcd\",\n",
    "        \"pv_powerctrl_input_vcq\", \"pv_powerctrl_input_ircd\", \"pv_powerctrl_input_ircq\"\n",
    "    ]\n",
    "    logger_emt.log_attribute(input_names, 'powerctrl_inputs', pv)\n",
    "\n",
    "    state_names = [\n",
    "        \"pv_powerctrl_state_p\", \"pv_powerctrl_state_q\", \"pv_powerctrl_state_phid\",\n",
    "        \"pv_powerctrl_state_phiq\", \"pv_powerctrl_state_gammad\", \"pv_powerctrl_state_gammaq\"\n",
    "    ]\n",
    "    logger_emt.log_attribute(state_names, 'powerctrl_states', pv)\n",
    "\n",
    "    output_names = [\n",
    "        \"pv_powerctrl_output_vsd\", \"pv_powerctrl_output_vsq\"\n",
    "    ]\n",
    "\n",
    "    logger_emt.log_attribute(output_names, 'powerctrl_outputs', pv)\n",
    "\n",
    "    logger_emt.log_attribute('pv_v_intf', 'v_intf', pv)\n",
    "    logger_emt.log_attribute('pv_i_intf', 'i_intf', pv)\n",
    "    logger_emt.log_attribute('pv_pll_output', 'pll_output', pv)\n",
    "    logger_emt.log_attribute('pv_vsref', 'Vsref', pv)\n",
    "    logger_emt.log_attribute('pv_vs', 'Vs', pv)\n",
    "\n",
    "    # load step sized in absolute terms\n",
    "    load_switch = dpsimpy.emt.ph3.Switch(\"Load_Add_Switch_n2\", dpsimpy.LogLevel.debug)\n",
    "    connection_node = system_emt.node('n2')\n",
    "    resistance = np.abs(connection_node.initial_single_voltage())**2 / 10e6\n",
    "    load_switch.set_parameters(np.identity(3) * 1e9, np.identity(3) * resistance)\n",
    "    load_switch.open()\n",
    "    system_emt.add(load_switch)\n",
    "    system_emt.connect_component(load_switch, [gnd, system_emt.node('n2')])\n",
    "    logger_emt.log_attribute('switchedload_i', 'i_intf', load_switch)\n",
    "    load_step_event = dpsimpy.event.SwitchEvent3Ph(np.round(5.0/time_step)*time_step, load_switch, True)\n",
    "\n",
    "    # Simulation\n",
    "    sim_emt = dpsimpy.Simulation(sim_name_emt, dpsimpy.LogLevel.debug)\n",
    "    sim_emt.set_system(system_emt)\n",
    "    sim_emt.set_time_step(time_step_emt)\n",
    "    sim_emt.set_final_time(final_time_emt)\n",
    "    sim_emt.set_domain(dpsimpy.Domain.EMT)\n",
    "    sim_emt.add_event(load_step_event)\n",
    "    sim_emt.add_logger(logger_emt)\n",
    "    sim_emt.run()"
   ],
   "outputs": [],
   "metadata": {}
  },
  {
   "cell_type": "markdown",
   "source": [
    "## Kp study"
   ],
   "metadata": {}
  },
  {
   "cell_type": "code",
   "execution_count": null,
   "source": [
    "from villas.dataprocessing.readtools import *\n",
    "from villas.dataprocessing.timeseries import *\n",
    "import matplotlib.pyplot as plt\n",
    "import re\n",
    "import numpy as np\n",
    "import dpsimpy\n",
    "\n",
    "# %matplotlib widget\n",
    "PEAK1PH_TO_RMS3PH = np.sqrt(3.0/2.0)\n",
    "\n",
    "scale_kp=np.round(np.arange(0.58,0.68,0.02),2)"
   ],
   "outputs": [],
   "metadata": {}
  },
  {
   "cell_type": "markdown",
   "source": [
    "## Run Simulations"
   ],
   "metadata": {}
  },
  {
   "cell_type": "code",
   "execution_count": null,
   "source": [
    "for kp in scale_kp:\n",
    "    modelName = 'EMT_Slack_PiLine_VSI_with_PF_Init_KP-'+str(kp)\n",
    "    EMTSimulation(modelName, kp, 1.0)"
   ],
   "outputs": [],
   "metadata": {}
  },
  {
   "cell_type": "markdown",
   "source": [
    "## EMT results"
   ],
   "metadata": {}
  },
  {
   "cell_type": "code",
   "execution_count": null,
   "source": [
    "ts_dpsim={}\n",
    "for kp in scale_kp:\n",
    "    modelName = 'EMT_Slack_PiLine_VSI_with_PF_Init_KP-'+str(kp)+'_EMT'\n",
    "    path = 'logs/' + modelName + '/'\n",
    "    dpsim_result_file = path + modelName + '.csv'\n",
    "    ts_dpsim[str(kp)] = read_timeseries_csv(dpsim_result_file)"
   ],
   "outputs": [],
   "metadata": {}
  },
  {
   "cell_type": "markdown",
   "source": [
    "### States - Active Power"
   ],
   "metadata": {}
  },
  {
   "cell_type": "code",
   "execution_count": null,
   "source": [
    "plt.figure(figsize=(12,6))\n",
    "\n",
    "for kp in scale_kp:\n",
    "    ts_of_interest = ['pv_powerctrl_state_p']\n",
    "    for ts_name, ts_obj  in ts_dpsim[str(kp)].items():\n",
    "        if ts_name in ts_of_interest:\n",
    "            plt.plot(ts_obj.time, ts_obj.values, label=ts_name+\", kp=\"+str(kp))\n",
    "        \n",
    "# add references\n",
    "ts_of_interest = ['pv_powerctrl_input_pref']\n",
    "for ts_name, ts_obj  in ts_dpsim[str(kp)].items():\n",
    "    if ts_name in ts_of_interest:\n",
    "        plt.plot(ts_obj.time, ts_obj.values, label=ts_name, linestyle=':')\n",
    "        \n",
    "plt.legend()\n",
    "plt.show()"
   ],
   "outputs": [],
   "metadata": {}
  },
  {
   "cell_type": "markdown",
   "source": [
    "### States - Reactive Power"
   ],
   "metadata": {}
  },
  {
   "cell_type": "code",
   "execution_count": null,
   "source": [
    "plt.figure(figsize=(12,6))\n",
    "\n",
    "for kp in scale_kp:\n",
    "    ts_of_interest = ['pv_powerctrl_state_q']\n",
    "    for ts_name, ts_obj  in ts_dpsim[str(kp)].items():\n",
    "        if ts_name in ts_of_interest:\n",
    "            plt.plot(ts_obj.time, ts_obj.values, label=ts_name+\", kp=\"+str(kp))\n",
    "        \n",
    "# add references\n",
    "ts_of_interest = ['pv_powerctrl_input_qref']\n",
    "for ts_name, ts_obj  in ts_dpsim[str(kp)].items():\n",
    "    if ts_name in ts_of_interest:\n",
    "        plt.plot(ts_obj.time, ts_obj.values, label=ts_name, linestyle=':')\n",
    "        \n",
    "plt.legend()\n",
    "plt.show()"
   ],
   "outputs": [],
   "metadata": {}
  },
  {
   "cell_type": "markdown",
   "source": [
    "## Ki study"
   ],
   "metadata": {}
  },
  {
   "cell_type": "code",
   "execution_count": null,
   "source": [
    "from villas.dataprocessing.readtools import *\n",
    "from villas.dataprocessing.timeseries import *\n",
    "import matplotlib.pyplot as plt\n",
    "import re\n",
    "import numpy as np\n",
    "import dpsimpy\n",
    "\n",
    "#%matplotlib widget\n",
    "PEAK1PH_TO_RMS3PH = np.sqrt(3.0/2.0)\n",
    "\n",
    "scale_ki=np.round(np.arange(0.1,2.1,0.2),1)"
   ],
   "outputs": [],
   "metadata": {}
  },
  {
   "cell_type": "markdown",
   "source": [
    "## Run Simulations"
   ],
   "metadata": {}
  },
  {
   "cell_type": "code",
   "execution_count": null,
   "source": [
    "for ki in scale_ki:\n",
    "    modelName = 'EMT_Slack_PiLine_VSI_with_PF_Init_KI-'+str(ki)\n",
    "    EMTSimulation(modelName, 1.0, ki)"
   ],
   "outputs": [],
   "metadata": {}
  },
  {
   "cell_type": "markdown",
   "source": [
    "## EMT results"
   ],
   "metadata": {}
  },
  {
   "cell_type": "code",
   "execution_count": null,
   "source": [
    "ts_dpsim={}\n",
    "for ki in scale_ki:\n",
    "    modelName = 'EMT_Slack_PiLine_VSI_with_PF_Init_KI-'+str(ki)+'_EMT'\n",
    "    path = 'logs/' + modelName + '/'\n",
    "    dpsim_result_file = path + modelName + '.csv'\n",
    "    ts_dpsim[str(ki)] = read_timeseries_csv(dpsim_result_file)"
   ],
   "outputs": [],
   "metadata": {}
  },
  {
   "cell_type": "markdown",
   "source": [
    "### States - Active Power"
   ],
   "metadata": {}
  },
  {
   "cell_type": "code",
   "execution_count": null,
   "source": [
    "plt.figure(figsize=(12,6))\n",
    "\n",
    "for ki in scale_ki:\n",
    "    ts_of_interest = ['pv_powerctrl_state_p']\n",
    "    for ts_name, ts_obj  in ts_dpsim[str(ki)].items():\n",
    "        if ts_name in ts_of_interest:\n",
    "            plt.plot(ts_obj.time, ts_obj.values, label=ts_name+\", ki=\"+str(ki))\n",
    "        \n",
    "# add references\n",
    "ts_of_interest = ['pv_powerctrl_input_pref']\n",
    "for ts_name, ts_obj  in ts_dpsim[str(ki)].items():\n",
    "    if ts_name in ts_of_interest:\n",
    "        plt.plot(ts_obj.time, ts_obj.values, label=ts_name, linestyle=':')\n",
    "        \n",
    "plt.legend()\n",
    "plt.show()"
   ],
   "outputs": [],
   "metadata": {}
  },
  {
   "cell_type": "markdown",
   "source": [
    "### States - Reactive Power"
   ],
   "metadata": {}
  },
  {
   "cell_type": "code",
   "execution_count": null,
   "source": [
    "plt.figure(figsize=(12,6))\n",
    "\n",
    "for ki in scale_ki:\n",
    "    ts_of_interest = ['pv_powerctrl_state_q']\n",
    "    for ts_name, ts_obj  in ts_dpsim[str(ki)].items():\n",
    "        if ts_name in ts_of_interest:\n",
    "            plt.plot(ts_obj.time, ts_obj.values, label=ts_name+\", ki=\"+str(ki))\n",
    "        \n",
    "# add references\n",
    "ts_of_interest = ['pv_powerctrl_input_qref']\n",
    "for ts_name, ts_obj  in ts_dpsim[str(ki)].items():\n",
    "    if ts_name in ts_of_interest:\n",
    "        plt.plot(ts_obj.time, ts_obj.values, label=ts_name, linestyle=':')\n",
    "        \n",
    "plt.legend()\n",
    "plt.show()"
   ],
   "outputs": [],
   "metadata": {}
  },
  {
   "cell_type": "markdown",
   "source": [
    "## Final choice"
   ],
   "metadata": {}
  },
  {
   "cell_type": "code",
   "execution_count": null,
   "source": [
    "kp=0.66\n",
    "ki=1.0\n",
    "\n",
    "EMTSimulation('EMT_Slack_PiLine_VSI_with_PF_Init_KP_'+str(kp)+'_KI_'+str(ki), kp, ki)\n",
    "\n",
    "modelName = 'EMT_Slack_PiLine_VSI_with_PF_Init_KP_'+str(kp)+'_KI_'+str(ki)+'_EMT'\n",
    "print(modelName)\n",
    "path = 'logs/' + modelName + '/'\n",
    "dpsim_result_file = path + modelName + '.csv'\n",
    "ts_dpsim = read_timeseries_csv(dpsim_result_file)"
   ],
   "outputs": [],
   "metadata": {}
  },
  {
   "cell_type": "markdown",
   "source": [
    "### States - Active Power"
   ],
   "metadata": {}
  },
  {
   "cell_type": "code",
   "execution_count": null,
   "source": [
    "plt.figure(figsize=(12,6))\n",
    "\n",
    "ts_of_interest = ['pv_powerctrl_state_p']\n",
    "for ts_name, ts_obj  in ts_dpsim.items():\n",
    "    if ts_name in ts_of_interest:\n",
    "        plt.plot(ts_obj.time, ts_obj.values, label=ts_name+\", kp=\"+str(kp)+\", ki=\"+str(ki))\n",
    "        \n",
    "ts_of_interest = ['pv_powerctrl_input_pref']\n",
    "for ts_name, ts_obj  in ts_dpsim.items():\n",
    "    if ts_name in ts_of_interest:\n",
    "        plt.plot(ts_obj.time, ts_obj.values, label=ts_name, linestyle=':')\n",
    "        \n",
    "plt.legend()\n",
    "plt.show()"
   ],
   "outputs": [],
   "metadata": {}
  },
  {
   "cell_type": "markdown",
   "source": [
    "### States - Reactive Power"
   ],
   "metadata": {}
  },
  {
   "cell_type": "code",
   "execution_count": null,
   "source": [
    "plt.figure(figsize=(12,6))\n",
    "\n",
    "ts_of_interest = ['pv_powerctrl_state_p']\n",
    "for ts_name, ts_obj  in ts_dpsim.items():\n",
    "    if ts_name in ts_of_interest:\n",
    "        plt.plot(ts_obj.time, ts_obj.values, label=ts_name+\", kp=\"+str(kp)+\", ki=\"+str(ki))\n",
    "        \n",
    "ts_of_interest = ['pv_powerctrl_input_qref']\n",
    "for ts_name, ts_obj  in ts_dpsim.items():\n",
    "    if ts_name in ts_of_interest:\n",
    "        plt.plot(ts_obj.time, ts_obj.values, label=ts_name, linestyle=':')\n",
    "        \n",
    "plt.legend()\n",
    "plt.show()"
   ],
   "outputs": [],
   "metadata": {}
  }
 ],
 "metadata": {
  "kernelspec": {
   "display_name": "Python 3",
   "language": "python",
   "name": "python3"
  },
  "language_info": {
   "name": "python",
   "version": ""
  },
  "tests": {
   "skip": false
  }
 },
 "nbformat": 4,
 "nbformat_minor": 4
}