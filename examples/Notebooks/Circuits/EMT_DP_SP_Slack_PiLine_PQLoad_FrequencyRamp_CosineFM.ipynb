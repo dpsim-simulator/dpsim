{
 "cells": [
  {
   "cell_type": "markdown",
   "metadata": {},
   "source": [
    "# Inter-domain comparison of signal generator"
   ]
  },
  {
   "cell_type": "markdown",
   "metadata": {},
   "source": [
    "- Assert example simulations consisting of a slack, a pi-line and a PQ load in either EMT, DP and SP domain\n",
    "- Simulate with a time step of 1ms over a time frame of 1s"
   ]
  },
  {
   "cell_type": "code",
   "execution_count": null,
   "metadata": {},
   "outputs": [],
   "source": [
    "from villas.dataprocessing.readtools import *\n",
    "from villas.dataprocessing.timeseries import *\n",
    "from villas.dataprocessing.timeseries import TimeSeries as ts\n",
    "import matplotlib.pyplot as plt\n",
    "import re"
   ]
  },
  {
   "cell_type": "code",
   "execution_count": null,
   "metadata": {},
   "outputs": [],
   "source": [
    "%%bash\n",
    "TOP=${TOP:-$(git rev-parse --show-toplevel)}\n",
    "PATH=${TOP}/build/dpsim/examples/cxx\n",
    "\n",
    "EMT_DP_SP_Slack_PiLine_PQLoad_FrequencyRamp_CosineFM"
   ]
  },
  {
   "cell_type": "markdown",
   "metadata": {},
   "source": [
    "## Linear frequency ramp"
   ]
  },
  {
   "cell_type": "code",
   "execution_count": null,
   "metadata": {},
   "outputs": [],
   "source": [
    "modelName = 'EMT_DP_SP_Slack_PiLine_PQLoad_FrequencyRamp_EMT'\n",
    "path = 'logs/' + modelName + '/'\n",
    "dpsim_result_file = path + modelName + '.csv'\n",
    "\n",
    "ts_dpsim_EMT = read_timeseries_csv(dpsim_result_file)"
   ]
  },
  {
   "cell_type": "code",
   "execution_count": null,
   "metadata": {},
   "outputs": [],
   "source": [
    "modelName = 'EMT_DP_SP_Slack_PiLine_PQLoad_FrequencyRamp_DP'\n",
    "path = 'logs/' + modelName + '/'\n",
    "dpsim_result_file = path + modelName + '.csv'\n",
    "\n",
    "ts_dpsim_DP = read_timeseries_csv(dpsim_result_file)\n",
    "ts_dpsim_DP_shifted = ts.frequency_shift_list(ts_dpsim_DP, 50)"
   ]
  },
  {
   "cell_type": "code",
   "execution_count": null,
   "metadata": {},
   "outputs": [],
   "source": [
    "modelName = 'EMT_DP_SP_Slack_PiLine_PQLoad_FrequencyRamp_SP'\n",
    "path = 'logs/' + modelName + '/'\n",
    "dpsim_result_file = path + modelName + '.csv'\n",
    "\n",
    "ts_dpsim_SP = read_timeseries_csv(dpsim_result_file)"
   ]
  },
  {
   "cell_type": "markdown",
   "metadata": {},
   "source": [
    "### Plot frequency"
   ]
  },
  {
   "cell_type": "code",
   "execution_count": null,
   "metadata": {},
   "outputs": [],
   "source": [
    "plt.figure()\n",
    "\n",
    "# EMT\n",
    "plt.plot(ts_dpsim_EMT['f_src'].time, ts_dpsim_EMT['f_src'].values, label='EMT')\n",
    "    \n",
    "# DP\n",
    "plt.plot(ts_dpsim_DP['f_src'].time, ts_dpsim_DP['f_src'].values+50, label='DP', linestyle='--')\n",
    "\n",
    "# SP\n",
    "plt.plot(ts_dpsim_DP['f_src'].time, ts_dpsim_DP['f_src'].values+50, label='SP', linestyle=':')\n",
    "    \n",
    "plt.legend()\n",
    "plt.show()"
   ]
  },
  {
   "cell_type": "markdown",
   "metadata": {},
   "source": [
    "### Plot voltage"
   ]
  },
  {
   "cell_type": "code",
   "execution_count": null,
   "metadata": {},
   "outputs": [],
   "source": [
    "plt.figure()\n",
    "\n",
    "# EMT\n",
    "var_names = ['v1_0']\n",
    "for var_name in var_names: \n",
    "    plt.plot(ts_dpsim_EMT[var_name].time, np.sqrt(3/2)*ts_dpsim_EMT[var_name].values, label=var_name)\n",
    "    \n",
    "# DP\n",
    "var_names = ['v1_shift']\n",
    "for var_name in var_names: \n",
    "    plt.plot(ts_dpsim_DP_shifted[var_name].time, ts_dpsim_DP_shifted[var_name].values, label=var_name, linestyle=':')\n",
    "    \n",
    "plt.legend()\n",
    "plt.show()"
   ]
  },
  {
   "cell_type": "markdown",
   "metadata": {},
   "source": [
    "### Assertion EMT vs. DP"
   ]
  },
  {
   "cell_type": "code",
   "execution_count": null,
   "metadata": {},
   "outputs": [],
   "source": [
    "compare_errors_abs = []\n",
    "for name in [('v1_0', 'v1_shift'), ('i12_0', 'i12_shift')]:\n",
    "    compare_errors_abs.append(np.absolute(np.sqrt(3/2)*ts_dpsim_EMT[name[0]].values - ts_dpsim_DP_shifted[name[1]].values).max())\n",
    "    print(name[0]+' vs. '+name[1] + ' (abs): ' + str(compare_errors_abs[-1]))\n",
    "\n",
    "assert compare_errors_abs[0] < 1e-3 # voltage\n",
    "assert compare_errors_abs[1] < 0.9    # current"
   ]
  },
  {
   "cell_type": "markdown",
   "metadata": {},
   "source": [
    "### Assertion DP vs. SP"
   ]
  },
  {
   "cell_type": "code",
   "execution_count": null,
   "metadata": {},
   "outputs": [],
   "source": [
    "compare_errors_abs = []\n",
    "for name in ['v1', 'i12']:\n",
    "    compare_errors_abs.append(np.absolute(ts_dpsim_DP[name].values - ts_dpsim_SP[name].values).max())\n",
    "    print(name+' vs. '+name + ' (abs): ' + str(compare_errors_abs[-1]))\n",
    "\n",
    "assert compare_errors_abs[0] < 1e-3 # voltage\n",
    "assert compare_errors_abs[1] < 0.2    # current"
   ]
  },
  {
   "cell_type": "markdown",
   "metadata": {},
   "source": [
    "## Cosine frequency modulation"
   ]
  },
  {
   "cell_type": "code",
   "execution_count": null,
   "metadata": {},
   "outputs": [],
   "source": [
    "modelName = 'EMT_DP_SP_Slack_PiLine_PQLoad_CosineFM_EMT'\n",
    "path = 'logs/' + modelName + '/'\n",
    "dpsim_result_file = path + modelName + '.csv'\n",
    "\n",
    "ts_dpsim_EMT = read_timeseries_csv(dpsim_result_file)"
   ]
  },
  {
   "cell_type": "code",
   "execution_count": null,
   "metadata": {},
   "outputs": [],
   "source": [
    "modelName = 'EMT_DP_SP_Slack_PiLine_PQLoad_CosineFM_DP'\n",
    "path = 'logs/' + modelName + '/'\n",
    "dpsim_result_file = path + modelName + '.csv'\n",
    "\n",
    "ts_dpsim_DP = read_timeseries_csv(dpsim_result_file)\n",
    "ts_dpsim_DP_shifted = ts.frequency_shift_list(ts_dpsim_DP, 50)"
   ]
  },
  {
   "cell_type": "code",
   "execution_count": null,
   "metadata": {},
   "outputs": [],
   "source": [
    "modelName = 'EMT_DP_SP_Slack_PiLine_PQLoad_CosineFM_SP'\n",
    "path = 'logs/' + modelName + '/'\n",
    "dpsim_result_file = path + modelName + '.csv'\n",
    "\n",
    "ts_dpsim_SP = read_timeseries_csv(dpsim_result_file)"
   ]
  },
  {
   "cell_type": "markdown",
   "metadata": {},
   "source": [
    "### Plot frequency"
   ]
  },
  {
   "cell_type": "code",
   "execution_count": null,
   "metadata": {},
   "outputs": [],
   "source": [
    "plt.figure()\n",
    "\n",
    "# EMT\n",
    "plt.plot(ts_dpsim_EMT['f_src'].time, ts_dpsim_EMT['f_src'].values, label='EMT')\n",
    "    \n",
    "# DP\n",
    "plt.plot(ts_dpsim_DP['f_src'].time, ts_dpsim_DP['f_src'].values+50, label='DP', linestyle='--')\n",
    "\n",
    "# SP\n",
    "plt.plot(ts_dpsim_DP['f_src'].time, ts_dpsim_DP['f_src'].values+50, label='SP', linestyle=':')\n",
    "    \n",
    "plt.legend()\n",
    "plt.show()"
   ]
  },
  {
   "cell_type": "markdown",
   "metadata": {},
   "source": [
    "### Assertion EMT vs. DP"
   ]
  },
  {
   "cell_type": "code",
   "execution_count": null,
   "metadata": {},
   "outputs": [],
   "source": [
    "compare_errors_abs = []\n",
    "for name in [('v1_0', 'v1_shift'), ('i12_0', 'i12_shift')]:\n",
    "    compare_errors_abs.append(np.absolute(np.sqrt(3/2)*ts_dpsim_EMT[name[0]].values - ts_dpsim_DP_shifted[name[1]].values).max())\n",
    "    print(name[0]+' vs. '+name[1] + ' (abs): ' + str(compare_errors_abs[-1]))\n",
    "\n",
    "assert compare_errors_abs[0] < 1e-3 # voltage\n",
    "assert compare_errors_abs[1] < 0.9  # current"
   ]
  },
  {
   "cell_type": "markdown",
   "metadata": {},
   "source": [
    "### Assertion DP vs. SP"
   ]
  },
  {
   "cell_type": "code",
   "execution_count": null,
   "metadata": {},
   "outputs": [],
   "source": [
    "compare_errors_abs = []\n",
    "for name in ['v1', 'i12']:\n",
    "    compare_errors_abs.append(np.absolute(ts_dpsim_DP[name].values - ts_dpsim_SP[name].values).max())\n",
    "    print(name+' vs. '+name + ' (abs): ' + str(compare_errors_abs[-1]))\n",
    "\n",
    "assert compare_errors_abs[0] < 1e-3 # voltage\n",
    "assert compare_errors_abs[1] < 0.2    # current"
   ]
  }
 ],
 "metadata": {
  "interpreter": {
   "hash": "0adcc2737ebf6a4a119f135174df96668767fca1ef1112612db5ecadf2b6d608"
  },
  "kernelspec": {
   "display_name": "Python 3 (ipykernel)",
   "language": "python",
   "name": "python3"
  },
  "language_info": {
   "codemirror_mode": {
    "name": "ipython",
    "version": 3
   },
   "file_extension": ".py",
   "mimetype": "text/x-python",
   "name": "python",
   "nbconvert_exporter": "python",
   "pygments_lexer": "ipython3",
   "version": "3.9.10"
  }
 },
 "nbformat": 4,
 "nbformat_minor": 4
}
