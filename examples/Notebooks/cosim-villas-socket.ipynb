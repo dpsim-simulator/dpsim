{
 "cells": [
  {
   "attachments": {},
   "cell_type": "markdown",
   "metadata": {},
   "source": [
    "Weakly coupled Co-simulation\n",
    "================\n",
    "\n",
    "This guides shows how to implement a simplified weakly-coupled co-simulation in emtsim\n",
    "\n",
    "Test circuit\n",
    "--------------------\n",
    "\n",
    "As a first simple, test we will simulate a small static network. The network consists of 4 nodes and 4 elements:\n",
    "\n",
    "| Component | Type              | Python Class                              | Node A | Node B | Paramter |\n",
    "| :---------| :----             | :---------------------------------------- | :----- | :----- | :------- |\n",
    "| r_1       | Source resistance | `dpsimpy.emt.ph1.Resistor`                 | 0      | GND    | 0.1 Ohm  |\n",
    "| c_1       | Line capacitance  | `dpsimpy.emt.ph1.Capacitor`                | 0      | GND    | 1 Farad  |\n",
    "| c_2       | Line capacitance  | `dpsimpy.emt.ph1.Capacitor`                | 1      | GND    | 1 Farad  |\n",
    "| r_line    | Line resistance   | `dpsimpy.emt.ph1.Resistor`                 | 1      | 0      | 0.1 Ohm  |\n",
    "| r_load    | Load              | `dpsimpy.emt.ph1.Resistor`                 | 1      | GND    | 1 Ohm    |"
   ]
  },
  {
   "cell_type": "markdown",
   "metadata": {},
   "source": [
    "Before we can start, we must import the DPsim Python module.\n",
    "We also add `emt` as an alias for the dynamic phasor components."
   ]
  },
  {
   "cell_type": "code",
   "execution_count": null,
   "metadata": {},
   "outputs": [],
   "source": [
    "import dpsimpy"
   ]
  },
  {
   "cell_type": "markdown",
   "metadata": {},
   "source": [
    "Next, we can define the model by creating a couple of components.\n",
    "Each component is identified by a name which is passed as the first argument.\n",
    "Following arguments are used to define the topology by assigning the component to a specific node / bus or to pass parameters."
   ]
  },
  {
   "cell_type": "code",
   "execution_count": null,
   "metadata": {},
   "outputs": [],
   "source": [
    "# Nodes\n",
    "gnd = dpsimpy.emt.SimNode.gnd\n",
    "n1  = dpsimpy.emt.SimNode(\"n1\")\n",
    "n2  = dpsimpy.emt.SimNode(\"n2\")\n",
    "\n",
    "r_1 = dpsimpy.emt.ph1.Resistor(\"r_1\")\n",
    "r_1.R = 0.1\n",
    "r_line = dpsimpy.emt.ph1.Resistor(\"r_line\")\n",
    "r_line.R = 0.1\n",
    "c_1 = dpsimpy.emt.ph1.Capacitor(\"c_1\")\n",
    "c_1.C = 1\n",
    "c_2 = dpsimpy.emt.ph1.Capacitor(\"c_2\")\n",
    "c_2.C = 1\n",
    "r_load = dpsimpy.emt.ph1.Resistor(\"r_load\")\n",
    "r_load.R = 1\n",
    "\n",
    "# Initial conditions\n",
    "n1.set_initial_voltage(5)\n",
    "n2.set_initial_voltage(2)\n",
    "\n",
    "# Connections \n",
    "r_1.connect([n1, gnd])\n",
    "r_line.connect([n1, n2])\n",
    "c_1.connect([n1, gnd])\n",
    "c_2.connect([n2, gnd])\n",
    "r_load.connect([n2, gnd])"
   ]
  },
  {
   "cell_type": "markdown",
   "metadata": {},
   "source": [
    "Next, we have to create a simulation object:"
   ]
  },
  {
   "cell_type": "code",
   "execution_count": null,
   "metadata": {},
   "outputs": [],
   "source": [
    "sys = dpsimpy.SystemTopology(50, [ gnd, n1, n2 ], [ r_1, r_line, c_1, c_2, r_load ])"
   ]
  },
  {
   "cell_type": "markdown",
   "metadata": {},
   "source": [
    "We can also visualize the system topology:"
   ]
  },
  {
   "cell_type": "code",
   "execution_count": null,
   "metadata": {},
   "outputs": [],
   "source": [
    "sys"
   ]
  },
  {
   "cell_type": "markdown",
   "metadata": {},
   "source": [
    "Finally, we can start the simulation and wait for its completion:"
   ]
  },
  {
   "cell_type": "code",
   "execution_count": null,
   "metadata": {},
   "outputs": [],
   "source": [
    "time_step = 1e-6\n",
    "final_time = 1.0\n",
    "\n",
    "sim = dpsimpy.Simulation(\"EMTCosim\", loglevel=dpsimpy.LogLevel.debug)\n",
    "sim.set_domain(dpsimpy.Domain.EMT)\n",
    "sim.set_system(sys)\n",
    "sim.set_time_step(time_step)\n",
    "sim.set_final_time(final_time)\n",
    "\n",
    "log = dpsimpy.Logger(\"EMTCosim\")\n",
    "for i in range(1, len(sys.nodes)):\n",
    "    log.log_attribute(\"v\" + str(i), \"v\", sys.nodes[i])\n",
    "\n",
    "sim.add_logger(log)\n",
    "    \n",
    "sim.run()"
   ]
  },
  {
   "cell_type": "markdown",
   "metadata": {},
   "source": [
    "Next, we run the co-simulation"
   ]
  },
  {
   "cell_type": "code",
   "execution_count": null,
   "metadata": {},
   "outputs": [],
   "source": [
    "import subprocess\n",
    "import numpy as np\n",
    "\n",
    "H_v = np.array([1e-4, 0.001, 0.01])\n",
    "H_v_legends = ['1e-4', '1e-3', '1e-2']\n",
    "\n",
    "i=0\n",
    "for H in H_v:\n",
    "    subprocess.run([\"python3\", \"examples/Python/Attributes/emt-cosim-attributes_polynomial.py\", \"-t\", str(time_step), \"-e\", \"1\", \"-H\", str(H), \"-p\", \"EMTCosimAttributes_zoh_\" + H_v_legends[i]], stdout=subprocess.PIPE, stderr=subprocess.STDOUT)\n",
    "    subprocess.run([\"python3\", \"examples/Python/Attributes/emt-cosim-attributes_polynomial.py\", \"-t\", str(time_step), \"-e\", \"1\", \"-H\", str(H), \"-i\", \"linear\", \"-p\", \"EMTCosimAttributes_linear_\" + H_v_legends[i]], stdout=subprocess.PIPE, stderr=subprocess.STDOUT)\n",
    "    i+=1\n",
    "\n",
    "# TODO: Verify why the villas co-simulation does not log outputs correctly using Popen\n",
    "# process = subprocess.Popen([\"python3\", \"../villas/emt-cosim-villas.py\"], stdout=subprocess.PIPE, stderr=subprocess.PIPE, text=True)"
   ]
  },
  {
   "cell_type": "markdown",
   "metadata": {},
   "source": [
    "Results can be analyzed and plotted by the `villas.dataprocessing` package:"
   ]
  },
  {
   "cell_type": "code",
   "execution_count": null,
   "metadata": {},
   "outputs": [],
   "source": [
    "%matplotlib inline\n",
    "%config InlineBackend.figure_format = 'svg'\n",
    "%config InlineBackend.rc = {'font.size': 10, 'figure.figsize': (6.0, 4.0), 'figure.facecolor': 'white', 'savefig.dpi': 72, 'figure.subplot.bottom': 0.125, 'figure.edgecolor': 'white'}\n",
    "\n",
    "import matplotlib.pyplot as plt\n",
    "import villas.dataprocessing.plottools as pt\n",
    "import villas.dataprocessing.readtools as rt\n",
    "import villas.dataprocessing.timeseries as ts\n",
    "\n",
    "results = rt.read_timeseries_dpsim('logs/EMTCosim.csv')\n",
    "\n",
    "results_emt = []\n",
    "for series in results:\n",
    "    results_emt.append(results[series])\n",
    "\n",
    "results_attributes_zoh = {}\n",
    "for H_v_leg in H_v_legends:\n",
    "    results_attributes_zoh[H_v_leg] = rt.read_timeseries_dpsim('logs/EMTCosimAttributes_zoh_' + H_v_leg + '_S1/S1.csv')\n",
    "    \n",
    "results_attributes_linear = {}\n",
    "for H_v_leg in H_v_legends:\n",
    "    results_attributes_linear[H_v_leg] = rt.read_timeseries_dpsim('logs/EMTCosimAttributes_linear_' + H_v_leg + '_S1/S1.csv')\n",
    "\n",
    "# Get logs, if the co-simulation was executed from this script\n",
    "# results_villas1 = rt.read_timeseries_dpsim('logs/EMTCosimVILLAS1/EMTCosimVILLAS1.csv')\n",
    "# results_villas2 = rt.read_timeseries_dpsim('logs/EMTCosimVILLAS2/EMTCosimVILLAS2.csv')\n",
    "\n",
    "# If the villas co-simulation was not executed from this script, read the logs as follows\n",
    "# This assumes that you executed the script examples/villas/emt-cosim-villas.py previously\n",
    "# results_villas1 = rt.read_timeseries_dpsim('../../logs/EMTCosimVILLAS1/EMTCosimVILLAS1.csv')\n",
    "# results_villas2 = rt.read_timeseries_dpsim('../../logs/EMTCosimVILLAS2/EMTCosimVILLAS2.csv')\n",
    "\n",
    "# Get logs from the co-simulation with Matlab\n",
    "# results_matlab = rt.read_timeseries_dpsim('logs/EMTCosimUDP1/EMTCosimUDP1.csv')\n",
    "\n",
    "# results_emt_matlab = []\n",
    "# for series in results_matlab:\n",
    "#     results_emt_matlab.append(results_matlab[series])\n",
    "\n",
    "results_emt_attributes_zoh = {}\n",
    "\n",
    "for k, results_att_list in results_attributes_zoh.items():\n",
    "    results_emt_attributes_zoh[k] = []\n",
    "    for series in results_att_list:\n",
    "        results_emt_attributes_zoh[k].append(results_att_list[series])\n",
    "        \n",
    "results_emt_attributes_linear = {}\n",
    "\n",
    "for k, results_att_list in results_attributes_linear.items():\n",
    "    results_emt_attributes_linear[k] = []\n",
    "    for series in results_att_list:\n",
    "        results_emt_attributes_linear[k].append(results_att_list[series])\n",
    "    \n",
    "# results_emt_villas_1 = []\n",
    "# for series in results_villas1:\n",
    "#     results_emt_villas_1.append(results_villas1[series])\n",
    "    \n",
    "# results_emt_villas_2 = []\n",
    "# for series in results_villas2:\n",
    "#     results_emt_villas_2.append(results_villas2[series])\n",
    "\n",
    "for series in results_emt:\n",
    "    pt.plot_timeseries('Co-simulation results', series)\n",
    "\n",
    "for k, results_att_list in results_emt_attributes_zoh.items():\n",
    "    pt.plot_timeseries('Co-simulation results', results_att_list[2], '--')\n",
    "    pt.plot_timeseries('Co-simulation results', results_att_list[3], '--')\n",
    "    \n",
    "# pt.plot_timeseries('Co-simulation results', results_emt_villas_1[3], '--')\n",
    "# pt.plot_timeseries('Co-simulation results', results_emt_villas_1[4], '--')\n",
    "# pt.plot_timeseries('Co-simulation results', results_emt_villas_2[2], '--')\n",
    "\n",
    "# pt.plot_timeseries('Co-simulation results', results_emt_matlab[3], '-.')\n",
    "# pt.plot_timeseries('Co-simulation results', results_emt_matlab[4], '-.')\n",
    "\n",
    "plt.grid()\n",
    "plt.show()"
   ]
  },
  {
   "cell_type": "markdown",
   "metadata": {},
   "source": [
    "## Obtain the co-simulation errors"
   ]
  },
  {
   "cell_type": "code",
   "execution_count": null,
   "metadata": {},
   "outputs": [],
   "source": [
    "global_error_zoh = []\n",
    "global_error_linear = []\n",
    "\n",
    "for i in range(0, len(H_v_legends)):    \n",
    "    H = H_v[i]\n",
    "    \n",
    "    m = int(H/time_step)\n",
    "    \n",
    "    ts_1_m = results_emt[0]\n",
    "    ts_2_m = results_emt[1]\n",
    "    \n",
    "    ts_1_zoh = results_emt_attributes_zoh[H_v_legends[i]][2]\n",
    "    ts_2_zoh = results_emt_attributes_zoh[H_v_legends[i]][3]\n",
    "    \n",
    "    ts_1_linear = results_emt_attributes_linear[H_v_legends[i]][2]\n",
    "    ts_2_linear = results_emt_attributes_linear[H_v_legends[i]][3]\n",
    "    \n",
    "    v_a = np.array([ts_1_m.values[::m], ts_2_m.values[::m]])\n",
    "    v_zoh = np.array([ts_1_zoh.values[::m], ts_2_zoh.values[::m]])\n",
    "    v_linear = np.array([ts_1_linear.values[::m], ts_2_linear.values[::m]])\n",
    "    \n",
    "    global_error_zoh.append(np.max(np.linalg.norm(v_a - v_zoh, axis=0)))\n",
    "    global_error_linear.append(np.max(np.linalg.norm(v_a - v_linear, axis=0)))\n",
    "    \n",
    "plt.figure()\n",
    "plt.plot(np.log10(H_v), np.log10(global_error_zoh), 'b', label='ZOH')\n",
    "plt.plot(np.log10(H_v), np.log10(global_error_zoh), 'bo')\n",
    "plt.plot(np.log10(H_v), np.log10(np.multiply(H_v, 10**1)), 'k', label=r'$\\mathcal{O}(H)$')\n",
    "plt.plot(np.log10(H_v), np.log10(global_error_linear), 'r', label='Linear')\n",
    "plt.plot(np.log10(H_v), np.log10(global_error_linear), 'ro')\n",
    "plt.plot(np.log10(H_v), np.log10(np.multiply(H_v**2, 10**2.6)), '--k', label=r'$\\mathcal{O}(H^2)$')\n",
    "plt.xlabel('')\n",
    "# TODO: Fix log scale\n",
    "# plt.xscale(\"log\")\n",
    "# plt.yscale(\"log\")\n",
    "plt.grid()\n",
    "plt.legend()\n",
    "\n",
    "plt.tight_layout()\n",
    "plt.show()\n",
    "    \n",
    "    "
   ]
  },
  {
   "cell_type": "code",
   "execution_count": null,
   "metadata": {},
   "outputs": [],
   "source": [
    "!cat logs/EMTCosim.log"
   ]
  },
  {
   "cell_type": "markdown",
   "metadata": {},
   "source": []
  }
 ],
 "metadata": {
  "interpreter": {
   "hash": "e7370f93d1d0cde622a1f8e1c04877d8463912d04d973331ad4851f04de6915a"
  },
  "kernelspec": {
   "display_name": "Python 3 (ipykernel)",
   "language": "python",
   "name": "python3"
  },
  "language_info": {
   "codemirror_mode": {
    "name": "ipython",
    "version": 3
   },
   "file_extension": ".py",
   "mimetype": "text/x-python",
   "name": "python",
   "nbconvert_exporter": "python",
   "pygments_lexer": "ipython3",
   "version": "3.10.11"
  }
 },
 "nbformat": 4,
 "nbformat_minor": 4
}
