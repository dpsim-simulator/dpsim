{
 "cells": [
  {
   "attachments": {},
   "cell_type": "markdown",
   "metadata": {},
   "source": [
    "Weakly coupled Co-simulation\n",
    "================\n",
    "\n",
    "This guides shows how to implement a simplified weakly-coupled co-simulation in DPsim\n",
    "\n",
    "Test circuit\n",
    "--------------------\n",
    "\n",
    "As a first simple, test we will simulate a small static network. The network consists of 4 nodes and 4 elements:\n",
    "\n",
    "| Component | Type              | Python Class                              | Node A | Node B | Paramter |\n",
    "| :---------| :----             | :---------------------------------------- | :----- | :----- | :------- |\n",
    "| r_1       | Source resistance | `dpsimpy.dp.ph1.Resistor`                 | 0      | GND    | 0.1 Ohm  |\n",
    "| c_1       | Line capacitance  | `dpsimpy.dp.ph1.Capacitor`                | 0      | GND    | 1 Farad  |\n",
    "| c_2       | Line capacitance  | `dpsimpy.dp.ph1.Capacitor`                | 1      | GND    | 1 Farad  |\n",
    "| r_line    | Line resistance   | `dpsimpy.dp.ph1.Resistor`                 | 1      | 0      | 0.1 Ohm  |\n",
    "| r_load    | Load              | `dpsimpy.dp.ph1.Resistor`                 | 1      | GND    | 1 Ohm    |"
   ]
  },
  {
   "cell_type": "markdown",
   "metadata": {},
   "source": [
    "Before we can start, we must import the DPsim Python module.\n",
    "We also add `dp` as an alias for the dynamic phasor components."
   ]
  },
  {
   "cell_type": "code",
   "execution_count": null,
   "metadata": {},
   "outputs": [],
   "source": [
    "import dpsimpy"
   ]
  },
  {
   "cell_type": "markdown",
   "metadata": {},
   "source": [
    "Next, we can define the model by creating a couple of components.\n",
    "Each component is identified by a name which is passed as the first argument.\n",
    "Following arguments are used to define the topology by assigning the component to a specific node / bus or to pass parameters."
   ]
  },
  {
   "cell_type": "code",
   "execution_count": null,
   "metadata": {},
   "outputs": [],
   "source": [
    "# Nodes\n",
    "gnd = dpsimpy.dp.SimNode.gnd\n",
    "n0  = dpsimpy.dp.SimNode(\"n0\")\n",
    "n1  = dpsimpy.dp.SimNode(\"n1\")\n",
    "\n",
    "r_1 = dpsimpy.dp.ph1.Resistor(\"r_1\")\n",
    "r_1.R = 0.1\n",
    "r_line = dpsimpy.dp.ph1.Resistor(\"r_line\")\n",
    "r_line.R = 0.1\n",
    "c_1 = dpsimpy.dp.ph1.Capacitor(\"c_1\")\n",
    "c_1.C = 1\n",
    "c_2 = dpsimpy.dp.ph1.Capacitor(\"c_2\")\n",
    "c_2.C = 1\n",
    "r_load = dpsimpy.dp.ph1.Resistor(\"r_load\")\n",
    "r_load.R = 1\n",
    "\n",
    "# Initial conditions\n",
    "n0.set_initial_voltage(5)\n",
    "n1.set_initial_voltage(2)\n",
    "\n",
    "# Connections \n",
    "r_1.connect([n0, gnd])\n",
    "r_line.connect([n0, n1])\n",
    "c_1.connect([n0, gnd])\n",
    "c_2.connect([n1, gnd])\n",
    "r_load.connect([n1, gnd])"
   ]
  },
  {
   "cell_type": "markdown",
   "metadata": {},
   "source": [
    "Next, we have to create a simulation object:"
   ]
  },
  {
   "cell_type": "code",
   "execution_count": null,
   "metadata": {},
   "outputs": [],
   "source": [
    "sys = dpsimpy.SystemTopology(50, [ n0, n1 ], [ r_1, r_line, c_1, c_2, r_load ])"
   ]
  },
  {
   "cell_type": "markdown",
   "metadata": {},
   "source": [
    "We can also visualize the system topology:"
   ]
  },
  {
   "cell_type": "code",
   "execution_count": null,
   "metadata": {},
   "outputs": [],
   "source": [
    "sys"
   ]
  },
  {
   "cell_type": "markdown",
   "metadata": {},
   "source": [
    "Finally, we can start the simulation and wait for its completion:"
   ]
  },
  {
   "cell_type": "code",
   "execution_count": null,
   "metadata": {},
   "outputs": [],
   "source": [
    "sim = dpsimpy.Simulation(\"WeaklyCoupledCosim\", loglevel=dpsimpy.LogLevel.debug)\n",
    "sim.set_system(sys)\n",
    "sim.set_time_step(1e-3)\n",
    "sim.set_final_time(1.0)\n",
    "\n",
    "log = dpsimpy.Logger(\"WeaklyCoupledCosim\")\n",
    "for i in range(0, len(sys.nodes)):\n",
    "    log.log_attribute(\"v\" + str(i), \"v\", sys.nodes[i])\n",
    "\n",
    "sim.add_logger(log)\n",
    "    \n",
    "sim.run()"
   ]
  },
  {
   "cell_type": "markdown",
   "metadata": {},
   "source": [
    "Results can be analyzed and plotted by the `villas.dataprocessing` package:"
   ]
  },
  {
   "cell_type": "code",
   "execution_count": null,
   "metadata": {},
   "outputs": [],
   "source": [
    "%matplotlib inline\n",
    "%config InlineBackend.figure_format = 'svg'\n",
    "%config InlineBackend.rc = {'font.size': 10, 'figure.figsize': (6.0, 4.0), 'figure.facecolor': 'white', 'savefig.dpi': 72, 'figure.subplot.bottom': 0.125, 'figure.edgecolor': 'white'}\n",
    "\n",
    "import matplotlib.pyplot as plt\n",
    "import villas.dataprocessing.plottools as pt\n",
    "import villas.dataprocessing.readtools as rt\n",
    "import villas.dataprocessing.timeseries as ts\n",
    "\n",
    "results = rt.read_timeseries_dpsim('logs/WeaklyCoupledCosim.csv')\n",
    "\n",
    "results_emt = []\n",
    "for series in results:\n",
    "    results_emt.append(results[series].frequency_shift(freq=50))\n",
    "\n",
    "results_emt = [ results[series].frequency_shift(freq=50) for series in results ]\n",
    "\n",
    "results_strongly_coupled0 = rt.read_timeseries_dpsim('../../logs/WeaklyCoupledCosim0/WeaklyCoupledCosim0.csv')\n",
    "results_strongly_coupled0_emt = [ results[series].frequency_shift(freq=50) for series in results ]\n",
    "\n",
    "for series in results_emt:\n",
    "    pt.plot_timeseries('Results EMT', series)\n",
    "\n",
    "for series in results_strongly_coupled0_emt:\n",
    "    pt.plot_timeseries('Results EMT', series, '--')\n",
    "\n",
    "plt.grid()\n",
    "plt.show()"
   ]
  },
  {
   "cell_type": "code",
   "execution_count": null,
   "metadata": {},
   "outputs": [],
   "source": [
    "!cat logs/Example1_Solver.log"
   ]
  },
  {
   "cell_type": "markdown",
   "metadata": {},
   "source": []
  }
 ],
 "metadata": {
  "interpreter": {
   "hash": "e7370f93d1d0cde622a1f8e1c04877d8463912d04d973331ad4851f04de6915a"
  },
  "kernelspec": {
   "display_name": "Python 3.9.7 64-bit",
   "name": "python3"
  },
  "language_info": {
   "codemirror_mode": {
    "name": "ipython",
    "version": 3
   },
   "file_extension": ".py",
   "mimetype": "text/x-python",
   "name": "python",
   "nbconvert_exporter": "python",
   "pygments_lexer": "ipython3",
   "version": "3.10.11"
  }
 },
 "nbformat": 4,
 "nbformat_minor": 4
}
