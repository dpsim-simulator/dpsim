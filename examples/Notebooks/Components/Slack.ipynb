{
 "cells": [
  {
   "cell_type": "markdown",
   "metadata": {},
   "source": [
    "# Slack Tests"
   ]
  },
  {
   "cell_type": "code",
   "execution_count": null,
   "metadata": {},
   "outputs": [],
   "source": [
    "import villas.dataprocessing.readtools as rt\n",
    "from villas.dataprocessing.timeseries import TimeSeries as ts\n",
    "import matplotlib.pyplot as plt\n",
    "import numpy as np\n",
    "import dpsimpy\n",
    "\n",
    "# %matplotlib widget\n",
    "\n",
    "epsilon = 1e-12"
   ]
  },
  {
   "cell_type": "markdown",
   "metadata": {},
   "source": [
    "## SP Slack with voltage source element"
   ]
  },
  {
   "cell_type": "code",
   "execution_count": null,
   "metadata": {},
   "outputs": [],
   "source": [
    "time_step = 0.00005\n",
    "final_time = 1\n",
    "sim_name = \"SP_Slack_Elements\"\n",
    "dpsimpy.Logger.set_log_dir(\"logs/\" + sim_name)\n",
    "\n",
    "n1 = dpsimpy.sp.SimNode(\"n1\")\n",
    "gnd = dpsimpy.sp.SimNode.gnd\n",
    "\n",
    "vs = dpsimpy.sp.ph1.VoltageSource(\"v_1\")\n",
    "vs.set_parameters(complex(100000, 0))\n",
    "\n",
    "load = dpsimpy.sp.ph1.Resistor(\"R_load\")\n",
    "load.set_parameters(10000)\n",
    "\n",
    "vs.connect([gnd, n1])\n",
    "load.connect([n1, gnd])\n",
    "\n",
    "sys = dpsimpy.SystemTopology(50, [n1], [vs, load])\n",
    "\n",
    "logger = dpsimpy.Logger(sim_name)\n",
    "logger.log_attribute(\"v1\", \"v\", n1)\n",
    "logger.log_attribute(\"i1\", \"i_intf\", vs)\n",
    "\n",
    "sim = dpsimpy.Simulation(sim_name)\n",
    "sim.set_system(sys)\n",
    "sim.set_time_step(time_step)\n",
    "sim.set_final_time(final_time)\n",
    "sim.add_logger(logger)\n",
    "\n",
    "sim.run()"
   ]
  },
  {
   "cell_type": "code",
   "execution_count": null,
   "metadata": {},
   "outputs": [],
   "source": [
    "time_step = 0.00005\n",
    "final_time = 1\n",
    "sim_name = \"SP_Slack_Component\"\n",
    "dpsimpy.Logger.set_log_dir(\"logs/\" + sim_name)\n",
    "\n",
    "n1 = dpsimpy.sp.SimNode(\"n1\")\n",
    "gnd = dpsimpy.sp.SimNode.gnd\n",
    "\n",
    "sl = dpsimpy.sp.ph1.NetworkInjection(\"v_1\")\n",
    "sl.set_parameters(complex(100000, 0))\n",
    "\n",
    "load = dpsimpy.sp.ph1.Resistor(\"R_load\")\n",
    "load.set_parameters(10000)\n",
    "\n",
    "sl.connect([n1])\n",
    "load.connect([n1, gnd])\n",
    "\n",
    "sys = dpsimpy.SystemTopology(50, [n1], [sl, load])\n",
    "\n",
    "logger = dpsimpy.Logger(sim_name)\n",
    "logger.log_attribute(\"v1\", \"v\", n1)\n",
    "logger.log_attribute(\"i1\", \"i_intf\", sl)\n",
    "\n",
    "sim = dpsimpy.Simulation(sim_name)\n",
    "sim.set_system(sys)\n",
    "sim.set_time_step(time_step)\n",
    "sim.set_final_time(final_time)\n",
    "sim.add_logger(logger)\n",
    "\n",
    "sim.run()"
   ]
  },
  {
   "cell_type": "code",
   "execution_count": null,
   "metadata": {},
   "outputs": [],
   "source": [
    "time_step = 0.00005\n",
    "final_time = 1\n",
    "sim_name = \"DP_Slack_Elements\"\n",
    "dpsimpy.Logger.set_log_dir(\"logs/\" + sim_name)\n",
    "\n",
    "n1 = dpsimpy.dp.SimNode(\"n1\")\n",
    "gnd = dpsimpy.dp.SimNode.gnd\n",
    "\n",
    "vs = dpsimpy.dp.ph1.VoltageSource(\"v_1\")\n",
    "vs.set_parameters(complex(100000, 0))\n",
    "\n",
    "load = dpsimpy.dp.ph1.Resistor(\"R_load\")\n",
    "load.set_parameters(10000)\n",
    "\n",
    "vs.connect([gnd, n1])\n",
    "load.connect([n1, gnd])\n",
    "\n",
    "sys = dpsimpy.SystemTopology(50, [n1], [vs, load])\n",
    "\n",
    "logger = dpsimpy.Logger(sim_name)\n",
    "logger.log_attribute(\"v1\", \"v\", n1)\n",
    "logger.log_attribute(\"i1\", \"i_intf\", vs)\n",
    "\n",
    "sim = dpsimpy.Simulation(sim_name)\n",
    "sim.set_system(sys)\n",
    "sim.set_time_step(time_step)\n",
    "sim.set_final_time(final_time)\n",
    "sim.add_logger(logger)\n",
    "\n",
    "sim.run()"
   ]
  },
  {
   "cell_type": "code",
   "execution_count": null,
   "metadata": {},
   "outputs": [],
   "source": [
    "time_step = 0.00005\n",
    "final_time = 1\n",
    "sim_name = \"DP_Slack_Component\"\n",
    "dpsimpy.Logger.set_log_dir(\"logs/\" + sim_name)\n",
    "\n",
    "n1 = dpsimpy.dp.SimNode(\"n1\")\n",
    "gnd = dpsimpy.dp.SimNode.gnd\n",
    "\n",
    "sl = dpsimpy.dp.ph1.NetworkInjection(\"v_1\")\n",
    "sl.set_parameters(complex(100000, 0))\n",
    "\n",
    "load = dpsimpy.dp.ph1.Resistor(\"R_load\")\n",
    "load.set_parameters(10000)\n",
    "\n",
    "sl.connect([n1])\n",
    "load.connect([n1, gnd])\n",
    "\n",
    "sys = dpsimpy.SystemTopology(50, [n1], [sl, load])\n",
    "\n",
    "logger = dpsimpy.Logger(sim_name)\n",
    "logger.log_attribute(\"v1\", \"v\", n1)\n",
    "logger.log_attribute(\"i1\", \"i_intf\", sl)\n",
    "\n",
    "sim = dpsimpy.Simulation(sim_name)\n",
    "sim.set_system(sys)\n",
    "sim.set_time_step(time_step)\n",
    "sim.set_final_time(final_time)\n",
    "sim.add_logger(logger)\n",
    "\n",
    "sim.run()"
   ]
  },
  {
   "cell_type": "code",
   "execution_count": null,
   "metadata": {},
   "outputs": [],
   "source": [
    "time_step = 0.00005\n",
    "final_time = 1\n",
    "sim_name = \"EMT_Slack_Elements\"\n",
    "dpsimpy.Logger.set_log_dir(\"logs/\" + sim_name)\n",
    "\n",
    "n1 = dpsimpy.emt.SimNode(\"n1\", dpsimpy.PhaseType.ABC)\n",
    "gnd = dpsimpy.emt.SimNode.gnd\n",
    "\n",
    "vs = dpsimpy.emt.ph3.VoltageSource(\"vs1\")\n",
    "vs.set_parameters(\n",
    "    dpsimpy.Math.single_phase_variable_to_three_phase(complex(100000, 0)), 50\n",
    ")\n",
    "\n",
    "load = dpsimpy.emt.ph3.Resistor(\"Rload\")\n",
    "load.set_parameters(dpsimpy.Math.single_phase_parameter_to_three_phase(10000))\n",
    "\n",
    "vs.connect([gnd, n1])\n",
    "load.connect([n1, gnd])\n",
    "\n",
    "sys = dpsimpy.SystemTopology(50, [n1], [vs, load])\n",
    "\n",
    "logger = dpsimpy.Logger(sim_name)\n",
    "logger.log_attribute(\"v1\", \"v\", n1)\n",
    "logger.log_attribute(\"i1\", \"i_intf\", vs)\n",
    "\n",
    "sim = dpsimpy.Simulation(sim_name)\n",
    "sim.set_system(sys)\n",
    "sim.set_time_step(time_step)\n",
    "sim.set_final_time(final_time)\n",
    "sim.set_domain(dpsimpy.Domain.EMT)\n",
    "sim.add_logger(logger)\n",
    "\n",
    "sim.run()"
   ]
  },
  {
   "cell_type": "code",
   "execution_count": null,
   "metadata": {},
   "outputs": [],
   "source": [
    "time_step = 0.00005\n",
    "final_time = 1\n",
    "sim_name = \"EMT_Slack_Component\"\n",
    "dpsimpy.Logger.set_log_dir(\"logs/\" + sim_name)\n",
    "\n",
    "n1 = dpsimpy.emt.SimNode(\"n1\", dpsimpy.PhaseType.ABC)\n",
    "gnd = dpsimpy.emt.SimNode.gnd\n",
    "\n",
    "sl = dpsimpy.emt.ph3.NetworkInjection(\"vs1\")\n",
    "sl.set_parameters(\n",
    "    dpsimpy.Math.single_phase_variable_to_three_phase(complex(100000, 0)), 50\n",
    ")\n",
    "\n",
    "load = dpsimpy.emt.ph3.Resistor(\"Rload\")\n",
    "load.set_parameters(dpsimpy.Math.single_phase_parameter_to_three_phase(10000))\n",
    "\n",
    "sl.connect([n1])\n",
    "load.connect([n1, gnd])\n",
    "\n",
    "sys = dpsimpy.SystemTopology(50, [n1], [sl, load])\n",
    "\n",
    "logger = dpsimpy.Logger(sim_name)\n",
    "logger.log_attribute(\"v1\", \"v\", n1)\n",
    "logger.log_attribute(\"i1\", \"i_intf\", sl)\n",
    "\n",
    "sim = dpsimpy.Simulation(sim_name)\n",
    "sim.set_system(sys)\n",
    "sim.set_time_step(time_step)\n",
    "sim.set_final_time(final_time)\n",
    "sim.add_logger(logger)\n",
    "sim.set_domain(dpsimpy.Domain.EMT)\n",
    "\n",
    "sim.run()"
   ]
  },
  {
   "cell_type": "code",
   "execution_count": null,
   "metadata": {},
   "outputs": [],
   "source": [
    "work_dir = \"logs/SP_Slack_Elements/\"\n",
    "log_name = \"SP_Slack_Elements\"\n",
    "print(work_dir + log_name + \".csv\")\n",
    "slack_elements = rt.read_timeseries_dpsim(work_dir + log_name + \".csv\")\n",
    "slack_elements_sp_shifted = ts.frequency_shift_list(slack_elements, 50)"
   ]
  },
  {
   "cell_type": "code",
   "execution_count": null,
   "metadata": {},
   "outputs": [],
   "source": [
    "plt.figure()\n",
    "plt.plot(\n",
    "    slack_elements_sp_shifted[\"v1_shift\"].time,\n",
    "    slack_elements_sp_shifted[\"v1_shift\"].values,\n",
    "    label=\"v1_shift\",\n",
    ")\n",
    "plt.legend()\n",
    "plt.show()"
   ]
  },
  {
   "cell_type": "code",
   "execution_count": null,
   "metadata": {},
   "outputs": [],
   "source": [
    "plt.figure()\n",
    "plt.plot(\n",
    "    slack_elements_sp_shifted[\"i1_shift\"].time,\n",
    "    slack_elements_sp_shifted[\"i1_shift\"].values,\n",
    "    label=\"i1_shift\",\n",
    ")\n",
    "plt.legend()\n",
    "plt.show()"
   ]
  },
  {
   "cell_type": "markdown",
   "metadata": {},
   "source": [
    "## SP Slack composite model"
   ]
  },
  {
   "cell_type": "code",
   "execution_count": null,
   "metadata": {},
   "outputs": [],
   "source": [
    "work_dir = \"logs/SP_Slack_Component/\"\n",
    "log_name = \"SP_Slack_Component\"\n",
    "print(work_dir + log_name + \".csv\")\n",
    "slack_component = rt.read_timeseries_dpsim(work_dir + log_name + \".csv\")\n",
    "slack_component_sp_shifted = ts.frequency_shift_list(slack_component, 50)"
   ]
  },
  {
   "cell_type": "code",
   "execution_count": null,
   "metadata": {},
   "outputs": [],
   "source": [
    "plt.figure()\n",
    "plt.plot(\n",
    "    slack_component_sp_shifted[\"v1_shift\"].time,\n",
    "    slack_component_sp_shifted[\"v1_shift\"].values,\n",
    "    label=\"v1_shift\",\n",
    ")\n",
    "plt.legend()\n",
    "plt.show()"
   ]
  },
  {
   "cell_type": "code",
   "execution_count": null,
   "metadata": {},
   "outputs": [],
   "source": [
    "plt.figure()\n",
    "plt.plot(\n",
    "    slack_component_sp_shifted[\"i1_shift\"].time,\n",
    "    slack_component_sp_shifted[\"i1_shift\"].values,\n",
    "    label=\"i1_shift\",\n",
    ")\n",
    "plt.legend()\n",
    "plt.show()"
   ]
  },
  {
   "cell_type": "markdown",
   "metadata": {},
   "source": [
    "## Error for SP Slack"
   ]
  },
  {
   "cell_type": "code",
   "execution_count": null,
   "metadata": {},
   "outputs": [],
   "source": [
    "plt.figure()\n",
    "plt.plot(\n",
    "    slack_component_sp_shifted[\"v1_shift\"].time,\n",
    "    slack_elements_sp_shifted[\"v1_shift\"].values\n",
    "    - slack_component_sp_shifted[\"v1_shift\"].values,\n",
    "    label=\"v1_shift_error\",\n",
    ")\n",
    "plt.legend()\n",
    "plt.show()"
   ]
  },
  {
   "cell_type": "code",
   "execution_count": null,
   "metadata": {},
   "outputs": [],
   "source": [
    "plt.figure()\n",
    "plt.plot(\n",
    "    slack_component_sp_shifted[\"i1_shift\"].time,\n",
    "    slack_elements_sp_shifted[\"i1_shift\"].values\n",
    "    - slack_component_sp_shifted[\"i1_shift\"].values,\n",
    "    label=\"i1_shift_error\",\n",
    ")\n",
    "plt.legend()\n",
    "plt.show()"
   ]
  },
  {
   "cell_type": "markdown",
   "metadata": {},
   "source": [
    "## Assertion for SP Slack"
   ]
  },
  {
   "cell_type": "code",
   "execution_count": null,
   "metadata": {},
   "outputs": [],
   "source": [
    "errors_sp_shifted = []\n",
    "for name in [\"v1_shift\", \"i1_shift\"]:\n",
    "    errors_sp_shifted.append(\n",
    "        np.absolute(\n",
    "            slack_elements_sp_shifted[name].values\n",
    "            - slack_component_sp_shifted[name].values\n",
    "        ).max()\n",
    "    )\n",
    "    print(name + \": \" + str(errors_sp_shifted[-1]))\n",
    "assert np.max(errors_sp_shifted) < epsilon"
   ]
  },
  {
   "cell_type": "markdown",
   "metadata": {},
   "source": [
    "## DP Slack with voltage source element"
   ]
  },
  {
   "cell_type": "code",
   "execution_count": null,
   "metadata": {},
   "outputs": [],
   "source": [
    "work_dir = \"logs/DP_Slack_Elements/\"\n",
    "log_name = \"DP_Slack_Elements\"\n",
    "print(work_dir + log_name + \".csv\")\n",
    "slack_elements = rt.read_timeseries_dpsim(work_dir + log_name + \".csv\")\n",
    "slack_elements_dp_shifted = ts.frequency_shift_list(slack_elements, 50)"
   ]
  },
  {
   "cell_type": "code",
   "execution_count": null,
   "metadata": {},
   "outputs": [],
   "source": [
    "plt.figure()\n",
    "plt.plot(\n",
    "    slack_elements_dp_shifted[\"v1_shift\"].time,\n",
    "    slack_elements_dp_shifted[\"v1_shift\"].values,\n",
    "    label=\"v1_shift\",\n",
    ")\n",
    "plt.legend()\n",
    "plt.show()"
   ]
  },
  {
   "cell_type": "code",
   "execution_count": null,
   "metadata": {},
   "outputs": [],
   "source": [
    "plt.figure()\n",
    "plt.plot(\n",
    "    slack_elements_dp_shifted[\"i1_shift\"].time,\n",
    "    slack_elements_dp_shifted[\"i1_shift\"].values,\n",
    "    label=\"i1_shift\",\n",
    ")\n",
    "plt.legend()\n",
    "plt.show()"
   ]
  },
  {
   "cell_type": "markdown",
   "metadata": {},
   "source": [
    "## DP Slack composite model"
   ]
  },
  {
   "cell_type": "code",
   "execution_count": null,
   "metadata": {},
   "outputs": [],
   "source": [
    "work_dir = \"logs/DP_Slack_Component/\"\n",
    "log_name = \"DP_Slack_Component\"\n",
    "print(work_dir + log_name + \".csv\")\n",
    "slack_component = rt.read_timeseries_dpsim(work_dir + log_name + \".csv\")\n",
    "slack_component_dp_shifted = ts.frequency_shift_list(slack_component, 50)"
   ]
  },
  {
   "cell_type": "code",
   "execution_count": null,
   "metadata": {},
   "outputs": [],
   "source": [
    "plt.figure()\n",
    "plt.plot(\n",
    "    slack_component_dp_shifted[\"v1_shift\"].time,\n",
    "    slack_component_dp_shifted[\"v1_shift\"].values,\n",
    "    label=\"v1_shift\",\n",
    ")\n",
    "plt.legend()\n",
    "plt.show()"
   ]
  },
  {
   "cell_type": "code",
   "execution_count": null,
   "metadata": {},
   "outputs": [],
   "source": [
    "plt.figure()\n",
    "plt.plot(\n",
    "    slack_component_dp_shifted[\"i1_shift\"].time,\n",
    "    slack_component_dp_shifted[\"i1_shift\"].values,\n",
    "    label=\"i1_shift\",\n",
    ")\n",
    "plt.legend()\n",
    "plt.show()"
   ]
  },
  {
   "cell_type": "markdown",
   "metadata": {},
   "source": [
    "## Error for DP Slack"
   ]
  },
  {
   "cell_type": "code",
   "execution_count": null,
   "metadata": {},
   "outputs": [],
   "source": [
    "plt.figure()\n",
    "plt.plot(\n",
    "    slack_elements_dp_shifted[\"v1_shift\"].time,\n",
    "    slack_elements_dp_shifted[\"v1_shift\"].values\n",
    "    - slack_component_dp_shifted[\"v1_shift\"].values,\n",
    "    label=\"v1_shift_error\",\n",
    ")\n",
    "plt.legend()\n",
    "plt.show()"
   ]
  },
  {
   "cell_type": "code",
   "execution_count": null,
   "metadata": {},
   "outputs": [],
   "source": [
    "plt.figure()\n",
    "plt.plot(\n",
    "    slack_elements_dp_shifted[\"i1_shift\"].time,\n",
    "    slack_elements_dp_shifted[\"i1_shift\"].values\n",
    "    - slack_component_dp_shifted[\"i1_shift\"].values,\n",
    "    label=\"i1_shift_error\",\n",
    ")\n",
    "plt.legend()\n",
    "plt.show()"
   ]
  },
  {
   "cell_type": "markdown",
   "metadata": {},
   "source": [
    "## Assertion for DP Slack"
   ]
  },
  {
   "cell_type": "code",
   "execution_count": null,
   "metadata": {},
   "outputs": [],
   "source": [
    "errors_dp_shifted = []\n",
    "for name in [\"v1_shift\", \"i1_shift\"]:\n",
    "    errors_dp_shifted.append(\n",
    "        np.absolute(\n",
    "            slack_elements_dp_shifted[name].values\n",
    "            - slack_component_dp_shifted[name].values\n",
    "        ).max()\n",
    "    )\n",
    "    print(name + \": \" + str(errors_dp_shifted[-1]))\n",
    "assert np.max(errors_dp_shifted) < 1e-3"
   ]
  },
  {
   "cell_type": "markdown",
   "metadata": {},
   "source": [
    "## EMT Slack with voltage source element"
   ]
  },
  {
   "cell_type": "code",
   "execution_count": null,
   "metadata": {},
   "outputs": [],
   "source": [
    "work_dir = \"logs/EMT_Slack_Elements/\"\n",
    "log_name = \"EMT_Slack_Elements\"\n",
    "print(work_dir + log_name + \".csv\")\n",
    "slack_elements_emt = rt.read_timeseries_dpsim(work_dir + log_name + \".csv\")"
   ]
  },
  {
   "cell_type": "code",
   "execution_count": null,
   "metadata": {},
   "outputs": [],
   "source": [
    "plt.figure()\n",
    "plt.plot(\n",
    "    slack_elements_emt[\"v1_0\"].time, slack_elements_emt[\"v1_0\"].values, label=\"v1_0\"\n",
    ")\n",
    "plt.plot(\n",
    "    slack_elements_emt[\"v1_1\"].time, slack_elements_emt[\"v1_1\"].values, label=\"v1_1\"\n",
    ")\n",
    "plt.plot(\n",
    "    slack_elements_emt[\"v1_2\"].time, slack_elements_emt[\"v1_2\"].values, label=\"v1_2\"\n",
    ")\n",
    "plt.legend()\n",
    "plt.show()"
   ]
  },
  {
   "cell_type": "code",
   "execution_count": null,
   "metadata": {},
   "outputs": [],
   "source": [
    "plt.figure()\n",
    "plt.plot(\n",
    "    slack_elements_emt[\"i1_0\"].time, slack_elements_emt[\"i1_0\"].values, label=\"i1_0\"\n",
    ")\n",
    "plt.plot(\n",
    "    slack_elements_emt[\"i1_1\"].time, slack_elements_emt[\"i1_1\"].values, label=\"i1_1\"\n",
    ")\n",
    "plt.plot(\n",
    "    slack_elements_emt[\"i1_2\"].time, slack_elements_emt[\"i1_2\"].values, label=\"i1_2\"\n",
    ")\n",
    "plt.legend()\n",
    "plt.show()"
   ]
  },
  {
   "cell_type": "markdown",
   "metadata": {},
   "source": [
    "## EMT Slack composite model"
   ]
  },
  {
   "cell_type": "code",
   "execution_count": null,
   "metadata": {},
   "outputs": [],
   "source": [
    "work_dir = \"logs/EMT_Slack_Component/\"\n",
    "log_name = \"EMT_Slack_Component\"\n",
    "print(work_dir + log_name + \".csv\")\n",
    "slack_component_emt = rt.read_timeseries_dpsim(work_dir + log_name + \".csv\")"
   ]
  },
  {
   "cell_type": "code",
   "execution_count": null,
   "metadata": {},
   "outputs": [],
   "source": [
    "plt.figure()\n",
    "plt.plot(\n",
    "    slack_component_emt[\"v1_0\"].time, slack_component_emt[\"v1_0\"].values, label=\"v1_0\"\n",
    ")\n",
    "plt.plot(\n",
    "    slack_component_emt[\"v1_1\"].time, slack_component_emt[\"v1_1\"].values, label=\"v1_1\"\n",
    ")\n",
    "plt.plot(\n",
    "    slack_component_emt[\"v1_2\"].time, slack_component_emt[\"v1_2\"].values, label=\"v1_2\"\n",
    ")\n",
    "plt.legend()\n",
    "plt.show()"
   ]
  },
  {
   "cell_type": "code",
   "execution_count": null,
   "metadata": {},
   "outputs": [],
   "source": [
    "plt.figure()\n",
    "plt.plot(\n",
    "    slack_component_emt[\"i1_0\"].time, slack_component_emt[\"i1_0\"].values, label=\"i1_0\"\n",
    ")\n",
    "plt.plot(\n",
    "    slack_component_emt[\"i1_1\"].time, slack_component_emt[\"i1_1\"].values, label=\"i1_1\"\n",
    ")\n",
    "plt.plot(\n",
    "    slack_component_emt[\"i1_2\"].time, slack_component_emt[\"i1_2\"].values, label=\"i1_2\"\n",
    ")\n",
    "plt.legend()\n",
    "plt.show()"
   ]
  },
  {
   "cell_type": "markdown",
   "metadata": {},
   "source": [
    "## Error for EMT Slack"
   ]
  },
  {
   "cell_type": "code",
   "execution_count": null,
   "metadata": {},
   "outputs": [],
   "source": [
    "plt.figure()\n",
    "plt.plot(\n",
    "    slack_elements_emt[\"v1_0\"].time,\n",
    "    slack_elements_emt[\"v1_0\"].values - slack_component_emt[\"v1_0\"].values,\n",
    "    label=\"v1_0_error\",\n",
    ")\n",
    "plt.plot(\n",
    "    slack_elements_emt[\"v1_1\"].time,\n",
    "    slack_elements_emt[\"v1_1\"].values - slack_component_emt[\"v1_1\"].values,\n",
    "    label=\"v1_1_error\",\n",
    ")\n",
    "plt.plot(\n",
    "    slack_elements_emt[\"v1_2\"].time,\n",
    "    slack_elements_emt[\"v1_2\"].values - slack_component_emt[\"v1_2\"].values,\n",
    "    label=\"v1_2_error\",\n",
    ")\n",
    "plt.legend()\n",
    "plt.show()"
   ]
  },
  {
   "cell_type": "code",
   "execution_count": null,
   "metadata": {},
   "outputs": [],
   "source": [
    "plt.figure()\n",
    "plt.plot(\n",
    "    slack_elements_emt[\"i1_0\"].time,\n",
    "    slack_elements_emt[\"i1_0\"].values - slack_component_emt[\"i1_0\"].values,\n",
    "    label=\"i1_0_error\",\n",
    ")\n",
    "plt.plot(\n",
    "    slack_elements_emt[\"i1_1\"].time,\n",
    "    slack_elements_emt[\"i1_1\"].values - slack_component_emt[\"i1_1\"].values,\n",
    "    label=\"i1_1_error\",\n",
    ")\n",
    "plt.plot(\n",
    "    slack_elements_emt[\"i1_2\"].time,\n",
    "    slack_elements_emt[\"i1_2\"].values - slack_component_emt[\"i1_2\"].values,\n",
    "    label=\"i1_2_error\",\n",
    ")\n",
    "plt.legend()\n",
    "plt.show()"
   ]
  },
  {
   "cell_type": "markdown",
   "metadata": {},
   "source": [
    "## Assertion for EMT Slack"
   ]
  },
  {
   "cell_type": "code",
   "execution_count": null,
   "metadata": {},
   "outputs": [],
   "source": [
    "errors_emt = []\n",
    "for name in [\"v1_0\", \"v1_1\", \"v1_2\", \"i1_0\", \"i1_1\", \"i1_2\"]:\n",
    "    errors_emt.append(\n",
    "        np.absolute(\n",
    "            slack_elements_emt[name].values - slack_component_emt[name].values\n",
    "        ).max()\n",
    "    )\n",
    "    print(name + \": \" + str(errors_emt[-1]))\n",
    "assert np.max(errors_emt) < 1e-3"
   ]
  },
  {
   "cell_type": "markdown",
   "metadata": {},
   "source": [
    "### Comparison SP vs. DP"
   ]
  },
  {
   "cell_type": "code",
   "execution_count": null,
   "metadata": {},
   "outputs": [],
   "source": [
    "plt.figure()\n",
    "for name in [(\"v1_shift\", \"v1_shift\")]:\n",
    "    plt.plot(\n",
    "        slack_component_sp_shifted[name[0]].time,\n",
    "        slack_component_sp_shifted[name[0]].values\n",
    "        - slack_component_dp_shifted[name[1]].values,\n",
    "        label=name[0] + \" (SP) vs. \" + name[1] + \" (DP)\",\n",
    "    )\n",
    "plt.legend()\n",
    "plt.show()"
   ]
  },
  {
   "cell_type": "code",
   "execution_count": null,
   "metadata": {},
   "outputs": [],
   "source": [
    "plt.figure()\n",
    "for name in [(\"i1_shift\", \"i1_shift\")]:\n",
    "    plt.plot(\n",
    "        slack_component_sp_shifted[name[0]].time,\n",
    "        slack_component_sp_shifted[name[0]].values\n",
    "        - slack_component_dp_shifted[name[1]].values,\n",
    "        label=name[0] + \" (SP) vs. \" + name[1] + \" (DP)\",\n",
    "    )\n",
    "plt.legend()\n",
    "plt.show()"
   ]
  },
  {
   "cell_type": "markdown",
   "metadata": {},
   "source": [
    "### Assertion SP vs. DP"
   ]
  },
  {
   "cell_type": "code",
   "execution_count": null,
   "metadata": {},
   "outputs": [],
   "source": [
    "compare_errors_abs = []\n",
    "compare_errors_rel = []\n",
    "for name in [(\"v1_shift\", \"v1_shift\"), (\"i1_shift\", \"i1_shift\")]:\n",
    "    compare_errors_abs.append(\n",
    "        np.absolute(\n",
    "            slack_component_sp_shifted[name[0]].values\n",
    "            - slack_component_dp_shifted[name[1]].values\n",
    "        ).max()\n",
    "    )\n",
    "    compare_errors_rel.append(\n",
    "        np.absolute(\n",
    "            slack_component_sp_shifted[name[0]].values\n",
    "            - slack_component_dp_shifted[name[1]].values\n",
    "        ).max()\n",
    "        / slack_component_dp_shifted[name[1]].values.max()\n",
    "    )\n",
    "    print(name[0] + \" vs. \" + name[1] + \" (abs): \" + str(compare_errors_abs[-1]))\n",
    "    print(name[0] + \" vs. \" + name[1] + \" (rel): \" + str(compare_errors_rel[-1]))\n",
    "print(\"Max rel error: \" + \"{:.2}\".format(np.max(compare_errors_rel) * 100) + \"%\")\n",
    "assert np.max(compare_errors_rel) < epsilon"
   ]
  },
  {
   "cell_type": "markdown",
   "metadata": {},
   "source": [
    "### Comparison DP vs. EMT"
   ]
  },
  {
   "cell_type": "code",
   "execution_count": null,
   "metadata": {},
   "outputs": [],
   "source": [
    "plt.figure()\n",
    "for name in [(\"v1_0\", \"v1_shift\")]:\n",
    "    plt.plot(\n",
    "        slack_component_emt[name[0]].time,\n",
    "        np.sqrt(3 / 2) * slack_component_emt[name[0]].values\n",
    "        - slack_component_dp_shifted[name[1]].values,\n",
    "        label=name[0] + \" vs. \" + name[1],\n",
    "    )\n",
    "plt.legend()\n",
    "plt.show()"
   ]
  },
  {
   "cell_type": "code",
   "execution_count": null,
   "metadata": {},
   "outputs": [],
   "source": [
    "plt.figure()\n",
    "for name in [(\"i1_0\", \"i1_shift\")]:\n",
    "    plt.plot(\n",
    "        slack_component_emt[name[0]].time,\n",
    "        np.sqrt(3 / 2) * slack_component_emt[name[0]].values\n",
    "        - slack_component_dp_shifted[name[1]].values,\n",
    "        label=name[0] + \" vs. \" + name[1],\n",
    "    )\n",
    "plt.legend()\n",
    "plt.show()"
   ]
  },
  {
   "cell_type": "markdown",
   "metadata": {},
   "source": [
    "### Assertion DP vs. EMT"
   ]
  },
  {
   "cell_type": "code",
   "execution_count": null,
   "metadata": {},
   "outputs": [],
   "source": [
    "compare_errors_abs = []\n",
    "compare_errors_rel = []\n",
    "for name in [(\"v1_0\", \"v1_shift\"), (\"i1_0\", \"i1_shift\")]:\n",
    "    compare_errors_abs.append(\n",
    "        np.absolute(\n",
    "            np.sqrt(3 / 2) * slack_component_emt[name[0]].values\n",
    "            - slack_component_dp_shifted[name[1]].values\n",
    "        ).max()\n",
    "    )\n",
    "    compare_errors_rel.append(\n",
    "        np.absolute(\n",
    "            np.sqrt(3 / 2) * slack_component_emt[name[0]].values\n",
    "            - slack_component_dp_shifted[name[1]].values\n",
    "        ).max()\n",
    "        / slack_component_dp_shifted[name[1]].values.max()\n",
    "    )\n",
    "    print(name[0] + \" vs. \" + name[1] + \" (abs): \" + str(compare_errors_abs[-1]))\n",
    "    print(name[0] + \" vs. \" + name[1] + \" (rel): \" + str(compare_errors_rel[-1]))\n",
    "print(\"Max rel error: \" + \"{:.2}\".format(np.max(compare_errors_rel) * 100) + \"%\")\n",
    "assert np.max(compare_errors_rel) < 1e-3"
   ]
  }
 ],
 "metadata": {
  "kernelspec": {
   "display_name": "Python 3",
   "language": "python",
   "name": "python3"
  },
  "language_info": {
   "codemirror_mode": {
    "name": "ipython",
    "version": 3
   },
   "file_extension": ".py",
   "mimetype": "text/x-python",
   "name": "python",
   "nbconvert_exporter": "python",
   "pygments_lexer": "ipython3",
   "version": "3.8.7"
  },
  "orig_nbformat": 3
 },
 "nbformat": 4,
 "nbformat_minor": 4
}
