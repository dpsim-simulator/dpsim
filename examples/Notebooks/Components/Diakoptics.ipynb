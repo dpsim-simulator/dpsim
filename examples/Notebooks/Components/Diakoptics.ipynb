{
 "cells": [
  {
   "cell_type": "markdown",
   "metadata": {},
   "source": [
    "# Diakoptics Tests"
   ]
  },
  {
   "cell_type": "code",
   "execution_count": null,
   "metadata": {},
   "outputs": [],
   "source": [
    "import villas.dataprocessing.readtools as rt\n",
    "from villas.dataprocessing.timeseries import TimeSeries as ts\n",
    "import matplotlib.pyplot as plt\n",
    "import dpsimpy"
   ]
  },
  {
   "cell_type": "markdown",
   "metadata": {},
   "source": [
    "## R-decoupling"
   ]
  },
  {
   "cell_type": "markdown",
   "metadata": {},
   "source": [
    "## DP_VS_CS_R4"
   ]
  },
  {
   "cell_type": "code",
   "execution_count": null,
   "metadata": {},
   "outputs": [],
   "source": [
    "time_step = 0.0001\n",
    "final_time = 0.1\n",
    "sim_name = \"DP_VS_CS_R4\"\n",
    "dpsimpy.Logger.set_log_dir(\"logs/\" + sim_name)\n",
    "\n",
    "n1 = dpsimpy.dp.SimNode(\"n1\")\n",
    "n2 = dpsimpy.dp.SimNode(\"n2\")\n",
    "n3 = dpsimpy.dp.SimNode(\"n3\")\n",
    "\n",
    "vs = dpsimpy.dp.ph1.VoltageSource(\"vs\")\n",
    "vs.set_parameters(10)\n",
    "r1 = dpsimpy.dp.ph1.Resistor(\"r_1\")\n",
    "r1.set_parameters(1)\n",
    "r2 = dpsimpy.dp.ph1.Resistor(\"r_2\", dpsimpy.LogLevel.debug)\n",
    "r2.set_parameters(1)\n",
    "r3 = dpsimpy.dp.ph1.Resistor(\"r_3\")\n",
    "r3.set_parameters(10)\n",
    "r4 = dpsimpy.dp.ph1.Resistor(\"r_4\")\n",
    "r4.set_parameters(5)\n",
    "cs = dpsimpy.dp.ph1.CurrentSource(\"cs\")\n",
    "cs.set_parameters(1)\n",
    "\n",
    "vs.connect([dpsimpy.dp.SimNode.gnd, n1])\n",
    "r1.connect([n1, n2])\n",
    "r2.connect([n2, dpsimpy.dp.SimNode.gnd])\n",
    "r3.connect([n2, n3])\n",
    "r4.connect([n3, dpsimpy.dp.SimNode.gnd])\n",
    "cs.connect([dpsimpy.dp.SimNode.gnd, n3])\n",
    "\n",
    "sys = dpsimpy.SystemTopology(50, [n1, n2, n3], [vs, r1, r2, r3, r4, cs])\n",
    "\n",
    "logger = dpsimpy.Logger(sim_name)\n",
    "logger.log_attribute(\"v1\", \"v\", n1)\n",
    "logger.log_attribute(\"v2\", \"v\", n2)\n",
    "logger.log_attribute(\"v3\", \"v\", n3)\n",
    "logger.log_attribute(\"i12\", \"i_intf\", r1)\n",
    "logger.log_attribute(\"i23\", \"i_intf\", r3)\n",
    "\n",
    "sim = dpsimpy.Simulation(sim_name)\n",
    "sim.set_system(sys)\n",
    "sim.set_time_step(time_step)\n",
    "sim.set_final_time(final_time)\n",
    "sim.add_logger(logger)\n",
    "\n",
    "sim.run()"
   ]
  },
  {
   "cell_type": "markdown",
   "metadata": {},
   "source": [
    "## DP_VS_CS_R4_Dikoptics"
   ]
  },
  {
   "cell_type": "code",
   "execution_count": null,
   "metadata": {},
   "outputs": [],
   "source": [
    "time_step = 0.0001\n",
    "final_time = 0.1\n",
    "sim_name = \"DP_VS_CS_R4_Diakoptics\"\n",
    "dpsimpy.Logger.set_log_dir(\"logs/\" + sim_name)\n",
    "\n",
    "n1 = dpsimpy.dp.SimNode(\"n1\")\n",
    "n2 = dpsimpy.dp.SimNode(\"n2\")\n",
    "n3 = dpsimpy.dp.SimNode(\"n3\")\n",
    "\n",
    "vs = dpsimpy.dp.ph1.VoltageSource(\"vs\")\n",
    "vs.set_parameters(10)\n",
    "r1 = dpsimpy.dp.ph1.Resistor(\"r_1\")\n",
    "r1.set_parameters(1)\n",
    "r2 = dpsimpy.dp.ph1.Resistor(\"r_2\", dpsimpy.LogLevel.debug)\n",
    "r2.set_parameters(1)\n",
    "r3 = dpsimpy.dp.ph1.Resistor(\"r_3\")\n",
    "r3.set_parameters(10)\n",
    "r4 = dpsimpy.dp.ph1.Resistor(\"r_4\")\n",
    "r4.set_parameters(5)\n",
    "cs = dpsimpy.dp.ph1.CurrentSource(\"cs\")\n",
    "cs.set_parameters(1)\n",
    "\n",
    "vs.connect([dpsimpy.dp.SimNode.gnd, n1])\n",
    "r1.connect([n1, n2])\n",
    "r2.connect([n2, dpsimpy.dp.SimNode.gnd])\n",
    "r3.connect([n2, n3])\n",
    "r4.connect([n3, dpsimpy.dp.SimNode.gnd])\n",
    "cs.connect([dpsimpy.dp.SimNode.gnd, n3])\n",
    "\n",
    "sys = dpsimpy.SystemTopology(50, [n1, n2, n3], [vs, r1, r2, r4, cs])\n",
    "sys.add_tear_component(r3)\n",
    "\n",
    "logger = dpsimpy.Logger(sim_name)\n",
    "logger.log_attribute(\"v1\", \"v\", n1)\n",
    "logger.log_attribute(\"v2\", \"v\", n2)\n",
    "logger.log_attribute(\"v3\", \"v\", n3)\n",
    "logger.log_attribute(\"i12\", \"i_intf\", r1)\n",
    "logger.log_attribute(\"i23\", \"i_intf\", r3)\n",
    "\n",
    "sim = dpsimpy.Simulation(sim_name)\n",
    "sim.set_system(sys)\n",
    "sim.set_tearing_components(sys.tear_components)\n",
    "sim.set_time_step(time_step)\n",
    "sim.set_final_time(final_time)\n",
    "sim.add_logger(logger)\n",
    "\n",
    "sim.run()"
   ]
  },
  {
   "cell_type": "code",
   "execution_count": null,
   "metadata": {},
   "outputs": [],
   "source": [
    "work_dir = \"logs/DP_VS_CS_R4_Diakoptics/\"\n",
    "log_name = \"DP_VS_CS_R4_Diakoptics\"\n",
    "print(work_dir + log_name + \".csv\")\n",
    "diakoptic_r_decoup = rt.read_timeseries_dpsim(work_dir + log_name + \".csv\")\n",
    "diakoptic_r_decoup_emt = ts.frequency_shift_list(diakoptic_r_decoup, 50)"
   ]
  },
  {
   "cell_type": "code",
   "execution_count": null,
   "metadata": {},
   "outputs": [],
   "source": [
    "plt.plot(\n",
    "    diakoptic_r_decoup_emt[\"v1_shift\"].time, diakoptic_r_decoup_emt[\"v1_shift\"].values\n",
    ")\n",
    "plt.plot(\n",
    "    diakoptic_r_decoup_emt[\"v2_shift\"].time, diakoptic_r_decoup_emt[\"v2_shift\"].values\n",
    ")\n",
    "# plt.xlim([0,0.02])\n",
    "plt.show()"
   ]
  },
  {
   "cell_type": "code",
   "execution_count": null,
   "metadata": {},
   "outputs": [],
   "source": [
    "work_dir = \"logs/DP_VS_CS_R4/\"\n",
    "log_name = \"DP_VS_CS_R4\"\n",
    "print(work_dir + log_name + \".csv\")\n",
    "diakoptic_ref = rt.read_timeseries_dpsim(work_dir + log_name + \".csv\")\n",
    "diakoptic_ref_emt = ts.frequency_shift_list(diakoptic_ref, 50)"
   ]
  },
  {
   "cell_type": "code",
   "execution_count": null,
   "metadata": {},
   "outputs": [],
   "source": [
    "plt.plot(diakoptic_ref_emt[\"v1_shift\"].time, diakoptic_ref_emt[\"v1_shift\"].values)\n",
    "plt.plot(diakoptic_ref_emt[\"v2_shift\"].time, diakoptic_ref_emt[\"v2_shift\"].values)\n",
    "# plt.xlim([0,0.02])\n",
    "plt.show()"
   ]
  },
  {
   "cell_type": "markdown",
   "metadata": {},
   "source": [
    "## DP_VS_R2L3"
   ]
  },
  {
   "cell_type": "code",
   "execution_count": null,
   "metadata": {},
   "outputs": [],
   "source": [
    "time_step = 0.0001\n",
    "final_time = 0.1\n",
    "sim_name = \"DP_VS_R2L3\"\n",
    "dpsimpy.Logger.set_log_dir(\"logs/\" + sim_name)\n",
    "\n",
    "n1 = dpsimpy.dp.SimNode(\"n1\")\n",
    "n2 = dpsimpy.dp.SimNode(\"n2\")\n",
    "n3 = dpsimpy.dp.SimNode(\"n3\")\n",
    "n4 = dpsimpy.dp.SimNode(\"n4\")\n",
    "\n",
    "vs = dpsimpy.dp.ph1.VoltageSource(\"vs\")\n",
    "vs.set_parameters(10)\n",
    "r1 = dpsimpy.dp.ph1.Resistor(\"r_1\")\n",
    "r1.set_parameters(1)\n",
    "l1 = dpsimpy.dp.ph1.Inductor(\"l_1\")\n",
    "l1.set_parameters(0.02)\n",
    "l2 = dpsimpy.dp.ph1.Inductor(\"l_2\")\n",
    "l2.set_parameters(0.1)\n",
    "l3 = dpsimpy.dp.ph1.Inductor(\"l_3\")\n",
    "l3.set_parameters(0.05)\n",
    "r2 = dpsimpy.dp.ph1.Resistor(\"r_2\")\n",
    "r2.set_parameters(2)\n",
    "\n",
    "vs.connect([dpsimpy.dp.SimNode.gnd, n1])\n",
    "r1.connect([n1, n2])\n",
    "l1.connect([n2, n3])\n",
    "l2.connect([n3, dpsimpy.dp.SimNode.gnd])\n",
    "l3.connect([n3, n4])\n",
    "r2.connect([n4, dpsimpy.dp.SimNode.gnd])\n",
    "\n",
    "sys = dpsimpy.SystemTopology(50, [n1, n2, n3, n4], [vs, r1, l1, l2, l3, r2])\n",
    "\n",
    "logger = dpsimpy.Logger(sim_name)\n",
    "logger.log_attribute(\"v1\", \"v\", n1)\n",
    "logger.log_attribute(\"v2\", \"v\", n2)\n",
    "logger.log_attribute(\"v3\", \"v\", n3)\n",
    "logger.log_attribute(\"v4\", \"v\", n4)\n",
    "logger.log_attribute(\"i12\", \"i_intf\", r1)\n",
    "logger.log_attribute(\"i34\", \"i_intf\", l3)\n",
    "\n",
    "sim = dpsimpy.Simulation(sim_name)\n",
    "sim.set_system(sys)\n",
    "sim.set_time_step(time_step)\n",
    "sim.set_final_time(final_time)\n",
    "sim.add_logger(logger)\n",
    "\n",
    "sim.run()"
   ]
  },
  {
   "cell_type": "markdown",
   "metadata": {},
   "source": [
    "## DP_VS_R2L3_Diakoptics"
   ]
  },
  {
   "cell_type": "code",
   "execution_count": null,
   "metadata": {},
   "outputs": [],
   "source": [
    "time_step = 0.0001\n",
    "final_time = 0.1\n",
    "sim_name = \"DP_VS_R2L3_Diakoptics\"\n",
    "dpsimpy.Logger.set_log_dir(\"logs/\" + sim_name)\n",
    "\n",
    "n1 = dpsimpy.dp.SimNode(\"n1\")\n",
    "n2 = dpsimpy.dp.SimNode(\"n2\")\n",
    "n3 = dpsimpy.dp.SimNode(\"n3\")\n",
    "n4 = dpsimpy.dp.SimNode(\"n4\")\n",
    "\n",
    "vs = dpsimpy.dp.ph1.VoltageSource(\"vs\")\n",
    "vs.set_parameters(10)\n",
    "r1 = dpsimpy.dp.ph1.Resistor(\"r_1\")\n",
    "r1.set_parameters(1)\n",
    "l1 = dpsimpy.dp.ph1.Inductor(\"l_1\")\n",
    "l1.set_parameters(0.02)\n",
    "l2 = dpsimpy.dp.ph1.Inductor(\"l_2\")\n",
    "l2.set_parameters(0.1)\n",
    "l3 = dpsimpy.dp.ph1.Inductor(\"l_3\")\n",
    "l3.set_parameters(0.05)\n",
    "r2 = dpsimpy.dp.ph1.Resistor(\"r_2\")\n",
    "r2.set_parameters(2)\n",
    "\n",
    "vs.connect([dpsimpy.dp.SimNode.gnd, n1])\n",
    "r1.connect([n1, n2])\n",
    "l1.connect([n2, n3])\n",
    "l2.connect([n3, dpsimpy.dp.SimNode.gnd])\n",
    "l3.connect([n3, n4])\n",
    "r2.connect([n4, dpsimpy.dp.SimNode.gnd])\n",
    "\n",
    "sys = dpsimpy.SystemTopology(50, [n1, n2, n3, n4], [vs, r1, l2, l3, r2])\n",
    "sys.add_tear_component(l1)\n",
    "\n",
    "logger = dpsimpy.Logger(sim_name)\n",
    "logger.log_attribute(\"v1\", \"v\", n1)\n",
    "logger.log_attribute(\"v2\", \"v\", n2)\n",
    "logger.log_attribute(\"v3\", \"v\", n3)\n",
    "logger.log_attribute(\"v4\", \"v\", n4)\n",
    "logger.log_attribute(\"i12\", \"i_intf\", r1)\n",
    "logger.log_attribute(\"i34\", \"i_intf\", l3)\n",
    "\n",
    "sim = dpsimpy.Simulation(sim_name)\n",
    "sim.set_system(sys)\n",
    "sim.set_tearing_components(sys.tear_components)\n",
    "sim.set_time_step(time_step)\n",
    "sim.set_final_time(final_time)\n",
    "sim.add_logger(logger)\n",
    "\n",
    "sim.run()"
   ]
  },
  {
   "cell_type": "code",
   "execution_count": null,
   "metadata": {},
   "outputs": [],
   "source": [
    "work_dir = \"logs/DP_VS_R2L3_Diakoptics/\"\n",
    "log_name = \"DP_VS_R2L3_Diakoptics\"\n",
    "print(work_dir + log_name + \".csv\")\n",
    "diakoptic_l_decoup = rt.read_timeseries_dpsim(work_dir + log_name + \".csv\")\n",
    "diakoptic_l_decoup_emt = ts.frequency_shift_list(diakoptic_l_decoup, 50)"
   ]
  },
  {
   "cell_type": "code",
   "execution_count": null,
   "metadata": {},
   "outputs": [],
   "source": [
    "plt.plot(\n",
    "    diakoptic_l_decoup_emt[\"v1_shift\"].time, diakoptic_l_decoup_emt[\"v1_shift\"].values\n",
    ")\n",
    "plt.plot(\n",
    "    diakoptic_l_decoup_emt[\"v3_shift\"].time, diakoptic_l_decoup_emt[\"v3_shift\"].values\n",
    ")\n",
    "# plt.xlim([0,0.02])\n",
    "plt.show()"
   ]
  },
  {
   "cell_type": "code",
   "execution_count": null,
   "metadata": {},
   "outputs": [],
   "source": [
    "work_dir = \"logs/DP_VS_R2L3/\"\n",
    "log_name = \"DP_VS_R2L3\"\n",
    "print(work_dir + log_name + \".csv\")\n",
    "diakoptic_l = rt.read_timeseries_dpsim(work_dir + log_name + \".csv\")\n",
    "diakoptic_l_emt = ts.frequency_shift_list(diakoptic_l, 50)"
   ]
  },
  {
   "cell_type": "code",
   "execution_count": null,
   "metadata": {},
   "outputs": [],
   "source": [
    "plt.plot(diakoptic_l_emt[\"v1_shift\"].time, diakoptic_l_emt[\"v1_shift\"].values)\n",
    "plt.plot(diakoptic_l_emt[\"v3_shift\"].time, diakoptic_l_emt[\"v3_shift\"].values)\n",
    "# plt.xlim([0,0.02])\n",
    "plt.show()"
   ]
  }
 ],
 "metadata": {
  "kernelspec": {
   "display_name": "Python 3",
   "language": "python",
   "name": "python3"
  },
  "language_info": {
   "codemirror_mode": {
    "name": "ipython",
    "version": 3
   },
   "file_extension": ".py",
   "mimetype": "text/x-python",
   "name": "python",
   "nbconvert_exporter": "python",
   "pygments_lexer": "ipython3",
   "version": "3.9.10"
  }
 },
 "nbformat": 4,
 "nbformat_minor": 4
}
