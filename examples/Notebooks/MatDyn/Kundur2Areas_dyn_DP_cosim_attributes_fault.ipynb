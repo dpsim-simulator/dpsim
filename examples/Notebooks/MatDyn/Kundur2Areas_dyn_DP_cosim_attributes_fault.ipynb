{
 "cells": [
  {
   "attachments": {},
   "cell_type": "markdown",
   "metadata": {},
   "source": [
    "# Kundur Two Areas"
   ]
  },
  {
   "attachments": {},
   "cell_type": "markdown",
   "metadata": {},
   "source": [
    "### Import Libraries"
   ]
  },
  {
   "cell_type": "code",
   "execution_count": null,
   "metadata": {},
   "outputs": [],
   "source": [
    "import subprocess, sys, os\n",
    "import urllib.request\n",
    "\n",
    "dpsim_root_dir = subprocess.Popen(['git', 'rev-parse', '--show-toplevel'], stdout=subprocess.PIPE).communicate()[0].rstrip().decode('utf-8')\n",
    "sys.path.insert(0, os.path.join(dpsim_root_dir, 'python/src/dpsim/'))\n",
    "sys.path.insert(0, os.path.join(dpsim_root_dir, 'build'))\n",
    "\n",
    "import matpower\n",
    "import dpsimpy\n",
    "from villas.dataprocessing.readtools import *\n",
    "from villas.dataprocessing.timeseries import *\n",
    "import urllib.request\n",
    "import matplotlib.pyplot as plt\n",
    "import numpy as np\n",
    "# %matplotlib widget"
   ]
  },
  {
   "attachments": {},
   "cell_type": "markdown",
   "metadata": {},
   "source": [
    "### Get simulation data"
   ]
  },
  {
   "cell_type": "code",
   "execution_count": null,
   "metadata": {},
   "outputs": [],
   "source": [
    "#if not os.path.exists('Kundur2Areas-data'):\n",
    "#    os.mkdir('Kundur2Areas-data')\n",
    "#\n",
    "#url_static = 'https://github.com/martinmoraga/dpsim_data/raw/main/Kundur2Areas/matpower/Kundur2Areas.mat'\n",
    "#url_dynamic = 'https://github.com/martinmoraga/dpsim_data/raw/main/Kundur2Areas/matpower/Kundur2Areas_dyn.mat'\n",
    "local_file_static = './Kundur2Areas-data/Kundur2Areas.mat'\n",
    "local_file_dynamic = './Kundur2Areas-data/Kundur2Areas_dyn.mat'\n",
    "#urllib.request.urlretrieve(url_static, local_file_static)\n",
    "#urllib.request.urlretrieve(url_dynamic, local_file_dynamic)\n",
    "\n",
    "time_step = 5e-5\n",
    "t_f = 2\n",
    "start_fault_time = 0.1\n",
    "fault_clearing_time = 0.2"
   ]
  },
  {
   "attachments": {},
   "cell_type": "markdown",
   "metadata": {},
   "source": [
    "### 1. Powerflow for initialization"
   ]
  },
  {
   "cell_type": "code",
   "execution_count": null,
   "metadata": {},
   "outputs": [],
   "source": [
    "sim_name_pf = 'Kundur2Areas_PF'\n",
    "dpsimpy.Logger.set_log_dir('logs/' + sim_name_pf)\n",
    "\n",
    "# read and create dpsim topology\n",
    "mpc_reader_pf = matpower.Reader(mpc_file_path=local_file_static, mpc_name='Kundur2Areas')\n",
    "mpc_reader_pf.load_mpc(domain=matpower.Domain.PF)\n",
    "system_pf = mpc_reader_pf.system\n",
    "\n",
    "# log results\n",
    "logger = dpsimpy.Logger(sim_name_pf)\n",
    "for node in system_pf.nodes:\n",
    "    logger.log_attribute(node.name()+'.V', 'v', node)\n",
    "    logger.log_attribute(node.name()+'.S', 's', node)\n",
    "\n",
    "# Parametrize and run simulation\n",
    "sim_pf = dpsimpy.Simulation(sim_name_pf, dpsimpy.LogLevel.info)\n",
    "sim_pf.set_system(system_pf)\n",
    "sim_pf.set_time_step(1)\n",
    "sim_pf.set_final_time(0.1)\n",
    "sim_pf.set_domain(dpsimpy.Domain.SP)\n",
    "sim_pf.set_solver(dpsimpy.Solver.NRP)\n",
    "sim_pf.do_init_from_nodes_and_terminals(False)\n",
    "sim_pf.set_solver_component_behaviour(dpsimpy.SolverBehaviour.Initialization)\n",
    "sim_pf.add_logger(logger)\n",
    "sim_pf.run()"
   ]
  },
  {
   "cell_type": "code",
   "execution_count": null,
   "metadata": {},
   "outputs": [],
   "source": [
    "#system_pf"
   ]
  },
  {
   "cell_type": "markdown",
   "metadata": {},
   "source": [
    "### 2. Steady-state, Monolithic simulation"
   ]
  },
  {
   "cell_type": "markdown",
   "metadata": {},
   "source": [
    "#### Declare some functions"
   ]
  },
  {
   "cell_type": "code",
   "execution_count": null,
   "metadata": {},
   "outputs": [],
   "source": [
    "def Kundur2Areas_SS(domain=\"SP\"):\n",
    "    if domain==\"SP\":\n",
    "        matpower_domain = matpower.Domain.SP\n",
    "        dpsim_domain = dpsimpy.Domain.SP\n",
    "    elif domain==\"DP\":\n",
    "        matpower_domain = matpower.Domain.DP\n",
    "        dpsim_domain = dpsimpy.Domain.DP\n",
    "    else:\n",
    "        domain=\"EMT\"\n",
    "        matpower_domain = matpower.Domain.EMT\n",
    "        dpsim_domain = dpsimpy.Domain.EMT\n",
    "\n",
    "    sim_name_ss = domain + \"_Kundur2Areas_SS\"        \n",
    "    dpsimpy.Logger.set_log_dir('logs/' + sim_name_ss)\n",
    "\n",
    "    mpc_reader_dyn = matpower.Reader(mpc_file_path=local_file_static, mpc_name='Kundur2Areas',\n",
    "                                     mpc_dyn_file_path=local_file_dynamic, mpc_dyn_name='Kundur2Areas_dyn')\n",
    "    mpc_reader_dyn.create_dpsim_objects(domain=matpower_domain, frequency=60, \n",
    "                                     with_avr=False, with_tg=False, with_pss=False)\n",
    "\n",
    "    ### Extend topology with 3ps fault\n",
    "    sw = mpc_reader_dyn.add_3ph_faut(\"N7\", switch_closed=1e-3, switch_open=1e18)\n",
    "    \n",
    "    # create dpsim topology\n",
    "    mpc_reader_dyn.create_dpsim_topology()\n",
    "\n",
    "    #initialize node voltages using pf results\n",
    "    system_dyn = mpc_reader_dyn.system\n",
    "    system_dyn.init_with_powerflow(system_pf, dpsim_domain)\n",
    "\n",
    "    # log results\n",
    "    logger = dpsimpy.Logger(sim_name_ss)\n",
    "    for node in system_dyn.nodes:\n",
    "        logger.log_attribute(node.name()+'.V', 'v', node)\n",
    "    #for gen_name in [\"Gen_N1\", \"Gen_N2\", \"Gen_N3\", \"Gen_N3\", \"Gen_N4\"]:\n",
    "    #    logger.log_attribute(gen_name+\".Pe\", 'Te', mpc_reader_dyn.dpsimpy_comp_dict[gen_name][0])\n",
    "\n",
    "    # Parametrize and run simulation\n",
    "    sim = dpsimpy.Simulation(sim_name_ss, dpsimpy.LogLevel.info)\n",
    "    sim.set_system(system_dyn)\n",
    "    if domain==\"SP\":\n",
    "        sim.set_time_step(1e-3)\n",
    "    else:\n",
    "        sim.set_time_step(time_step)\n",
    "    sim.set_final_time(t_f)\n",
    "    sim.set_domain(dpsim_domain)\n",
    "    sim.set_solver(dpsimpy.Solver.MNA)\n",
    "    sim.set_direct_solver_implementation(dpsimpy.DirectLinearSolverImpl.KLU)\n",
    "    sim.do_init_from_nodes_and_terminals(True)\n",
    "    sim.add_logger(logger)\n",
    "    sim.do_system_matrix_recomputation(True)\n",
    "\n",
    "    # add events\n",
    "    sw_event_1 = dpsimpy.event.SwitchEvent(start_fault_time, sw, True)\n",
    "    sw_event_2 = dpsimpy.event.SwitchEvent(fault_clearing_time, sw, False)\n",
    "    sim.add_event(sw_event_1)\n",
    "    sim.add_event(sw_event_2)\n",
    "    \n",
    "    sim.run()\n",
    "    \n",
    "    return sim_name_ss"
   ]
  },
  {
   "cell_type": "markdown",
   "metadata": {},
   "source": [
    "#### Dpsim Simulations"
   ]
  },
  {
   "cell_type": "code",
   "execution_count": null,
   "metadata": {},
   "outputs": [],
   "source": [
    "sim_name_ss_emt = Kundur2Areas_SS(domain=\"DP\")"
   ]
  },
  {
   "cell_type": "markdown",
   "metadata": {},
   "source": [
    "### Split topologie at node 8"
   ]
  },
  {
   "cell_type": "code",
   "execution_count": null,
   "metadata": {},
   "outputs": [],
   "source": [
    "H = 1e-4\n",
    "\n",
    "interp = 'zoh'\n",
    "\n",
    "k_map = {'zoh': 0, 'linear': 1}\n",
    "k = k_map[interp]\n",
    "\n",
    "cosim_config = {\n",
    "    \"number_topologies\": 2,\n",
    "    \"nodes\": [[\"gnd\", \"N1\", \"N2\", \"N5\", \"N6\", \"N7\", \"N8\"], [\"N3\", \"N4\", \"N11\", \"N10\", \"N9\", \"N8\"]],\n",
    "    \"eq_component\": [\"VS\", \"CS\"],\n",
    "    \"split_node\": \"N8\",\n",
    "    \"sim_names\": [\"DP_Cosim_Kundur2Areas_SS_S1\", \"DP_Cosim_Kundur2Areas_SS_S2\"]\n",
    "}"
   ]
  },
  {
   "cell_type": "markdown",
   "metadata": {},
   "source": [
    "#### Create topologies for cosimulation"
   ]
  },
  {
   "cell_type": "code",
   "execution_count": null,
   "metadata": {},
   "outputs": [],
   "source": [
    "sim_name_fault = \"Cosim_Kundur2Areas_Fault\"        \n",
    "dpsimpy.Logger.set_log_dir('logs/' + sim_name_fault)\n",
    "\n",
    "# load dynamic topology\n",
    "mpc_reader_dyn = matpower.Reader(mpc_file_path=local_file_static, mpc_name='Kundur2Areas',\n",
    "                                 mpc_dyn_file_path=local_file_dynamic, mpc_dyn_name='Kundur2Areas_dyn')\n",
    "mpc_reader_dyn.create_dpsim_objects(domain=matpower.Domain.DP, frequency=60, \n",
    "                                 with_avr=False, with_tg=False, with_pss=False)\n",
    "\n",
    "### Extend topology with 3ps fault\n",
    "sw = mpc_reader_dyn.add_3ph_faut(\"N7\", switch_closed=1e-1, switch_open=1e18)\n",
    "\n",
    "# create dpsim topology\n",
    "mpc_reader_dyn.create_dpsim_topology()\n",
    "\n",
    "#initialize node voltages using pf results\n",
    "system_dyn = mpc_reader_dyn.system\n",
    "system_dyn.init_with_powerflow(system_pf, dpsimpy.Domain.DP)\n",
    "\n",
    "#create topologies for cosimulation\n",
    "[sys_topo_1, sys_topo_2] = mpc_reader_dyn.create_cosim_topologies(cosim_config)"
   ]
  },
  {
   "cell_type": "code",
   "execution_count": null,
   "metadata": {},
   "outputs": [],
   "source": [
    "#sys_topo_1"
   ]
  },
  {
   "cell_type": "markdown",
   "metadata": {},
   "source": [
    "#### Prepare 2nd sub topology"
   ]
  },
  {
   "cell_type": "code",
   "execution_count": null,
   "metadata": {},
   "outputs": [],
   "source": [
    "sim_name_ss_s2 = cosim_config[\"sim_names\"][1] + '_' + interp + '_' + str(H)\n",
    "dpsimpy.Logger.set_log_dir('logs/' + sim_name_ss_s2)\n",
    "\n",
    "# set initial reference current of current source\n",
    "init_current = sim_pf.get_idobj_attr(\"line5_8-9\", 'current_vector').get()[1][0] + sim_pf.get_idobj_attr(\"line6_8-9\", 'current_vector').get()[1][0]\n",
    "sys_topo_2.component(\"CS_N8\").set_parameters(init_current * np.sqrt(3))\n",
    "\n",
    "# log results\n",
    "logger = dpsimpy.Logger(sim_name_ss_s2)\n",
    "for node in sys_topo_2.nodes:\n",
    "    logger.log_attribute(node.name()+'.V', 'v', node)\n",
    "#for gen_name in [\"Gen_N1\", \"Gen_N2\"]:\n",
    "#    logger.log_attribute(gen_name+\".Pe\", 'Te', mpc_reader_dyn.dpsimpy_comp_dict[gen_name][0])\n",
    "\n",
    "logger.log_attribute(sys_topo_2.component(\"CS_N8\").name()+'.I', 'i_intf', sys_topo_2.component(\"CS_N8\")) \n",
    "logger.log_attribute(sys_topo_2.component(\"CS_N8\").name()+'.V', 'v_intf', sys_topo_2.component(\"CS_N8\")) \n",
    "\n",
    "\n",
    "# Parametrize and run simulation\n",
    "sim2 = dpsimpy.Simulation(sim_name_ss_s2, dpsimpy.LogLevel.info)\n",
    "sim2.set_system(sys_topo_2)\n",
    "sim2.set_time_step(time_step)\n",
    "sim2.set_final_time(t_f)\n",
    "sim2.set_domain(dpsimpy.Domain.DP)\n",
    "sim2.set_solver(dpsimpy.Solver.MNA)\n",
    "sim2.set_direct_solver_implementation(dpsimpy.DirectLinearSolverImpl.KLU)\n",
    "sim2.do_init_from_nodes_and_terminals(True)\n",
    "sim2.add_logger(logger)\n",
    "sim2.do_system_matrix_recomputation(True)\n",
    "   \n",
    "sim2.start()"
   ]
  },
  {
   "cell_type": "markdown",
   "metadata": {},
   "source": [
    "#### Prepare 1st sub topology"
   ]
  },
  {
   "cell_type": "code",
   "execution_count": null,
   "metadata": {},
   "outputs": [],
   "source": [
    "sim_name_ss_s1 = cosim_config[\"sim_names\"][0] + '_' + interp + '_' + str(H)\n",
    "dpsimpy.Logger.set_log_dir('logs/' + sim_name_ss_s1)\n",
    "\n",
    "# set initial current of voltage source\n",
    "init_current = sim_pf.get_idobj_attr(\"line3_7-8\", 'current_vector').get()[0][0] + sim_pf.get_idobj_attr(\"line4_7-8\", 'current_vector').get()[0][0]\n",
    "sys_topo_1.component(\"VS_N8\").set_intf_current([-init_current * np.sqrt(3)])\n",
    "\n",
    "# set parameters of voltage source\n",
    "init_voltage = sim_pf.get_idobj_attr(\"N8\", 'v').get()[0]\n",
    "sys_topo_1.component(\"VS_N8\").set_parameters(init_voltage)\n",
    "\n",
    "# log results\n",
    "logger = dpsimpy.Logger(sim_name_ss_s1)\n",
    "for node in sys_topo_1.nodes:\n",
    "    logger.log_attribute(node.name()+'.V', 'v', node)\n",
    "#for gen_name in [\"Gen_N1\", \"Gen_N2\"]:\n",
    "#    logger.log_attribute(gen_name+\".Pe\", 'Te', mpc_reader_dyn.dpsimpy_comp_dict[gen_name][0])\n",
    "\n",
    "logger.log_attribute(sys_topo_1.component(\"VS_N8\").name()+'.I', 'i_intf', sys_topo_1.component(\"VS_N8\")) \n",
    "logger.log_attribute(sys_topo_1.component(\"VS_N8\").name()+'.V', 'v_intf', sys_topo_1.component(\"VS_N8\")) \n",
    "\n",
    "# Parametrize and run simulation\n",
    "sim1 = dpsimpy.Simulation(sim_name_ss_s1, dpsimpy.LogLevel.info)\n",
    "sim1.set_system(sys_topo_1)\n",
    "sim1.set_time_step(time_step)\n",
    "sim1.set_final_time(t_f)\n",
    "sim1.set_domain(dpsimpy.Domain.DP)\n",
    "sim1.set_solver(dpsimpy.Solver.MNA)\n",
    "sim1.set_direct_solver_implementation(dpsimpy.DirectLinearSolverImpl.KLU)\n",
    "sim1.do_init_from_nodes_and_terminals(True)\n",
    "sim1.add_logger(logger)\n",
    "sim1.do_system_matrix_recomputation(True)\n",
    "\n",
    "# add events\n",
    "sw_event_1 = dpsimpy.event.SwitchEvent(start_fault_time, sw, True)\n",
    "sw_event_2 = dpsimpy.event.SwitchEvent(fault_clearing_time, sw, False)\n",
    "sim1.add_event(sw_event_1)\n",
    "sim1.add_event(sw_event_2)\n",
    "\n",
    "sim1.start()\n",
    "y_1_0 = sim1.get_idobj_attr(\"VS_N8\", \"i_intf\").get()[0]"
   ]
  },
  {
   "cell_type": "code",
   "execution_count": null,
   "metadata": {},
   "outputs": [],
   "source": [
    "#sys_topo_1"
   ]
  },
  {
   "cell_type": "markdown",
   "metadata": {},
   "source": [
    "#### Execute cosimulation"
   ]
  },
  {
   "cell_type": "code",
   "execution_count": null,
   "metadata": {},
   "outputs": [],
   "source": [
    "t_0 = 0\n",
    "t_k_v = []\n",
    "j_v = []\n",
    "t_k = 0.0\n",
    "y_1 = y_1_0\n",
    "\n",
    "print(y_1)\n",
    "\n",
    "n = int(round((t_f - t_0) / time_step))\n",
    "t = np.around(np.linspace(t_0, t_f, n + 1), 16)\n",
    "\n",
    "m = int(np.around(H/time_step))\n",
    "print(\"m = \" + str(m))\n",
    "\n",
    "N = int(round((t_f - t_0) / H))\n",
    "t_m = np.around(np.linspace(t_0, t_f, N + 1), 16)\n",
    "\n",
    "# We have to assume the trajectory of y_2 extending its initial value, since we have no prior information\n",
    "# y_1_m_prev = np.tile(y_1_0, np.max([k, m]))\n",
    "y_1_m_prev = np.tile(y_1_0, np.min([k+1, m]))\n",
    "\n",
    "for i in range(0, N):   \n",
    "    y_1_prev = y_1_m_prev[-1]\n",
    "    t_m_i = t[m*i + 1: m*(i+1) + 1]\n",
    "\n",
    "    if interp == 'zoh':\n",
    "        u_2_m = np.tile(y_1_prev, m)\n",
    "    elif interp == 'linear':\n",
    "        y_1_m_prev_r = np.real(y_1_m_prev[-2:])\n",
    "        y_1_m_prev_i = np.imag(y_1_m_prev[-2:])\n",
    "        f_u_2_r = np.poly1d(np.polyfit([i*H-H, i*H], y_1_m_prev_r, 1))\n",
    "        f_u_2_i = np.poly1d(np.polyfit([i*H-H, i*H], y_1_m_prev_i, 1))\n",
    "        u_2_m_r = f_u_2_r(t_m_i)\n",
    "        u_2_m_i = f_u_2_i(t_m_i)\n",
    "\n",
    "        u_2_m = u_2_m_r + 1j * u_2_m_i\n",
    "\n",
    "    y_1_m = np.zeros(m, dtype=complex)\n",
    "\n",
    "    for j in range(0, m):\n",
    "        # Switch to S_2                \n",
    "        u_2 = u_2_m[j]\n",
    "\n",
    "        sim2.get_idobj_attr(\"CS_N8\", \"I_ref\").set(u_2)\n",
    "\n",
    "        sim2.next()\n",
    "        y_2 = sim2.get_idobj_attr(\"CS_N8\", \"v_intf\").get()[0]\n",
    "        u_1 = y_2[0]\n",
    "\n",
    "        sim1.get_idobj_attr(\"VS_N8\", \"V_ref\").set(u_1)\n",
    "        t_k = sim1.next()\n",
    "        y_1 = sim1.get_idobj_attr(\"VS_N8\", \"i_intf\").get()[0]\n",
    "\n",
    "        y_1_m[j] = y_1[0]\n",
    "        # j += 1\n",
    "        t_k_v.append(t_k)\n",
    "\n",
    "    # Option 1: Take values at macrosteps as samples for extrapolation\n",
    "    y_1_m_prev = np.append(y_1_m_prev, y_1_m[-1])\n",
    "\n",
    "    # Option 2: Take values at microsteps as samples for extrapolation\n",
    "    # y_1_m_prev = y_1_m\n",
    "    \n",
    "    # j_v.append(j)\n",
    "\n",
    "    if t_k > t_f:\n",
    "        print(t_k)\n",
    "        print(\"i: \" + str(i) + \", expected: \" + str(N-1))\n",
    "        print(\"j: \" + str(j) + \", expected: \" + str(m-1))\n",
    "        break\n",
    "\n",
    "sim1.stop()\n",
    "sim2.stop()"
   ]
  },
  {
   "cell_type": "markdown",
   "metadata": {},
   "source": [
    "### Compare steady state results"
   ]
  },
  {
   "cell_type": "code",
   "execution_count": null,
   "metadata": {},
   "outputs": [],
   "source": [
    "from villas.dataprocessing.timeseries import TimeSeries as ts\n",
    "import villas.dataprocessing.plottools as pt\n",
    "\n",
    "dpsim_result_file_ss = 'logs/' + sim_name_ss_emt + '/' + sim_name_ss_emt + '.csv'\n",
    "ts_dpsim_fault_dp = read_timeseries_csv(dpsim_result_file_ss)\n",
    "\n",
    "dpsim_result_file_ss_s1 = 'logs/' + sim_name_ss_s1 + '/' + sim_name_ss_s1 + '.csv'\n",
    "print(dpsim_result_file_ss_s1)\n",
    "ts_dpsim_fault_s1_dp = read_timeseries_csv(dpsim_result_file_ss_s1)\n",
    "\n",
    "dpsim_result_file_ss_s2 = 'logs/' + sim_name_ss_s2 + '/' + sim_name_ss_s2 + '.csv'\n",
    "ts_dpsim_fault_s2_dp = read_timeseries_csv(dpsim_result_file_ss_s2)"
   ]
  },
  {
   "cell_type": "markdown",
   "metadata": {},
   "source": [
    "### Define plot functions"
   ]
  },
  {
   "cell_type": "code",
   "execution_count": null,
   "metadata": {},
   "outputs": [],
   "source": [
    "timestep_common = H\n",
    "t_begin = 0.0\n",
    "t_end = t_f\n",
    "begin_idx = int(t_begin/timestep_common)\n",
    "end_idx= int(t_end/timestep_common)\n",
    "time = np.linspace(t_begin, t_end, num=end_idx-begin_idx)\n",
    "\n",
    "#plot parameters\n",
    "width = 8\n",
    "height = 4\n",
    "\n",
    "def plot_node_volt_abs(varname_dpsim, \n",
    "                       ts_dpsim_emt, ts_dpsim_emt_s1, ts_dpsim_emt_s2, nominal_voltage, timestep_common=1e-3, y_lim=False):\n",
    "    \n",
    "    #convert dpsim voltage to magnitude value and per-unit for comparison with psat\n",
    "    dpsim_emt_values = np.abs(ts_dpsim_emt[varname_dpsim].interpolate(timestep_common).values[begin_idx:end_idx]) / nominal_voltage\n",
    "    dpsim_emt_values_s1 = np.abs(ts_dpsim_emt_s1[varname_dpsim].interpolate(timestep_common).values[begin_idx:end_idx]) / nominal_voltage\n",
    "    dpsim_emt_values_s2 = np.abs(ts_dpsim_emt_s2[varname_dpsim].interpolate(timestep_common).values[begin_idx:end_idx]) / nominal_voltage\n",
    "    \n",
    "    plt.figure(figsize=(width, height))\n",
    "    # plt.subplot(1, 2, 1)\n",
    "    plt.plot(time, dpsim_emt_values, label='DP - DPsim - Monolithic')\n",
    "    plt.plot(time, dpsim_emt_values_s1, label='DP - DPsim - S1')\n",
    "    plt.plot(time, dpsim_emt_values_s2, '--', label='DP - DPsim - S2')\n",
    "    plt.legend(loc='lower right')\n",
    "    plt.xlabel('time (s)')\n",
    "    plt.grid()\n",
    "    #plt.ylim([1.058, 1.062])\n",
    "    # plt.xlim([0.95, 1.2])\n",
    "    plt.xlim([0, 0.5])\n",
    "    plt.xlabel(\"time (s)\")\n",
    "    plt.ylabel(varname_dpsim + \" (pu)\")\n",
    "    if (y_lim):\n",
    "        plt.ylim(y_lim)\n",
    "    \n",
    "    # plt.subplot(1, 2, 2)\n",
    "    # plt.plot(time, dpsim_emt_values, ':', label='EMT - DPsim')\n",
    "    # plt.legend(loc='lower right')\n",
    "    # plt.xlabel('time (s)')\n",
    "    # plt.grid()\n",
    "    # #plt.ylim([1.058, 1.062])\n",
    "    # # plt.xlim([2.9, 3.1])\n",
    "    # plt.xlabel(\"time (s)\")\n",
    "    # plt.ylabel(varname_dpsim + \" (pu)\")\n",
    "    # if (y_lim):\n",
    "    #     plt.ylim(y_lim)\n",
    "        \n",
    "    # plt.savefig('Kundur2Areas_dyn_DP_cosim_attributes_fault_{}.svg'.format(varname_dpsim))\n",
    "    plt.show()\n",
    "    \n",
    "    #calculate RMSE\n",
    "    #rmse = np.sqrt(((dpsim_sp_values_abs_pu - psat_values) ** 2).mean())\n",
    "    #print('RMSE {:s}  = {:.6f} (pu), which is {:.3f}% of the nominal value = {:.3f} (pu) '.format(varname_dpsim, rmse, rmse/1.0*100, 1.0))\n",
    "    \n",
    "# def plot_elec_power(varname_dpsim, varname_digSilent, \n",
    "#                     ts_dpsim_emt, ts_dpsim_dp, ts_digSilent, timestep_common=1e-3, y_lim=False):\n",
    "    \n",
    "#     #convert dpsim voltage to magnitude value and per-unit for comparison with psat\n",
    "#     dpsim_dp_values = ts_dpsim_dp[varname_dpsim].interpolate(timestep_common).values[begin_idx:end_idx] * 9\n",
    "#     dpsim_emt_values = ts_dpsim_emt[varname_dpsim].interpolate(timestep_common).values[begin_idx:end_idx] * 9\n",
    "#     digSilent_values = ts_digSilent[varname_digSilent].interpolate(timestep_common).values[begin_idx:end_idx] / 100\n",
    "    \n",
    "#     plt.figure(figsize=(width, height))\n",
    "#     plt.plot(time, dpsim_dp_values, label='DP - DPsim')\n",
    "#     plt.plot(time, dpsim_emt_values, '--', label='EMT - DPsim')\n",
    "#     plt.plot(time, digSilent_values, '--', label='EMT - DigSilent')\n",
    "#     plt.legend(loc='lower right')\n",
    "#     plt.xlabel('time (s)')\n",
    "#     plt.grid()\n",
    "#     #plt.ylim([6.7, 7.1])\n",
    "#     plt.xlim([t_begin, t_end])\n",
    "#     plt.xlabel(\"time (s)\")\n",
    "#     plt.ylabel(varname_dpsim + \" (pu)\")\n",
    "#     if (y_lim):\n",
    "#         plt.ylim(y_lim)\n",
    "#     plt.show()\n",
    "    \n",
    "    #calculate RMSE\n",
    "    #rmse = np.linalg.norm(dpsim_sp_values - psat_values) / np.sqrt(len(psat_values))\n",
    "    #print('RMSE {:s}  = {:.6f} (pu), which is {:.3f}% of the nominal value = ~{:.3f} (pu) '.format(varname_dpsim, rmse, rmse/7.0*100, 7.0))\n",
    "\n",
    "    #return rmse"
   ]
  },
  {
   "cell_type": "markdown",
   "metadata": {},
   "source": [
    "#### Inteface node"
   ]
  },
  {
   "cell_type": "code",
   "execution_count": null,
   "metadata": {},
   "outputs": [],
   "source": [
    "#\"\"\"\n",
    "varname_dpsim = 'N8.V'\n",
    "nominal_voltage = 230000\n",
    "plot_node_volt_abs(varname_dpsim, ts_dpsim_fault_dp, ts_dpsim_fault_s1_dp, ts_dpsim_fault_s2_dp, nominal_voltage, timestep_common)\n",
    "#\"\"\""
   ]
  },
  {
   "cell_type": "markdown",
   "metadata": {},
   "source": [
    "### Plot interface current"
   ]
  },
  {
   "cell_type": "markdown",
   "metadata": {},
   "source": [
    "#### Plot Results first sub topology"
   ]
  },
  {
   "cell_type": "code",
   "execution_count": null,
   "metadata": {},
   "outputs": [],
   "source": [
    "dpsim_result_file = 'logs/' + sim_name_ss_s1 + '/' + sim_name_ss_s1 + '.csv'\n",
    "ts_dpsim_emt_top1 = read_timeseries_csv(dpsim_result_file)"
   ]
  },
  {
   "cell_type": "code",
   "execution_count": null,
   "metadata": {},
   "outputs": [],
   "source": [
    "#mpc_reader_dyn.system"
   ]
  },
  {
   "cell_type": "code",
   "execution_count": null,
   "metadata": {},
   "outputs": [],
   "source": [
    "timestep_common = 1e-3\n",
    "t_begin = 0.0\n",
    "t_end = 1\n",
    "begin_idx = int(t_begin/timestep_common)\n",
    "end_idx= int(t_end/timestep_common)\n",
    "time = np.linspace(t_begin, t_end, num=end_idx-begin_idx)\n",
    "\n",
    "#plot parameters\n",
    "width = 12\n",
    "height = 4\n",
    "\n",
    "varname_dpsim = \"N8.V\"\n",
    "dpsim_emt_values = ts_dpsim_emt_top1[varname_dpsim].interpolate(timestep_common).values[begin_idx:end_idx]\n",
    "    \n",
    "plt.figure(figsize=(width, height))\n",
    "#plt.subplot(1, 2, 1)\n",
    "plt.plot(time, dpsim_emt_values, ':', label='EMT - DPsim')\n",
    "plt.legend(loc='lower right')\n",
    "plt.xlabel('time (s)')\n",
    "plt.grid()\n",
    "#plt.ylim([1.058, 1.062])\n",
    "#plt.xlim([0.95, 1.2])\n",
    "plt.xlabel(\"time (s)\")\n",
    "#plt.ylabel(varname_digSilent + \" (pu)\")"
   ]
  },
  {
   "cell_type": "code",
   "execution_count": null,
   "metadata": {},
   "outputs": [],
   "source": [
    "dpsim_result_file = 'logs/' + sim_name_ss_s2 + '/' + sim_name_ss_s2 + '.csv'\n",
    "ts_dpsim_emt_top2 = read_timeseries_csv(dpsim_result_file)"
   ]
  },
  {
   "cell_type": "code",
   "execution_count": null,
   "metadata": {},
   "outputs": [],
   "source": [
    "timestep_common = 1e-3\n",
    "t_begin = 0.0\n",
    "t_end = 1\n",
    "begin_idx = int(t_begin/timestep_common)\n",
    "end_idx= int(t_end/timestep_common)\n",
    "time = np.linspace(t_begin, t_end, num=end_idx-begin_idx)\n",
    "\n",
    "#plot parameters\n",
    "width = 12\n",
    "height = 4\n",
    "\n",
    "varname_dpsim = \"N8.V\"\n",
    "dpsim_emt_values = ts_dpsim_emt_top2[varname_dpsim].interpolate(timestep_common).values[begin_idx:end_idx]\n",
    "    \n",
    "plt.figure(figsize=(width, height))\n",
    "#plt.subplot(1, 2, 1)\n",
    "plt.plot(time, dpsim_emt_values, ':', label='EMT - DPsim')\n",
    "plt.legend(loc='lower right')\n",
    "plt.xlabel('time (s)')\n",
    "plt.grid()\n",
    "#plt.ylim([1.058, 1.062])\n",
    "#plt.xlim([0.95, 1.2])\n",
    "plt.xlabel(\"time (s)\")\n",
    "#plt.ylabel(varname_digSilent + \" (pu)\")"
   ]
  },
  {
   "cell_type": "markdown",
   "metadata": {},
   "source": [
    "### 3. Dynamic Simulation with fault at node 7 (Full topology)"
   ]
  },
  {
   "attachments": {},
   "cell_type": "markdown",
   "metadata": {},
   "source": [
    "#### Declare some functions"
   ]
  },
  {
   "cell_type": "code",
   "execution_count": null,
   "metadata": {},
   "outputs": [],
   "source": [
    "# def Kundur2Areas_Fault(domain=\"SP\"):\n",
    "#     if domain==\"SP\":\n",
    "#         matpower_domain = matpower.Domain.SP\n",
    "#         dpsim_domain = dpsimpy.Domain.SP\n",
    "#     elif domain==\"DP\":\n",
    "#         matpower_domain = matpower.Domain.DP\n",
    "#         dpsim_domain = dpsimpy.Domain.DP\n",
    "#     else:\n",
    "#         domain=\"EMT\"\n",
    "#         matpower_domain = matpower.Domain.EMT\n",
    "#         dpsim_domain = dpsimpy.Domain.EMT\n",
    "\n",
    "#     sim_name_fault = domain + \"_Kundur2Areas_Fault\"        \n",
    "#     dpsimpy.Logger.set_log_dir('logs/' + sim_name_fault)\n",
    "\n",
    "#     mpc_reader_dyn = matpower.Reader(mpc_file_path=local_file_static, mpc_name='Kundur2Areas',\n",
    "#                                      mpc_dyn_file_path=local_file_dynamic, mpc_dyn_name='Kundur2Areas_dyn')\n",
    "#     mpc_reader_dyn.create_dpsim_objects(domain=matpower_domain, frequency=60, \n",
    "#                                      with_avr=False, with_tg=False, with_pss=False)\n",
    "\n",
    "#     ### Extend topology with 3ps fault\n",
    "#     sw = mpc_reader_dyn.add_3ph_faut(\"N7\", switch_closed=1e-3, switch_open=1e18)\n",
    "    \n",
    "#     # create dpsim topology\n",
    "#     mpc_reader_dyn.create_dpsim_topology()\n",
    "\n",
    "#     #initialize node voltages using pf results\n",
    "#     system_dyn = mpc_reader_dyn.system\n",
    "#     system_dyn.init_with_powerflow(system_pf, dpsim_domain)\n",
    "\n",
    "#     # log results\n",
    "#     logger = dpsimpy.Logger(sim_name_fault)\n",
    "#     for node in system_dyn.nodes:\n",
    "#         logger.log_attribute(node.name()+'.V', 'v', node)\n",
    "#     for gen_name in [\"Gen_N1\", \"Gen_N2\", \"Gen_N3\", \"Gen_N3\", \"Gen_N4\"]:\n",
    "#         logger.log_attribute(gen_name+\".Pe\", 'Te', mpc_reader_dyn.dpsimpy_comp_dict[gen_name][0])\n",
    "\n",
    "#     # Parametrize and run simulation\n",
    "#     sim = dpsimpy.Simulation(sim_name_fault, dpsimpy.LogLevel.info)\n",
    "#     sim.set_system(system_dyn)\n",
    "#     if domain==\"SP\":\n",
    "#         sim.set_time_step(1e-3)\n",
    "#     else:\n",
    "#         sim.set_time_step(1e-4)\n",
    "#     sim.set_final_time(10)\n",
    "#     sim.set_domain(dpsim_domain)\n",
    "#     sim.set_solver(dpsimpy.Solver.MNA)\n",
    "#     sim.set_direct_solver_implementation(dpsimpy.DirectLinearSolverImpl.KLU)\n",
    "#     sim.do_init_from_nodes_and_terminals(True)\n",
    "#     sim.add_logger(logger)\n",
    "#     sim.do_system_matrix_recomputation(True)\n",
    "\n",
    "#     # add events\n",
    "#     sw_event_1 = dpsimpy.event.SwitchEvent(1, sw, True)\n",
    "#     sw_event_2 = dpsimpy.event.SwitchEvent(1.1, sw, False)\n",
    "#     sim.add_event(sw_event_1)\n",
    "#     sim.add_event(sw_event_2)\n",
    "#     sim.run()\n",
    "    \n",
    "#     return sim_name_fault"
   ]
  },
  {
   "cell_type": "markdown",
   "metadata": {},
   "source": [
    "#### Dpsim Simulations"
   ]
  },
  {
   "cell_type": "code",
   "execution_count": null,
   "metadata": {},
   "outputs": [],
   "source": [
    "# sim_name_fault_dp = Kundur2Areas_Fault(domain=\"DP\")"
   ]
  },
  {
   "cell_type": "code",
   "execution_count": null,
   "metadata": {},
   "outputs": [],
   "source": [
    "# sim_name_fault_emt = Kundur2Areas_Fault(domain=\"EMT\")"
   ]
  },
  {
   "attachments": {},
   "cell_type": "markdown",
   "metadata": {},
   "source": [
    "### Read dynamic results"
   ]
  },
  {
   "cell_type": "code",
   "execution_count": null,
   "metadata": {},
   "outputs": [],
   "source": [
    "# from villas.dataprocessing.timeseries import TimeSeries as ts\n",
    "# import villas.dataprocessing.plottools as pt\n",
    "\n",
    "# dpsim_result_file = 'logs/' + sim_name_fault_dp + '/' + sim_name_fault_dp + '.csv'\n",
    "# ts_dpsim_dp = read_timeseries_csv(dpsim_result_file)\n",
    "\n",
    "# dpsim_result_file = 'logs/' + sim_name_fault_emt + '/' + sim_name_fault_emt + '.csv'\n",
    "# ts_dpsim_emt = read_timeseries_csv(dpsim_result_file)"
   ]
  },
  {
   "cell_type": "markdown",
   "metadata": {},
   "source": [
    "### Load DigSilent Results"
   ]
  },
  {
   "cell_type": "code",
   "execution_count": null,
   "metadata": {},
   "outputs": [],
   "source": [
    "# if not os.path.exists('Kundur2Areas-data'):\n",
    "#     os.mkdir('Kundur2Areas-data')\n",
    "\n",
    "# url = 'https://github.com/martinmoraga/dpsim_data/raw/main/Kundur2Areas/PowerFactory/DigSilent_Kundur2Areas_Fault_N7_TimeStep_100uS_EMT.csv'\n",
    "# local_file = './Kundur2Areas-data/DigSilent_Kundur2Areas_Fault_N7_TimeStep_100uS_EMT.csv'\n",
    "# urllib.request.urlretrieve(url, local_file)\n",
    "# ts_digSilent = read_timeseries_dpsim(local_file)"
   ]
  },
  {
   "attachments": {},
   "cell_type": "markdown",
   "metadata": {},
   "source": [
    "### Define plot functions"
   ]
  },
  {
   "cell_type": "code",
   "execution_count": null,
   "metadata": {},
   "outputs": [],
   "source": [
    "# timestep_common = 1e-3\n",
    "# t_begin = 0.0\n",
    "# t_end = 10\n",
    "# begin_idx = int(t_begin/timestep_common)\n",
    "# end_idx= int(t_end/timestep_common)\n",
    "# time = np.linspace(t_begin, t_end, num=end_idx-begin_idx)\n",
    "\n",
    "# #plot parameters\n",
    "# width = 12\n",
    "# height = 4\n",
    "\n",
    "# def plot_node_volt_abs(varname_dpsim, varname_digSilent, \n",
    "#                        ts_dpsim_emt, ts_dpsim_dp, ts_digSilent, nominal_voltage, timestep_common=1e-3, y_lim=False):\n",
    "    \n",
    "#     #convert dpsim voltage to magnitude value and per-unit for comparison with psat\n",
    "#     dpsim_dp_values_shifted = np.real(ts_dpsim_dp[varname_dpsim].interpolate(timestep_common).frequency_shift(60).values[begin_idx:end_idx] / nominal_voltage)\n",
    "#     dpsim_emt_values = ts_dpsim_emt[varname_dpsim+\"_0\"].interpolate(timestep_common).values[begin_idx:end_idx] / nominal_voltage * np.sqrt(3/2)\n",
    "#     digSilent_values = ts_digSilent[varname_digSilent].interpolate(timestep_common).values[begin_idx:end_idx]\n",
    "    \n",
    "#     plt.figure(figsize=(width, height))\n",
    "#     plt.subplot(1, 2, 1)\n",
    "#     plt.plot(time, dpsim_dp_values_shifted, label='DP - DPsim')\n",
    "#     plt.plot(time, dpsim_emt_values, ':', label='EMT - DPsim')\n",
    "#     plt.plot(time, digSilent_values, '--', label='EMT - DigSilent')\n",
    "#     plt.legend(loc='lower right')\n",
    "#     plt.xlabel('time (s)')\n",
    "#     plt.grid()\n",
    "#     #plt.ylim([1.058, 1.062])\n",
    "#     plt.xlim([0.95, 1.2])\n",
    "#     plt.xlabel(\"time (s)\")\n",
    "#     plt.ylabel(varname_digSilent + \" (pu)\")\n",
    "#     if (y_lim):\n",
    "#         plt.set_ylim(y_lim)\n",
    "    \n",
    "#     plt.subplot(1, 2, 2)\n",
    "#     plt.plot(time, dpsim_dp_values_shifted, label='DP - DPsim')\n",
    "#     plt.plot(time, dpsim_emt_values, ':', label='EMT - DPsim')\n",
    "#     plt.plot(time, digSilent_values, '--', label='EMT - DigSilent')\n",
    "#     plt.legend(loc='lower right')\n",
    "#     plt.xlabel('time (s)')\n",
    "#     plt.grid()\n",
    "#     #plt.ylim([1.058, 1.062])\n",
    "#     plt.xlim([2.9, 3.1])\n",
    "#     plt.xlabel(\"time (s)\")\n",
    "#     plt.ylabel(varname_digSilent + \" (pu)\")\n",
    "#     if (y_lim):\n",
    "#         plt.ylim(y_lim)\n",
    "        \n",
    "#     plt.show()\n",
    "    \n",
    "#     #calculate RMSE\n",
    "#     #rmse = np.sqrt(((dpsim_sp_values_abs_pu - psat_values) ** 2).mean())\n",
    "#     #print('RMSE {:s}  = {:.6f} (pu), which is {:.3f}% of the nominal value = {:.3f} (pu) '.format(varname_dpsim, rmse, rmse/1.0*100, 1.0))\n",
    "    \n",
    "# def plot_elec_power(varname_dpsim, varname_digSilent, \n",
    "#                     ts_dpsim_emt, ts_dpsim_dp, ts_digSilent, timestep_common=1e-3, y_lim=False):\n",
    "    \n",
    "#     #convert dpsim voltage to magnitude value and per-unit for comparison with psat\n",
    "#     dpsim_dp_values = ts_dpsim_dp[varname_dpsim].interpolate(timestep_common).values[begin_idx:end_idx] * 9\n",
    "#     dpsim_emt_values = ts_dpsim_emt[varname_dpsim].interpolate(timestep_common).values[begin_idx:end_idx] * 9\n",
    "#     digSilent_values = ts_digSilent[varname_digSilent].interpolate(timestep_common).values[begin_idx:end_idx] / 100\n",
    "    \n",
    "#     plt.figure(figsize=(width, height))\n",
    "#     plt.plot(time, dpsim_dp_values, label='DP - DPsim')\n",
    "#     plt.plot(time, dpsim_emt_values, '--', label='EMT - DPsim')\n",
    "#     plt.plot(time, digSilent_values, '--', label='EMT - DigSilent')\n",
    "#     plt.legend(loc='lower right')\n",
    "#     plt.xlabel('time (s)')\n",
    "#     plt.grid()\n",
    "#     #plt.ylim([6.7, 7.1])\n",
    "#     plt.xlim([t_begin, t_end])\n",
    "#     plt.xlabel(\"time (s)\")\n",
    "#     plt.ylabel(varname_dpsim + \" (pu)\")\n",
    "#     if (y_lim):\n",
    "#         plt.ylim(y_lim)\n",
    "#     plt.show()\n",
    "    \n",
    "#     #calculate RMSE\n",
    "#     #rmse = np.linalg.norm(dpsim_sp_values - psat_values) / np.sqrt(len(psat_values))\n",
    "#     #print('RMSE {:s}  = {:.6f} (pu), which is {:.3f}% of the nominal value = ~{:.3f} (pu) '.format(varname_dpsim, rmse, rmse/7.0*100, 7.0))\n",
    "\n",
    "#     #return rmse"
   ]
  },
  {
   "cell_type": "markdown",
   "metadata": {},
   "source": [
    "### Plot SG's electrical power"
   ]
  },
  {
   "cell_type": "markdown",
   "metadata": {},
   "source": [
    "##### Gen1"
   ]
  },
  {
   "cell_type": "code",
   "execution_count": null,
   "metadata": {},
   "outputs": [],
   "source": [
    "# varname_dpsim = 'Gen_N1.Pe'\n",
    "# varname_psat = 'p_g3'\n",
    "# varname_digSilent = 'G1_p'\n",
    "# rmse_g1 = plot_elec_power(varname_dpsim, varname_digSilent, ts_dpsim_emt, ts_dpsim_dp, ts_digSilent, timestep_common=1e-3, y_lim=[6.25,7.25])"
   ]
  },
  {
   "cell_type": "markdown",
   "metadata": {},
   "source": [
    "##### Gen2"
   ]
  },
  {
   "cell_type": "code",
   "execution_count": null,
   "metadata": {},
   "outputs": [],
   "source": [
    "# varname_dpsim = 'Gen_N2.Pe'\n",
    "# varname_digSilent = 'G2_p'\n",
    "# rmse_g2 = plot_elec_power(varname_dpsim, varname_digSilent, ts_dpsim_emt, ts_dpsim_dp, ts_digSilent, timestep_common=1e-3, y_lim=[6.4,7.2])"
   ]
  },
  {
   "cell_type": "markdown",
   "metadata": {},
   "source": [
    "##### Gen3"
   ]
  },
  {
   "cell_type": "code",
   "execution_count": null,
   "metadata": {},
   "outputs": [],
   "source": [
    "# varname_dpsim = 'Gen_N3.Pe'\n",
    "# varname_digSilent = 'G4_p'\n",
    "# rmse_g3 = plot_elec_power(varname_dpsim, varname_digSilent, ts_dpsim_emt, ts_dpsim_dp, ts_digSilent, timestep_common=1e-3, y_lim=[5,9])"
   ]
  },
  {
   "cell_type": "markdown",
   "metadata": {},
   "source": [
    "##### Gen4"
   ]
  },
  {
   "cell_type": "code",
   "execution_count": null,
   "metadata": {},
   "outputs": [],
   "source": [
    "# varname_dpsim = 'Gen_N4.Pe'\n",
    "# varname_digSilent = 'G3_p'\n",
    "# rmse_g4 = plot_elec_power(varname_dpsim, varname_digSilent, ts_dpsim_emt, ts_dpsim_dp, ts_digSilent, timestep_common=1e-3, y_lim=[5.5,8.5])"
   ]
  },
  {
   "cell_type": "markdown",
   "metadata": {},
   "source": [
    "### Assertion"
   ]
  },
  {
   "cell_type": "code",
   "execution_count": null,
   "metadata": {},
   "outputs": [],
   "source": [
    "#assert(np.absolute(rmse_g1)<0.081)\n",
    "#assert(np.absolute(rmse_g2)<0.094)\n",
    "#assert(np.absolute(rmse_g3)<0.023)\n",
    "#assert(np.absolute(rmse_g4)<0.024)"
   ]
  },
  {
   "cell_type": "markdown",
   "metadata": {},
   "source": [
    "### Plot Voltages"
   ]
  },
  {
   "attachments": {},
   "cell_type": "markdown",
   "metadata": {},
   "source": [
    "#### LV side"
   ]
  },
  {
   "cell_type": "code",
   "execution_count": null,
   "metadata": {},
   "outputs": [],
   "source": [
    "#\"\"\"\n",
    "# varname_dpsim = 'N1.V'\n",
    "# varname_digSilent = 'v1'\n",
    "# nominal_voltage = 20000\n",
    "# plot_node_volt_abs(varname_dpsim, varname_digSilent, ts_dpsim_emt, ts_dpsim_dp, ts_digSilent, nominal_voltage, timestep_common=1e-3)\n",
    "# #\"\"\""
   ]
  },
  {
   "cell_type": "code",
   "execution_count": null,
   "metadata": {},
   "outputs": [],
   "source": [
    "#\"\"\"\n",
    "# varname_dpsim = 'N2.V'\n",
    "# varname_digSilent = 'v2'\n",
    "# nominal_voltage = 20000\n",
    "# plot_node_volt_abs(varname_dpsim, varname_digSilent, ts_dpsim_emt, ts_dpsim_dp, ts_digSilent, nominal_voltage, timestep_common=1e-3)\n",
    "# #\"\"\""
   ]
  },
  {
   "cell_type": "code",
   "execution_count": null,
   "metadata": {},
   "outputs": [],
   "source": [
    "#\"\"\"\n",
    "# varname_dpsim = 'N3.V'\n",
    "# varname_digSilent = 'v3'\n",
    "# nominal_voltage = 20000\n",
    "# plot_node_volt_abs(varname_dpsim, varname_digSilent, ts_dpsim_emt, ts_dpsim_dp, ts_digSilent, nominal_voltage, timestep_common=1e-3)\n",
    "# #\"\"\""
   ]
  },
  {
   "cell_type": "code",
   "execution_count": null,
   "metadata": {},
   "outputs": [],
   "source": [
    "#\"\"\"\n",
    "# varname_dpsim = 'N4.V'\n",
    "# varname_digSilent = 'v4'\n",
    "# nominal_voltage = 20000\n",
    "# plot_node_volt_abs(varname_dpsim, varname_digSilent, ts_dpsim_emt, ts_dpsim_dp, ts_digSilent, nominal_voltage, timestep_common=1e-3)\n",
    "# #\"\"\""
   ]
  },
  {
   "attachments": {},
   "cell_type": "markdown",
   "metadata": {},
   "source": [
    "#### Low voltage side"
   ]
  },
  {
   "cell_type": "code",
   "execution_count": null,
   "metadata": {},
   "outputs": [],
   "source": [
    "#\"\"\"\n",
    "# varname_dpsim = 'N5.V'\n",
    "# varname_digSilent = 'v5'\n",
    "# nominal_voltage = 230000\n",
    "# plot_node_volt_abs(varname_dpsim, varname_digSilent, ts_dpsim_emt, ts_dpsim_dp, ts_digSilent, nominal_voltage, timestep_common=1e-3)\n",
    "# #\"\"\"\n"
   ]
  },
  {
   "cell_type": "code",
   "execution_count": null,
   "metadata": {},
   "outputs": [],
   "source": [
    "#\"\"\"\n",
    "# varname_dpsim = 'N6.V'\n",
    "# varname_digSilent = 'v6'\n",
    "# nominal_voltage = 230000\n",
    "# plot_node_volt_abs(varname_dpsim, varname_digSilent, ts_dpsim_emt, ts_dpsim_dp, ts_digSilent, nominal_voltage, timestep_common=1e-3)\n",
    "# #\"\"\""
   ]
  },
  {
   "cell_type": "code",
   "execution_count": null,
   "metadata": {},
   "outputs": [],
   "source": [
    "#\"\"\"\n",
    "# varname_dpsim = 'N7.V'\n",
    "# varname_digSilent = 'v7'\n",
    "# nominal_voltage = 230000\n",
    "# plot_node_volt_abs(varname_dpsim, varname_digSilent, ts_dpsim_emt, ts_dpsim_dp, ts_digSilent, nominal_voltage, timestep_common=1e-3)\n",
    "# #\"\"\""
   ]
  },
  {
   "cell_type": "code",
   "execution_count": null,
   "metadata": {},
   "outputs": [],
   "source": [
    "#\"\"\"\n",
    "# varname_dpsim = 'N8.V'\n",
    "# varname_digSilent = 'v8'\n",
    "# nominal_voltage = 230000\n",
    "# plot_node_volt_abs(varname_dpsim, varname_digSilent, ts_dpsim_emt, ts_dpsim_dp, ts_digSilent, nominal_voltage, timestep_common=1e-3)\n",
    "# #\"\"\""
   ]
  },
  {
   "cell_type": "code",
   "execution_count": null,
   "metadata": {},
   "outputs": [],
   "source": [
    "#\"\"\"\n",
    "# varname_dpsim = 'N9.V'\n",
    "# varname_digSilent = 'v9'\n",
    "# nominal_voltage = 230000\n",
    "# plot_node_volt_abs(varname_dpsim, varname_digSilent, ts_dpsim_emt, ts_dpsim_dp, ts_digSilent, nominal_voltage, timestep_common=1e-3)\n",
    "# #\"\"\""
   ]
  },
  {
   "cell_type": "code",
   "execution_count": null,
   "metadata": {},
   "outputs": [],
   "source": [
    "#\"\"\"\n",
    "# varname_dpsim = 'N10.V'\n",
    "# varname_digSilent = 'v10'\n",
    "# nominal_voltage = 230000\n",
    "# plot_node_volt_abs(varname_dpsim, varname_digSilent, ts_dpsim_emt, ts_dpsim_dp, ts_digSilent, nominal_voltage, timestep_common=1e-3)\n",
    "# #\"\"\""
   ]
  },
  {
   "cell_type": "code",
   "execution_count": null,
   "metadata": {},
   "outputs": [],
   "source": [
    "#\"\"\"\n",
    "# varname_dpsim = 'N11.V'\n",
    "# varname_digSilent = 'v11'\n",
    "# nominal_voltage = 230000\n",
    "# plot_node_volt_abs(varname_dpsim, varname_digSilent, ts_dpsim_emt, ts_dpsim_dp, ts_digSilent, nominal_voltage, timestep_common=1e-3)\n",
    "# #\"\"\""
   ]
  }
 ],
 "metadata": {
  "kernelspec": {
   "display_name": "Python 3 (ipykernel)",
   "language": "python",
   "name": "python3"
  },
  "language_info": {
   "codemirror_mode": {
    "name": "ipython",
    "version": 3
   },
   "file_extension": ".py",
   "mimetype": "text/x-python",
   "name": "python",
   "nbconvert_exporter": "python",
   "pygments_lexer": "ipython3",
   "version": "3.10.11"
  },
  "tests": {
   "skip": true
  },
  "vscode": {
   "interpreter": {
    "hash": "767d51c1340bd893661ea55ea3124f6de3c7a262a8b4abca0554b478b1e2ff90"
   }
  }
 },
 "nbformat": 4,
 "nbformat_minor": 4
}
