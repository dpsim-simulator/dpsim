{
 "cells": [
  {
   "attachments": {},
   "cell_type": "markdown",
   "metadata": {},
   "source": [
    "# Kundur Two Areas"
   ]
  },
  {
   "attachments": {},
   "cell_type": "markdown",
   "metadata": {},
   "source": [
    "### Import Libraries"
   ]
  },
  {
   "cell_type": "code",
   "execution_count": 1,
   "metadata": {},
   "outputs": [],
   "source": [
    "import subprocess, sys, os\n",
    "import urllib.request\n",
    "\n",
    "dpsim_root_dir = subprocess.Popen(['git', 'rev-parse', '--show-toplevel'], stdout=subprocess.PIPE).communicate()[0].rstrip().decode('utf-8')\n",
    "sys.path.insert(0, os.path.join(dpsim_root_dir, 'python/src/dpsim/'))\n",
    "sys.path.insert(0, os.path.join(dpsim_root_dir, 'build'))\n",
    "\n",
    "import matpower\n",
    "import dpsimpy\n",
    "from villas.dataprocessing.readtools import *\n",
    "from villas.dataprocessing.timeseries import *\n",
    "import urllib.request\n",
    "import matplotlib.pyplot as plt\n",
    "import numpy as np\n",
    "%matplotlib widget"
   ]
  },
  {
   "attachments": {},
   "cell_type": "markdown",
   "metadata": {},
   "source": [
    "### Get simulation data"
   ]
  },
  {
   "cell_type": "code",
   "execution_count": 2,
   "metadata": {},
   "outputs": [],
   "source": [
    "if not os.path.exists('Kundur2Areas-data'):\n",
    "    os.mkdir('Kundur2Areas-data')\n",
    "\n",
    "url_static = 'https://github.com/martinmoraga/dpsim_data/raw/main/Kundur2Areas/matpower/Kundur2Areas.mat'\n",
    "url_dynamic = 'https://github.com/martinmoraga/dpsim_data/raw/main/Kundur2Areas/matpower/Kundur2Areas_dyn.mat'\n",
    "local_file_static = './Kundur2Areas-data/Kundur2Areas.mat'\n",
    "local_file_dynamic = './Kundur2Areas-data/Kundur2Areas_dyn.mat'\n",
    "urllib.request.urlretrieve(url_static, local_file_static)\n",
    "urllib.request.urlretrieve(url_dynamic, local_file_dynamic)\n",
    "\n",
    "time_step = 1e-4\n",
    "t_f = 2\n",
    "start_fault_time = 0.1\n",
    "fault_clearing_time = 0.2"
   ]
  },
  {
   "attachments": {},
   "cell_type": "markdown",
   "metadata": {},
   "source": [
    "### 1. Powerflow for initialization"
   ]
  },
  {
   "cell_type": "code",
   "execution_count": 3,
   "metadata": {},
   "outputs": [
    {
     "name": "stderr",
     "output_type": "stream",
     "text": [
      "[14:25:43.911879 Kundur2Areas_PF info] Initialize simulation: Kundur2Areas_PF\n",
      "[14:25:43.912226 Kundur2Areas_PF_PF_Solver warning] Unable to get base voltage at N5\n",
      "[14:25:43.912233 Kundur2Areas_PF_PF_Solver warning] Unable to get base voltage at N6\n",
      "[14:25:43.912237 Kundur2Areas_PF_PF_Solver warning] Unable to get base voltage at N7\n",
      "[14:25:43.912239 Kundur2Areas_PF_PF_Solver warning] Unable to get base voltage at N7\n",
      "[14:25:43.912242 Kundur2Areas_PF_PF_Solver warning] Unable to get base voltage at N8\n",
      "[14:25:43.912245 Kundur2Areas_PF_PF_Solver warning] Unable to get base voltage at N9\n",
      "[14:25:43.912246 Kundur2Areas_PF_PF_Solver warning] Unable to get base voltage at N9\n",
      "[14:25:43.912249 Kundur2Areas_PF_PF_Solver warning] Unable to get base voltage at N10\n",
      "[14:25:43.912252 Kundur2Areas_PF_PF_Solver warning] Unable to get base voltage at N11\n",
      "[14:25:43.912432 Kundur2Areas_PF info] Scheduling tasks.\n",
      "[14:25:43.912558 Kundur2Areas_PF info] Scheduling done.\n",
      "[14:25:43.912560 Kundur2Areas_PF info] Opening interfaces.\n",
      "[14:25:43.912561 Kundur2Areas_PF info] Start synchronization with remotes on interfaces\n",
      "[14:25:43.912562 Kundur2Areas_PF info] Synchronized simulation start with remotes\n",
      "[14:25:43.912563 Kundur2Areas_PF info] Start simulation: Kundur2Areas_PF\n",
      "[14:25:43.912569 Kundur2Areas_PF info] Time step: 1.000000e+00\n",
      "[14:25:43.912570 Kundur2Areas_PF info] Final time: 1.000000e-01\n",
      "[14:25:43.912973 Kundur2Areas_PF info] Simulation calculation time: 0.000401\n",
      "[14:25:43.913009 Kundur2Areas_PF info] Simulation finished.\n"
     ]
    }
   ],
   "source": [
    "sim_name_pf = 'Kundur2Areas_PF'\n",
    "dpsimpy.Logger.set_log_dir('logs/' + sim_name_pf)\n",
    "\n",
    "# read and create dpsim topology\n",
    "mpc_reader_pf = matpower.Reader(mpc_file_path=local_file_static, mpc_name='Kundur2Areas')\n",
    "mpc_reader_pf.load_mpc(domain=matpower.Domain.PF)\n",
    "system_pf = mpc_reader_pf.system\n",
    "\n",
    "# log results\n",
    "logger = dpsimpy.Logger(sim_name_pf)\n",
    "for node in system_pf.nodes:\n",
    "    logger.log_attribute(node.name()+'.V', 'v', node)\n",
    "    logger.log_attribute(node.name()+'.S', 's', node)\n",
    "\n",
    "# Parametrize and run simulation\n",
    "sim_pf = dpsimpy.Simulation(sim_name_pf, dpsimpy.LogLevel.info)\n",
    "sim_pf.set_system(system_pf)\n",
    "sim_pf.set_time_step(1)\n",
    "sim_pf.set_final_time(0.1)\n",
    "sim_pf.set_domain(dpsimpy.Domain.SP)\n",
    "sim_pf.set_solver(dpsimpy.Solver.NRP)\n",
    "sim_pf.do_init_from_nodes_and_terminals(False)\n",
    "sim_pf.set_solver_component_behaviour(dpsimpy.SolverBehaviour.Initialization)\n",
    "sim_pf.add_logger(logger)\n",
    "sim_pf.run()"
   ]
  },
  {
   "cell_type": "code",
   "execution_count": 4,
   "metadata": {},
   "outputs": [],
   "source": [
    "#system_pf"
   ]
  },
  {
   "cell_type": "markdown",
   "metadata": {},
   "source": [
    "### 2. Steady-state, Monolithic simulation"
   ]
  },
  {
   "cell_type": "markdown",
   "metadata": {},
   "source": [
    "#### Declare some functions"
   ]
  },
  {
   "cell_type": "code",
   "execution_count": 5,
   "metadata": {},
   "outputs": [],
   "source": [
    "def Kundur2Areas_SS(domain=\"SP\"):\n",
    "    if domain==\"SP\":\n",
    "        matpower_domain = matpower.Domain.SP\n",
    "        dpsim_domain = dpsimpy.Domain.SP\n",
    "    elif domain==\"DP\":\n",
    "        matpower_domain = matpower.Domain.DP\n",
    "        dpsim_domain = dpsimpy.Domain.DP\n",
    "    else:\n",
    "        domain=\"EMT\"\n",
    "        matpower_domain = matpower.Domain.EMT\n",
    "        dpsim_domain = dpsimpy.Domain.EMT\n",
    "\n",
    "    sim_name_ss = domain + \"_Kundur2Areas_SS\"        \n",
    "    dpsimpy.Logger.set_log_dir('logs/' + sim_name_ss)\n",
    "\n",
    "    mpc_reader_dyn = matpower.Reader(mpc_file_path=local_file_static, mpc_name='Kundur2Areas',\n",
    "                                     mpc_dyn_file_path=local_file_dynamic, mpc_dyn_name='Kundur2Areas_dyn')\n",
    "    mpc_reader_dyn.create_dpsim_objects(domain=matpower_domain, frequency=60, \n",
    "                                     with_avr=False, with_tg=False, with_pss=False)\n",
    "\n",
    "    ### Extend topology with 3ps fault\n",
    "    sw = mpc_reader_dyn.add_3ph_faut(\"N7\", switch_closed=1e-3, switch_open=1e18)\n",
    "    \n",
    "    # create dpsim topology\n",
    "    mpc_reader_dyn.create_dpsim_topology()\n",
    "\n",
    "    #initialize node voltages using pf results\n",
    "    system_dyn = mpc_reader_dyn.system\n",
    "    system_dyn.init_with_powerflow(system_pf, dpsim_domain)\n",
    "\n",
    "    # log results\n",
    "    logger = dpsimpy.Logger(sim_name_ss)\n",
    "    for node in system_dyn.nodes:\n",
    "        logger.log_attribute(node.name()+'.V', 'v', node)\n",
    "    #for gen_name in [\"Gen_N1\", \"Gen_N2\", \"Gen_N3\", \"Gen_N3\", \"Gen_N4\"]:\n",
    "    #    logger.log_attribute(gen_name+\".Pe\", 'Te', mpc_reader_dyn.dpsimpy_comp_dict[gen_name][0])\n",
    "\n",
    "    # Parametrize and run simulation\n",
    "    sim = dpsimpy.Simulation(sim_name_ss, dpsimpy.LogLevel.info)\n",
    "    sim.set_system(system_dyn)\n",
    "    if domain==\"SP\":\n",
    "        sim.set_time_step(1e-3)\n",
    "    else:\n",
    "        sim.set_time_step(time_step)\n",
    "    sim.set_final_time(t_f)\n",
    "    sim.set_domain(dpsim_domain)\n",
    "    sim.set_solver(dpsimpy.Solver.MNA)\n",
    "    sim.set_direct_solver_implementation(dpsimpy.DirectLinearSolverImpl.KLU)\n",
    "    sim.do_init_from_nodes_and_terminals(True)\n",
    "    sim.add_logger(logger)\n",
    "    sim.do_system_matrix_recomputation(True)\n",
    "\n",
    "    # add events\n",
    "    sw_event_1 = dpsimpy.event.SwitchEvent(start_fault_time, sw, True)\n",
    "    sw_event_2 = dpsimpy.event.SwitchEvent(fault_clearing_time, sw, False)\n",
    "    sim.add_event(sw_event_1)\n",
    "    sim.add_event(sw_event_2)\n",
    "    \n",
    "    sim.run()\n",
    "    \n",
    "    return sim_name_ss"
   ]
  },
  {
   "cell_type": "markdown",
   "metadata": {},
   "source": [
    "#### Dpsim Simulations"
   ]
  },
  {
   "cell_type": "code",
   "execution_count": 6,
   "metadata": {},
   "outputs": [
    {
     "name": "stderr",
     "output_type": "stream",
     "text": [
      "[14:25:44.156810 DP_Kundur2Areas_SS info] Initialize simulation: DP_Kundur2Areas_SS\n",
      "[14:25:44.156876 MnaSolverFactory info] creating KLUAdapter solver implementation\n",
      "[14:25:44.170472 DP_Kundur2Areas_SS info] Scheduling tasks.\n",
      "[14:25:44.170822 DP_Kundur2Areas_SS info] Scheduling done.\n",
      "[14:25:44.170826 DP_Kundur2Areas_SS info] Opening interfaces.\n",
      "[14:25:44.170827 DP_Kundur2Areas_SS info] Start synchronization with remotes on interfaces\n",
      "[14:25:44.170828 DP_Kundur2Areas_SS info] Synchronized simulation start with remotes\n",
      "[14:25:44.170829 DP_Kundur2Areas_SS info] Start simulation: DP_Kundur2Areas_SS\n",
      "[14:25:44.170831 DP_Kundur2Areas_SS info] Time step: 1.000000e-04\n",
      "[14:25:44.170834 DP_Kundur2Areas_SS info] Final time: 2.000000e+00\n",
      "[14:25:44.739460 DP_Kundur2Areas_SS info] Simulation calculation time: 0.568583\n",
      "[14:25:44.755789 DP_Kundur2Areas_SS info] Simulation finished.\n"
     ]
    },
    {
     "name": "stdout",
     "output_type": "stream",
     "text": [
      "1.000000e-01: Handle event time\n",
      "2.000000e-01: Handle event time\n"
     ]
    }
   ],
   "source": [
    "sim_name_ss_emt = Kundur2Areas_SS(domain=\"DP\")"
   ]
  },
  {
   "cell_type": "markdown",
   "metadata": {},
   "source": [
    "### Split topologie at node 8"
   ]
  },
  {
   "cell_type": "code",
   "execution_count": 7,
   "metadata": {},
   "outputs": [],
   "source": [
    "cosim_config = {\n",
    "    \"number_topologies\": 2,\n",
    "    \"nodes\": [[\"gnd\", \"N1\", \"N2\", \"N5\", \"N6\", \"N7\", \"N8\"], [\"N3\", \"N4\", \"N11\", \"N10\", \"N9\", \"N8\"]],\n",
    "    \"eq_component\": [\"VS\", \"CS\"],\n",
    "    \"split_node\": \"N8\",\n",
    "    \"sim_names\": [\"DP_Cosim_Kundur2Areas_SS_S1\", \"DP_Cosim_Kundur2Areas_SS_S2\"]\n",
    "}"
   ]
  },
  {
   "cell_type": "markdown",
   "metadata": {},
   "source": [
    "#### Create topologies for cosimulation"
   ]
  },
  {
   "cell_type": "code",
   "execution_count": 8,
   "metadata": {},
   "outputs": [],
   "source": [
    "sim_name_fault = \"Cosim_Kundur2Areas_Fault\"        \n",
    "dpsimpy.Logger.set_log_dir('logs/' + sim_name_fault)\n",
    "\n",
    "# load dynamic topology\n",
    "mpc_reader_dyn = matpower.Reader(mpc_file_path=local_file_static, mpc_name='Kundur2Areas',\n",
    "                                 mpc_dyn_file_path=local_file_dynamic, mpc_dyn_name='Kundur2Areas_dyn')\n",
    "mpc_reader_dyn.create_dpsim_objects(domain=matpower.Domain.DP, frequency=60, \n",
    "                                 with_avr=False, with_tg=False, with_pss=False)\n",
    "\n",
    "### Extend topology with 3ps fault\n",
    "sw = mpc_reader_dyn.add_3ph_faut(\"N7\", switch_closed=1e-3, switch_open=1e18)\n",
    "\n",
    "# create dpsim topology\n",
    "mpc_reader_dyn.create_dpsim_topology()\n",
    "\n",
    "#initialize node voltages using pf results\n",
    "system_dyn = mpc_reader_dyn.system\n",
    "system_dyn.init_with_powerflow(system_pf, dpsimpy.Domain.DP)\n",
    "\n",
    "#create topologies for cosimulation\n",
    "[sys_topo_1, sys_topo_2] = mpc_reader_dyn.create_cosim_topologies(cosim_config)"
   ]
  },
  {
   "cell_type": "code",
   "execution_count": 9,
   "metadata": {},
   "outputs": [],
   "source": [
    "#sys_topo_1"
   ]
  },
  {
   "cell_type": "markdown",
   "metadata": {},
   "source": [
    "#### Prepare 2nd sub topology"
   ]
  },
  {
   "cell_type": "code",
   "execution_count": 10,
   "metadata": {},
   "outputs": [
    {
     "name": "stderr",
     "output_type": "stream",
     "text": [
      "[14:25:45.078614 DP_Cosim_Kundur2Areas_SS_S2 info] Initialize simulation: DP_Cosim_Kundur2Areas_SS_S2\n",
      "[14:25:45.078851 MnaSolverFactory info] creating KLUAdapter solver implementation\n",
      "[14:25:45.085466 DP_Cosim_Kundur2Areas_SS_S2 info] Scheduling tasks.\n",
      "[14:25:45.086055 DP_Cosim_Kundur2Areas_SS_S2 info] Scheduling done.\n",
      "[14:25:45.086066 DP_Cosim_Kundur2Areas_SS_S2 info] Opening interfaces.\n",
      "[14:25:45.086069 DP_Cosim_Kundur2Areas_SS_S2 info] Start synchronization with remotes on interfaces\n",
      "[14:25:45.086072 DP_Cosim_Kundur2Areas_SS_S2 info] Synchronized simulation start with remotes\n",
      "[14:25:45.086077 DP_Cosim_Kundur2Areas_SS_S2 info] Start simulation: DP_Cosim_Kundur2Areas_SS_S2\n",
      "[14:25:45.086082 DP_Cosim_Kundur2Areas_SS_S2 info] Time step: 1.000000e-04\n",
      "[14:25:45.086088 DP_Cosim_Kundur2Areas_SS_S2 info] Final time: 2.000000e+00\n"
     ]
    }
   ],
   "source": [
    "sim_name_ss_s2 = cosim_config[\"sim_names\"][1]\n",
    "dpsimpy.Logger.set_log_dir('logs/' + sim_name_ss_s2)\n",
    "\n",
    "# set initial reference current of current source\n",
    "init_current = sim_pf.get_idobj_attr(\"line5_8-9\", 'current_vector').get()[1][0] + sim_pf.get_idobj_attr(\"line6_8-9\", 'current_vector').get()[1][0]\n",
    "sys_topo_2.component(\"CS_N8\").set_parameters(init_current * np.sqrt(3))\n",
    "\n",
    "# log results\n",
    "logger = dpsimpy.Logger(sim_name_ss_s2)\n",
    "for node in sys_topo_2.nodes:\n",
    "    logger.log_attribute(node.name()+'.V', 'v', node)\n",
    "#for gen_name in [\"Gen_N1\", \"Gen_N2\"]:\n",
    "#    logger.log_attribute(gen_name+\".Pe\", 'Te', mpc_reader_dyn.dpsimpy_comp_dict[gen_name][0])\n",
    "\n",
    "logger.log_attribute(sys_topo_2.component(\"CS_N8\").name()+'.I', 'i_intf', sys_topo_2.component(\"CS_N8\")) \n",
    "logger.log_attribute(sys_topo_2.component(\"CS_N8\").name()+'.V', 'v_intf', sys_topo_2.component(\"CS_N8\")) \n",
    "\n",
    "\n",
    "# Parametrize and run simulation\n",
    "sim2 = dpsimpy.Simulation(sim_name_ss_s2, dpsimpy.LogLevel.info)\n",
    "sim2.set_system(sys_topo_2)\n",
    "sim2.set_time_step(time_step)\n",
    "sim2.set_final_time(t_f)\n",
    "sim2.set_domain(dpsimpy.Domain.DP)\n",
    "sim2.set_solver(dpsimpy.Solver.MNA)\n",
    "sim2.set_direct_solver_implementation(dpsimpy.DirectLinearSolverImpl.KLU)\n",
    "sim2.do_init_from_nodes_and_terminals(True)\n",
    "sim2.add_logger(logger)\n",
    "sim2.do_system_matrix_recomputation(True)\n",
    "   \n",
    "sim2.start()"
   ]
  },
  {
   "cell_type": "markdown",
   "metadata": {},
   "source": [
    "#### Prepare 1st sub topology"
   ]
  },
  {
   "cell_type": "code",
   "execution_count": 11,
   "metadata": {},
   "outputs": [
    {
     "name": "stderr",
     "output_type": "stream",
     "text": [
      "[14:25:45.155122 DP_Cosim_Kundur2Areas_SS_S1 info] Initialize simulation: DP_Cosim_Kundur2Areas_SS_S1\n",
      "[14:25:45.155221 MnaSolverFactory info] creating KLUAdapter solver implementation\n",
      "[14:25:45.158383 DP_Cosim_Kundur2Areas_SS_S1 info] Scheduling tasks.\n",
      "[14:25:45.158638 DP_Cosim_Kundur2Areas_SS_S1 info] Scheduling done.\n",
      "[14:25:45.158641 DP_Cosim_Kundur2Areas_SS_S1 info] Opening interfaces.\n",
      "[14:25:45.158643 DP_Cosim_Kundur2Areas_SS_S1 info] Start synchronization with remotes on interfaces\n",
      "[14:25:45.158644 DP_Cosim_Kundur2Areas_SS_S1 info] Synchronized simulation start with remotes\n",
      "[14:25:45.158646 DP_Cosim_Kundur2Areas_SS_S1 info] Start simulation: DP_Cosim_Kundur2Areas_SS_S1\n",
      "[14:25:45.158662 DP_Cosim_Kundur2Areas_SS_S1 info] Time step: 1.000000e-04\n",
      "[14:25:45.158664 DP_Cosim_Kundur2Areas_SS_S1 info] Final time: 2.000000e+00\n"
     ]
    }
   ],
   "source": [
    "sim_name_ss_s1 = cosim_config[\"sim_names\"][0]\n",
    "dpsimpy.Logger.set_log_dir('logs/' + sim_name_ss_s1)\n",
    "\n",
    "# set initial current of voltage source\n",
    "init_current = sim_pf.get_idobj_attr(\"line3_7-8\", 'current_vector').get()[0][0] + sim_pf.get_idobj_attr(\"line4_7-8\", 'current_vector').get()[0][0]\n",
    "sys_topo_1.component(\"VS_N8\").set_intf_current([-init_current * np.sqrt(3)])\n",
    "\n",
    "# set parameters of voltage source\n",
    "init_voltage = sim_pf.get_idobj_attr(\"N8\", 'v').get()[0]\n",
    "sys_topo_1.component(\"VS_N8\").set_parameters(init_voltage)\n",
    "\n",
    "# log results\n",
    "logger = dpsimpy.Logger(sim_name_ss_s1)\n",
    "for node in sys_topo_1.nodes:\n",
    "    logger.log_attribute(node.name()+'.V', 'v', node)\n",
    "#for gen_name in [\"Gen_N1\", \"Gen_N2\"]:\n",
    "#    logger.log_attribute(gen_name+\".Pe\", 'Te', mpc_reader_dyn.dpsimpy_comp_dict[gen_name][0])\n",
    "\n",
    "logger.log_attribute(sys_topo_1.component(\"VS_N8\").name()+'.I', 'i_intf', sys_topo_1.component(\"VS_N8\")) \n",
    "logger.log_attribute(sys_topo_1.component(\"VS_N8\").name()+'.V', 'v_intf', sys_topo_1.component(\"VS_N8\")) \n",
    "\n",
    "# Parametrize and run simulation\n",
    "sim1 = dpsimpy.Simulation(sim_name_ss_s1, dpsimpy.LogLevel.info)\n",
    "sim1.set_system(sys_topo_1)\n",
    "sim1.set_time_step(time_step)\n",
    "sim1.set_final_time(t_f)\n",
    "sim1.set_domain(dpsimpy.Domain.DP)\n",
    "sim1.set_solver(dpsimpy.Solver.MNA)\n",
    "sim1.set_direct_solver_implementation(dpsimpy.DirectLinearSolverImpl.KLU)\n",
    "sim1.do_init_from_nodes_and_terminals(True)\n",
    "sim1.add_logger(logger)\n",
    "sim1.do_system_matrix_recomputation(True)\n",
    "\n",
    "# add events\n",
    "sw_event_1 = dpsimpy.event.SwitchEvent(start_fault_time, sw, True)\n",
    "sw_event_2 = dpsimpy.event.SwitchEvent(fault_clearing_time, sw, False)\n",
    "sim1.add_event(sw_event_1)\n",
    "sim1.add_event(sw_event_2)\n",
    "\n",
    "sim1.start()\n",
    "y_1_0 = sim1.get_idobj_attr(\"VS_N8\", \"i_intf\").get()"
   ]
  },
  {
   "cell_type": "code",
   "execution_count": 12,
   "metadata": {},
   "outputs": [],
   "source": [
    "#sys_topo_1"
   ]
  },
  {
   "cell_type": "markdown",
   "metadata": {},
   "source": [
    "#### Execute cosimulation"
   ]
  },
  {
   "cell_type": "code",
   "execution_count": 13,
   "metadata": {},
   "outputs": [
    {
     "name": "stdout",
     "output_type": "stream",
     "text": [
      "1.000000e-01: Handle event time\n",
      "2.000000e-01: Handle event time\n"
     ]
    },
    {
     "name": "stderr",
     "output_type": "stream",
     "text": [
      "[14:25:46.549771 DP_Cosim_Kundur2Areas_SS_S1 info] Simulation calculation time: 1.391067\n",
      "[14:25:46.560102 DP_Cosim_Kundur2Areas_SS_S1 info] Simulation finished.\n",
      "[14:25:46.560505 DP_Cosim_Kundur2Areas_SS_S2 info] Simulation calculation time: 1.474342\n",
      "[14:25:46.570864 DP_Cosim_Kundur2Areas_SS_S2 info] Simulation finished.\n"
     ]
    }
   ],
   "source": [
    "t_k = 0.0\n",
    "y_1 = y_1_0\n",
    "y_2 = sim2.get_idobj_attr(\"CS_N8\", \"v_intf\").get()\n",
    "\n",
    "while t_k < t_f:\n",
    "    u_2 = y_1\n",
    "    sim2.get_idobj_attr(\"CS_N8\", \"I_ref\").set(u_2)\n",
    "\n",
    "    sim2.next()\n",
    "    y_2 = sim2.get_idobj_attr(\"CS_N8\", \"v_intf\").get()\n",
    "    u_1 = y_2\n",
    "\n",
    "    sim1.get_idobj_attr(\"VS_N8\", \"V_ref\").set(u_1)\n",
    "    t_k = sim1.next()\n",
    "\n",
    "    y_1 = sim1.get_idobj_attr(\"VS_N8\", \"i_intf\").get()\n",
    "\n",
    "sim1.stop()\n",
    "sim2.stop()"
   ]
  },
  {
   "cell_type": "markdown",
   "metadata": {},
   "source": [
    "### Compare steady state results"
   ]
  },
  {
   "cell_type": "code",
   "execution_count": 14,
   "metadata": {},
   "outputs": [
    {
     "name": "stdout",
     "output_type": "stream",
     "text": [
      "column number: 12\n",
      "results length: 20001\n",
      "real column names: []\n",
      "complex column names: ['N1.V', 'N10.V', 'N11.V', 'N2.V', 'N3.V', 'N4.V', 'N5.V', 'N6.V', 'N7.V', 'N8.V', 'N9.V', 'gnd.V']\n",
      "column number: 9\n",
      "results length: 20001\n",
      "real column names: []\n",
      "complex column names: ['N1.V', 'N2.V', 'N5.V', 'N6.V', 'N7.V', 'N8.V', 'VS_N8.I', 'VS_N8.V', 'gnd.V']\n",
      "column number: 8\n",
      "results length: 20001\n",
      "real column names: []\n",
      "complex column names: ['CS_N8.I', 'CS_N8.V', 'N10.V', 'N11.V', 'N3.V', 'N4.V', 'N8.V', 'N9.V']\n"
     ]
    }
   ],
   "source": [
    "from villas.dataprocessing.timeseries import TimeSeries as ts\n",
    "import villas.dataprocessing.plottools as pt\n",
    "\n",
    "dpsim_result_file_ss = 'logs/' + sim_name_ss_emt + '/' + sim_name_ss_emt + '.csv'\n",
    "ts_dpsim_fault_dp = read_timeseries_csv(dpsim_result_file_ss)\n",
    "\n",
    "dpsim_result_file_ss_s1 = 'logs/' + sim_name_ss_s1 + '/' + sim_name_ss_s1 + '.csv'\n",
    "ts_dpsim_fault_s1_dp = read_timeseries_csv(dpsim_result_file_ss_s1)\n",
    "\n",
    "dpsim_result_file_ss_s2 = 'logs/' + sim_name_ss_s2 + '/' + sim_name_ss_s2 + '.csv'\n",
    "ts_dpsim_fault_s2_dp = read_timeseries_csv(dpsim_result_file_ss_s2)"
   ]
  },
  {
   "cell_type": "markdown",
   "metadata": {},
   "source": [
    "### Define plot functions"
   ]
  },
  {
   "cell_type": "code",
   "execution_count": 15,
   "metadata": {},
   "outputs": [],
   "source": [
    "timestep_common = 1e-3\n",
    "t_begin = 0.0\n",
    "t_end = t_f\n",
    "begin_idx = int(t_begin/timestep_common)\n",
    "end_idx= int(t_end/timestep_common)\n",
    "time = np.linspace(t_begin, t_end, num=end_idx-begin_idx)\n",
    "\n",
    "#plot parameters\n",
    "width = 8\n",
    "height = 4\n",
    "\n",
    "def plot_node_volt_abs(varname_dpsim, \n",
    "                       ts_dpsim_emt, ts_dpsim_emt_s1, ts_dpsim_emt_s2, nominal_voltage, timestep_common=1e-3, y_lim=False):\n",
    "    \n",
    "    #convert dpsim voltage to magnitude value and per-unit for comparison with psat\n",
    "    dpsim_emt_values = np.abs(ts_dpsim_emt[varname_dpsim].interpolate(timestep_common).values[begin_idx:end_idx]) / nominal_voltage\n",
    "    dpsim_emt_values_s1 = np.abs(ts_dpsim_emt_s1[varname_dpsim].interpolate(timestep_common).values[begin_idx:end_idx]) / nominal_voltage\n",
    "    dpsim_emt_values_s2 = np.abs(ts_dpsim_emt_s2[varname_dpsim].interpolate(timestep_common).values[begin_idx:end_idx]) / nominal_voltage\n",
    "    \n",
    "    plt.figure(figsize=(width, height))\n",
    "    # plt.subplot(1, 2, 1)\n",
    "    plt.plot(time, dpsim_emt_values, label='DP - DPsim - Monolithic')\n",
    "    plt.plot(time, dpsim_emt_values_s1, label='DP - DPsim - S1')\n",
    "    plt.plot(time, dpsim_emt_values_s2, '--', label='DP - DPsim - S2')\n",
    "    plt.legend(loc='lower right')\n",
    "    plt.xlabel('time (s)')\n",
    "    plt.grid()\n",
    "    #plt.ylim([1.058, 1.062])\n",
    "    # plt.xlim([0.95, 1.2])\n",
    "    plt.xlim([0, t_end])\n",
    "    plt.xlabel(\"time (s)\")\n",
    "    plt.ylabel(varname_dpsim + \" (pu)\")\n",
    "    if (y_lim):\n",
    "        plt.ylim(y_lim)\n",
    "    \n",
    "    # plt.subplot(1, 2, 2)\n",
    "    # plt.plot(time, dpsim_emt_values, ':', label='EMT - DPsim')\n",
    "    # plt.legend(loc='lower right')\n",
    "    # plt.xlabel('time (s)')\n",
    "    # plt.grid()\n",
    "    # #plt.ylim([1.058, 1.062])\n",
    "    # # plt.xlim([2.9, 3.1])\n",
    "    # plt.xlabel(\"time (s)\")\n",
    "    # plt.ylabel(varname_dpsim + \" (pu)\")\n",
    "    # if (y_lim):\n",
    "    #     plt.ylim(y_lim)\n",
    "        \n",
    "    plt.show()\n",
    "    \n",
    "    #calculate RMSE\n",
    "    #rmse = np.sqrt(((dpsim_sp_values_abs_pu - psat_values) ** 2).mean())\n",
    "    #print('RMSE {:s}  = {:.6f} (pu), which is {:.3f}% of the nominal value = {:.3f} (pu) '.format(varname_dpsim, rmse, rmse/1.0*100, 1.0))\n",
    "    \n",
    "# def plot_elec_power(varname_dpsim, varname_digSilent, \n",
    "#                     ts_dpsim_emt, ts_dpsim_dp, ts_digSilent, timestep_common=1e-3, y_lim=False):\n",
    "    \n",
    "#     #convert dpsim voltage to magnitude value and per-unit for comparison with psat\n",
    "#     dpsim_dp_values = ts_dpsim_dp[varname_dpsim].interpolate(timestep_common).values[begin_idx:end_idx] * 9\n",
    "#     dpsim_emt_values = ts_dpsim_emt[varname_dpsim].interpolate(timestep_common).values[begin_idx:end_idx] * 9\n",
    "#     digSilent_values = ts_digSilent[varname_digSilent].interpolate(timestep_common).values[begin_idx:end_idx] / 100\n",
    "    \n",
    "#     plt.figure(figsize=(width, height))\n",
    "#     plt.plot(time, dpsim_dp_values, label='DP - DPsim')\n",
    "#     plt.plot(time, dpsim_emt_values, '--', label='EMT - DPsim')\n",
    "#     plt.plot(time, digSilent_values, '--', label='EMT - DigSilent')\n",
    "#     plt.legend(loc='lower right')\n",
    "#     plt.xlabel('time (s)')\n",
    "#     plt.grid()\n",
    "#     #plt.ylim([6.7, 7.1])\n",
    "#     plt.xlim([t_begin, t_end])\n",
    "#     plt.xlabel(\"time (s)\")\n",
    "#     plt.ylabel(varname_dpsim + \" (pu)\")\n",
    "#     if (y_lim):\n",
    "#         plt.ylim(y_lim)\n",
    "#     plt.show()\n",
    "    \n",
    "    #calculate RMSE\n",
    "    #rmse = np.linalg.norm(dpsim_sp_values - psat_values) / np.sqrt(len(psat_values))\n",
    "    #print('RMSE {:s}  = {:.6f} (pu), which is {:.3f}% of the nominal value = ~{:.3f} (pu) '.format(varname_dpsim, rmse, rmse/7.0*100, 7.0))\n",
    "\n",
    "    #return rmse"
   ]
  },
  {
   "cell_type": "markdown",
   "metadata": {},
   "source": [
    "#### Inteface node"
   ]
  },
  {
   "cell_type": "code",
   "execution_count": 16,
   "metadata": {},
   "outputs": [
    {
     "data": {
      "application/vnd.jupyter.widget-view+json": {
       "model_id": "d44034677ff3493aa6b640e82d1a3fb7",
       "version_major": 2,
       "version_minor": 0
      },
      "image/png": "[encoded data removed]",
      "text/html": [
       "\n",
       "            <div style=\"display: inline-block;\">\n",
       "                <div class=\"jupyter-widgets widget-label\" style=\"text-align: center;\">\n",
       "                    Figure\n",
       "                </div>\n",
       "                <img src='data:image/png;base64,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' width=800.0/>\n",
       "            </div>\n",
       "        "
      ],
      "text/plain": [
       "Canvas(toolbar=Toolbar(toolitems=[('Home', 'Reset original view', 'home', 'home'), ('Back', 'Back to previous …"
      ]
     },
     "metadata": {},
     "output_type": "display_data"
    }
   ],
   "source": [
    "#\"\"\"\n",
    "varname_dpsim = 'N8.V'\n",
    "nominal_voltage = 230000\n",
    "plot_node_volt_abs(varname_dpsim, ts_dpsim_fault_dp, ts_dpsim_fault_s1_dp, ts_dpsim_fault_s2_dp, nominal_voltage, timestep_common=1e-3)\n",
    "#\"\"\""
   ]
  },
  {
   "cell_type": "markdown",
   "metadata": {},
   "source": [
    "### Plot interface current"
   ]
  },
  {
   "cell_type": "markdown",
   "metadata": {},
   "source": [
    "#### Plot Results first sub topology"
   ]
  },
  {
   "cell_type": "code",
   "execution_count": 17,
   "metadata": {},
   "outputs": [
    {
     "name": "stdout",
     "output_type": "stream",
     "text": [
      "column number: 9\n",
      "results length: 20001\n",
      "real column names: []\n",
      "complex column names: ['N1.V', 'N2.V', 'N5.V', 'N6.V', 'N7.V', 'N8.V', 'VS_N8.I', 'VS_N8.V', 'gnd.V']\n"
     ]
    }
   ],
   "source": [
    "dpsim_result_file = 'logs/' + sim_name_ss_s1 + '/' + sim_name_ss_s1 + '.csv'\n",
    "ts_dpsim_emt_top1 = read_timeseries_csv(dpsim_result_file)"
   ]
  },
  {
   "cell_type": "code",
   "execution_count": 18,
   "metadata": {},
   "outputs": [],
   "source": [
    "#mpc_reader_dyn.system"
   ]
  },
  {
   "cell_type": "code",
   "execution_count": 19,
   "metadata": {},
   "outputs": [
    {
     "name": "stderr",
     "output_type": "stream",
     "text": [
      "/usr/local/lib64/python3.9/site-packages/matplotlib/cbook/__init__.py:1298: ComplexWarning: Casting complex values to real discards the imaginary part\n",
      "  return np.asarray(x, float)\n"
     ]
    },
    {
     "data": {
      "text/plain": [
       "Text(0.5, 0, 'time (s)')"
      ]
     },
     "execution_count": 19,
     "metadata": {},
     "output_type": "execute_result"
    },
    {
     "data": {
      "application/vnd.jupyter.widget-view+json": {
       "model_id": "a1a45adb6c2e43f8840d2b1781dd289b",
       "version_major": 2,
       "version_minor": 0
      },
      "image/png": "[encoded data removed]",
      "text/html": [
       "\n",
       "            <div style=\"display: inline-block;\">\n",
       "                <div class=\"jupyter-widgets widget-label\" style=\"text-align: center;\">\n",
       "                    Figure\n",
       "                </div>\n",
       "                <img src='data:image/png;base64,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' width=1200.0/>\n",
       "            </div>\n",
       "        "
      ],
      "text/plain": [
       "Canvas(toolbar=Toolbar(toolitems=[('Home', 'Reset original view', 'home', 'home'), ('Back', 'Back to previous …"
      ]
     },
     "metadata": {},
     "output_type": "display_data"
    }
   ],
   "source": [
    "timestep_common = 1e-3\n",
    "t_begin = 0.0\n",
    "t_end = 1\n",
    "begin_idx = int(t_begin/timestep_common)\n",
    "end_idx= int(t_end/timestep_common)\n",
    "time = np.linspace(t_begin, t_end, num=end_idx-begin_idx)\n",
    "\n",
    "#plot parameters\n",
    "width = 12\n",
    "height = 4\n",
    "\n",
    "varname_dpsim = \"N8.V\"\n",
    "dpsim_emt_values = ts_dpsim_emt_top1[varname_dpsim].interpolate(timestep_common).values[begin_idx:end_idx]\n",
    "    \n",
    "plt.figure(figsize=(width, height))\n",
    "#plt.subplot(1, 2, 1)\n",
    "plt.plot(time, dpsim_emt_values, ':', label='EMT - DPsim')\n",
    "plt.legend(loc='lower right')\n",
    "plt.xlabel('time (s)')\n",
    "plt.grid()\n",
    "#plt.ylim([1.058, 1.062])\n",
    "#plt.xlim([0.95, 1.2])\n",
    "plt.xlabel(\"time (s)\")\n",
    "#plt.ylabel(varname_digSilent + \" (pu)\")"
   ]
  },
  {
   "cell_type": "code",
   "execution_count": 20,
   "metadata": {},
   "outputs": [
    {
     "name": "stdout",
     "output_type": "stream",
     "text": [
      "column number: 8\n",
      "results length: 20001\n",
      "real column names: []\n",
      "complex column names: ['CS_N8.I', 'CS_N8.V', 'N10.V', 'N11.V', 'N3.V', 'N4.V', 'N8.V', 'N9.V']\n"
     ]
    }
   ],
   "source": [
    "dpsim_result_file = 'logs/' + sim_name_ss_s2 + '/' + sim_name_ss_s2 + '.csv'\n",
    "ts_dpsim_emt_top2 = read_timeseries_csv(dpsim_result_file)"
   ]
  },
  {
   "cell_type": "code",
   "execution_count": 21,
   "metadata": {},
   "outputs": [
    {
     "ename": "KeyError",
     "evalue": "'N8.V_0'",
     "output_type": "error",
     "traceback": [
      "\u001b[0;31m---------------------------------------------------------------------------\u001b[0m",
      "\u001b[0;31mKeyError\u001b[0m                                  Traceback (most recent call last)",
      "Input \u001b[0;32mIn [21]\u001b[0m, in \u001b[0;36m<module>\u001b[0;34m\u001b[0m\n\u001b[1;32m     10\u001b[0m height \u001b[38;5;241m=\u001b[39m \u001b[38;5;241m4\u001b[39m\n\u001b[1;32m     12\u001b[0m varname_dpsim \u001b[38;5;241m=\u001b[39m \u001b[38;5;124m\"\u001b[39m\u001b[38;5;124mN8.V\u001b[39m\u001b[38;5;124m\"\u001b[39m\n\u001b[0;32m---> 13\u001b[0m dpsim_emt_values \u001b[38;5;241m=\u001b[39m \u001b[43mts_dpsim_emt_top2\u001b[49m\u001b[43m[\u001b[49m\u001b[43mvarname_dpsim\u001b[49m\u001b[38;5;241;43m+\u001b[39;49m\u001b[38;5;124;43m\"\u001b[39;49m\u001b[38;5;124;43m_0\u001b[39;49m\u001b[38;5;124;43m\"\u001b[39;49m\u001b[43m]\u001b[49m\u001b[38;5;241m.\u001b[39minterpolate(timestep_common)\u001b[38;5;241m.\u001b[39mvalues[begin_idx:end_idx]\n\u001b[1;32m     15\u001b[0m plt\u001b[38;5;241m.\u001b[39mfigure(figsize\u001b[38;5;241m=\u001b[39m(width, height))\n\u001b[1;32m     16\u001b[0m \u001b[38;5;66;03m#plt.subplot(1, 2, 1)\u001b[39;00m\n",
      "\u001b[0;31mKeyError\u001b[0m: 'N8.V_0'"
     ]
    }
   ],
   "source": [
    "timestep_common = 1e-3\n",
    "t_begin = 0.0\n",
    "t_end = 1\n",
    "begin_idx = int(t_begin/timestep_common)\n",
    "end_idx= int(t_end/timestep_common)\n",
    "time = np.linspace(t_begin, t_end, num=end_idx-begin_idx)\n",
    "\n",
    "#plot parameters\n",
    "width = 12\n",
    "height = 4\n",
    "\n",
    "varname_dpsim = \"N8.V\"\n",
    "dpsim_emt_values = ts_dpsim_emt_top2[varname_dpsim+\"_0\"].interpolate(timestep_common).values[begin_idx:end_idx]\n",
    "    \n",
    "plt.figure(figsize=(width, height))\n",
    "#plt.subplot(1, 2, 1)\n",
    "plt.plot(time, dpsim_emt_values, ':', label='EMT - DPsim')\n",
    "plt.legend(loc='lower right')\n",
    "plt.xlabel('time (s)')\n",
    "plt.grid()\n",
    "#plt.ylim([1.058, 1.062])\n",
    "#plt.xlim([0.95, 1.2])\n",
    "plt.xlabel(\"time (s)\")\n",
    "#plt.ylabel(varname_digSilent + \" (pu)\")"
   ]
  },
  {
   "cell_type": "markdown",
   "metadata": {},
   "source": [
    "### 3. Dynamic Simulation with fault at node 7 (Full topology)"
   ]
  },
  {
   "attachments": {},
   "cell_type": "markdown",
   "metadata": {},
   "source": [
    "#### Declare some functions"
   ]
  },
  {
   "cell_type": "code",
   "execution_count": null,
   "metadata": {},
   "outputs": [],
   "source": [
    "# def Kundur2Areas_Fault(domain=\"SP\"):\n",
    "#     if domain==\"SP\":\n",
    "#         matpower_domain = matpower.Domain.SP\n",
    "#         dpsim_domain = dpsimpy.Domain.SP\n",
    "#     elif domain==\"DP\":\n",
    "#         matpower_domain = matpower.Domain.DP\n",
    "#         dpsim_domain = dpsimpy.Domain.DP\n",
    "#     else:\n",
    "#         domain=\"EMT\"\n",
    "#         matpower_domain = matpower.Domain.EMT\n",
    "#         dpsim_domain = dpsimpy.Domain.EMT\n",
    "\n",
    "#     sim_name_fault = domain + \"_Kundur2Areas_Fault\"        \n",
    "#     dpsimpy.Logger.set_log_dir('logs/' + sim_name_fault)\n",
    "\n",
    "#     mpc_reader_dyn = matpower.Reader(mpc_file_path=local_file_static, mpc_name='Kundur2Areas',\n",
    "#                                      mpc_dyn_file_path=local_file_dynamic, mpc_dyn_name='Kundur2Areas_dyn')\n",
    "#     mpc_reader_dyn.create_dpsim_objects(domain=matpower_domain, frequency=60, \n",
    "#                                      with_avr=False, with_tg=False, with_pss=False)\n",
    "\n",
    "#     ### Extend topology with 3ps fault\n",
    "#     sw = mpc_reader_dyn.add_3ph_faut(\"N7\", switch_closed=1e-3, switch_open=1e18)\n",
    "    \n",
    "#     # create dpsim topology\n",
    "#     mpc_reader_dyn.create_dpsim_topology()\n",
    "\n",
    "#     #initialize node voltages using pf results\n",
    "#     system_dyn = mpc_reader_dyn.system\n",
    "#     system_dyn.init_with_powerflow(system_pf, dpsim_domain)\n",
    "\n",
    "#     # log results\n",
    "#     logger = dpsimpy.Logger(sim_name_fault)\n",
    "#     for node in system_dyn.nodes:\n",
    "#         logger.log_attribute(node.name()+'.V', 'v', node)\n",
    "#     for gen_name in [\"Gen_N1\", \"Gen_N2\", \"Gen_N3\", \"Gen_N3\", \"Gen_N4\"]:\n",
    "#         logger.log_attribute(gen_name+\".Pe\", 'Te', mpc_reader_dyn.dpsimpy_comp_dict[gen_name][0])\n",
    "\n",
    "#     # Parametrize and run simulation\n",
    "#     sim = dpsimpy.Simulation(sim_name_fault, dpsimpy.LogLevel.info)\n",
    "#     sim.set_system(system_dyn)\n",
    "#     if domain==\"SP\":\n",
    "#         sim.set_time_step(1e-3)\n",
    "#     else:\n",
    "#         sim.set_time_step(1e-4)\n",
    "#     sim.set_final_time(10)\n",
    "#     sim.set_domain(dpsim_domain)\n",
    "#     sim.set_solver(dpsimpy.Solver.MNA)\n",
    "#     sim.set_direct_solver_implementation(dpsimpy.DirectLinearSolverImpl.KLU)\n",
    "#     sim.do_init_from_nodes_and_terminals(True)\n",
    "#     sim.add_logger(logger)\n",
    "#     sim.do_system_matrix_recomputation(True)\n",
    "\n",
    "#     # add events\n",
    "#     sw_event_1 = dpsimpy.event.SwitchEvent(1, sw, True)\n",
    "#     sw_event_2 = dpsimpy.event.SwitchEvent(1.1, sw, False)\n",
    "#     sim.add_event(sw_event_1)\n",
    "#     sim.add_event(sw_event_2)\n",
    "#     sim.run()\n",
    "    \n",
    "#     return sim_name_fault"
   ]
  },
  {
   "cell_type": "markdown",
   "metadata": {},
   "source": [
    "#### Dpsim Simulations"
   ]
  },
  {
   "cell_type": "code",
   "execution_count": null,
   "metadata": {},
   "outputs": [],
   "source": [
    "# sim_name_fault_dp = Kundur2Areas_Fault(domain=\"DP\")"
   ]
  },
  {
   "cell_type": "code",
   "execution_count": null,
   "metadata": {},
   "outputs": [],
   "source": [
    "# sim_name_fault_emt = Kundur2Areas_Fault(domain=\"EMT\")"
   ]
  },
  {
   "attachments": {},
   "cell_type": "markdown",
   "metadata": {},
   "source": [
    "### Read dynamic results"
   ]
  },
  {
   "cell_type": "code",
   "execution_count": null,
   "metadata": {},
   "outputs": [],
   "source": [
    "# from villas.dataprocessing.timeseries import TimeSeries as ts\n",
    "# import villas.dataprocessing.plottools as pt\n",
    "\n",
    "# dpsim_result_file = 'logs/' + sim_name_fault_dp + '/' + sim_name_fault_dp + '.csv'\n",
    "# ts_dpsim_dp = read_timeseries_csv(dpsim_result_file)\n",
    "\n",
    "# dpsim_result_file = 'logs/' + sim_name_fault_emt + '/' + sim_name_fault_emt + '.csv'\n",
    "# ts_dpsim_emt = read_timeseries_csv(dpsim_result_file)"
   ]
  },
  {
   "cell_type": "markdown",
   "metadata": {},
   "source": [
    "### Load DigSilent Results"
   ]
  },
  {
   "cell_type": "code",
   "execution_count": null,
   "metadata": {},
   "outputs": [],
   "source": [
    "# if not os.path.exists('Kundur2Areas-data'):\n",
    "#     os.mkdir('Kundur2Areas-data')\n",
    "\n",
    "# url = 'https://github.com/martinmoraga/dpsim_data/raw/main/Kundur2Areas/PowerFactory/DigSilent_Kundur2Areas_Fault_N7_TimeStep_100uS_EMT.csv'\n",
    "# local_file = './Kundur2Areas-data/DigSilent_Kundur2Areas_Fault_N7_TimeStep_100uS_EMT.csv'\n",
    "# urllib.request.urlretrieve(url, local_file)\n",
    "# ts_digSilent = read_timeseries_dpsim(local_file)"
   ]
  },
  {
   "attachments": {},
   "cell_type": "markdown",
   "metadata": {},
   "source": [
    "### Define plot functions"
   ]
  },
  {
   "cell_type": "code",
   "execution_count": null,
   "metadata": {},
   "outputs": [],
   "source": [
    "# timestep_common = 1e-3\n",
    "# t_begin = 0.0\n",
    "# t_end = 10\n",
    "# begin_idx = int(t_begin/timestep_common)\n",
    "# end_idx= int(t_end/timestep_common)\n",
    "# time = np.linspace(t_begin, t_end, num=end_idx-begin_idx)\n",
    "\n",
    "# #plot parameters\n",
    "# width = 12\n",
    "# height = 4\n",
    "\n",
    "# def plot_node_volt_abs(varname_dpsim, varname_digSilent, \n",
    "#                        ts_dpsim_emt, ts_dpsim_dp, ts_digSilent, nominal_voltage, timestep_common=1e-3, y_lim=False):\n",
    "    \n",
    "#     #convert dpsim voltage to magnitude value and per-unit for comparison with psat\n",
    "#     dpsim_dp_values_shifted = np.real(ts_dpsim_dp[varname_dpsim].interpolate(timestep_common).frequency_shift(60).values[begin_idx:end_idx] / nominal_voltage)\n",
    "#     dpsim_emt_values = ts_dpsim_emt[varname_dpsim+\"_0\"].interpolate(timestep_common).values[begin_idx:end_idx] / nominal_voltage * np.sqrt(3/2)\n",
    "#     digSilent_values = ts_digSilent[varname_digSilent].interpolate(timestep_common).values[begin_idx:end_idx]\n",
    "    \n",
    "#     plt.figure(figsize=(width, height))\n",
    "#     plt.subplot(1, 2, 1)\n",
    "#     plt.plot(time, dpsim_dp_values_shifted, label='DP - DPsim')\n",
    "#     plt.plot(time, dpsim_emt_values, ':', label='EMT - DPsim')\n",
    "#     plt.plot(time, digSilent_values, '--', label='EMT - DigSilent')\n",
    "#     plt.legend(loc='lower right')\n",
    "#     plt.xlabel('time (s)')\n",
    "#     plt.grid()\n",
    "#     #plt.ylim([1.058, 1.062])\n",
    "#     plt.xlim([0.95, 1.2])\n",
    "#     plt.xlabel(\"time (s)\")\n",
    "#     plt.ylabel(varname_digSilent + \" (pu)\")\n",
    "#     if (y_lim):\n",
    "#         plt.set_ylim(y_lim)\n",
    "    \n",
    "#     plt.subplot(1, 2, 2)\n",
    "#     plt.plot(time, dpsim_dp_values_shifted, label='DP - DPsim')\n",
    "#     plt.plot(time, dpsim_emt_values, ':', label='EMT - DPsim')\n",
    "#     plt.plot(time, digSilent_values, '--', label='EMT - DigSilent')\n",
    "#     plt.legend(loc='lower right')\n",
    "#     plt.xlabel('time (s)')\n",
    "#     plt.grid()\n",
    "#     #plt.ylim([1.058, 1.062])\n",
    "#     plt.xlim([2.9, 3.1])\n",
    "#     plt.xlabel(\"time (s)\")\n",
    "#     plt.ylabel(varname_digSilent + \" (pu)\")\n",
    "#     if (y_lim):\n",
    "#         plt.ylim(y_lim)\n",
    "        \n",
    "#     plt.show()\n",
    "    \n",
    "#     #calculate RMSE\n",
    "#     #rmse = np.sqrt(((dpsim_sp_values_abs_pu - psat_values) ** 2).mean())\n",
    "#     #print('RMSE {:s}  = {:.6f} (pu), which is {:.3f}% of the nominal value = {:.3f} (pu) '.format(varname_dpsim, rmse, rmse/1.0*100, 1.0))\n",
    "    \n",
    "# def plot_elec_power(varname_dpsim, varname_digSilent, \n",
    "#                     ts_dpsim_emt, ts_dpsim_dp, ts_digSilent, timestep_common=1e-3, y_lim=False):\n",
    "    \n",
    "#     #convert dpsim voltage to magnitude value and per-unit for comparison with psat\n",
    "#     dpsim_dp_values = ts_dpsim_dp[varname_dpsim].interpolate(timestep_common).values[begin_idx:end_idx] * 9\n",
    "#     dpsim_emt_values = ts_dpsim_emt[varname_dpsim].interpolate(timestep_common).values[begin_idx:end_idx] * 9\n",
    "#     digSilent_values = ts_digSilent[varname_digSilent].interpolate(timestep_common).values[begin_idx:end_idx] / 100\n",
    "    \n",
    "#     plt.figure(figsize=(width, height))\n",
    "#     plt.plot(time, dpsim_dp_values, label='DP - DPsim')\n",
    "#     plt.plot(time, dpsim_emt_values, '--', label='EMT - DPsim')\n",
    "#     plt.plot(time, digSilent_values, '--', label='EMT - DigSilent')\n",
    "#     plt.legend(loc='lower right')\n",
    "#     plt.xlabel('time (s)')\n",
    "#     plt.grid()\n",
    "#     #plt.ylim([6.7, 7.1])\n",
    "#     plt.xlim([t_begin, t_end])\n",
    "#     plt.xlabel(\"time (s)\")\n",
    "#     plt.ylabel(varname_dpsim + \" (pu)\")\n",
    "#     if (y_lim):\n",
    "#         plt.ylim(y_lim)\n",
    "#     plt.show()\n",
    "    \n",
    "#     #calculate RMSE\n",
    "#     #rmse = np.linalg.norm(dpsim_sp_values - psat_values) / np.sqrt(len(psat_values))\n",
    "#     #print('RMSE {:s}  = {:.6f} (pu), which is {:.3f}% of the nominal value = ~{:.3f} (pu) '.format(varname_dpsim, rmse, rmse/7.0*100, 7.0))\n",
    "\n",
    "#     #return rmse"
   ]
  },
  {
   "cell_type": "markdown",
   "metadata": {},
   "source": [
    "### Plot SG's electrical power"
   ]
  },
  {
   "cell_type": "markdown",
   "metadata": {},
   "source": [
    "##### Gen1"
   ]
  },
  {
   "cell_type": "code",
   "execution_count": null,
   "metadata": {},
   "outputs": [],
   "source": [
    "# varname_dpsim = 'Gen_N1.Pe'\n",
    "# varname_psat = 'p_g3'\n",
    "# varname_digSilent = 'G1_p'\n",
    "# rmse_g1 = plot_elec_power(varname_dpsim, varname_digSilent, ts_dpsim_emt, ts_dpsim_dp, ts_digSilent, timestep_common=1e-3, y_lim=[6.25,7.25])"
   ]
  },
  {
   "cell_type": "markdown",
   "metadata": {},
   "source": [
    "##### Gen2"
   ]
  },
  {
   "cell_type": "code",
   "execution_count": null,
   "metadata": {},
   "outputs": [],
   "source": [
    "# varname_dpsim = 'Gen_N2.Pe'\n",
    "# varname_digSilent = 'G2_p'\n",
    "# rmse_g2 = plot_elec_power(varname_dpsim, varname_digSilent, ts_dpsim_emt, ts_dpsim_dp, ts_digSilent, timestep_common=1e-3, y_lim=[6.4,7.2])"
   ]
  },
  {
   "cell_type": "markdown",
   "metadata": {},
   "source": [
    "##### Gen3"
   ]
  },
  {
   "cell_type": "code",
   "execution_count": null,
   "metadata": {},
   "outputs": [],
   "source": [
    "# varname_dpsim = 'Gen_N3.Pe'\n",
    "# varname_digSilent = 'G4_p'\n",
    "# rmse_g3 = plot_elec_power(varname_dpsim, varname_digSilent, ts_dpsim_emt, ts_dpsim_dp, ts_digSilent, timestep_common=1e-3, y_lim=[5,9])"
   ]
  },
  {
   "cell_type": "markdown",
   "metadata": {},
   "source": [
    "##### Gen4"
   ]
  },
  {
   "cell_type": "code",
   "execution_count": null,
   "metadata": {},
   "outputs": [],
   "source": [
    "# varname_dpsim = 'Gen_N4.Pe'\n",
    "# varname_digSilent = 'G3_p'\n",
    "# rmse_g4 = plot_elec_power(varname_dpsim, varname_digSilent, ts_dpsim_emt, ts_dpsim_dp, ts_digSilent, timestep_common=1e-3, y_lim=[5.5,8.5])"
   ]
  },
  {
   "cell_type": "markdown",
   "metadata": {},
   "source": [
    "### Assertion"
   ]
  },
  {
   "cell_type": "code",
   "execution_count": null,
   "metadata": {},
   "outputs": [],
   "source": [
    "#assert(np.absolute(rmse_g1)<0.081)\n",
    "#assert(np.absolute(rmse_g2)<0.094)\n",
    "#assert(np.absolute(rmse_g3)<0.023)\n",
    "#assert(np.absolute(rmse_g4)<0.024)"
   ]
  },
  {
   "cell_type": "markdown",
   "metadata": {},
   "source": [
    "### Plot Voltages"
   ]
  },
  {
   "attachments": {},
   "cell_type": "markdown",
   "metadata": {},
   "source": [
    "#### LV side"
   ]
  },
  {
   "cell_type": "code",
   "execution_count": null,
   "metadata": {},
   "outputs": [],
   "source": [
    "#\"\"\"\n",
    "# varname_dpsim = 'N1.V'\n",
    "# varname_digSilent = 'v1'\n",
    "# nominal_voltage = 20000\n",
    "# plot_node_volt_abs(varname_dpsim, varname_digSilent, ts_dpsim_emt, ts_dpsim_dp, ts_digSilent, nominal_voltage, timestep_common=1e-3)\n",
    "# #\"\"\""
   ]
  },
  {
   "cell_type": "code",
   "execution_count": null,
   "metadata": {},
   "outputs": [],
   "source": [
    "#\"\"\"\n",
    "# varname_dpsim = 'N2.V'\n",
    "# varname_digSilent = 'v2'\n",
    "# nominal_voltage = 20000\n",
    "# plot_node_volt_abs(varname_dpsim, varname_digSilent, ts_dpsim_emt, ts_dpsim_dp, ts_digSilent, nominal_voltage, timestep_common=1e-3)\n",
    "# #\"\"\""
   ]
  },
  {
   "cell_type": "code",
   "execution_count": null,
   "metadata": {},
   "outputs": [],
   "source": [
    "#\"\"\"\n",
    "# varname_dpsim = 'N3.V'\n",
    "# varname_digSilent = 'v3'\n",
    "# nominal_voltage = 20000\n",
    "# plot_node_volt_abs(varname_dpsim, varname_digSilent, ts_dpsim_emt, ts_dpsim_dp, ts_digSilent, nominal_voltage, timestep_common=1e-3)\n",
    "# #\"\"\""
   ]
  },
  {
   "cell_type": "code",
   "execution_count": null,
   "metadata": {},
   "outputs": [],
   "source": [
    "#\"\"\"\n",
    "# varname_dpsim = 'N4.V'\n",
    "# varname_digSilent = 'v4'\n",
    "# nominal_voltage = 20000\n",
    "# plot_node_volt_abs(varname_dpsim, varname_digSilent, ts_dpsim_emt, ts_dpsim_dp, ts_digSilent, nominal_voltage, timestep_common=1e-3)\n",
    "# #\"\"\""
   ]
  },
  {
   "attachments": {},
   "cell_type": "markdown",
   "metadata": {},
   "source": [
    "#### Low voltage side"
   ]
  },
  {
   "cell_type": "code",
   "execution_count": null,
   "metadata": {},
   "outputs": [],
   "source": [
    "#\"\"\"\n",
    "# varname_dpsim = 'N5.V'\n",
    "# varname_digSilent = 'v5'\n",
    "# nominal_voltage = 230000\n",
    "# plot_node_volt_abs(varname_dpsim, varname_digSilent, ts_dpsim_emt, ts_dpsim_dp, ts_digSilent, nominal_voltage, timestep_common=1e-3)\n",
    "# #\"\"\"\n"
   ]
  },
  {
   "cell_type": "code",
   "execution_count": null,
   "metadata": {},
   "outputs": [],
   "source": [
    "#\"\"\"\n",
    "# varname_dpsim = 'N6.V'\n",
    "# varname_digSilent = 'v6'\n",
    "# nominal_voltage = 230000\n",
    "# plot_node_volt_abs(varname_dpsim, varname_digSilent, ts_dpsim_emt, ts_dpsim_dp, ts_digSilent, nominal_voltage, timestep_common=1e-3)\n",
    "# #\"\"\""
   ]
  },
  {
   "cell_type": "code",
   "execution_count": null,
   "metadata": {},
   "outputs": [],
   "source": [
    "#\"\"\"\n",
    "# varname_dpsim = 'N7.V'\n",
    "# varname_digSilent = 'v7'\n",
    "# nominal_voltage = 230000\n",
    "# plot_node_volt_abs(varname_dpsim, varname_digSilent, ts_dpsim_emt, ts_dpsim_dp, ts_digSilent, nominal_voltage, timestep_common=1e-3)\n",
    "# #\"\"\""
   ]
  },
  {
   "cell_type": "code",
   "execution_count": null,
   "metadata": {},
   "outputs": [],
   "source": [
    "#\"\"\"\n",
    "# varname_dpsim = 'N8.V'\n",
    "# varname_digSilent = 'v8'\n",
    "# nominal_voltage = 230000\n",
    "# plot_node_volt_abs(varname_dpsim, varname_digSilent, ts_dpsim_emt, ts_dpsim_dp, ts_digSilent, nominal_voltage, timestep_common=1e-3)\n",
    "# #\"\"\""
   ]
  },
  {
   "cell_type": "code",
   "execution_count": null,
   "metadata": {},
   "outputs": [],
   "source": [
    "#\"\"\"\n",
    "# varname_dpsim = 'N9.V'\n",
    "# varname_digSilent = 'v9'\n",
    "# nominal_voltage = 230000\n",
    "# plot_node_volt_abs(varname_dpsim, varname_digSilent, ts_dpsim_emt, ts_dpsim_dp, ts_digSilent, nominal_voltage, timestep_common=1e-3)\n",
    "# #\"\"\""
   ]
  },
  {
   "cell_type": "code",
   "execution_count": null,
   "metadata": {},
   "outputs": [],
   "source": [
    "#\"\"\"\n",
    "# varname_dpsim = 'N10.V'\n",
    "# varname_digSilent = 'v10'\n",
    "# nominal_voltage = 230000\n",
    "# plot_node_volt_abs(varname_dpsim, varname_digSilent, ts_dpsim_emt, ts_dpsim_dp, ts_digSilent, nominal_voltage, timestep_common=1e-3)\n",
    "# #\"\"\""
   ]
  },
  {
   "cell_type": "code",
   "execution_count": null,
   "metadata": {},
   "outputs": [],
   "source": [
    "#\"\"\"\n",
    "# varname_dpsim = 'N11.V'\n",
    "# varname_digSilent = 'v11'\n",
    "# nominal_voltage = 230000\n",
    "# plot_node_volt_abs(varname_dpsim, varname_digSilent, ts_dpsim_emt, ts_dpsim_dp, ts_digSilent, nominal_voltage, timestep_common=1e-3)\n",
    "# #\"\"\""
   ]
  }
 ],
 "metadata": {
  "kernelspec": {
   "display_name": "Python 3",
   "language": "python",
   "name": "python3"
  },
  "language_info": {
   "codemirror_mode": {
    "name": "ipython",
    "version": 3
   },
   "file_extension": ".py",
   "mimetype": "text/x-python",
   "name": "python",
   "nbconvert_exporter": "python",
   "pygments_lexer": "ipython3",
   "version": "3.9.13"
  },
  "tests": {
   "skip": true
  },
  "vscode": {
   "interpreter": {
    "hash": "767d51c1340bd893661ea55ea3124f6de3c7a262a8b4abca0554b478b1e2ff90"
   }
  }
 },
 "nbformat": 4,
 "nbformat_minor": 4
}
