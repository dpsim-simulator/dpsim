{
    "cells": [
        {
            "attachments": {},
            "cell_type": "markdown",
            "metadata": {},
            "source": [
                "# IEEE39 - EMT/DP Simulation"
            ]
        },
        {
            "cell_type": "code",
            "execution_count": null,
            "metadata": {},
            "outputs": [],
            "source": [
                "import subprocess, sys, os\n",
                "import urllib.request\n",
                "\n",
                "dpsim_root_dir = subprocess.Popen(['git', 'rev-parse', '--show-toplevel'], stdout=subprocess.PIPE).communicate()[0].rstrip().decode('utf-8')\n",
                "sys.path.insert(0, os.path.join(dpsim_root_dir, 'python/src/dpsim/'))\n",
                "sys.path.insert(0, os.path.join(dpsim_root_dir, 'build'))\n",
                "\n",
                "import matpower\n",
                "import dpsimpy\n",
                "from villas.dataprocessing.readtools import *\n",
                "from villas.dataprocessing.timeseries import *\n",
                "import urllib.request\n",
                "import matplotlib.pyplot as plt\n",
                "\n",
                "%matplotlib widget"
            ]
        },
        {
            "cell_type": "code",
            "execution_count": null,
            "metadata": {},
            "outputs": [],
            "source": [
                "if not os.path.exists('ieee39-data'):\n",
                "    os.mkdir('ieee39-data')\n",
                "\n",
                "file_names = [\"20140528T0800Z_XX_YYY_DY_.xml\", \"20140528T0800Z_XX_YYY_SSH_.xml\", \"20140528T0800Z_XX_YYY_SV_.xml\", \"20140528T0800Z_XX_YYY_TP_.xml\", \"20140528T0800Z_YYY_EQ_.xml\"]\n",
                "for file_name in file_names:\n",
                "    url_dynamic = 'https://raw.githubusercontent.com/martinmoraga/dpsim_data/main/IEEE39/CIM/' + file_name\n",
                "    local_file = './ieee39-data/' + file_name\n",
                "    urllib.request.urlretrieve(url_dynamic, local_file)\n",
                "    \n",
                "path_to_files = []\n",
                "for item in file_names: path_to_files.append('./ieee39-data/' + item)"
            ]
        },
        {
            "attachments": {},
            "cell_type": "markdown",
            "metadata": {},
            "source": [
                "### PF Simulation for initialization"
            ]
        },
        {
            "cell_type": "code",
            "execution_count": null,
            "metadata": {},
            "outputs": [],
            "source": [
                "sim_name_pf = \"IEEE39\"\n",
                "\n",
                "dpsimpy.Logger.set_log_dir('logs/' + sim_name_pf)\n",
                "reader = dpsimpy.CIMReader(sim_name_pf, dpsimpy.LogLevel.debug, dpsimpy.LogLevel.debug)\n",
                "system_pf = reader.loadCIM(60, path_to_files, dpsimpy.Domain.SP, dpsimpy.PhaseType.Single, dpsimpy.GeneratorType.PVNode)\n",
                "gen_ref = system_pf.component(\"G 02\")\n",
                "gen_ref.modify_power_flow_bus_type(dpsimpy.PowerflowBusType.VD)\n",
                "\n",
                "logger = dpsimpy.Logger(sim_name_pf)\n",
                "for node in system_pf.nodes:\n",
                "    logger.log_attribute(node.name() + '.V', 'v', node)\n",
                "    logger.log_attribute(node.name() + '.S', 's', node)\n",
                "    \n",
                "sim = dpsimpy.Simulation(sim_name_pf, dpsimpy.LogLevel.debug)\n",
                "sim.set_system(system_pf)\n",
                "sim.set_time_step(0.1)\n",
                "sim.set_final_time(0.1)\n",
                "sim.set_domain(dpsimpy.Domain.SP)\n",
                "sim.set_solver(dpsimpy.Solver.NRP)\n",
                "sim.do_init_from_nodes_and_terminals(True)\n",
                "\n",
                "sim.add_logger(logger)\n",
                "sim.run()"
            ]
        },
        {
            "cell_type": "markdown",
            "metadata": {},
            "source": [
                "### Dynamic Simulation with fault at node 7"
            ]
        },
        {
            "cell_type": "markdown",
            "metadata": {},
            "source": [
                "#### Declare function for dynamic simulation in DPsim"
            ]
        },
        {
            "cell_type": "code",
            "execution_count": null,
            "metadata": {},
            "outputs": [],
            "source": [
                "def IEEE39_Fault(domain=\"SP\", sg_model=dpsimpy.GeneratorType.SG6bOrderVBR, with_fault=True):\n",
                "\n",
                "    sim_name_dyn = \"IEEE39_\" + domain \n",
                "    dpsimpy.Logger.set_log_dir('logs/' + sim_name_dyn)\n",
                "    \n",
                "    dpsim_domain = None\n",
                "    if domain==\"SP\":\n",
                "        dpsim_domain = dpsimpy.Domain.SP\n",
                "    elif domain==\"DP\":\n",
                "        dpsim_domain = dpsimpy.Domain.DP\n",
                "    else:\n",
                "        domain=\"EMT\"\n",
                "        dpsim_domain = dpsimpy.Domain.EMT\n",
                "        \n",
                "    reader = dpsimpy.CIMReader(sim_name_dyn, dpsimpy.LogLevel.debug, dpsimpy.LogLevel.debug)\n",
                "    if (domain==\"SP\" or domain==\"DP\"):\n",
                "        system_dyn = reader.loadCIM(60, path_to_files, dpsim_domain, dpsimpy.PhaseType.Single, sg_model)\n",
                "    else:\n",
                "        system_dyn = reader.loadCIM(60, path_to_files, dpsim_domain, dpsimpy.PhaseType.ABC, sg_model)\n",
                "\n",
                "    # Extend topology with switch\n",
                "    if with_fault:\n",
                "        sw = None\n",
                "        if domain==\"SP\":\n",
                "            sw = dpsimpy.sp.ph1.Switch('Fault', dpsimpy.LogLevel.info)\n",
                "            sw.set_parameters(1e12, 0.1)\n",
                "            sw.connect([dpsimpy.sp.SimNode.gnd, system_dyn.node('Bus 03')])\n",
                "        elif domain==\"DP\":\n",
                "            sw = dpsimpy.dp.ph1.Switch('Fault', dpsimpy.LogLevel.info)\n",
                "            sw.set_parameters(1e12, 0.1)\n",
                "            sw.connect([dpsimpy.dp.SimNode.gnd, system_dyn.node('Bus 03')])\n",
                "        else:\n",
                "            sw = dpsimpy.emt.ph3.SeriesSwitch('Fault', dpsimpy.LogLevel.info)\n",
                "            sw.set_parameters(1e12, 0.1)\n",
                "            sw.connect([dpsimpy.emt.SimNode.gnd, system_dyn.node('Bus 03')])\n",
                "        \n",
                "        sw.open()\n",
                "        system_dyn.add(sw)\n",
                "    \n",
                "    #initialize node voltages using pf results\n",
                "    system_dyn.init_with_powerflow(system_pf, dpsim_domain)\n",
                "\n",
                "    # log results\n",
                "    logger = dpsimpy.Logger(sim_name_dyn)\n",
                "    for node in system_dyn.nodes:\n",
                "        logger.log_attribute(node.name()+'.V', 'v', node)\n",
                "    for gen_name in [\"G 01\", \"G 02\", \"G 03\", \"G 04\", \"G 05\", \"G 06\", \"G 07\", \"G 08\", \"G 09\", \"G 10\"]:\n",
                "        logger.log_attribute(gen_name+\".Pe\", 'Te', system_dyn.component(gen_name))\n",
                "\n",
                "    # Parametrize and run simulation\n",
                "    sim = dpsimpy.Simulation(sim_name_dyn, dpsimpy.LogLevel.info)\n",
                "    sim.set_system(system_dyn)\n",
                "    if domain==\"SP\":\n",
                "        sim.set_time_step(1e-3)\n",
                "    elif domain==\"DP\":\n",
                "        sim.set_time_step(5e-4)\n",
                "    elif domain==\"EMT\":\n",
                "        sim.set_time_step(1e-4)\n",
                "    sim.set_final_time(5)\n",
                "    sim.set_domain(dpsim_domain)\n",
                "    sim.set_solver(dpsimpy.Solver.MNA)\n",
                "    sim.set_direct_solver_implementation(dpsimpy.DirectLinearSolverImpl.KLU)\n",
                "    sim.do_init_from_nodes_and_terminals(True)\n",
                "    sim.add_logger(logger)\n",
                "    sim.do_system_matrix_recomputation(True)\n",
                "\n",
                "    # add events\n",
                "    if with_fault:\n",
                "        sw_event_1 = dpsimpy.event.SwitchEvent(1, sw, True)\n",
                "        sw_event_2 = dpsimpy.event.SwitchEvent(1.05, sw, False)\n",
                "        sim.add_event(sw_event_1)\n",
                "        sim.add_event(sw_event_2)\n",
                "\n",
                "    sim.run()\n",
                "    \n",
                "    return sim_name_dyn"
            ]
        },
        {
            "cell_type": "code",
            "execution_count": null,
            "metadata": {},
            "outputs": [],
            "source": [
                "sim_name_fault_sp = IEEE39_Fault(domain=\"SP\", sg_model=dpsimpy.GeneratorType.SG4OrderVBR)"
            ]
        },
        {
            "cell_type": "code",
            "execution_count": null,
            "metadata": {},
            "outputs": [],
            "source": [
                "# unstable case (SG order > 4)\n",
                "sim_name_fault_dp = IEEE39_Fault(domain=\"DP\", sg_model=dpsimpy.GeneratorType.SG6bOrderVBR, with_fault=False)\n",
                "\n",
                "# stable case (SG order <= 4)\n",
                "sim_name_fault_dp = IEEE39_Fault(domain=\"DP\", sg_model=dpsimpy.GeneratorType.SG4OrderVBR)"
            ]
        },
        {
            "cell_type": "code",
            "execution_count": null,
            "metadata": {},
            "outputs": [],
            "source": [
                "#sim_name_fault_emt = IEEE39_Fault(domain=\"EMT\", sg_model=dpsimpy.GeneratorType.SG6bOrderVBR)"
            ]
        },
        {
            "cell_type": "markdown",
            "metadata": {},
            "source": [
                "#### Read DPsim results"
            ]
        },
        {
            "cell_type": "code",
            "execution_count": null,
            "metadata": {},
            "outputs": [],
            "source": [
                "from villas.dataprocessing.timeseries import TimeSeries as ts\n",
                "import villas.dataprocessing.plottools as pt\n",
                "\n",
                "dpsim_result_file = 'logs/' + sim_name_fault_sp + '/' + sim_name_fault_sp + '.csv'\n",
                "ts_dpsim_sp = read_timeseries_csv(dpsim_result_file)\n",
                "\n",
                "dpsim_result_file = 'logs/' + sim_name_fault_dp + '/' + sim_name_fault_dp + '.csv'\n",
                "ts_dpsim_dp = read_timeseries_csv(dpsim_result_file)\n",
                "\n",
                "#dpsim_result_file = 'logs/' + sim_name_fault_emt + '/' + sim_name_fault_emt + '.csv'\n",
                "#ts_dpsim_emt = read_timeseries_csv(dpsim_result_file)"
            ]
        },
        {
            "cell_type": "markdown",
            "metadata": {},
            "source": [
                "#### Load DigSilent Results"
            ]
        },
        {
            "cell_type": "code",
            "execution_count": null,
            "metadata": {},
            "outputs": [],
            "source": [
                "if not os.path.exists('ieee39-data'):\n",
                "    os.mkdir('ieee39-data')\n",
                "\n",
                "url_active_power = \"https://raw.githubusercontent.com/martinmoraga/dpsim_data/main/IEEE39/CIM/results/active_power_ieee39.csv\"\n",
                "urllib.request.urlretrieve(url_active_power, \"./ieee39-data/active_power_ieee39.csv\")\n",
                "    \n",
                "url_node_voltage = \"https://raw.githubusercontent.com/martinmoraga/dpsim_data/main/IEEE39/CIM/results/node_voltages_ieee39.csv\"\n",
                "urllib.request.urlretrieve(url_node_voltage, \"./ieee39-data/node_voltages_ieee39.csv\")\n",
                "\n",
                "#urllib.request.urlretrieve(url, local_file_3Order) \n",
                "ts_digSilent_power = read_timeseries_dpsim(\"./ieee39-data/active_power_ieee39.csv\")\n",
                "ts_digSilent_voltages = read_timeseries_dpsim(\"./ieee39-data/node_voltages_ieee39.csv\")"
            ]
        },
        {
            "cell_type": "markdown",
            "metadata": {},
            "source": [
                "### Define plot functions"
            ]
        },
        {
            "cell_type": "code",
            "execution_count": null,
            "metadata": {},
            "outputs": [],
            "source": [
                "timestep_common = 1e-4\n",
                "t_begin = 0.0\n",
                "t_end = 4.99\n",
                "begin_idx = int(t_begin/timestep_common)\n",
                "end_idx= int(t_end/timestep_common)\n",
                "time = np.linspace(t_begin, t_end, num=end_idx-begin_idx)\n",
                "\n",
                "#plot parameters\n",
                "width = 12\n",
                "height = 4\n",
                "\n",
                "def plot_node_volt_abs(varname_dpsim, varname_digSilent, \n",
                "                    ts_dpsim_sp, ts_dpsim_dp=None, ts_digSilent=None, nominal_voltage=1, timestep_common=1e-4, y_lim=False):\n",
                "    \n",
                "    #convert dpsim voltage to magnitude value and per-unit for comparison with psat\n",
                "    dpsim_sp_values_abs_pu = ts_dpsim_sp[varname_dpsim].interpolate(timestep_common).abs().values[begin_idx:end_idx] / nominal_voltage\n",
                "    if ts_dpsim_dp is not None:\n",
                "        dpsim_dp_values_abs_pu = ts_dpsim_dp[varname_dpsim].interpolate(timestep_common).abs().values[begin_idx:end_idx] / nominal_voltage\n",
                "    if ts_digSilent is not None:\n",
                "        digSilent_values = ts_digSilent[varname_digSilent].interpolate(timestep_common).values[begin_idx:end_idx]\n",
                "    \n",
                "    plt.figure(figsize=(width, height))\n",
                "    plt.plot(time, dpsim_sp_values_abs_pu, label='SP - DPsim')\n",
                "    if ts_dpsim_dp is not None:\n",
                "        plt.plot(time, dpsim_dp_values_abs_pu, '--', label='DP - DPsim')\n",
                "    if ts_digSilent is not None:\n",
                "        plt.plot(time, digSilent_values, '--', label='RMS - DigSilent')\n",
                "    plt.legend(loc='lower right')\n",
                "    plt.xlabel('time (s)')\n",
                "    plt.grid()\n",
                "    plt.xlim([t_begin, t_end])\n",
                "    plt.xlabel(\"time (s)\")\n",
                "    plt.ylabel(varname_digSilent + \" (pu)\")\n",
                "    if (y_lim):\n",
                "        plt.ylim(y_lim)\n",
                "    plt.show()\n",
                "    \n",
                "    #calculate RMSE\n",
                "    #rmse = np.sqrt(((dpsim_sp_values_abs_pu - psat_values) ** 2).mean())\n",
                "    #print('RMSE {:s}  = {:.6f} (pu), which is {:.3f}% of the nominal value = {:.3f} (pu) '.format(varname_dpsim, rmse, rmse/1.0*100, 1.0))\n",
                "    \n",
                "def plot_elec_power(varname_dpsim, varname_digSilent, \n",
                "                    ts_dpsim_sp, ts_dpsim_dp=None, ts_digSilent=None, nominal_power=1, timestep_common=1e-4, y_lim=False):\n",
                "    \n",
                "    #convert dpsim voltage to magnitude value and per-unit for comparison with psat\n",
                "    dpsim_sp_values = ts_dpsim_sp[varname_dpsim].interpolate(timestep_common).values[begin_idx:end_idx]\n",
                "    if ts_dpsim_dp is not None:\n",
                "        dpsim_dp_values = ts_dpsim_dp[varname_dpsim].interpolate(timestep_common).values[begin_idx:end_idx]\n",
                "    if ts_digSilent is not None:\n",
                "        digSilent_values = ts_digSilent[varname_digSilent].interpolate(timestep_common).values[begin_idx:end_idx] / nominal_power\n",
                "    \n",
                "    plt.figure(figsize=(width, height))\n",
                "    if ts_dpsim_dp is not None:\n",
                "        plt.plot(time, dpsim_dp_values, label='DP - DPsim')\n",
                "    plt.plot(time, dpsim_sp_values, label='RMS - DPsim')\n",
                "    if ts_digSilent is not None:\n",
                "        plt.plot(time, digSilent_values, '--', label='RMS - DigSilent')\n",
                "    plt.legend(loc='lower right')\n",
                "    plt.xlabel('time (s)')\n",
                "    plt.grid()\n",
                "    plt.xlim([t_begin, t_end])\n",
                "    plt.xlabel(\"time (s)\")\n",
                "    plt.ylabel(varname_dpsim + \" (pu)\")\n",
                "    if (y_lim):\n",
                "        plt.ylim(y_lim)\n",
                "    plt.show()\n",
                "    \n",
                "    #calculate RMSE\n",
                "    #rmse = np.linalg.norm(dpsim_sp_values - psat_values) / np.sqrt(len(psat_values))\n",
                "    #print('RMSE {:s}  = {:.6f} (pu), which is {:.3f}% of the nominal value = ~{:.3f} (pu) '.format(varname_dpsim, rmse, rmse/7.0*100, 7.0))\n",
                "\n",
                "    #return rmse"
            ]
        },
        {
            "cell_type": "markdown",
            "metadata": {},
            "source": [
                "#### Plot Electrical Power of SG's"
            ]
        },
        {
            "cell_type": "code",
            "execution_count": null,
            "metadata": {},
            "outputs": [],
            "source": [
                "varname_dpsim = 'G 01.Pe'\n",
                "varname_digSilent = 'G_01'\n",
                "rmse_g1 = plot_elec_power(varname_dpsim, varname_digSilent, ts_dpsim_sp, ts_dpsim_dp, ts_digSilent_power, nominal_power=10000, timestep_common=1e-4)"
            ]
        },
        {
            "cell_type": "code",
            "execution_count": null,
            "metadata": {},
            "outputs": [],
            "source": [
                "varname_dpsim = 'G 02.Pe'\n",
                "varname_digSilent = 'G_02'\n",
                "rmse_g1 = plot_elec_power(varname_dpsim, varname_digSilent, ts_dpsim_sp, ts_dpsim_dp, ts_digSilent_power, nominal_power=700, timestep_common=1e-4)"
            ]
        },
        {
            "cell_type": "code",
            "execution_count": null,
            "metadata": {},
            "outputs": [],
            "source": [
                "varname_dpsim = 'G 03.Pe'\n",
                "varname_digSilent = 'G_03'\n",
                "rmse_g1 = plot_elec_power(varname_dpsim, varname_digSilent, ts_dpsim_sp, ts_dpsim_dp, ts_digSilent_power, nominal_power=800, timestep_common=1e-4)"
            ]
        },
        {
            "cell_type": "code",
            "execution_count": null,
            "metadata": {},
            "outputs": [],
            "source": [
                "varname_dpsim = 'G 04.Pe'\n",
                "varname_digSilent = 'G_04'\n",
                "rmse_g1 = plot_elec_power(varname_dpsim, varname_digSilent, ts_dpsim_sp, ts_dpsim_dp, ts_digSilent_power, nominal_power=800, timestep_common=1e-4)"
            ]
        },
        {
            "cell_type": "code",
            "execution_count": null,
            "metadata": {},
            "outputs": [],
            "source": [
                "varname_dpsim = 'G 05.Pe'\n",
                "varname_digSilent = 'G_05'\n",
                "rmse_g1 = plot_elec_power(varname_dpsim, varname_digSilent, ts_dpsim_sp, ts_dpsim_dp, ts_digSilent_power, nominal_power=600, timestep_common=1e-4)"
            ]
        },
        {
            "cell_type": "code",
            "execution_count": null,
            "metadata": {},
            "outputs": [],
            "source": [
                "varname_dpsim = 'G 06.Pe'\n",
                "varname_digSilent = 'G_06'\n",
                "rmse_g1 = plot_elec_power(varname_dpsim, varname_digSilent, ts_dpsim_sp, ts_dpsim_dp, ts_digSilent_power, nominal_power=800, timestep_common=1e-4)"
            ]
        },
        {
            "cell_type": "code",
            "execution_count": null,
            "metadata": {},
            "outputs": [],
            "source": [
                "varname_dpsim = 'G 07.Pe'\n",
                "varname_digSilent = 'G_07'\n",
                "rmse_g1 = plot_elec_power(varname_dpsim, varname_digSilent, ts_dpsim_sp, ts_dpsim_dp, ts_digSilent_power, nominal_power=700, timestep_common=1e-4)"
            ]
        },
        {
            "cell_type": "code",
            "execution_count": null,
            "metadata": {},
            "outputs": [],
            "source": [
                "varname_dpsim = 'G 08.Pe'\n",
                "varname_digSilent = 'G_08'\n",
                "rmse_g1 = plot_elec_power(varname_dpsim, varname_digSilent, ts_dpsim_sp, ts_dpsim_dp, ts_digSilent_power, nominal_power=700, timestep_common=1e-4)"
            ]
        },
        {
            "cell_type": "code",
            "execution_count": null,
            "metadata": {},
            "outputs": [],
            "source": [
                "varname_dpsim = 'G 09.Pe'\n",
                "varname_digSilent = 'G_09'\n",
                "rmse_g1 = plot_elec_power(varname_dpsim, varname_digSilent, ts_dpsim_sp, ts_dpsim_dp, ts_digSilent_power, nominal_power=1000, timestep_common=1e-4)"
            ]
        },
        {
            "cell_type": "code",
            "execution_count": null,
            "metadata": {},
            "outputs": [],
            "source": [
                "varname_dpsim = 'G 10.Pe'\n",
                "varname_digSilent = 'G_10'\n",
                "rmse_g1 = plot_elec_power(varname_dpsim, varname_digSilent, ts_dpsim_sp, ts_dpsim_dp, ts_digSilent_power, nominal_power=1000, timestep_common=1e-4)"
            ]
        },
        {
            "cell_type": "markdown",
            "metadata": {},
            "source": [
                "#### Plot Node Voltages"
            ]
        },
        {
            "cell_type": "code",
            "execution_count": null,
            "metadata": {},
            "outputs": [],
            "source": [
                "varname_dpsim = \"Bus 01.V\"\n",
                "varname_digSilent = 'v1'\n",
                "nominal_voltage = 345000\n",
                "plot_node_volt_abs(varname_dpsim, varname_digSilent, ts_dpsim_sp, ts_dpsim_dp, ts_digSilent_voltages, nominal_voltage, timestep_common=1e-4)"
            ]
        },
        {
            "cell_type": "code",
            "execution_count": null,
            "metadata": {},
            "outputs": [],
            "source": [
                "varname_dpsim = \"Bus 02.V\"\n",
                "varname_digSilent = 'v2'\n",
                "nominal_voltage = 345000\n",
                "#plot_node_volt_abs(varname_dpsim, varname_psat, varname_digSilent, ts_dpsim_sp, ts_dpsim_dp, ts_psat, ts_digSilent, nominal_voltage, timestep_common=1e-3, y_lim=[0.6, 1.1])\n",
                "plot_node_volt_abs(varname_dpsim, varname_digSilent, ts_dpsim_sp, ts_dpsim_dp, ts_digSilent_voltages, nominal_voltage, timestep_common=1e-4)"
            ]
        },
        {
            "cell_type": "code",
            "execution_count": null,
            "metadata": {},
            "outputs": [],
            "source": [
                "varname_dpsim = \"Bus 03.V\"\n",
                "varname_digSilent = 'v3'\n",
                "nominal_voltage = 345000\n",
                "#plot_node_volt_abs(varname_dpsim, varname_psat, varname_digSilent, ts_dpsim_sp, ts_dpsim_dp, ts_psat, ts_digSilent, nominal_voltage, timestep_common=1e-3, y_lim=[0.6, 1.1])\n",
                "plot_node_volt_abs(varname_dpsim, varname_digSilent, ts_dpsim_sp, ts_dpsim_dp, ts_digSilent_voltages, nominal_voltage, timestep_common=1e-4)"
            ]
        },
        {
            "cell_type": "code",
            "execution_count": null,
            "metadata": {},
            "outputs": [],
            "source": [
                "varname_dpsim = \"Bus 04.V\"\n",
                "varname_digSilent = 'v4'\n",
                "nominal_voltage = 345000\n",
                "#plot_node_volt_abs(varname_dpsim, varname_psat, varname_digSilent, ts_dpsim_sp, ts_dpsim_dp, ts_psat, ts_digSilent, nominal_voltage, timestep_common=1e-3, y_lim=[0.6, 1.1])\n",
                "plot_node_volt_abs(varname_dpsim, varname_digSilent, ts_dpsim_sp, ts_dpsim_dp, ts_digSilent_voltages, nominal_voltage, timestep_common=1e-4)"
            ]
        },
        {
            "cell_type": "code",
            "execution_count": null,
            "metadata": {},
            "outputs": [],
            "source": [
                "varname_dpsim = \"Bus 05.V\"\n",
                "varname_digSilent = 'v5'\n",
                "nominal_voltage = 345000\n",
                "#plot_node_volt_abs(varname_dpsim, varname_psat, varname_digSilent, ts_dpsim_sp, ts_dpsim_dp, ts_psat, ts_digSilent, nominal_voltage, timestep_common=1e-3, y_lim=[0.6, 1.1])\n",
                "plot_node_volt_abs(varname_dpsim, varname_digSilent, ts_dpsim_sp, ts_dpsim_dp, ts_digSilent_voltages, nominal_voltage, timestep_common=1e-4)"
            ]
        },
        {
            "cell_type": "code",
            "execution_count": null,
            "metadata": {},
            "outputs": [],
            "source": [
                "varname_dpsim = \"Bus 06.V\"\n",
                "varname_digSilent = 'v6'\n",
                "nominal_voltage = 345000\n",
                "#plot_node_volt_abs(varname_dpsim, varname_psat, varname_digSilent, ts_dpsim_sp, ts_dpsim_dp, ts_psat, ts_digSilent, nominal_voltage, timestep_common=1e-3, y_lim=[0.6, 1.1])\n",
                "plot_node_volt_abs(varname_dpsim, varname_digSilent, ts_dpsim_sp, None, ts_digSilent_voltages, nominal_voltage, timestep_common=1e-4)"
            ]
        },
        {
            "cell_type": "code",
            "execution_count": null,
            "metadata": {},
            "outputs": [],
            "source": [
                "varname_dpsim = \"Bus 07.V\"\n",
                "varname_digSilent = 'v7'\n",
                "nominal_voltage = 345000\n",
                "#plot_node_volt_abs(varname_dpsim, varname_psat, varname_digSilent, ts_dpsim_sp, ts_dpsim_dp, ts_psat, ts_digSilent, nominal_voltage, timestep_common=1e-3, y_lim=[0.6, 1.1])\n",
                "plot_node_volt_abs(varname_dpsim, varname_digSilent, ts_dpsim_sp, None, ts_digSilent_voltages, nominal_voltage, timestep_common=1e-4)"
            ]
        },
        {
            "cell_type": "code",
            "execution_count": null,
            "metadata": {},
            "outputs": [],
            "source": [
                "varname_dpsim = \"Bus 08.V\"\n",
                "varname_digSilent = 'v8'\n",
                "nominal_voltage = 345000\n",
                "#plot_node_volt_abs(varname_dpsim, varname_psat, varname_digSilent, ts_dpsim_sp, ts_dpsim_dp, ts_psat, ts_digSilent, nominal_voltage, timestep_common=1e-3, y_lim=[0.6, 1.1])\n",
                "plot_node_volt_abs(varname_dpsim, varname_digSilent, ts_dpsim_sp, None, ts_digSilent_voltages, nominal_voltage, timestep_common=1e-4)"
            ]
        },
        {
            "cell_type": "code",
            "execution_count": null,
            "metadata": {},
            "outputs": [],
            "source": [
                "varname_dpsim = \"Bus 09.V\"\n",
                "varname_digSilent = 'v9'\n",
                "nominal_voltage = 345000\n",
                "#plot_node_volt_abs(varname_dpsim, varname_psat, varname_digSilent, ts_dpsim_sp, ts_dpsim_dp, ts_psat, ts_digSilent, nominal_voltage, timestep_common=1e-3, y_lim=[0.6, 1.1])\n",
                "plot_node_volt_abs(varname_dpsim, varname_digSilent, ts_dpsim_sp, None, ts_digSilent_voltages, nominal_voltage, timestep_common=1e-4)"
            ]
        },
        {
            "cell_type": "code",
            "execution_count": null,
            "metadata": {},
            "outputs": [],
            "source": [
                "varname_dpsim = \"Bus 10.V\"\n",
                "varname_digSilent = 'v10'\n",
                "nominal_voltage = 345000\n",
                "#plot_node_volt_abs(varname_dpsim, varname_psat, varname_digSilent, ts_dpsim_sp, ts_dpsim_dp, ts_psat, ts_digSilent, nominal_voltage, timestep_common=1e-3, y_lim=[0.6, 1.1])\n",
                "plot_node_volt_abs(varname_dpsim, varname_digSilent, ts_dpsim_sp, None, ts_digSilent_voltages, nominal_voltage, timestep_common=1e-4)"
            ]
        },
        {
            "cell_type": "code",
            "execution_count": null,
            "metadata": {},
            "outputs": [],
            "source": [
                "varname_dpsim = \"Bus 11.V\"\n",
                "varname_digSilent = 'v11'\n",
                "nominal_voltage = 345000\n",
                "#plot_node_volt_abs(varname_dpsim, varname_psat, varname_digSilent, ts_dpsim_sp, ts_dpsim_dp, ts_psat, ts_digSilent, nominal_voltage, timestep_common=1e-3, y_lim=[0.6, 1.1])\n",
                "plot_node_volt_abs(varname_dpsim, varname_digSilent, ts_dpsim_sp, None, ts_digSilent_voltages, nominal_voltage, timestep_common=1e-4)"
            ]
        },
        {
            "cell_type": "code",
            "execution_count": null,
            "metadata": {},
            "outputs": [],
            "source": [
                "varname_dpsim = \"Bus 12.V\"\n",
                "varname_digSilent = 'v12'\n",
                "nominal_voltage = 138000\n",
                "#plot_node_volt_abs(varname_dpsim, varname_psat, varname_digSilent, ts_dpsim_sp, ts_dpsim_dp, ts_psat, ts_digSilent, nominal_voltage, timestep_common=1e-3, y_lim=[0.6, 1.1])\n",
                "plot_node_volt_abs(varname_dpsim, varname_digSilent, ts_dpsim_sp, None, ts_digSilent_voltages, nominal_voltage, timestep_common=1e-4)"
            ]
        },
        {
            "cell_type": "code",
            "execution_count": null,
            "metadata": {},
            "outputs": [],
            "source": [
                "#convert dpsim voltage to magnitude value and per-unit for comparison with psat\n",
                "dpsim_emt_values_abs_pu = ts_dpsim_emt[varname_dpsim+\"_0\"].interpolate(timestep_common).values[begin_idx:end_idx] / nominal_voltage\n",
                "digSilent_values = ts_digSilent_voltages[varname_digSilent].interpolate(timestep_common).abs().values[begin_idx:end_idx] * np.sqrt(2/3)\n",
                "\n",
                "plt.figure(figsize=(width, height))\n",
                "plt.plot(time, dpsim_emt_values_abs_pu, label='EMT - DPsim')\n",
                "plt.plot(time, digSilent_values, '--', label='RMS - DigSilent')\n",
                "plt.legend(loc='lower right')\n",
                "plt.xlabel('time (s)')\n",
                "plt.grid()\n",
                "plt.xlim([t_begin, t_end])\n",
                "plt.xlabel(\"time (s)\")\n",
                "plt.ylabel(varname_digSilent + \" (pu)\")\n",
                "plt.show()"
            ]
        },
        {
            "cell_type": "code",
            "execution_count": null,
            "metadata": {},
            "outputs": [],
            "source": [
                "#convert dpsim voltage to magnitude value and per-unit for comparison with psat\n",
                "varname_dpsim = \"G 01.Pe\"\n",
                "varname_digSilent = 'G_01'\n",
                "dpsim_emt_values_abs_pu = ts_dpsim_emt[varname_dpsim].interpolate(timestep_common).values[begin_idx:end_idx]\n",
                "digSilent_values = ts_digSilent_power[varname_digSilent].interpolate(timestep_common).values[begin_idx:end_idx] / 10000\n",
                "\n",
                "plt.figure(figsize=(width, height))\n",
                "plt.plot(time, dpsim_emt_values_abs_pu, label='EMT - DPsim')\n",
                "plt.plot(time, digSilent_values, '--', label='RMS - DigSilent')\n",
                "plt.legend(loc='lower right')\n",
                "plt.xlabel('time (s)')\n",
                "plt.grid()\n",
                "plt.xlim([t_begin, t_end])\n",
                "plt.xlabel(\"time (s)\")\n",
                "plt.ylabel(varname_digSilent + \" (pu)\")\n",
                "plt.show()"
            ]
        }
    ],
    "metadata": {
        "kernelspec": {
            "display_name": "Python 3 (ipykernel)",
            "language": "python",
            "name": "python3"
        },
        "language_info": {
            "codemirror_mode": {
                "name": "ipython",
                "version": 3
            },
            "file_extension": ".py",
            "mimetype": "text/x-python",
            "name": "python",
            "nbconvert_exporter": "python",
            "pygments_lexer": "ipython3",
            "version": "3.9.13"
        },
        "tests": {
            "skip": true
        }
    },
    "nbformat": 4,
    "nbformat_minor": 4
}