{
 "cells": [
  {
   "cell_type": "markdown",
   "metadata": {},
   "source": [
    "# Widgets\n",
    "\n",
    "In this example we will use the [iPyWidgets Jupyter](https://ipywidgets.readthedocs.io) extension to interactively tune simulation or model parameters.\n",
    "The user will see immediatly the impact of parameter changes as the simulation results are continously updated.\n",
    "\n",
    "This example uses slider widgets to adjust parameters:"
   ]
  },
  {
   "cell_type": "code",
   "execution_count": null,
   "metadata": {},
   "outputs": [],
   "source": [
    "import dpsim\n",
    "import math, cmath\n",
    "import time\n",
    "import os\n",
    "\n",
    "import matplotlib as plt\n",
    "import villas.dataprocessing.plottools as pt\n",
    "import villas.dataprocessing.readtools as rt\n",
    "\n",
    "%matplotlib inline\n",
    "%config InlineBackend.figure_format = 'svg'"
   ]
  },
  {
   "cell_type": "markdown",
   "metadata": {},
   "source": [
    "We start by defining our system topology:"
   ]
  },
  {
   "cell_type": "code",
   "execution_count": null,
   "metadata": {},
   "outputs": [],
   "source": [
    "gnd = dpsim.dp.Node.GND()\n",
    "n1 =  dpsim.dp.Node(\"n1\")\n",
    "n2 =  dpsim.dp.Node(\"n2\")\n",
    "\n",
    "cs = dpsim.dp.ph1.CurrentSource(\"cs\", [gnd, n1])\n",
    "r1 = dpsim.dp.ph1.Resistor(\"r_1\", [n1, gnd])\n",
    "c1 = dpsim.dp.ph1.Capacitor(\"c_1\", [n1, n2])\n",
    "l1 = dpsim.dp.ph1.Inductor(\"l_1\", [n2, gnd])\n",
    "r2 = dpsim.dp.ph1.Resistor(\"r_2\", [n2, gnd])\n",
    "\n",
    "sys = dpsim.SystemTopology(50, [gnd, n1, n2], [cs, r1, c1, l1, r2])\n",
    "sim = dpsim.Simulation(\"Widgets\", sys, duration=0.1)\n",
    "    \n",
    "logger = dpsim.Logger(\"Widgets\")\n",
    "logger.log_attribute(n1, \"v\") # v1\n",
    "logger.log_attribute(n2, \"v\") # v2\n",
    "logger.log_attribute(cs, \"i_intf\") # i12\n",
    "logger.log_attribute(c1, \"i_intf\") # i34\n",
    "sim.add_logger(logger)"
   ]
  },
  {
   "cell_type": "markdown",
   "metadata": {},
   "source": [
    "Next, we define the simulation callback. This function will be executed on every parameter change.\n",
    "It will re-run the simulation and plot the updated results."
   ]
  },
  {
   "cell_type": "code",
   "execution_count": null,
   "metadata": {},
   "outputs": [],
   "source": [
    "def simulate(dt, dur, pha, mag, r1_val, r2_val, l_val, c_val):\n",
    "    sim.reset()\n",
    "    \n",
    "    sim.timestep = dt\n",
    "    sim.final_time = dur\n",
    "    cs.I_ref = cmath.rect(mag, pha)\n",
    "    r1.R = r1_val\n",
    "    c1.C = c_val\n",
    "    l1.L = l_val * 1e-3\n",
    "    r2.R = r2_val * 1e-3\n",
    "    \n",
    "    sim.start()\n",
    "    while sim.state != 9:\n",
    "        time.sleep(0.001)\n",
    "        \n",
    "    results = rt.read_timeseries_dpsim('logs/Widgets.csv')\n",
    "    for l in [ 'n1.v', 'n2.v', 'cs.i_intf', 'c_1.i_intf' ]:\n",
    "        emt = results[l].frequency_shift(50)\n",
    "        pt.plot_timeseries(1, emt)"
   ]
  },
  {
   "cell_type": "markdown",
   "metadata": {},
   "source": [
    "Set the `cu` variable to `True` for a continous redrawing of the plot while dragging the sliders."
   ]
  },
  {
   "cell_type": "code",
   "execution_count": null,
   "metadata": {},
   "outputs": [],
   "source": [
    "cu = False"
   ]
  },
  {
   "cell_type": "code",
   "execution_count": null,
   "metadata": {},
   "outputs": [],
   "source": [
    "from ipywidgets import interact, interactive, fixed, interact_manual\n",
    "import ipywidgets as widgets\n",
    "\n",
    "output = interactive(simulate,\n",
    "    dt      = widgets.FloatText(description=\"Timestep [s]\", value=1e-3, min=1e-3, max=1),\n",
    "    dur     = widgets.FloatText(description=\"Duration [s]\", value=0.5, min=0.001, max=4),\n",
    "    pha     = widgets.FloatSlider(description=\"Phase [rad]\", min=-math.pi, max=math.pi, continuous_update=cu),\n",
    "    mag     = widgets.FloatSlider(description=\"Magnitude [V]\", value=10, min=0, max=100, continuous_update=cu),\n",
    "    r1_val  = widgets.FloatSlider(description=\"Resistance [Ohm]\", value=1, min=0.1, max=10, continuous_update=cu),\n",
    "    r2_val  = widgets.FloatSlider(description=\"Resistance [Ohm]\", value=1, min=0.1, max=10, continuous_update=cu),\n",
    "    l_val   = widgets.FloatSlider(description=\"Inductance [H]\", value=1, min=1, max=10, continuous_update=cu),\n",
    "    c_val   = widgets.FloatSlider(description=\"Capactance [F]\", value=1, min=1, max=10, continuous_update=cu)\n",
    ")\n",
    "\n",
    "last = output.children[-1]\n",
    "last.layout.height = '400px'\n",
    "output"
   ]
  },
  {
   "cell_type": "code",
   "execution_count": null,
   "metadata": {},
   "outputs": [],
   "source": []
  }
 ],
 "metadata": {
  "kernelspec": {
   "display_name": "Python 3",
   "language": "python",
   "name": "python3"
  },
  "language_info": {
   "codemirror_mode": {
    "name": "ipython",
    "version": 3
   },
   "file_extension": ".py",
   "mimetype": "text/x-python",
   "name": "python",
   "nbconvert_exporter": "python",
   "pygments_lexer": "ipython3",
   "version": "3.7.5"
  },
  "tests": {
   "skip": true
  }
 },
 "nbformat": 4,
 "nbformat_minor": 4
}
