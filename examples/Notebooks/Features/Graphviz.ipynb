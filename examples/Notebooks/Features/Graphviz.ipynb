{
 "cells": [
  {
   "cell_type": "markdown",
   "metadata": {},
   "source": [
    "# Graphviz Topology Graph\n",
    "\n",
    "In this example, we will demonstrate how you can visualize the topology of a power system model using [Graphviz](http://graphviz.org).\n",
    "This demo uses IPython's [Rich Display feature](https://ipython.readthedocs.io/en/stable/api/generated/IPython.display.html) to show the rendered topology graph as a Scalable Vector Graphic (SVG) inline with the IPython interpreter or the Jupyter Notebook."
   ]
  },
  {
   "cell_type": "markdown",
   "metadata": {},
   "source": [
    "## Example 1"
   ]
  },
  {
   "cell_type": "markdown",
   "metadata": {},
   "source": [
    "We start by importing several packages required by DPsim itself."
   ]
  },
  {
   "cell_type": "code",
   "execution_count": null,
   "metadata": {},
   "outputs": [],
   "source": [
    "import dpsim"
   ]
  },
  {
   "cell_type": "markdown",
   "metadata": {},
   "source": [
    "We define a simple network:"
   ]
  },
  {
   "cell_type": "code",
   "execution_count": null,
   "metadata": {},
   "outputs": [],
   "source": [
    "# Nodes\n",
    "gnd = dpsim.dp.Node.GND()\n",
    "n1 =  dpsim.dp.Node(\"n1\")\n",
    "n2 =  dpsim.dp.Node(\"n2\")\n",
    "n3 =  dpsim.dp.Node(\"n3\")\n",
    "n4 =  dpsim.dp.Node(\"n4\")\n",
    "\n",
    "# Components\n",
    "v1 =  dpsim.dp.ph1.VoltageSource(\"v_1\", [gnd, n1], V_ref=complex(345,0))\n",
    "r1 =  dpsim.dp.ph1.Resistor(\"r1\", [n1, n2], R=5)\n",
    "c1 =  dpsim.dp.ph1.Capacitor(\"c_1\", [n2, gnd], C=0.002)\n",
    "rL1 = dpsim.dp.ph1.Resistor(\"r_load1\", [n2, n4], R=6.4)\n",
    "l1 =  dpsim.dp.ph1.Inductor(\"l_1\", [n4, n3], L=0.186)\n",
    "c2 =  dpsim.dp.ph1.Capacitor(\"c_2\", [n3, gnd], C=0.002)\n",
    "rL2 = dpsim.dp.ph1.Resistor(\"r_load2\", [n3, gnd], R=150)\n",
    "\n",
    "sys = dpsim.SystemTopology(50, [gnd, n1, n2, n3, n4], [v1, r1, c1, rL1, l1, c2, rL2])"
   ]
  },
  {
   "cell_type": "markdown",
   "metadata": {},
   "source": [
    "Before we display the graph of this network, we will run a short simulation in order to bring the system into a steady state.\n",
    "This is useful, as we will be able to inspect the component and node states in the rendered graph."
   ]
  },
  {
   "cell_type": "code",
   "execution_count": null,
   "metadata": {},
   "outputs": [],
   "source": [
    "sim = dpsim.Simulation('IdealVS_PiLine_RLC_1', sys, duration=20, timestep=0.0005)\n",
    "await sim.simulate()"
   ]
  },
  {
   "cell_type": "markdown",
   "metadata": {},
   "source": [
    "Finally, we can render the graph of the network topology:"
   ]
  },
  {
   "cell_type": "code",
   "execution_count": null,
   "metadata": {},
   "outputs": [],
   "source": [
    "sys"
   ]
  },
  {
   "cell_type": "markdown",
   "metadata": {},
   "source": [
    "By hovering the mouse pointer over the component nodes a tooltip will appear.\n",
    "This tooltip lists all attributes of a component including its internal states such as voltage and current."
   ]
  },
  {
   "cell_type": "markdown",
   "metadata": {},
   "source": [
    "## Task Dependency Analysis\n",
    "\n",
    "Internally, DPsim divides its workload into many tasks which are executed throughout each simulation time step. There is a well defined dependency between these tasks derived from the data flow through each step.\n",
    "\n",
    "We can visualize this task dependency graph by printing the simulation object:"
   ]
  },
  {
   "cell_type": "code",
   "execution_count": null,
   "metadata": {},
   "outputs": [],
   "source": [
    "sim"
   ]
  },
  {
   "cell_type": "markdown",
   "metadata": {},
   "source": [
    "## Example 2"
   ]
  },
  {
   "cell_type": "markdown",
   "metadata": {},
   "source": [
    "In the next example, a more complex Common Information model will be visualized."
   ]
  },
  {
   "cell_type": "code",
   "execution_count": null,
   "metadata": {},
   "outputs": [],
   "source": [
    "import dpsim\n",
    "from glob import glob\n",
    "\n",
    "# Adjust this path to the root of the DPsim repo\n",
    "files = glob('../../CIM/WSCC-09_RX/*.xml')\n",
    "\n",
    "dpsim.load_cim('WSCC_9bus', files)"
   ]
  },
  {
   "cell_type": "markdown",
   "metadata": {},
   "source": [
    "Just like for the simple example, we can show the task dependency graph:"
   ]
  },
  {
   "cell_type": "code",
   "execution_count": null,
   "metadata": {},
   "outputs": [],
   "source": [
    "sim"
   ]
  }
 ],
 "metadata": {
  "kernelspec": {
   "display_name": "Python 3",
   "language": "python",
   "name": "python3"
  },
  "language_info": {
   "codemirror_mode": {
    "name": "ipython",
    "version": 3
   },
   "file_extension": ".py",
   "mimetype": "text/x-python",
   "name": "python",
   "nbconvert_exporter": "python",
   "pygments_lexer": "ipython3",
   "version": "3.7.5"
  },
  "tests": {
   "skip": true
  }
 },
 "nbformat": 4,
 "nbformat_minor": 4
}
