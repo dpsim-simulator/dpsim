{
 "cells": [
  {
   "cell_type": "markdown",
   "metadata": {},
   "source": [
    "How many iterations are required per simulation scenario?"
   ]
  },
  {
   "cell_type": "code",
   "execution_count": null,
   "metadata": {},
   "outputs": [],
   "source": [
    "import pandas as pd\n",
    "from dpsim.MeasurementUtils import Measurement\n",
    "\n",
    "logs_dir = '../../../logs_rt_char/'\n",
    "decoupled_meas = []\n",
    "copies = 10\n",
    "threads = 8\n",
    " \n",
    "for seq in range(1,1001):    \n",
    "    sim_dir = logs_dir + 'WSCC_9bus_decoupled_' + str(copies) + '_' + str(threads) + '_' + str(seq) + '/'\n",
    "    log_name = 'WSCC_9bus_decoupled_' + str(copies) + '_' + str(threads) + '_' + str(seq) + '_step_times.log'\n",
    "    log_path = sim_dir + log_name\n",
    "    #print(log_path)            \n",
    "    meas = Measurement.read_timestep_csv(log_path)\n",
    "    decoupled_meas.append({'copies': copies, 'threads': threads, 'sequence': seq, 'values': meas['step_time'].data})         \n",
    "\n",
    "pd_decoupled_meas = pd.DataFrame(decoupled_meas)"
   ]
  },
  {
   "cell_type": "markdown",
   "metadata": {},
   "source": [
    "How many start steps should be disregarded?"
   ]
  },
  {
   "cell_type": "code",
   "execution_count": null,
   "metadata": {},
   "outputs": [],
   "source": [
    "for seq in range(1,1001):\n",
    "    if pd_decoupled_meas.query('sequence == ' + str(seq))['values'].values[0][10:].argmax() == 0:\n",
    "        print('first entry')    "
   ]
  },
  {
   "cell_type": "markdown",
   "metadata": {},
   "source": [
    "Dropping the first ten values seems to be reasonable.  \n",
    "How many simulations need to be considered to calculate the maximum?"
   ]
  },
  {
   "cell_type": "code",
   "execution_count": null,
   "metadata": {},
   "outputs": [],
   "source": [
    "decoupled_max = []\n",
    "absolute_max = 0\n",
    "for seq in range(1,1001):\n",
    "    current_max = pd_decoupled_meas.query('sequence == ' + str(seq))['values'].values[0][10:].max()\n",
    "    if current_max > absolute_max:\n",
    "        absolute_max = current_max\n",
    "    decoupled_max.append(absolute_max) "
   ]
  },
  {
   "cell_type": "code",
   "execution_count": null,
   "metadata": {},
   "outputs": [],
   "source": [
    "import matplotlib.pyplot as plt\n",
    "\n",
    "plt.figure(figsize=(12/2.54,8/2.54))\n",
    "plt.plot(decoupled_max, label='real time')\n",
    "plt.ticklabel_format(axis='y', style='sci', scilimits=(-3,3))\n",
    "plt.xlabel('iterations')\n",
    "plt.ylabel('timestep duration (s)')\n",
    "plt.grid()\n",
    "plt.legend()\n",
    "plt.tight_layout()\n",
    "plt.savefig('wscc_9bus_iter_rt_max.pdf')"
   ]
  },
  {
   "cell_type": "markdown",
   "metadata": {},
   "source": [
    "How many simulations to determine mean and variance?"
   ]
  },
  {
   "cell_type": "code",
   "execution_count": null,
   "metadata": {},
   "outputs": [],
   "source": [
    "import numpy as np\n",
    "\n",
    "decoupled_concat = []\n",
    "decoupled_concat.append(pd_decoupled_meas.query('sequence == 1')['values'].values[0][10:])\n",
    "\n",
    "for seq in range(2,1001):\n",
    "    decoupled_concat.append( np.concatenate( (decoupled_concat[-1], pd_decoupled_meas.query('sequence == ' + str(seq))['values'].values[0][10:]), axis=0 ) )"
   ]
  },
  {
   "cell_type": "code",
   "execution_count": null,
   "metadata": {},
   "outputs": [],
   "source": [
    "decoupled_mean = []\n",
    "\n",
    "for seq in range(0,1000):\n",
    "    decoupled_mean.append(decoupled_concat[seq].mean())"
   ]
  },
  {
   "cell_type": "code",
   "execution_count": null,
   "metadata": {},
   "outputs": [],
   "source": [
    "plt.figure(figsize=(12/2.54,8/2.54))\n",
    "plt.plot(decoupled_mean)\n",
    "plt.ticklabel_format(axis='y', style='sci', scilimits=(-3,3))\n",
    "plt.xlabel('iterations')\n",
    "plt.ylabel('timestep duration (s)')\n",
    "plt.grid()\n",
    "plt.tight_layout()\n",
    "plt.savefig('wscc_9bus_iter_rt_mean.pdf')"
   ]
  },
  {
   "cell_type": "code",
   "execution_count": null,
   "metadata": {},
   "outputs": [],
   "source": [
    "decoupled_std = []\n",
    "\n",
    "for seq in range(0,1000):    \n",
    "    decoupled_std.append(decoupled_concat[seq].std())"
   ]
  },
  {
   "cell_type": "code",
   "execution_count": null,
   "metadata": {},
   "outputs": [],
   "source": [
    "plt.figure(figsize=(12/2.54,8/2.54))\n",
    "plt.plot(decoupled_std)\n",
    "plt.ticklabel_format(axis='y', style='sci', scilimits=(-3,3))\n",
    "plt.xlabel('iterations')\n",
    "plt.ylabel('timestep duration (s)')\n",
    "plt.grid()\n",
    "plt.tight_layout()\n",
    "plt.savefig('wscc_9bus_iter_rt_std.pdf')"
   ]
  },
  {
   "cell_type": "markdown",
   "metadata": {},
   "source": [
    "## throughput performance profile"
   ]
  },
  {
   "cell_type": "code",
   "execution_count": null,
   "metadata": {},
   "outputs": [],
   "source": [
    "import pandas as pd\n",
    "from dpsim.MeasurementUtils import Measurement\n",
    "\n",
    "logs_dir = '../../../logs_tp_char/'\n",
    "tp_decoupled_meas = []\n",
    "copies = 10\n",
    "threads = 8\n",
    " \n",
    "for seq in range(1,1001):    \n",
    "    sim_dir = logs_dir + 'WSCC_9bus_decoupled_' + str(copies) + '_' + str(threads) + '_' + str(seq) + '/'\n",
    "    log_name = 'WSCC_9bus_decoupled_' + str(copies) + '_' + str(threads) + '_' + str(seq) + '_step_times.log'\n",
    "    log_path = sim_dir + log_name\n",
    "    #print(log_path)            \n",
    "    meas = Measurement.read_timestep_csv(log_path)\n",
    "    tp_decoupled_meas.append({'copies': copies, 'threads': threads, 'sequence': seq, 'values': meas['step_time'].data})         \n",
    "\n",
    "tp_pd_decoupled_meas = pd.DataFrame(tp_decoupled_meas)"
   ]
  },
  {
   "cell_type": "code",
   "execution_count": null,
   "metadata": {},
   "outputs": [],
   "source": [
    "import matplotlib.pyplot as plt\n",
    "\n",
    "tp_decoupled_max = []\n",
    "absolute_max = 0\n",
    "for seq in range(1,1000):\n",
    "    current_max = tp_pd_decoupled_meas.query('sequence == ' + str(seq))['values'].values[0][10:].max()\n",
    "    if current_max > absolute_max:\n",
    "        absolute_max = current_max\n",
    "    tp_decoupled_max.append(absolute_max) "
   ]
  },
  {
   "cell_type": "code",
   "execution_count": null,
   "metadata": {},
   "outputs": [],
   "source": [
    "plt.figure(figsize=(12/2.54,8/2.54))\n",
    "#plt.plot(decoupled_max, label='real time')\n",
    "plt.plot(tp_decoupled_max, label='throughput')\n",
    "plt.ticklabel_format(axis='y', style='sci', scilimits=(-3,3))\n",
    "plt.xlabel('iterations')\n",
    "plt.ylabel('timestep duration (s)')\n",
    "plt.grid()\n",
    "ax = plt.gca()\n",
    "#ax.legend()\n",
    "plt.tight_layout()\n",
    "plt.savefig('wscc_9bus_iter_tp_max.pdf')"
   ]
  },
  {
   "cell_type": "code",
   "execution_count": null,
   "metadata": {},
   "outputs": [],
   "source": [
    "tp_decoupled_concat = []\n",
    "tp_decoupled_concat.append(tp_pd_decoupled_meas.query('sequence == 1')['values'].values[0][10:])\n",
    "\n",
    "for seq in range(2,1001):\n",
    "    tp_decoupled_concat.append( np.concatenate( (tp_decoupled_concat[-1], tp_pd_decoupled_meas.query('sequence == ' + str(seq))['values'].values[0][10:]), axis=0 ) )"
   ]
  },
  {
   "cell_type": "code",
   "execution_count": null,
   "metadata": {},
   "outputs": [],
   "source": [
    "tp_decoupled_mean = []\n",
    "\n",
    "for seq in range(0,1000):\n",
    "    tp_decoupled_mean.append(tp_decoupled_concat[seq].mean())"
   ]
  },
  {
   "cell_type": "code",
   "execution_count": null,
   "metadata": {},
   "outputs": [],
   "source": [
    "plt.figure(figsize=(12/2.54,8/2.54))\n",
    "#plt.plot(decoupled_mean, label='real time')\n",
    "plt.plot(tp_decoupled_mean, label='throughput')\n",
    "plt.ticklabel_format(axis='y', style='sci', scilimits=(-3,3))\n",
    "plt.xlabel('iterations')\n",
    "plt.ylabel('timestep duration (s)')\n",
    "plt.grid()\n",
    "plt.tight_layout()\n",
    "plt.savefig('wscc_9bus_iter_tp_mean.pdf')"
   ]
  },
  {
   "cell_type": "code",
   "execution_count": null,
   "metadata": {},
   "outputs": [],
   "source": [
    "tp_decoupled_std = []\n",
    "\n",
    "for seq in range(0,1000):\n",
    "    tp_decoupled_std.append(tp_decoupled_concat[seq].std())"
   ]
  },
  {
   "cell_type": "code",
   "execution_count": null,
   "metadata": {},
   "outputs": [],
   "source": [
    "plt.figure(figsize=(12/2.54,8/2.54))\n",
    "plt.plot(tp_decoupled_std)\n",
    "plt.ticklabel_format(axis='y', style='sci', scilimits=(-3,3))\n",
    "plt.xlabel('iterations')\n",
    "plt.ylabel('timestep duration (s)')\n",
    "plt.grid()\n",
    "plt.tight_layout()\n",
    "plt.savefig('wscc_9bus_iter_tp_std.pdf')"
   ]
  },
  {
   "cell_type": "code",
   "execution_count": null,
   "metadata": {},
   "outputs": [],
   "source": []
  }
 ],
 "metadata": {
  "kernelspec": {
   "display_name": "Python 3",
   "language": "python",
   "name": "python3"
  },
  "language_info": {
   "codemirror_mode": {
    "name": "ipython",
    "version": 3
   },
   "file_extension": ".py",
   "mimetype": "text/x-python",
   "name": "python",
   "nbconvert_exporter": "python",
   "pygments_lexer": "ipython3",
   "version": "3.7.5"
  },
  "tests": {
   "skip": true
  }
 },
 "nbformat": 4,
 "nbformat_minor": 4
}
