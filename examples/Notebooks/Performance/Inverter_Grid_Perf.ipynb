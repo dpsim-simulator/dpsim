{
 "cells": [
  {
   "cell_type": "markdown",
   "metadata": {},
   "source": [
    "# Inverter Simulation Performance Measurements"
   ]
  },
  {
   "cell_type": "code",
   "execution_count": null,
   "metadata": {},
   "outputs": [],
   "source": [
    "from dpsim.MeasurementUtils import Measurement \n",
    "import matplotlib.pyplot as plt\n",
    "import pandas as pd\n",
    "import numpy as np"
   ]
  },
  {
   "cell_type": "code",
   "execution_count": null,
   "metadata": {},
   "outputs": [],
   "source": [
    "logs_dir = '../../../logs_inverter/'\n",
    "seq_mean = []\n",
    "\n",
    "for threads in range(0,13,2):   \n",
    "    seq_meas = []\n",
    "    for seq in range(1,11):\n",
    "        log_path =  logs_dir + 'DP_Inverter_Grid_Parallel_FreqSplit_t' + str(threads) + '_s' + str(seq) + '/' + \\\n",
    "                    'DP_Inverter_Grid_Parallel_FreqSplit_t' + str(threads) + '_s' + str(seq) + '_step_times.log'            \n",
    "        #print(log_path)\n",
    "        meas = Measurement.read_timestep_csv(log_path)['step_time'].data\n",
    "        # aggregate the measurements from the different iterations\n",
    "        seq_meas = np.concatenate( (seq_meas, meas), axis=0 )\n",
    "    #print(seq_meas.shape)\n",
    "    seq_mean.append({'threads': threads, 'values': seq_meas.mean()})   \n",
    "\n",
    "pd_mean_freqsplit = pd.DataFrame(seq_mean)"
   ]
  },
  {
   "cell_type": "code",
   "execution_count": null,
   "metadata": {},
   "outputs": [],
   "source": [
    "pd_mean_freqsplit"
   ]
  },
  {
   "cell_type": "code",
   "execution_count": null,
   "metadata": {},
   "outputs": [],
   "source": [
    "logs_dir = '../../../logs_inverter/'\n",
    "seq_mean = []\n",
    "\n",
    "for threads in range(0,13,2):   \n",
    "    seq_meas = []\n",
    "    for seq in range(1,11):\n",
    "        log_path =  logs_dir + 'DP_Inverter_Grid_Parallel_t' + str(threads) + '_s' + str(seq) + '/' + \\\n",
    "                    'DP_Inverter_Grid_Parallel_t' + str(threads) + '_s' + str(seq) + '_step_times.log'            \n",
    "        #print(log_path)\n",
    "        meas = Measurement.read_timestep_csv(log_path)['step_time'].data\n",
    "        # aggregate the measurements from the different iterations\n",
    "        seq_meas = np.concatenate( (seq_meas, meas), axis=0 )\n",
    "    #print(seq_meas.shape)\n",
    "    seq_mean.append({'threads': threads, 'values': seq_meas.mean()})   \n",
    "\n",
    "pd_mean_frequnit = pd.DataFrame(seq_mean)"
   ]
  },
  {
   "cell_type": "code",
   "execution_count": null,
   "metadata": {},
   "outputs": [],
   "source": [
    "pd_mean_frequnit"
   ]
  },
  {
   "cell_type": "code",
   "execution_count": null,
   "metadata": {},
   "outputs": [],
   "source": [
    "threads = np.arange(0,13,2) \n",
    "plt.plot(threads, pd_mean_freqsplit['values']*1e6, 'o-', label='freq. split')\n",
    "plt.plot(threads, pd_mean_frequnit['values']*1e6, 'o-', label='no freq. split')\n",
    "\n",
    "plt.legend(loc='center right')\n",
    "plt.grid()\n",
    "#plt.ylim([-0.01,0.2])\n",
    "#plt.xlim([0,0.0009])\n",
    "plt.xlabel('number of threads')\n",
    "plt.ylabel('mean timestep duration (µs)')\n",
    "plt.tight_layout()\n",
    "plt.savefig('inverter_freq_split.pdf')\n",
    "plt.savefig('inverter_freq_split.png', dpi=300)"
   ]
  },
  {
   "cell_type": "markdown",
   "metadata": {},
   "source": [
    "## Parallel - rt profile no log"
   ]
  },
  {
   "cell_type": "code",
   "execution_count": null,
   "metadata": {},
   "outputs": [],
   "source": [
    "parallel = Measurement.read_timestep_csv('../../../logs/DP_Inverter_Grid_Parallel/DP_Inverter_Grid_Parallel_step_times.log')\n",
    "data = parallel['step_time'].data\n",
    "xaxis = parallel['step_time'].xaxis\n",
    "\n",
    "print('maximum timestep:')\n",
    "print(data.max())\n",
    "print('standard deviation:')\n",
    "print(data.std())\n",
    "print('mean timestep:')\n",
    "print(data.mean())\n",
    "\n",
    "plt.figure()\n",
    "plt.hist(data, 50)\n",
    "plt.xlabel('timestep duration (s)')\n",
    "plt.ylabel('number of timesteps')\n",
    "#plt.xlim([0.0001,0.0005])\n",
    "plt.grid()\n",
    "#plt.savefig('parallel_rt_nolog_hist.png')\n",
    "\n",
    "plt.figure()\n",
    "plt.plot(xaxis, data)\n",
    "plt.xlabel('timestep index')\n",
    "plt.ylabel('timestep duration (s)')\n",
    "#plt.ylim([0.0001,0.0006])\n",
    "plt.grid()\n",
    "#plt.savefig('parallel_rt_nolog_time.png')"
   ]
  },
  {
   "cell_type": "markdown",
   "metadata": {},
   "source": [
    "## Sequential - rt profile no log"
   ]
  },
  {
   "cell_type": "code",
   "execution_count": null,
   "metadata": {},
   "outputs": [],
   "source": [
    "sequential = Measurement.read_timestep_csv('../../../logs/DP_Inverter_Grid_Sequential/DP_Inverter_Grid_Sequential_step_times.log')\n",
    "data = sequential['step_time'].data\n",
    "xaxis = sequential['step_time'].xaxis\n",
    "\n",
    "print('maximum timestep:')\n",
    "print(data.max())\n",
    "print('standard deviation:')\n",
    "print(data.std())\n",
    "print('mean timestep:')\n",
    "print(data.mean())\n",
    "\n",
    "plt.figure()\n",
    "plt.hist(data, 50)\n",
    "plt.xlabel('timestep duration (s)')\n",
    "plt.ylabel('number of timesteps')\n",
    "#plt.xlim([0.0001,0.0005])\n",
    "plt.grid()\n",
    "#plt.savefig('parallel_rt_nolog_hist.png')\n",
    "\n",
    "plt.figure()\n",
    "plt.plot(xaxis, data)\n",
    "plt.xlabel('timestep index')\n",
    "plt.ylabel('timestep duration (s)')\n",
    "#plt.ylim([0.0001,0.0006])\n",
    "plt.grid()\n",
    "#plt.savefig('parallel_rt_nolog_time.png')"
   ]
  },
  {
   "cell_type": "markdown",
   "metadata": {},
   "source": [
    "## Parallel Split Frequencies - rt profile no log"
   ]
  },
  {
   "cell_type": "code",
   "execution_count": null,
   "metadata": {},
   "outputs": [],
   "source": [
    "parallel_splitFreq = Measurement.read_timestep_csv('../../../logs/DP_Inverter_Grid_Parallel_FreqSplit/DP_Inverter_Grid_Parallel_FreqSplit_step_times.log')\n",
    "data = parallel_splitFreq['step_time'].data\n",
    "xaxis = parallel_splitFreq['step_time'].xaxis\n",
    "\n",
    "print('maximum timestep:')\n",
    "print(data.max())\n",
    "print('standard deviation:')\n",
    "print(data.std())\n",
    "print('mean timestep:')\n",
    "print(data.mean())\n",
    "\n",
    "plt.figure()\n",
    "plt.hist(data, 50)\n",
    "plt.xlabel('timestep duration (s)')\n",
    "plt.ylabel('number of timesteps')\n",
    "#plt.xlim([0.0001,0.0005])\n",
    "plt.grid()\n",
    "#plt.savefig('parallel_rt_nolog_hist.png')\n",
    "\n",
    "plt.figure()\n",
    "plt.plot(xaxis, data)\n",
    "plt.xlabel('timestep index')\n",
    "plt.ylabel('timestep duration (s)')\n",
    "#plt.ylim([0.0001,0.0006])\n",
    "plt.grid()\n",
    "#plt.savefig('parallel_rt_nolog_time.png')"
   ]
  },
  {
   "cell_type": "markdown",
   "metadata": {},
   "source": [
    "## Sequential Split Frequencies - rt profile no log"
   ]
  },
  {
   "cell_type": "code",
   "execution_count": null,
   "metadata": {},
   "outputs": [],
   "source": [
    "sequential_SplitFreq = Measurement.read_timestep_csv('../../../logs/DP_Inverter_Grid_Sequential_FreqSplit/DP_Inverter_Grid_Sequential_FreqSplit_step_times.log')\n",
    "data = sequential_SplitFreq['step_time'].data\n",
    "xaxis = sequential_SplitFreq['step_time'].xaxis\n",
    "\n",
    "print('maximum timestep:')\n",
    "print(data.max())\n",
    "print('standard deviation:')\n",
    "print(data.std())\n",
    "print('mean timestep:')\n",
    "print(data.mean())\n",
    "\n",
    "plt.figure()\n",
    "plt.hist(data, 50)\n",
    "plt.xlabel('timestep duration (s)')\n",
    "plt.ylabel('number of timesteps')\n",
    "#plt.xlim([0.0001,0.0005])\n",
    "plt.grid()\n",
    "#plt.savefig('parallel_rt_nolog_hist.png')\n",
    "\n",
    "plt.figure()\n",
    "plt.plot(xaxis, data)\n",
    "plt.xlabel('timestep index')\n",
    "plt.ylabel('timestep duration (s)')\n",
    "#plt.ylim([0.0001,0.0006])\n",
    "plt.grid()\n",
    "#plt.savefig('parallel_rt_nolog_time.png')"
   ]
  },
  {
   "cell_type": "markdown",
   "metadata": {},
   "source": [
    "## Comparison"
   ]
  },
  {
   "cell_type": "code",
   "execution_count": null,
   "metadata": {},
   "outputs": [],
   "source": [
    "parallel_data = parallel['step_time'].data\n",
    "parallel_xaxis = parallel['step_time'].xaxis\n",
    "sequential_data = sequential['step_time'].data\n",
    "sequential_xaxis = sequential['step_time'].xaxis\n",
    "parallel_splitFreq_data = parallel_splitFreq['step_time'].data\n",
    "parallel_splitFreq_xaxis = parallel_splitFreq['step_time'].xaxis\n",
    "sequential_SplitFreq_data = sequential_SplitFreq['step_time'].data\n",
    "sequential_SplitFreq_xaxis = sequential_SplitFreq['step_time'].xaxis\n",
    "\n",
    "plt.figure()\n",
    "plt.hist(parallel_data, 50, label='parallel')\n",
    "plt.hist(sequential_data, 50, label='sequential')\n",
    "plt.hist(parallel_splitFreq_data, 50, label='parallel_freq_split')\n",
    "plt.hist(sequential_SplitFreq_data, 50, label='sequential_freq_split')\n",
    "plt.xlabel('timestep duration (s)')\n",
    "plt.ylabel('number of timesteps')\n",
    "plt.grid()\n",
    "ax = plt.gca()\n",
    "ax.xaxis.set_major_locator(plt.MaxNLocator(5))\n",
    "ax.legend()\n",
    "#plt.xlim([0.0001,0.0005])\n",
    "#plt.savefig('parallel_single_rt_nolog_hist.pdf')"
   ]
  },
  {
   "cell_type": "code",
   "execution_count": null,
   "metadata": {},
   "outputs": [],
   "source": [
    "plt.figure()\n",
    "plt.plot(parallel_xaxis, parallel_data, label='parallel')\n",
    "plt.plot(sequential_xaxis, sequential_data, label='sequential')\n",
    "plt.plot(parallel_splitFreq_xaxis, parallel_splitFreq_data, label='parallel_freq_split')\n",
    "plt.plot(sequential_SplitFreq_xaxis, sequential_SplitFreq_data, label='sequential_freq_split')\n",
    "plt.xlabel('timestep index')\n",
    "plt.ylabel('timestep duration (s)')\n",
    "plt.legend(loc='lower right')\n",
    "plt.grid()\n",
    "#plt.ylim([0.0001,0.0006])\n",
    "#plt.savefig('parallel_single_rt_nolog_time.pdf')"
   ]
  },
  {
   "cell_type": "code",
   "execution_count": null,
   "metadata": {},
   "outputs": [],
   "source": []
  }
 ],
 "metadata": {
  "kernelspec": {
   "display_name": "Python 3",
   "language": "python",
   "name": "python3"
  },
  "language_info": {
   "codemirror_mode": {
    "name": "ipython",
    "version": 3
   },
   "file_extension": ".py",
   "mimetype": "text/x-python",
   "name": "python",
   "nbconvert_exporter": "python",
   "pygments_lexer": "ipython3",
   "version": "3.7.5"
  },
  "tests": {
   "skip": true
  }
 },
 "nbformat": 4,
 "nbformat_minor": 4
}
