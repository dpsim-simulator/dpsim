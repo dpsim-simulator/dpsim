{
 "cells": [
  {
   "cell_type": "markdown",
   "metadata": {},
   "source": [
    "# Multimachine"
   ]
  },
  {
   "cell_type": "code",
   "execution_count": null,
   "metadata": {},
   "outputs": [],
   "source": [
    "%%capture\n",
    "%%bash\n",
    "TOP=${TOP:-$(git rev-parse --show-toplevel)}\n",
    "PATH=${TOP}/build/dpsim/examples/cxx\n",
    "\n",
    "DP_Multimachine_DQ_Parallel"
   ]
  },
  {
   "cell_type": "code",
   "execution_count": null,
   "metadata": {},
   "outputs": [],
   "source": [
    "import pandas as pd\n",
    "from dpsim.MeasurementUtils import Measurement\n",
    "import numpy as np\n",
    "import matplotlib.pyplot as plt"
   ]
  },
  {
   "cell_type": "code",
   "execution_count": null,
   "metadata": {},
   "outputs": [],
   "source": [
    "logs_dir = \"../../../logs_multimachine/\"\n",
    "gen_mean = []\n",
    "gen_max = []\n",
    "gen_std = []\n",
    "\n",
    "for gens in range(1, 21):\n",
    "    for threads in range(0, 13, 2):\n",
    "        seq_meas = []\n",
    "        for seq in range(1, 51):\n",
    "            log_path = (\n",
    "                logs_dir\n",
    "                + \"DP_Multimachine_th\"\n",
    "                + str(threads)\n",
    "                + \"_gen\"\n",
    "                + str(gens)\n",
    "                + \"_rep\"\n",
    "                + str(seq)\n",
    "                + \"/\"\n",
    "                + \"DP_Multimachine_th\"\n",
    "                + str(threads)\n",
    "                + \"_gen\"\n",
    "                + str(gens)\n",
    "                + \"_rep\"\n",
    "                + str(seq)\n",
    "                + \"_step_times.log\"\n",
    "            )\n",
    "            # print(log_path)\n",
    "            meas = Measurement.read_timestep_csv(log_path)[\"step_time\"].data\n",
    "            # aggregate the measurements from the different iterations\n",
    "            seq_meas = np.concatenate((seq_meas, meas), axis=0)\n",
    "\n",
    "        # print(seq_meas.shape)\n",
    "        # coupled_meas.append({'copies': copies, 'threads': threads, 'values': meas['step_time'].data})\n",
    "        gen_mean.append({\"copies\": gens, \"threads\": threads, \"values\": seq_meas.mean()})\n",
    "        gen_max.append({\"copies\": gens, \"threads\": threads, \"values\": seq_meas.max()})\n",
    "        gen_std.append({\"copies\": gens, \"threads\": threads, \"values\": seq_meas.std()})\n",
    "\n",
    "# pd_coupled_meas = pd.DataFrame(coupled_meas)\n",
    "pd_gen_mean = pd.DataFrame(gen_mean)\n",
    "pd_gen_max = pd.DataFrame(gen_max)\n",
    "pd_gen_std = pd.DataFrame(gen_std)"
   ]
  },
  {
   "cell_type": "code",
   "execution_count": null,
   "metadata": {},
   "outputs": [],
   "source": [
    "pd_gen_mean"
   ]
  },
  {
   "cell_type": "code",
   "execution_count": null,
   "metadata": {},
   "outputs": [],
   "source": [
    "import matplotlib.ticker as ticker\n",
    "\n",
    "ax = plt.figure().gca()\n",
    "ax.xaxis.set_major_locator(ticker.MultipleLocator(2))\n",
    "\n",
    "xaxis = np.arange(1, 21)\n",
    "plt.plot(\n",
    "    xaxis,\n",
    "    pd_gen_mean.query(\"threads==\" + str(0))[\"values\"].values * 1e3,\n",
    "    label=str(0) + \" threads\",\n",
    "    marker=\"o\",\n",
    ")\n",
    "plt.plot(\n",
    "    xaxis,\n",
    "    pd_gen_mean.query(\"threads==\" + str(2))[\"values\"].values * 1e3,\n",
    "    label=str(2) + \" threads\",\n",
    "    marker=\"o\",\n",
    ")\n",
    "plt.plot(\n",
    "    xaxis,\n",
    "    pd_gen_mean.query(\"threads==\" + str(4))[\"values\"].values * 1e3,\n",
    "    label=str(4) + \" threads\",\n",
    "    marker=\"o\",\n",
    ")\n",
    "plt.plot(\n",
    "    xaxis,\n",
    "    pd_gen_mean.query(\"threads==\" + str(8))[\"values\"].values * 1e3,\n",
    "    label=str(8) + \" threads\",\n",
    "    marker=\"o\",\n",
    ")\n",
    "plt.plot(\n",
    "    xaxis,\n",
    "    pd_gen_mean.query(\"threads==\" + str(12))[\"values\"].values * 1e3,\n",
    "    label=str(12) + \" threads\",\n",
    "    marker=\"o\",\n",
    ")\n",
    "\n",
    "# plt.ylim([0,0.0004])\n",
    "\n",
    "plt.xlabel(\"number of system copies\")\n",
    "plt.ylabel(\"mean timestep duration (ms)\")\n",
    "plt.grid()\n",
    "plt.legend()\n",
    "plt.tight_layout()\n",
    "plt.savefig(\"multimachine_parallel.pdf\")\n",
    "plt.savefig(\"multimachine_parallel.png\", dpi=300)"
   ]
  },
  {
   "cell_type": "code",
   "execution_count": null,
   "metadata": {},
   "outputs": [],
   "source": []
  }
 ],
 "metadata": {
  "kernelspec": {
   "display_name": "Python 3",
   "language": "python",
   "name": "python3"
  },
  "language_info": {
   "codemirror_mode": {
    "name": "ipython",
    "version": 3
   },
   "file_extension": ".py",
   "mimetype": "text/x-python",
   "name": "python",
   "nbconvert_exporter": "python",
   "pygments_lexer": "ipython3",
   "version": "3.7.5"
  },
  "tests": {
   "skip": true
  }
 },
 "nbformat": 4,
 "nbformat_minor": 4
}
