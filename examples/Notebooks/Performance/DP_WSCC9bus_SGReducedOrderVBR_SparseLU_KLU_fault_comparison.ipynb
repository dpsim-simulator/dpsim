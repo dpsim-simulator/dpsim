{
 "cells": [
  {
   "cell_type": "code",
   "execution_count": null,
   "id": "18ca391d-430d-4f34-98c5-de80cb90cd27",
   "metadata": {},
   "outputs": [],
   "source": [
    "import villas.dataprocessing.readtools as rt\n",
    "from villas.dataprocessing.timeseries import TimeSeries as ts\n",
    "import matplotlib.pyplot as plt\n",
    "import re\n",
    "import numpy as np\n",
    "import math\n",
    "import os\n",
    "import dpsimpy\n",
    "import glob\n",
    "import requests\n",
    "\n",
    "%matplotlib widget"
   ]
  },
  {
   "cell_type": "code",
   "execution_count": null,
   "id": "63f7fa14-041e-4870-8aff-92d3d781500d",
   "metadata": {},
   "outputs": [],
   "source": [
    "example_name = \"DP_WSCC9bus_SGReducedOrderVBR\"\n",
    "\n",
    "final_time = 2.0\n",
    "time_step = 100e-6\n",
    "with_fault = True\n",
    "start_time_fault = 1.2\n",
    "end_time_fault = 1.3\n",
    "\n",
    "sg_type = \"4\"\n",
    "fault_bus_name = \"BUS6\"\n",
    "log_dir = \"logs\"\n",
    "\n",
    "log_level = dpsimpy.LogLevel.info\n",
    "\n",
    "def download_grid_data(name, url):\n",
    "    with open(name, 'wb') as out_file:\n",
    "        content = requests.get(url, stream=True).content\n",
    "        out_file.write(content)\n",
    "\n",
    "filename = 'WSCC-09_Dyn_Fourth'\n",
    "\n",
    "url = 'https://raw.githubusercontent.com/dpsim-simulator/cim-grid-data/master/WSCC-09/WSCC-09_Dyn_Fourth/WSCC-09_Dyn_Fourth'\n",
    "download_grid_data(filename+'_EQ.xml', url+'_EQ.xml')\n",
    "download_grid_data(filename+'_TP.xml', url+'_TP.xml')\n",
    "download_grid_data(filename+'_SV.xml', url+'_SV.xml')\n",
    "download_grid_data(filename+'_DI.xml', url+'_DI.xml')\n",
    "    \n",
    "files = glob.glob(filename+'_*.xml')"
   ]
  },
  {
   "cell_type": "code",
   "execution_count": null,
   "id": "42d1f218-ea41-4767-b1e4-485807eda01e",
   "metadata": {},
   "outputs": [],
   "source": [
    "## Powerflow Simulation\n",
    "sim_name_pf = example_name + \"_PF\"\n",
    "\n",
    "dpsimpy.Logger.set_log_dir(log_dir+\"/\"+sim_name_pf)\n",
    "reader = dpsimpy.CIMReader(sim_name_pf, log_level, log_level)\n",
    "\n",
    "system_pf = reader.loadCIM(60, files, dpsimpy.Domain.SP, dpsimpy.PhaseType.Single, dpsimpy.GeneratorType.PVNode)\n",
    "system_pf.component('GEN1').modify_power_flow_bus_type(dpsimpy.PowerflowBusType.VD)\n",
    "logger_pf = dpsimpy.Logger(sim_name_pf)\n",
    "for node in system_pf.nodes:\n",
    "    logger_pf.log_attribute(node.name() + \".V\", node.attr(\"v\"))\n",
    "    \n",
    "sim_pf = dpsimpy.Simulation(sim_name_pf, log_level)\n",
    "sim_pf.set_system(system_pf)\n",
    "sim_pf.set_time_step(final_time)\n",
    "sim_pf.set_final_time(2*final_time)\n",
    "sim_pf.set_domain(dpsimpy.Domain.SP)\n",
    "sim_pf.set_solver(dpsimpy.Solver.NRP)\n",
    "sim_pf.set_solver_component_behaviour(dpsimpy.SolverBehaviour.Initialization)\n",
    "sim_pf.do_init_from_nodes_and_terminals(True)\n",
    "sim_pf.add_logger(logger_pf)\n",
    "sim_pf.run()"
   ]
  },
  {
   "cell_type": "code",
   "execution_count": null,
   "id": "4b4193b9-5c4e-4334-bc47-b7d197254395",
   "metadata": {},
   "outputs": [],
   "source": [
    "## Dynamic Simulation\n",
    "def run_simulation(sim_name, implementation):\n",
    "   \n",
    "    dpsimpy.Logger.set_log_dir(log_dir+\"/\"+sim_name)\n",
    "    reader2 = dpsimpy.CIMReader(sim_name, log_level, log_level)\n",
    "    if sg_type == \"3\":\n",
    "        sys = reader2.loadCIM(60, files, dpsimpy.Domain.DP, dpsimpy.PhaseType.Single, dpsimpy.GeneratorType.SG3OrderVBR)\n",
    "    elif sg_type == \"4\":\n",
    "        sys = reader2.loadCIM(60, files, dpsimpy.Domain.DP, dpsimpy.PhaseType.Single, dpsimpy.GeneratorType.SG4OrderVBR)\n",
    "    elif sg_type == \"6b\":\n",
    "        sys = reader2.loadCIM(60, files, dpsimpy.Domain.DP, dpsimpy.PhaseType.Single, dpsimpy.GeneratorType.SG6bOrderVBR)\n",
    "    else:\n",
    "        raise Exception(\"Unsupported reduced-order SG type!\")\n",
    "\n",
    "    fault_dp = dpsimpy.sp.ph1.Switch(\"Fault\", log_level)\n",
    "\n",
    "    if with_fault == True:\n",
    "        n1_dp = dpsimpy.dp.SimNode(fault_bus_name, dpsimpy.PhaseType.Single)\n",
    "        fault_dp.set_parameters(1e12, 0.02*529)\n",
    "        fault_dp.connect([dpsimpy.dp.SimNode.gnd, n1_dp])\n",
    "        fault_dp.open()\n",
    "        sys.add(fault_dp)\n",
    "\n",
    "    sys.init_with_powerflow(system_pf)\n",
    "    \n",
    "    for comp in sys.components:\n",
    "       if comp.__class__ == dpsimpy.dp.ph1.SynchronGenerator4OrderVBR:\n",
    "           gen_pf = system_pf.component(comp.name())\n",
    "           comp.get_terminal(index=0).set_power(- gen_pf.get_apparent_power())\n",
    "           comp.set_model_as_norton_source(False)\n",
    "\n",
    "    logger = dpsimpy.Logger(sim_name)\n",
    "    for node in sys.nodes:\n",
    "        logger.log_attribute(node.name() + \".V\", node.attr(\"v\"))\n",
    "\n",
    "    for comp in sys.components:\n",
    "        if comp.__class__ == dpsimpy.dp.ph1.SynchronGenerator4OrderVBR:\n",
    "            logger.log_attribute(comp.name() + \".Tm\", comp.attr(\"Tm\"))\n",
    "            logger.log_attribute(comp.name() + \".Te\", comp.attr(\"Te\"))\n",
    "            logger.log_attribute(comp.name() + \".omega\", comp.attr(\"w_r\"))\n",
    "            logger.log_attribute(comp.name() + \".delta\", comp.attr(\"delta\"))\n",
    "\n",
    "    sim = dpsimpy.Simulation(sim_name, log_level)\n",
    "    sim.set_system(sys)\n",
    "    sim.set_domain(dpsimpy.Domain.DP)\n",
    "    sim.set_solver(dpsimpy.Solver.MNA)\n",
    "    sim.set_time_step(time_step)\n",
    "    sim.set_final_time(final_time)\n",
    "    sim.do_system_matrix_recomputation(True)\n",
    "    sim.set_direct_solver_implementation(implementation)\n",
    "    sim.add_logger(logger)\n",
    "\n",
    "    if with_fault:\n",
    "        fault_event1 = dpsimpy.event.SwitchEvent(start_time_fault, fault_dp, True)\n",
    "        fault_event2 = dpsimpy.event.SwitchEvent(end_time_fault, fault_dp, False)\n",
    "        sim.add_event(fault_event1)\n",
    "        sim.add_event(fault_event2)\n",
    "\n",
    "    sim.run()"
   ]
  },
  {
   "cell_type": "code",
   "execution_count": null,
   "id": "9ce0470c-825b-487d-9a2c-fa8edff6c0be",
   "metadata": {},
   "outputs": [],
   "source": [
    "%%capture\n",
    "sim_name = example_name+'_SparseLU'\n",
    "run_simulation(sim_name,dpsimpy.DirectLinearSolverImpl.SparseLU)\n",
    "ts_dpsim_sparse = rt.read_timeseries_dpsim(dpsimpy.Logger.get_log_dir()+\"/\"+sim_name+\".csv\")"
   ]
  },
  {
   "cell_type": "code",
   "execution_count": null,
   "id": "0de4c22e-c7ae-4d70-810c-0229c04c9530",
   "metadata": {},
   "outputs": [],
   "source": [
    "%%capture\n",
    "sim_name = example_name+'_KLU'\n",
    "run_simulation(example_name+'_KLU',dpsimpy.DirectLinearSolverImpl.KLU)\n",
    "ts_dpsim_klu = rt.read_timeseries_dpsim(dpsimpy.Logger.get_log_dir()+\"/\"+sim_name+\".csv\")"
   ]
  },
  {
   "cell_type": "code",
   "execution_count": null,
   "id": "4734f42f-8050-401f-bd4e-621b6bcb2ffc",
   "metadata": {},
   "outputs": [],
   "source": [
    "var_name = 'GEN3.Te'\n",
    "plt.figure()\n",
    "plt.plot(ts_dpsim_sparse[var_name].time, ts_dpsim_sparse[var_name].values)\n",
    "plt.plot(ts_dpsim_klu[var_name].time, ts_dpsim_klu[var_name].values, linestyle='--')"
   ]
  },
  {
   "cell_type": "code",
   "execution_count": null,
   "id": "a9f0ebbf-6406-4c02-b0fa-e917e1d0061c",
   "metadata": {},
   "outputs": [],
   "source": []
  }
 ],
 "metadata": {
  "kernelspec": {
   "display_name": "Python 3 (ipykernel)",
   "language": "python",
   "name": "python3"
  },
  "language_info": {
   "codemirror_mode": {
    "name": "ipython",
    "version": 3
   },
   "file_extension": ".py",
   "mimetype": "text/x-python",
   "name": "python",
   "nbconvert_exporter": "python",
   "pygments_lexer": "ipython3",
   "version": "3.9.13"
  },
  "tests": {
   "skip": true
  },
  "vscode": {
   "interpreter": {
    "hash": "e7370f93d1d0cde622a1f8e1c04877d8463912d04d973331ad4851f04de6915a"
   }
  }
 },
 "nbformat": 4,
 "nbformat_minor": 5
}
