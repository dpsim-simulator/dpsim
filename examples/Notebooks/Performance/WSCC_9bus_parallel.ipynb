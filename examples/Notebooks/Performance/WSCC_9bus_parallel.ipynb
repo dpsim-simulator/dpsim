{
 "cells": [
  {
   "cell_type": "markdown",
   "metadata": {},
   "source": [
    "## Run"
   ]
  },
  {
   "cell_type": "code",
   "execution_count": null,
   "metadata": {},
   "outputs": [],
   "source": [
    "%%bash\n",
    "TOP=${TOP:-$(git rev-parse --show-toplevel)}\n",
    "PATH=${TOP}/build/dpsim/examples/cxx\n",
    "\n",
    "WSCC_9bus_mult_coupled ${TOP}/examples/CIM/WSCC-09_RX/*.xml"
   ]
  },
  {
   "cell_type": "code",
   "execution_count": null,
   "metadata": {},
   "outputs": [],
   "source": [
    "%%bash\n",
    "TOP=${TOP:-$(git rev-parse --show-toplevel)}\n",
    "PATH=${TOP}/build/dpsim/examples/cxx\n",
    "\n",
    "WSCC_9bus_mult_decoupled ${TOP}/examples/CIM/WSCC-09_RX/*.xml"
   ]
  },
  {
   "cell_type": "code",
   "execution_count": null,
   "metadata": {},
   "outputs": [],
   "source": [
    "%%bash\n",
    "TOP=${TOP:-$(git rev-parse --show-toplevel)}\n",
    "PATH=${TOP}/build/dpsim/examples/cxx\n",
    "\n",
    "WSCC_9bus_mult_diakoptics ${TOP}/examples/CIM/WSCC-09_RX/*.xml"
   ]
  },
  {
   "cell_type": "markdown",
   "metadata": {},
   "source": [
    "## Validate Results"
   ]
  },
  {
   "cell_type": "code",
   "execution_count": null,
   "metadata": {},
   "outputs": [],
   "source": [
    "import villas.dataprocessing.readtools as rt\n",
    "from villas.dataprocessing.timeseries import TimeSeries as ts\n",
    "import matplotlib.pyplot as plt\n",
    "import numpy as np\n",
    "import pandas as pd"
   ]
  },
  {
   "cell_type": "code",
   "execution_count": null,
   "metadata": {},
   "outputs": [],
   "source": [
    "path = 'logs/WSCC_9bus_coupled/'\n",
    "logName = 'WSCC_9bus_coupled'\n",
    "logFilename = path + logName + '.csv'\n",
    "print(logFilename)\n",
    "\n",
    "ts_coupled = rt.read_timeseries_dpsim(logFilename)\n",
    "phasors_coupled = ts.phasors(ts_coupled)"
   ]
  },
  {
   "cell_type": "code",
   "execution_count": null,
   "metadata": {},
   "outputs": [],
   "source": [
    "path = 'logs/WSCC_9bus_decoupled/'\n",
    "logName = 'WSCC_9bus_decoupled'\n",
    "logFilename = path + logName + '.csv'\n",
    "print(logFilename)\n",
    "\n",
    "ts_decoupled = rt.read_timeseries_dpsim(logFilename)\n",
    "phasors_decoupled = ts.phasors(ts_decoupled)"
   ]
  },
  {
   "cell_type": "code",
   "execution_count": null,
   "metadata": {},
   "outputs": [],
   "source": [
    "path = 'logs/WSCC_9bus_diakoptics/'\n",
    "logName = 'WSCC_9bus_diakoptics'\n",
    "logFilename = path + logName + '.csv'\n",
    "print(logFilename)\n",
    "\n",
    "ts_diakpotics = rt.read_timeseries_dpsim(logFilename)\n",
    "phasors_diakoptics= ts.phasors(ts_diakpotics)"
   ]
  },
  {
   "cell_type": "code",
   "execution_count": null,
   "metadata": {},
   "outputs": [],
   "source": [
    "for node, phasor in phasors_coupled.items():\n",
    "    print(node + ': ' + str(phasor['abs'].values[-1]) + '<' + str(phasor['phase'].values[-1]))"
   ]
  },
  {
   "cell_type": "code",
   "execution_count": null,
   "metadata": {},
   "outputs": [],
   "source": [
    "for node, phasor in phasors_decoupled.items():\n",
    "    print(node + ': ' + str(phasor['abs'].values[-1]) + '<' + str(phasor['phase'].values[-1]))"
   ]
  },
  {
   "cell_type": "code",
   "execution_count": null,
   "metadata": {},
   "outputs": [],
   "source": [
    "for node, phasor in phasors_diakoptics.items():\n",
    "    print(node + ': ' + str(phasor['abs'].values[-1]) + '<' + str(phasor['phase'].values[-1]))"
   ]
  },
  {
   "cell_type": "markdown",
   "metadata": {},
   "source": [
    "### Reference - single system"
   ]
  },
  {
   "cell_type": "code",
   "execution_count": null,
   "metadata": {},
   "outputs": [],
   "source": [
    "path = 'logs/WSCC-9bus/'\n",
    "logName = 'WSCC-9bus'\n",
    "logFilename = path + logName + '.csv'\n",
    "print(logFilename)\n",
    "\n",
    "ts_single = rt.read_timeseries_dpsim(logFilename)\n",
    "phasors_single = ts.phasors(ts_single)"
   ]
  },
  {
   "cell_type": "code",
   "execution_count": null,
   "metadata": {},
   "outputs": [],
   "source": [
    "for node, phasor in phasors_single.items():\n",
    "    print(node + ': ' + str(phasor['abs'].values[-1]) + '<' + str(phasor['phase'].values[-1]))"
   ]
  },
  {
   "cell_type": "markdown",
   "metadata": {},
   "source": [
    "### Comparison"
   ]
  },
  {
   "cell_type": "code",
   "execution_count": null,
   "metadata": {},
   "outputs": [],
   "source": [
    "for node, phasor in phasors_single.items():\n",
    "    print(node + ': ' + str(phasor['abs'].values[-1] - phasors_decoupled[node]['abs'].values[-1]) + '<' + str(phasor['phase'].values[-1] - phasors_decoupled[node]['phase'].values[-1]))"
   ]
  },
  {
   "cell_type": "code",
   "execution_count": null,
   "metadata": {},
   "outputs": [],
   "source": [
    "for node, phasor in phasors_coupled.items():\n",
    "    print(node + ': ' + str(phasor['abs'].values[-1] - phasors_diakoptics[node]['abs'].values[-1]) + '<' + str(phasor['phase'].values[-1] - phasors_diakoptics[node]['phase'].values[-1]))"
   ]
  },
  {
   "cell_type": "markdown",
   "metadata": {},
   "source": [
    "## Performance"
   ]
  },
  {
   "cell_type": "code",
   "execution_count": null,
   "metadata": {},
   "outputs": [],
   "source": [
    "#%%capture\n",
    "import pandas as pd\n",
    "from dpsim.MeasurementUtils import Measurement\n",
    "import numpy as np\n",
    "\n",
    "logs_dir = '../../../logs_9bus/'\n",
    "#coupled_meas = []\n",
    "coupled_mean = []\n",
    "coupled_max = []\n",
    "coupled_std = []\n",
    "\n",
    "for copies in range(0,20):    \n",
    "    for threads in range(0,13,2):   \n",
    "        seq_meas = []\n",
    "        for seq in range(1,11):\n",
    "            log_path =  logs_dir + 'WSCC_9bus_coupled_' + str(copies) + '_' + str(threads) + '_' + str(seq) + '/' + \\\n",
    "                        'WSCC_9bus_coupled_' + str(copies) + '_' + str(threads) + '_' + str(seq) + '_step_times.log'            \n",
    "            #print(log_path)\n",
    "            meas = Measurement.read_timestep_csv(log_path)['step_time'].data\n",
    "            # aggregate the measurements from the different iterations\n",
    "            seq_meas = np.concatenate( (seq_meas, meas), axis=0)\n",
    "            \n",
    "        #print(seq_meas.shape)\n",
    "        #coupled_meas.append({'copies': copies, 'threads': threads, 'values': meas['step_time'].data})         \n",
    "        coupled_mean.append({'copies': copies, 'threads': threads, 'values': seq_meas.mean()})   \n",
    "        coupled_max.append({'copies': copies, 'threads': threads, 'values': seq_meas.max()})   \n",
    "        coupled_std.append({'copies': copies, 'threads': threads, 'values': seq_meas.std()})   \n",
    "        \n",
    "#pd_coupled_meas = pd.DataFrame(coupled_meas)\n",
    "pd_coupled_mean = pd.DataFrame(coupled_mean)\n",
    "pd_coupled_max = pd.DataFrame(coupled_max)\n",
    "pd_coupled_std = pd.DataFrame(coupled_std)"
   ]
  },
  {
   "cell_type": "code",
   "execution_count": null,
   "metadata": {},
   "outputs": [],
   "source": [
    "import matplotlib.ticker as ticker\n",
    "import matplotlib.pyplot as plt\n",
    "\n",
    "ax = plt.figure().gca()\n",
    "ax.xaxis.set_major_locator(ticker.MultipleLocator(2))\n",
    "copies = np.arange(1,21)\n",
    "\n",
    "for threads in range(0,13,2):\n",
    "    plt.plot(copies, pd_coupled_mean.query('threads=='+str(threads))['values'].values, label=str(threads)+' threads', marker='o')\n",
    "\n",
    "plt.xlabel('number of system copies')\n",
    "plt.ylabel('mean timestep duration (s)')\n",
    "plt.grid()\n",
    "plt.legend(loc='upper left')\n",
    "plt.tight_layout()\n",
    "plt.savefig('9bus_coupled.pdf')"
   ]
  },
  {
   "cell_type": "code",
   "execution_count": null,
   "metadata": {},
   "outputs": [],
   "source": [
    "import pandas as pd\n",
    "from dpsim.MeasurementUtils import Measurement\n",
    "\n",
    "logs_dir = '../../../logs_9bus/'\n",
    "decoupled_meas = []\n",
    "decoupled_mean = []\n",
    "decoupled_max = []\n",
    "decoupled_std = []\n",
    "\n",
    "for copies in range(0,20):    \n",
    "    for threads in range(0,13,2):   \n",
    "        seq_meas = []\n",
    "        for seq in range(1,11):\n",
    "            log_path =  logs_dir + 'WSCC_9bus_decoupled_' + str(copies) + '_' + str(threads) + '_' + str(seq) + '/' + \\\n",
    "                        'WSCC_9bus_decoupled_' + str(copies) + '_' + str(threads) + '_' + str(seq) + '_step_times.log'            \n",
    "            #print(log_path)\n",
    "            meas = Measurement.read_timestep_csv(log_path)['step_time'].data\n",
    "            # aggregate the measurements from the different iterations\n",
    "            seq_meas = np.concatenate( (seq_meas, meas), axis=0)\n",
    "            \n",
    "        #print(seq_meas.shape)\n",
    "        #coupled_meas.append({'copies': copies, 'threads': threads, 'values': meas['step_time'].data})         \n",
    "        decoupled_mean.append({'copies': copies, 'threads': threads, 'values': seq_meas.mean()})   \n",
    "        decoupled_max.append({'copies': copies, 'threads': threads, 'values': seq_meas.max()})   \n",
    "        decoupled_std.append({'copies': copies, 'threads': threads, 'values': seq_meas.std()})   \n",
    "        \n",
    "pd_decoupled_meas = pd.DataFrame(decoupled_meas)\n",
    "pd_decoupled_mean = pd.DataFrame(decoupled_mean)\n",
    "pd_decoupled_max = pd.DataFrame(decoupled_max)\n",
    "pd_decoupled_std = pd.DataFrame(decoupled_std)"
   ]
  },
  {
   "cell_type": "code",
   "execution_count": null,
   "metadata": {},
   "outputs": [],
   "source": [
    "import matplotlib.ticker as ticker\n",
    "\n",
    "ax = plt.figure().gca()\n",
    "ax.xaxis.set_major_locator(ticker.MultipleLocator(2))\n",
    "copies = np.arange(1,21)\n",
    "\n",
    "for threads in range(0,13,2):    \n",
    "    plt.plot(copies, pd_decoupled_mean.query('threads=='+str(threads))['values'].values, label=str(threads)+' threads', marker='o')\n",
    "\n",
    "#plt.ylim([0,0.00025])\n",
    "\n",
    "plt.xlabel('number of system copies')\n",
    "plt.ylabel('mean timestep duration (s)')\n",
    "plt.grid()\n",
    "plt.legend()\n",
    "plt.tight_layout()\n",
    "plt.savefig('9bus_decoupled.pdf')"
   ]
  },
  {
   "cell_type": "code",
   "execution_count": null,
   "metadata": {},
   "outputs": [],
   "source": [
    "#%%capture\n",
    "from dpsim.MeasurementUtils import Measurement \n",
    "import numpy as np\n",
    "import pandas as pd\n",
    "\n",
    "logs_dir = '../../../logs_9bus/'\n",
    "diakoptics_meas = []\n",
    "diakoptics_mean = []\n",
    "diakoptics_max = []\n",
    "diakoptics_std = []\n",
    "            \n",
    "for copies in range(0,20):    \n",
    "    for threads in range(0,13,2):   \n",
    "        for splits in range(0, copies+2):\n",
    "            seq_meas = []\n",
    "            for seq in range(1,11):\n",
    "                log_path =  logs_dir + 'WSCC_9bus_diakoptics_' + str(copies) + '_' + str(threads) + '_' + str(splits) + '_' + str(seq) + '/' + \\\n",
    "                            'WSCC_9bus_diakoptics_' + str(copies) + '_' + str(threads) + '_' + str(splits) + '_' + str(seq) + '_step_times.log'            \n",
    "                #print(log_path)\n",
    "                meas = Measurement.read_timestep_csv(log_path)['step_time'].data\n",
    "                # aggregate the measurements from the different iterations\n",
    "                seq_meas = np.concatenate( (seq_meas, meas), axis=0)\n",
    "\n",
    "            #print(seq_meas.shape)\n",
    "            #diakoptics_meas.append({'copies': copies, 'threads': threads, 'splits': splits, 'values': meas['step_time'].data})         \n",
    "            diakoptics_mean.append({'copies': copies, 'threads': threads, 'splits': splits, 'values': seq_meas.mean()})   \n",
    "            diakoptics_max.append({'copies': copies, 'threads': threads, 'splits': splits, 'values': seq_meas.max()})   \n",
    "            diakoptics_std.append({'copies': copies, 'threads': threads, 'splits': splits, 'values': seq_meas.std()})   \n",
    "        \n",
    "#pd_diakoptics_meas = pd.DataFrame(diakoptics_meas)\n",
    "pd_diakoptics_mean = pd.DataFrame(diakoptics_mean)\n",
    "pd_diakoptics_max = pd.DataFrame(diakoptics_max)\n",
    "pd_diakoptics_std = pd.DataFrame(diakoptics_std)"
   ]
  },
  {
   "cell_type": "code",
   "execution_count": null,
   "metadata": {},
   "outputs": [],
   "source": [
    "diakoptics_mean_split_min = []\n",
    "for copies in range(0,20):    \n",
    "    for threads in range(0,13,2): \n",
    "        split_min_num = copies+1\n",
    "        split_min = pd_diakoptics_mean.query('copies=='+str(copies)+' and threads=='+str(threads)+' and splits=='+str(split_min_num))['values'].iloc[0]\n",
    "        for splits in range(1, copies+1):\n",
    "            tmp = pd_diakoptics_mean.query('copies=='+str(copies)+' and threads=='+str(threads)+' and splits=='+str(splits))['values'].iloc[0]\n",
    "            if tmp < split_min:\n",
    "                split_min_num = splits\n",
    "                split_min = tmp\n",
    "                \n",
    "        diakoptics_mean_split_min.append({'copies': copies, 'threads': threads, 'splits': split_min_num, 'values': split_min})  \n",
    "        \n",
    "pd_diakoptics_mean_split_min = pd.DataFrame(diakoptics_mean_split_min)"
   ]
  },
  {
   "cell_type": "code",
   "execution_count": null,
   "metadata": {},
   "outputs": [],
   "source": [
    "pd_diakoptics_mean_split_min.query('threads=='+str(8))"
   ]
  },
  {
   "cell_type": "code",
   "execution_count": null,
   "metadata": {},
   "outputs": [],
   "source": [
    "diakoptics_splits = []\n",
    "\n",
    "for copies in range(0,20):    \n",
    "    for threads in range(0,13,2):\n",
    "        diakoptics_splits.append(pd_diakoptics_mean_split_min.query('copies=='+str(copies)+' and threads=='+str(threads))['splits'].values)"
   ]
  },
  {
   "cell_type": "code",
   "execution_count": null,
   "metadata": {},
   "outputs": [],
   "source": [
    "import matplotlib.ticker as ticker\n",
    "\n",
    "ax = plt.figure().gca()\n",
    "ax.xaxis.set_major_locator(ticker.MultipleLocator(2))\n",
    "copies = np.arange(1,21)\n",
    "\n",
    "for threads in range(0,13,2):\n",
    "    plt.plot(copies, pd_diakoptics_mean_split_min.query('threads=='+str(threads))['splits'].values, label= str(threads) + ' threads', marker='o')\n",
    "\n",
    "\n",
    "plt.xlabel('number of system copies')\n",
    "plt.ylabel('mean split number')\n",
    "plt.grid()\n",
    "plt.legend()\n",
    "plt.tight_layout()\n",
    "plt.savefig('diakoptics_min_mean_splits.pdf')"
   ]
  },
  {
   "cell_type": "code",
   "execution_count": null,
   "metadata": {},
   "outputs": [],
   "source": [
    "import matplotlib.ticker as ticker\n",
    "\n",
    "ax = plt.figure().gca()\n",
    "ax.xaxis.set_major_locator(ticker.MultipleLocator(2))\n",
    "copies = np.arange(1,21)\n",
    "\n",
    "for threads in range(0,13,2):\n",
    "    plt.plot(copies, pd_diakoptics_mean_split_min.query('threads=='+str(threads))['values'].values, label= str(threads) + ' threads', marker='o')\n",
    "\n",
    "plt.xlabel('number of system copies')\n",
    "plt.ylabel('mean timestep duration (s)')\n",
    "plt.grid()\n",
    "plt.legend()\n",
    "plt.tight_layout()\n",
    "plt.savefig('9bus_diakoptics.pdf')"
   ]
  },
  {
   "cell_type": "code",
   "execution_count": null,
   "metadata": {},
   "outputs": [],
   "source": [
    "import matplotlib.ticker as ticker\n",
    "\n",
    "ax = plt.figure().gca()\n",
    "ax.xaxis.set_major_locator(ticker.MultipleLocator(2))\n",
    "copies = np.arange(1,21)\n",
    "threads = 8\n",
    "\n",
    "plt.plot(copies, pd_coupled_mean.query('threads=='+str(threads))['values'].values, label='coupled, 8 threads', marker='o')\n",
    "plt.plot(copies, pd_decoupled_mean.query('threads=='+str(threads))['values'].values, label='line decoupled, 8 threads', marker='o')\n",
    "plt.plot(copies, pd_diakoptics_mean_split_min.query('threads=='+str(threads))['values'].values, label='diakoptics, 8 threads', marker='o')\n",
    "\n",
    "plt.xlabel('number of system copies')\n",
    "plt.ylabel('mean timestep duration (s)')\n",
    "plt.grid()\n",
    "plt.legend()\n",
    "plt.yscale('log')\n",
    "plt.tight_layout()\n",
    "plt.savefig('9bus_comparison.pdf')\n",
    "plt.savefig('9bus_comparison.png', dpi=300)"
   ]
  },
  {
   "cell_type": "code",
   "execution_count": null,
   "metadata": {},
   "outputs": [],
   "source": []
  }
 ],
 "metadata": {
  "kernelspec": {
   "display_name": "Python 3",
   "language": "python",
   "name": "python3"
  },
  "language_info": {
   "codemirror_mode": {
    "name": "ipython",
    "version": 3
   },
   "file_extension": ".py",
   "mimetype": "text/x-python",
   "name": "python",
   "nbconvert_exporter": "python",
   "pygments_lexer": "ipython3",
   "version": "3.7.5"
  },
  "tests": {
   "skip": true
  }
 },
 "nbformat": 4,
 "nbformat_minor": 4
}
