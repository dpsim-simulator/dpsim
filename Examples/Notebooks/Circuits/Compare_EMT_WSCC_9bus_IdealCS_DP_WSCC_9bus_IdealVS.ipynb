{
 "cells": [
  {
   "cell_type": "markdown",
   "metadata": {},
   "source": [
    "# WSCC 9bus Ideal Current Source - EMT vs. DP"
   ]
  },
  {
   "cell_type": "code",
   "execution_count": null,
   "metadata": {},
   "outputs": [],
   "source": [
    "from villas.dataprocessing.readtools import *\n",
    "from villas.dataprocessing.timeseries import *\n",
    "import matplotlib.pyplot as plt\n",
    "import re\n",
    "import numpy as np\n",
    "import math\n",
    "import os\n",
    "import subprocess\n",
    "\n",
    "# %matplotlib widget\n",
    "\n",
    "PEAK1PH_TO_RMS3PH=np.sqrt(3./2.)\n",
    "\n",
    "name = 'DP_WSCC-9bus_IdealVS'\n",
    "name_emt = 'EMT_WSCC-9bus_IdealCS'\n",
    "\n",
    "timestep = 100e-6\n",
    "duration = 0.1\n",
    "\n",
    "root_path = subprocess.Popen(['git', 'rev-parse', '--show-toplevel'], stdout=subprocess.PIPE).communicate()[0].rstrip().decode('utf-8')\n",
    "\n",
    "path_exec = root_path + '/build/Examples/Cxx/'\n",
    "path_cim = root_path + '/build/_deps/cim-data-src/WSCC-09/WSCC-09/'\n",
    "cim_file = path_cim + 'WSCC-09'"
   ]
  },
  {
   "cell_type": "markdown",
   "metadata": {},
   "source": [
    "## Run Simulation"
   ]
  },
  {
   "cell_type": "code",
   "execution_count": null,
   "metadata": {},
   "outputs": [],
   "source": [
    "sim = subprocess.Popen([path_exec+name, '--timestep', str(timestep), '--duration', str(duration), cim_file + '_DI.xml', cim_file + '_EQ.xml', cim_file + '_SV.xml', cim_file + '_TP.xml'], stdout=subprocess.PIPE, stderr=subprocess.STDOUT)\n",
    "print(sim.communicate()[0].decode())\n",
    "sim = subprocess.Popen([path_exec+name_emt, '--timestep', str(timestep), '--duration', str(duration), cim_file + '_DI.xml', cim_file + '_EQ.xml', cim_file + '_SV.xml', cim_file + '_TP.xml'], stdout=subprocess.PIPE, stderr=subprocess.STDOUT)\n",
    "print(sim.communicate()[0].decode())"
   ]
  },
  {
   "cell_type": "markdown",
   "metadata": {},
   "source": [
    "## Read DPsim Results"
   ]
  },
  {
   "cell_type": "code",
   "execution_count": null,
   "metadata": {},
   "outputs": [],
   "source": [
    "model_name = 'DP_WSCC-9bus_IdealVS'\n",
    "path = 'logs/' + model_name + '/'\n",
    "dpsim_result_file = path  + model_name + '.csv'\n",
    "ts_dpsim_dp = read_timeseries_csv(dpsim_result_file)\n",
    "\n",
    "model_name = 'EMT_WSCC-9bus_IdealCS'\n",
    "path = 'logs/' + model_name + '/'\n",
    "dpsim_result_file = path  + model_name + '.csv'\n",
    "ts_dpsim_emt = read_timeseries_csv(dpsim_result_file)\n",
    "\n",
    "model_name = 'EMT_WSCC-9bus_IdealCS_PF'\n",
    "path = 'logs/' + model_name + '/'\n",
    "dpsim_result_file = path  + model_name + '.csv'\n",
    "ts_dpsim_pf = read_timeseries_csv(dpsim_result_file)"
   ]
  },
  {
   "cell_type": "markdown",
   "metadata": {},
   "source": [
    "## Bus voltages"
   ]
  },
  {
   "cell_type": "code",
   "execution_count": null,
   "metadata": {},
   "outputs": [],
   "source": [
    "plt.figure(figsize=(12,8))\n",
    "for phase in ['0']: #, '1','2']:\n",
    "    for name in ['v1_'+phase, 'v2_'+phase, 'v3_'+phase]:\n",
    "        plt.plot(ts_dpsim_emt[name].time, PEAK1PH_TO_RMS3PH*ts_dpsim_emt[name].values, label=name + ' (EMT)')\n",
    "for name in ['v1', 'v2', 'v3']:\n",
    "    plt.plot(ts_dpsim_dp[name].time, ts_dpsim_dp[name].abs().values, label=name + ' (DP)')\n",
    "for name in ['BUS1.V', 'BUS2.V', 'BUS3.V']:\n",
    "    plt.plot(ts_dpsim_pf[name].time, ts_dpsim_pf[name].abs().values, label=name + ' (PF)', linestyle='--')\n",
    "plt.legend()\n",
    "plt.show()"
   ]
  },
  {
   "cell_type": "markdown",
   "metadata": {},
   "source": [
    "## Bus angles from DP"
   ]
  },
  {
   "cell_type": "code",
   "execution_count": null,
   "metadata": {},
   "outputs": [],
   "source": [
    "plt.figure(figsize=(12,8))\n",
    "for name in ['v1', 'v2', 'v3']:\n",
    "    plt.plot(ts_dpsim_dp[name].time, ts_dpsim_dp[name].phase().values, label=name + ' (DP)')\n",
    "for name in ['BUS1.V', 'BUS2.V', 'BUS3.V']:\n",
    "    plt.plot(ts_dpsim_pf[name].time, ts_dpsim_pf[name].phase().values, label=name + ' (PF)', linestyle='--')\n",
    "plt.legend()"
   ]
  },
  {
   "cell_type": "markdown",
   "metadata": {},
   "source": [
    "# Generator currents"
   ]
  },
  {
   "cell_type": "code",
   "execution_count": null,
   "metadata": {},
   "outputs": [],
   "source": [
    "plt.figure(figsize=(12,8))\n",
    "for phase in ['0']: #,'1','2']:\n",
    "    for name in ['GEN1.I_'+phase, 'GEN2.I_'+phase, 'GEN3.I_'+phase]:\n",
    "        plt.plot(ts_dpsim_emt[name].time, PEAK1PH_TO_RMS3PH*ts_dpsim_emt[name].values, label=name + '(EMT)')\n",
    "for name in ['GEN1.I', 'GEN2.I', 'GEN3.I']:\n",
    "    plt.plot(ts_dpsim_dp[name].interpolate(timestep).time, ts_dpsim_dp[name].interpolate(timestep).frequency_shift(60).values, label=name + '(DP)', linestyle='--')\n",
    "plt.legend()\n",
    "plt.show()"
   ]
  },
  {
   "cell_type": "markdown",
   "metadata": {},
   "source": [
    "## Assert generator current"
   ]
  },
  {
   "cell_type": "code",
   "execution_count": null,
   "metadata": {},
   "outputs": [],
   "source": [
    "ts_emt_rms3ph = {}\n",
    "rmse_rel = {}\n",
    "for name in ['GEN1.I', 'GEN2.I', 'GEN3.I']:\n",
    "    ts_emt_rms3ph[name+'_0'] = ts_dpsim_emt[name+'_0']\n",
    "    ts_emt_rms3ph[name+'_0'].values = PEAK1PH_TO_RMS3PH*ts_emt_rms3ph[name+'_0'].values\n",
    "    rmse_rel[name] = ts_dpsim_dp[name].rmse(ts_emt_rms3ph[name+'_0'], ts_dpsim_dp[name].interpolate(timestep).frequency_shift(60))/np.max(ts_dpsim_dp[name].abs().values)\n",
    "    print('Rel. RMSE for {}: {}'.format(name, rmse_rel[name]))\n",
    "    assert(rmse_rel[name]<1e-2)"
   ]
  },
  {
   "cell_type": "code",
   "execution_count": null,
   "metadata": {},
   "outputs": [],
   "source": []
  }
 ],
 "metadata": {
  "kernelspec": {
   "display_name": "Python 3",
   "language": "python",
   "name": "python3"
  },
  "language_info": {
   "codemirror_mode": {
    "name": "ipython",
    "version": 3
   },
   "file_extension": ".py",
   "mimetype": "text/x-python",
   "name": "python",
   "nbconvert_exporter": "python",
   "pygments_lexer": "ipython3",
   "version": "3.7.7"
  },
  "tests": {
   "skip": false
  }
 },
 "nbformat": 4,
 "nbformat_minor": 4
}
