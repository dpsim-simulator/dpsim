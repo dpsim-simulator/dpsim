{
 "cells": [
  {
   "cell_type": "markdown",
   "source": [
    "# DP Simulation of topology with slack, line and VSI"
   ],
   "metadata": {}
  },
  {
   "cell_type": "code",
   "execution_count": null,
   "source": [
    "from villas.dataprocessing.readtools import *\n",
    "from villas.dataprocessing.timeseries import *\n",
    "import matplotlib.pyplot as plt\n",
    "import re\n",
    "import dpsimpy\n",
    "\n",
    "# %matplotlib widget"
   ],
   "outputs": [],
   "metadata": {}
  },
  {
   "cell_type": "markdown",
   "source": [
    "## Simulation"
   ],
   "metadata": {}
  },
  {
   "cell_type": "markdown",
   "source": [
    "### Parameterization"
   ],
   "metadata": {}
  },
  {
   "cell_type": "code",
   "execution_count": null,
   "source": [
    "final_time = 1.0\n",
    "time_step = 1e-5\n",
    "sim_name = \"DP_Slack_PiLine_VSI_with_PF_Init\"\n",
    "pv_with_control = True\n",
    "cmd_scale_P = 1.0\n",
    "cmd_scale_I = 1.0\n",
    "V_nom = 20e3"
   ],
   "outputs": [],
   "metadata": {}
  },
  {
   "cell_type": "markdown",
   "source": [
    "### Powerflow for Initialization"
   ],
   "metadata": {}
  },
  {
   "cell_type": "code",
   "execution_count": null,
   "source": [
    "time_step_pf = final_time\n",
    "final_time_pf = final_time + time_step_pf\n",
    "sim_name_pf = sim_name + \"_PF\"\n",
    "dpsimpy.Logger.set_log_dir('logs/' + sim_name_pf)\n",
    "\n",
    "# Components\n",
    "n1_pf = dpsimpy.sp.SimNode('n1', dpsimpy.PhaseType.Single)\n",
    "n2_pf = dpsimpy.sp.SimNode('n2', dpsimpy.PhaseType.Single)\n",
    "\n",
    "extnet_pf = dpsimpy.sp.ph1.NetworkInjection('Slack', dpsimpy.LogLevel.debug)\n",
    "extnet_pf.set_parameters(voltage_set_point=V_nom)\n",
    "extnet_pf.set_base_voltage(V_nom)\n",
    "extnet_pf.modify_power_flow_bus_type(dpsimpy.PowerflowBusType.VD)\n",
    "\n",
    "line_pf = dpsimpy.sp.ph1.PiLine('PiLine', dpsimpy.LogLevel.debug)\n",
    "line_pf.set_parameters(R=0.5*5, L=0.5/314*5, C=50e-6/314*5)\n",
    "line_pf.set_base_voltage(V_nom)\n",
    "\n",
    "load_pf = dpsimpy.sp.ph1.Load('Load', dpsimpy.LogLevel.debug)\n",
    "load_pf.set_parameters(active_power=-100e3, reactive_power=-50e3, nominal_voltage=20e3)\n",
    "load_pf.modify_power_flow_bus_type(dpsimpy.PowerflowBusType.PQ)\n",
    "\n",
    "# Topology\n",
    "extnet_pf.connect([n1_pf])\n",
    "line_pf.connect([n1_pf, n2_pf])\n",
    "load_pf.connect([n2_pf])\n",
    "system_pf = dpsimpy.SystemTopology(50, [n1_pf, n2_pf], [extnet_pf, line_pf, load_pf])\n",
    "\n",
    "# Logging\n",
    "logger_pf = dpsimpy.Logger(sim_name_pf)\n",
    "logger_pf.log_attribute('v1', 'v', n1_pf)\n",
    "logger_pf.log_attribute('v2', 'v', n2_pf)\n",
    "\n",
    "# Simulation\n",
    "sim_pf = dpsimpy.Simulation(sim_name_pf, dpsimpy.LogLevel.debug)\n",
    "sim_pf.set_system(system_pf)\n",
    "sim_pf.set_time_step(time_step_pf)\n",
    "sim_pf.set_final_time(final_time_pf)\n",
    "sim_pf.set_domain(dpsimpy.Domain.SP)\n",
    "sim_pf.set_solver(dpsimpy.Solver.NRP)\n",
    "sim_pf.do_init_from_nodes_and_terminals(False)\n",
    "sim_pf.add_logger(logger_pf)\n",
    "sim_pf.run()"
   ],
   "outputs": [],
   "metadata": {}
  },
  {
   "cell_type": "markdown",
   "source": [
    "### Dynamic Simulation"
   ],
   "metadata": {}
  },
  {
   "cell_type": "code",
   "execution_count": null,
   "source": [
    "time_step_dp = time_step\n",
    "final_time_dp = final_time + time_step_dp\n",
    "sim_name_dp = sim_name + \"_DP\"\n",
    "dpsimpy.Logger.set_log_dir('logs/' + sim_name_dp)\n",
    "\n",
    "# Components\n",
    "gnd = dpsimpy.dp.SimNode.gnd\n",
    "n1_dp = dpsimpy.dp.SimNode('n1', dpsimpy.PhaseType.Single)\n",
    "n2_dp = dpsimpy.dp.SimNode('n2', dpsimpy.PhaseType.Single)\n",
    "\n",
    "extnet_dp = dpsimpy.dp.ph1.NetworkInjection('Slack', dpsimpy.LogLevel.debug)\n",
    "extnet_dp.set_parameters(complex(V_nom, 0))\n",
    "\n",
    "line_dp = dpsimpy.dp.ph1.PiLine('PiLine', dpsimpy.LogLevel.debug)\n",
    "line_dp.set_parameters(series_resistance=0.5*5, series_inductance=(0.5/314)*5, parallel_capacitance=(50e-6/314)*5)\n",
    "\n",
    "pv = dpsimpy.dp.ph1.AvVoltageSourceInverterDQ(\"pv\", \"pv\", dpsimpy.LogLevel.debug, with_trafo=True)\n",
    "pv.set_parameters(sys_omega=2 * np.pi * 50, sys_volt_nom=V_nom, p_ref=100e3, q_ref=50e3)\n",
    "pv.set_controller_parameters(Kp_pll=cmd_scale_P * 0.25, Ki_pll=cmd_scale_I * 0.2,\n",
    "                             Kp_power_ctrl=cmd_scale_P *0.001, Ki_power_ctrl=cmd_scale_I * 0.008 ,\n",
    "                             Kp_curr_ctrl=cmd_scale_P * 0.3, Ki_curr_ctrl=cmd_scale_I * 1, omega_cutoff=2*np.pi*50)\n",
    "pv.set_filter_parameters(Lf=0.002,Cf=789.3e-6,Rf=0.1,Rc=0.1)\n",
    "pv.set_transformer_parameters(nom_voltage_end_1=V_nom, nom_voltage_end_2=1500,\n",
    "                              ratio_abs=V_nom / 1500, ratio_phase=0,resistance=0, inductance=0.928e-3)\n",
    "pv.set_initial_state_values(p_init=100e3, q_init=50e3, phi_d_init=0, phi_q_init=0, gamma_d_init=0, gamma_q_init=0)\n",
    "pv.with_control(pv_with_control)\n",
    "\n",
    "# Topology\n",
    "extnet_dp.connect([n1_dp])\n",
    "line_dp.connect([n1_dp, n2_dp])\n",
    "pv.connect([n2_dp])\n",
    "system_dp = dpsimpy.SystemTopology(50, [n1_dp, n2_dp], [extnet_dp, line_dp, pv])\n",
    "\n",
    "# Initialization of dynamic topology\n",
    "system_dp.init_with_powerflow(system_pf)\n",
    "\n",
    "# Logging\n",
    "logger_dp = dpsimpy.Logger(sim_name_dp)\n",
    "logger_dp.log_attribute('v1', 'v', n1_dp)\n",
    "logger_dp.log_attribute('v2', 'v', n2_dp)\n",
    "logger_dp.log_attribute('i12', 'i_intf', line_dp)\n",
    "\n",
    "\n",
    "input_names = [\n",
    "    \"pv_powerctrl_input_pref\", \"pv_powerctrl_input_qref\", \"pv_powerctrl_input_vcd\",\n",
    "    \"pv_powerctrl_input_vcq\", \"pv_powerctrl_input_ircd\", \"pv_powerctrl_input_ircq\"\n",
    "]\n",
    "logger_dp.log_attribute(input_names, 'powerctrl_inputs', pv)\n",
    "\n",
    "state_names = [\n",
    "    \"pv_powerctrl_state_p\", \"pv_powerctrl_state_q\", \"pv_powerctrl_state_phid\",\n",
    "    \"pv_powerctrl_state_phiq\", \"pv_powerctrl_state_gammad\", \"pv_powerctrl_state_gammaq\"\n",
    "]\n",
    "logger_dp.log_attribute(state_names, 'powerctrl_states', pv)\n",
    "\n",
    "output_names = [\n",
    "    \"pv_powerctrl_output_vsd\", \"pv_powerctrl_output_vsq\"\n",
    "]\n",
    "\n",
    "logger_dp.log_attribute(output_names, 'powerctrl_outputs', pv)\n",
    "\n",
    "logger_dp.log_attribute('pv_v_intf', 'v_intf', pv)\n",
    "logger_dp.log_attribute('pv_i_intf', 'i_intf', pv)\n",
    "logger_dp.log_attribute('pv_pll_output', 'pll_output', pv)\n",
    "logger_dp.log_attribute('pv_vsref', 'Vsref', pv)\n",
    "logger_dp.log_attribute('pv_vs', 'Vs', pv)\n",
    "\n",
    "# load step sized in absolute terms\n",
    "load_switch = dpsimpy.dp.ph1.Switch(\"Load_Add_Switch_n2\", dpsimpy.LogLevel.debug)\n",
    "connection_node = system_dp.node('n2')\n",
    "resistance = np.abs(connection_node.initial_single_voltage())**2 / 10e6\n",
    "load_switch.set_parameters(1e9, resistance)\n",
    "load_switch.open()\n",
    "system_dp.add(load_switch)\n",
    "system_dp.connect_component(load_switch, [gnd, system_dp.node('n2')])\n",
    "logger_dp.log_attribute('switchedload_i', 'i_intf', load_switch)\n",
    "load_step_event = dpsimpy.event.SwitchEvent(np.round(5.0/time_step)*time_step, load_switch, True)\n",
    "\n",
    "# Simulation\n",
    "sim_dp = dpsimpy.Simulation(sim_name_dp, dpsimpy.LogLevel.debug)\n",
    "sim_dp.set_system(system_dp)\n",
    "sim_dp.set_time_step(time_step_dp)\n",
    "sim_dp.set_final_time(final_time_dp)\n",
    "sim_dp.set_domain(dpsimpy.Domain.DP)\n",
    "sim_dp.add_event(load_step_event)\n",
    "sim_dp.add_logger(logger_dp)\n",
    "sim_dp.run()"
   ],
   "outputs": [],
   "metadata": {}
  },
  {
   "cell_type": "markdown",
   "source": [
    "## PF results"
   ],
   "metadata": {}
  },
  {
   "cell_type": "code",
   "execution_count": null,
   "source": [
    "modelName = 'DP_Slack_PiLine_VSI_with_PF_Init_PF'\n",
    "path = 'logs/' + modelName + '/'\n",
    "dpsim_result_file = path + modelName + '.csv'\n",
    "\n",
    "ts_dpsim_pf = read_timeseries_csv(dpsim_result_file)"
   ],
   "outputs": [],
   "metadata": {}
  },
  {
   "cell_type": "markdown",
   "source": [
    "## DP results"
   ],
   "metadata": {}
  },
  {
   "cell_type": "code",
   "execution_count": null,
   "source": [
    "modelName = 'DP_Slack_PiLine_VSI_with_PF_Init_DP'\n",
    "path = 'logs/' + modelName + '/'\n",
    "dpsim_result_file = path + modelName + '.csv'\n",
    "\n",
    "ts_dpsim = read_timeseries_csv(dpsim_result_file)"
   ],
   "outputs": [],
   "metadata": {}
  },
  {
   "cell_type": "code",
   "execution_count": null,
   "source": [
    "fig = plt.figure(figsize=(12,6))\n",
    "for ts_name, ts_obj  in ts_dpsim.items():\n",
    "    if ts_name == 'v1' or ts_name == 'v2':\n",
    "        plt.plot(ts_obj.time, ts_obj.abs().values / 1000, label=ts_name)\n",
    "#for ts_name, ts_obj  in ts_dpsim_pf.items():\n",
    "#    if ts_name == 'v1' or ts_name == 'v2':\n",
    "#        plt.plot(ts_obj.time, ts_obj.abs().values, label=ts_name+'_pf', linestyle=':')\n",
    "plt.xlim(4.999, 5.004)\n",
    "fig.legend(loc='upper center', ncol=2)\n",
    "plt.xlabel('Zeit [s]')\n",
    "plt.ylabel('Spannung [kV]')\n",
    "plt.show()"
   ],
   "outputs": [],
   "metadata": {}
  },
  {
   "cell_type": "code",
   "execution_count": null,
   "source": [
    "plt.figure(figsize=(12,6))\n",
    "for ts_name, ts_obj  in ts_dpsim.items():\n",
    "    if ts_name in ['i12', 'switchedload_i']:\n",
    "        plt.plot(ts_obj.time, ts_obj.abs().values, label=ts_name)\n",
    "plt.xlim(4.999, 5.004)\n",
    "plt.legend()\n",
    "plt.show()"
   ],
   "outputs": [],
   "metadata": {}
  },
  {
   "cell_type": "code",
   "execution_count": null,
   "source": [
    "fig = plt.figure(figsize=(12,6))\n",
    "ts_5 = ts_dpsim['i12']\n",
    "ts_5_deriv = (ts_5.abs().values[1:] - ts_5.abs().values[:-1])\n",
    "plt.plot(ts_5.time[1:], ts_5_deriv, label='Änderung des Stroms i12')\n",
    "#plt.plot(ts_5.time, ts_5.abs().values)\n",
    "plt.xlim([4.999, 5.004])\n",
    "#plt.ylim([-3, 3])\n",
    "\n",
    "fig.legend(loc='upper center')\n",
    "plt.xlabel('Zeit [s]')\n",
    "plt.ylabel('Stromänderung [A/Zeitschritt]')\n",
    "plt.show()\n"
   ],
   "outputs": [],
   "metadata": {}
  },
  {
   "cell_type": "code",
   "execution_count": null,
   "source": [
    "#ts = ts_dpsim['i12'].abs()\n",
    "#\n",
    "## Calculate end value\n",
    "#A_end = ts.values[500400]\n",
    "##A_end = ts.values[10008]\n",
    "#print(\"A_end = \" + str(A_end))\n",
    "#\n",
    "## Calculate damping\n",
    "#tmax1 = ts.values.argmax()\n",
    "#tmin1 = ts.values[tmax1:].argmin() + tmax1\n",
    "#print(\"tmax1 = \" + str(tmax1))\n",
    "#print(\"tmin1 = \" + str(tmin1))\n",
    "#A1 = ts.values[tmax1]\n",
    "#A2 = A_end + (A_end - ts.values[tmin1])\n",
    "#print(\"A1 = \" + str(A1))\n",
    "#print(\"A2 = \" + str(A2))\n",
    "#D = 1 / np.sqrt(1 + (np.pi / np.log(A1 / A2) ** 2)) * 15\n",
    "#print(\"D = \" + str(D))\n",
    "#\n",
    "## Calculate time coefficient\n",
    "#T0 = 2 * (ts.time[tmin1] - ts.time[tmax1])\n",
    "#T = T0 * np.sqrt(1 - D) / (2 * np.pi)\n",
    "#print(\"T0 = \" + str(T0))\n",
    "#print(\"T = \" + str(T))"
   ],
   "outputs": [],
   "metadata": {}
  },
  {
   "cell_type": "code",
   "execution_count": null,
   "source": [
    "#fig = plt.figure(figsize=(12,6))\n",
    "\n",
    "#D = 0.57\n",
    "#T = 0.000208\n",
    "#lti = sig.lti([A_end], [T**2, 2*D*T, 1])\n",
    "#t, sys_step_response = sig.step(lti, T=ts.time[500000:500400])\n",
    "##t, sys_step_response = sig.step(lti, T=ts.time[10000:10008])\n",
    "\n",
    "#plt.plot(t, ts.abs().values[500000:500400], label='Verlauf i12 aus Simulation')\n",
    "##plt.plot(t, ts.abs().values[10000:10008], label='Verlauf i12 aus Simulation')\n",
    "#plt.plot(t, sys_step_response, label='Verlauf des nachgebildeten PT2-Glieds')\n",
    "#fig.legend(loc='upper center')\n",
    "#plt.xlabel('Zeit [s]')\n",
    "#plt.ylabel('Stromstärke [A]')\n",
    "#pass"
   ],
   "outputs": [],
   "metadata": {}
  },
  {
   "cell_type": "code",
   "execution_count": null,
   "source": [
    "#plt.figure(figsize=(12,6))\n",
    "\n",
    "#freq = np.arange(0, 2000)\n",
    "#w, mag = lti.freqresp(w=2*np.pi*freq)\n",
    "\n",
    "#plt.plot(freq, abs(mag))\n",
    "#plt.xlabel('Frequenz [Hz]')\n",
    "#plt.ylabel('Gain')\n",
    "#pass"
   ],
   "outputs": [],
   "metadata": {}
  },
  {
   "cell_type": "code",
   "execution_count": null,
   "source": [],
   "outputs": [],
   "metadata": {}
  }
 ],
 "metadata": {
  "kernelspec": {
   "display_name": "Python 3",
   "language": "python",
   "name": "python3"
  },
  "language_info": {
   "codemirror_mode": {
    "name": "ipython",
    "version": 3
   },
   "file_extension": ".py",
   "mimetype": "text/x-python",
   "name": "python",
   "nbconvert_exporter": "python",
   "pygments_lexer": "ipython3",
   "version": "3.8.9"
  }
 },
 "nbformat": 4,
 "nbformat_minor": 4
}