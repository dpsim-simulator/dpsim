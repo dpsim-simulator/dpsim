{
 "cells": [
  {
   "cell_type": "markdown",
   "metadata": {},
   "source": [
    "# Synchronous Generator dq 7th order model - Operational against Fundamental Params Validation"
   ]
  },
  {
   "cell_type": "code",
   "execution_count": null,
   "metadata": {},
   "outputs": [],
   "source": [
    "from villas.dataprocessing.readtools import *\n",
    "from villas.dataprocessing.timeseries import *\n",
    "import matplotlib.pyplot as plt\n",
    "import re\n",
    "import numpy as np\n",
    "import math\n",
    "import os\n",
    "import subprocess\n",
    "\n",
    "#%matplotlib widget\n",
    "timestep = 10e-6\n",
    "duration = 1.0\n",
    "\n",
    "begin_idx=0\n",
    "end_idx=-1\n",
    "\n",
    "dpsim_path = subprocess.Popen(['git', 'rev-parse', '--show-toplevel'], stdout=subprocess.PIPE).communicate()[0].rstrip().decode('utf-8')\n",
    "path_exec = dpsim_path + '/build/Examples/Cxx/'"
   ]
  },
  {
   "cell_type": "markdown",
   "metadata": {},
   "source": [
    "## Fundamental parameters"
   ]
  },
  {
   "cell_type": "code",
   "execution_count": null,
   "metadata": {},
   "outputs": [],
   "source": [
    "model_name_fundamental = 'EMT_SynGenDQ7odTrapez_SMIB_Fault'\n",
    "\n",
    "sim = subprocess.Popen([path_exec+model_name_fundamental, '--name', model_name_fundamental, '--timestep', str(timestep), '--duration', str(duration)], stdout=subprocess.PIPE, stderr=subprocess.STDOUT)\n",
    "print(sim.communicate()[0].decode())\n",
    "\n",
    "path_res = 'logs/' + model_name_fundamental + '/'\n",
    "dpsim_result_file_res = path_res  + model_name_fundamental + '.csv'\n",
    "ts_fundamental = read_timeseries_csv(dpsim_result_file_res)"
   ]
  },
  {
   "cell_type": "markdown",
   "metadata": {},
   "source": [
    "## Operational parameters"
   ]
  },
  {
   "cell_type": "code",
   "execution_count": null,
   "metadata": {},
   "outputs": [],
   "source": [
    "model_name_operational = 'EMT_SynGenDQ7odTrapez_OperationalParams_SMIB_Fault'\n",
    "\n",
    "sim = subprocess.Popen([path_exec+model_name_operational, '--name', model_name_operational, '--timestep', str(timestep), '--duration', str(duration)], stdout=subprocess.PIPE, stderr=subprocess.STDOUT)\n",
    "print(sim.communicate()[0].decode())\n",
    "\n",
    "path_res = 'logs/' + model_name_operational + '/'\n",
    "dpsim_result_file_res = path_res  + model_name_operational + '.csv'\n",
    "ts_operational = read_timeseries_csv(dpsim_result_file_res)"
   ]
  },
  {
   "cell_type": "markdown",
   "metadata": {},
   "source": [
    "## Genrerator terminal Current"
   ]
  },
  {
   "cell_type": "code",
   "execution_count": null,
   "metadata": {},
   "outputs": [],
   "source": [
    "plt.figure(figsize=(12,8))\n",
    "plt.ylabel('Generator terminal current (V)', fontsize=18)\n",
    "\n",
    "for name in ['i_gen']:\n",
    "    plt.plot(ts_fundamental[name + '_0'].time[begin_idx:end_idx], np.sqrt(3/2)*ts_fundamental[name + '_0'].values[begin_idx:end_idx], label=name)\n",
    "    plt.plot(ts_operational[name + '_0'].time[begin_idx:end_idx], np.sqrt(3/2)*ts_operational[name + '_0'].values[begin_idx:end_idx], linestyle='--', label=name)\n",
    "\n",
    "plt.legend()\n",
    "plt.show()"
   ]
  },
  {
   "cell_type": "code",
   "execution_count": null,
   "metadata": {},
   "outputs": [],
   "source": [
    "assert(np.max(ts_fundamental[name + '_0'].values[begin_idx:end_idx]-ts_operational[name + '_0'].values[begin_idx:end_idx])/np.max(ts_fundamental[name + '_0'].values[begin_idx:end_idx]) < 1e-3)"
   ]
  }
 ],
 "metadata": {
  "kernelspec": {
   "display_name": "Python 3",
   "language": "python",
   "name": "python3"
  },
  "language_info": {
   "codemirror_mode": {
    "name": "ipython",
    "version": 3
   },
   "file_extension": ".py",
   "mimetype": "text/x-python",
   "name": "python",
   "nbconvert_exporter": "python",
   "pygments_lexer": "ipython3",
   "version": "3.7.7"
  },
  "tests": {
   "skip": false
  }
 },
 "nbformat": 4,
 "nbformat_minor": 4
}
