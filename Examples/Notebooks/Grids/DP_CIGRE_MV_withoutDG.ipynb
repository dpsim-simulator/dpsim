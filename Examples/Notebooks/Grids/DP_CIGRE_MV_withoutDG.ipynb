{
 "cells": [
  {
   "cell_type": "markdown",
   "metadata": {},
   "source": [
    "# DP Simulation of CIGRE MV without PV Inverters"
   ]
  },
  {
   "cell_type": "markdown",
   "metadata": {},
   "source": [
    "## Run simulation"
   ]
  },
  {
   "cell_type": "code",
   "execution_count": null,
   "metadata": {},
   "outputs": [],
   "source": [
    "from villas.dataprocessing.readtools import *\n",
    "from villas.dataprocessing.timeseries import *\n",
    "import matplotlib.pyplot as plt\n",
    "import re\n",
    "import dpsimpy\n",
    "import glob\n",
    "import os\n",
    "\n",
    "# %matplotlib widget"
   ]
  },
  {
   "cell_type": "code",
   "execution_count": null,
   "metadata": {},
   "outputs": [],
   "source": [
    "top_path = os.popen('git rev-parse --show-toplevel').read().strip()\n",
    "files = glob.glob(top_path + '/build/_deps/cim-data-src/CIGRE_MV/NEPLAN/CIGRE_MV_no_tapchanger_noLoad1_LeftFeeder_With_LoadFlow_Results/*.xml')\n",
    "print(files)\n",
    "\n",
    "time_step = 1e-3\n",
    "final_time = 3.0\n",
    "steady_state_init = True"
   ]
  },
  {
   "cell_type": "code",
   "execution_count": null,
   "metadata": {},
   "outputs": [],
   "source": [
    "sim_name = 'DP_CIGRE_MV_withoutDG'\n",
    "sim_name_pf = sim_name + \"_Powerflow\""
   ]
  },
  {
   "cell_type": "markdown",
   "metadata": {},
   "source": [
    "### Powerflow for Initialization"
   ]
  },
  {
   "cell_type": "code",
   "execution_count": null,
   "metadata": {},
   "outputs": [],
   "source": [
    "dpsimpy.Logger.set_log_dir('logs/' + sim_name_pf)\n",
    "reader = dpsimpy.CIMReader(sim_name_pf, dpsimpy.LogLevel.debug, dpsimpy.LogLevel.debug)\n",
    "system_pf = reader.loadCIM(50, files, dpsimpy.Domain.SP, dpsimpy.PhaseType.Single, dpsimpy.GeneratorType.PVNode)\n",
    "\n",
    "logger_pf = dpsimpy.Logger(sim_name_pf)\n",
    "for node in system_pf.nodes:\n",
    "    logger_pf.log_attribute(node.name() + '.V', 'v', node)\n",
    "\n",
    "sim_pf = dpsimpy.Simulation(sim_name_pf, dpsimpy.LogLevel.debug)\n",
    "sim_pf.set_system(system_pf)\n",
    "sim_pf.set_time_step(1.0)\n",
    "sim_pf.set_final_time(2.0)\n",
    "sim_pf.set_domain(dpsimpy.Domain.SP)\n",
    "sim_pf.set_solver(dpsimpy.Solver.NRP)\n",
    "sim_pf.do_init_from_nodes_and_terminals(True)\n",
    "\n",
    "sim_pf.add_logger(logger_pf)\n",
    "sim_pf.run()\n"
   ]
  },
  {
   "cell_type": "markdown",
   "metadata": {},
   "source": [
    "### Dynamic simulation"
   ]
  },
  {
   "cell_type": "code",
   "execution_count": null,
   "metadata": {},
   "outputs": [],
   "source": [
    "dpsimpy.Logger.set_log_dir('logs/' + sim_name)\n",
    "reader2 = dpsimpy.CIMReader(sim_name, dpsimpy.LogLevel.info, dpsimpy.LogLevel.debug)\n",
    "system_dp = reader2.loadCIM(50, files, dpsimpy.Domain.DP, dpsimpy.PhaseType.Single, dpsimpy.GeneratorType.PVNode)\n",
    "system_dp.init_with_powerflow(system_pf)\n",
    "\n",
    "# log node voltages\n",
    "logger_dp= dpsimpy.Logger(sim_name)\n",
    "for node in system_dp.nodes:\n",
    "    logger_dp.log_attribute(node.name() + '.V', 'v', node)\n",
    "\n",
    "# log line and load currents\n",
    "for comp in system_dp.components:\n",
    "    if isinstance(comp, dpsimpy.dp.ph1.PiLine):\n",
    "        logger_dp.log_attribute(comp.name() + '.I', 'i_intf', comp)\n",
    "    if isinstance(comp, dpsimpy.dp.ph1.RXLoad):\n",
    "        logger_dp.log_attribute(comp.name() + '.I', 'i_intf', comp)\n",
    "\n",
    "sim_dp = dpsimpy.Simulation(sim_name, dpsimpy.LogLevel.debug)\n",
    "sim_dp.set_system(system_dp)\n",
    "sim_dp.set_time_step(time_step)\n",
    "sim_dp.set_final_time(final_time)\n",
    "sim_dp.set_domain(dpsimpy.Domain.DP)\n",
    "sim_dp.set_solver(dpsimpy.Solver.MNA)\n",
    "sim_dp.do_steady_state_init(steady_state_init)\n",
    "sim_dp.do_init_from_nodes_and_terminals(True)\n",
    "\n",
    "sim_dp.add_logger(logger_dp)\n",
    "sim_dp.run()"
   ]
  },
  {
   "cell_type": "markdown",
   "metadata": {},
   "source": [
    "## Powerflow"
   ]
  },
  {
   "cell_type": "markdown",
   "metadata": {},
   "source": [
    "### Read results"
   ]
  },
  {
   "cell_type": "code",
   "execution_count": null,
   "metadata": {},
   "outputs": [],
   "source": [
    "modelName = 'DP_CIGRE_MV_withoutDG_Powerflow'\n",
    "path = 'logs/' + modelName + '/'\n",
    "dpsim_result_file = path + modelName + '.csv'\n",
    "\n",
    "ts_dpsim_powerflow = read_timeseries_csv(dpsim_result_file)"
   ]
  },
  {
   "cell_type": "markdown",
   "metadata": {},
   "source": [
    "### Plot results"
   ]
  },
  {
   "cell_type": "code",
   "execution_count": null,
   "metadata": {},
   "outputs": [],
   "source": [
    "plt.figure(figsize=(12,6))\n",
    "for ts_name, ts_obj  in ts_dpsim_powerflow.items():\n",
    "    if ts_name != 'N0.V':\n",
    "        plt.plot(ts_obj.time, ts_obj.abs().values, label=ts_name)\n",
    "plt.legend()\n",
    "plt.show()"
   ]
  },
  {
   "cell_type": "markdown",
   "metadata": {},
   "source": [
    "### Node voltages"
   ]
  },
  {
   "cell_type": "code",
   "execution_count": null,
   "metadata": {},
   "outputs": [],
   "source": [
    "for ts_name, ts_obj  in ts_dpsim_powerflow.items():\n",
    "    print(ts_name + ': ' + str(ts_obj.abs().values[0]) + ', ' + str(ts_obj.phase().values[0]))"
   ]
  },
  {
   "cell_type": "markdown",
   "metadata": {},
   "source": [
    "## Dynamic Phasor"
   ]
  },
  {
   "cell_type": "markdown",
   "metadata": {},
   "source": [
    "### Read results"
   ]
  },
  {
   "cell_type": "code",
   "execution_count": null,
   "metadata": {},
   "outputs": [],
   "source": [
    "modelName = 'DP_CIGRE_MV_withoutDG'\n",
    "path = 'logs/' + modelName + '/'\n",
    "dpsim_result_file = path + modelName + '.csv'\n",
    "\n",
    "ts_dpsim = read_timeseries_csv(dpsim_result_file)"
   ]
  },
  {
   "cell_type": "markdown",
   "metadata": {},
   "source": [
    "## Node voltages"
   ]
  },
  {
   "cell_type": "markdown",
   "metadata": {},
   "source": [
    "### Plot results"
   ]
  },
  {
   "cell_type": "code",
   "execution_count": null,
   "metadata": {},
   "outputs": [],
   "source": [
    "plt.figure(figsize=(12,6))\n",
    "for ts_name, ts_obj  in ts_dpsim.items():\n",
    "    if ts_name != 'N0.V' and ts_name[-2:] == '.V':\n",
    "        plt.plot(ts_obj.time, ts_obj.abs().values, label=ts_name)\n",
    "plt.legend(loc='upper right')\n",
    "plt.show()"
   ]
  },
  {
   "cell_type": "markdown",
   "metadata": {},
   "source": [
    "### At first timestep"
   ]
  },
  {
   "cell_type": "code",
   "execution_count": null,
   "metadata": {},
   "outputs": [],
   "source": [
    "for ts_name, ts_obj  in ts_dpsim.items():\n",
    "    if ts_name[-2:] == '.V':\n",
    "        print(ts_name + ': ' + str(ts_obj.abs().values[0]) + ', ' + str(ts_obj.phase().values[0]))"
   ]
  },
  {
   "cell_type": "markdown",
   "metadata": {},
   "source": [
    "### At last timestep"
   ]
  },
  {
   "cell_type": "code",
   "execution_count": null,
   "metadata": {},
   "outputs": [],
   "source": [
    "for ts_name, ts_obj  in ts_dpsim.items():\n",
    "    if ts_name[-2:] == '.V':\n",
    "        print(ts_name + ': ' + str(ts_obj.abs().values[-1:]) + ', ' + str(ts_obj.phase().values[-1:]))"
   ]
  },
  {
   "cell_type": "markdown",
   "metadata": {},
   "source": [
    "## Load currents"
   ]
  },
  {
   "cell_type": "code",
   "execution_count": null,
   "metadata": {},
   "outputs": [],
   "source": [
    "plt.figure(figsize=(12,6))\n",
    "for ts_name, ts_obj  in ts_dpsim.items():\n",
    "    if ts_name[-2:] == '.I' and ts_name[:4] == 'LOAD':\n",
    "        plt.plot(ts_obj.time, ts_obj.abs().values, label=ts_name)\n",
    "plt.xlim([0,0.01])\n",
    "plt.legend(loc='upper right')\n",
    "plt.show()"
   ]
  },
  {
   "cell_type": "markdown",
   "metadata": {},
   "source": [
    "### At first timestep"
   ]
  },
  {
   "cell_type": "code",
   "execution_count": null,
   "metadata": {},
   "outputs": [],
   "source": [
    "for ts_name, ts_obj  in ts_dpsim.items():\n",
    "    if ts_name[-2:] == '.I' and ts_name[:4] == 'LOAD':\n",
    "        print(ts_name + ': ' + str(ts_obj.abs().values[0]) + ', ' + str(ts_obj.phase().values[0]))"
   ]
  },
  {
   "cell_type": "markdown",
   "metadata": {},
   "source": [
    "### At last timestep"
   ]
  },
  {
   "cell_type": "code",
   "execution_count": null,
   "metadata": {},
   "outputs": [],
   "source": [
    "for ts_name, ts_obj  in ts_dpsim.items():\n",
    "    if ts_name[-2:] == '.I' and ts_name[:4] == 'LOAD':\n",
    "        print(ts_name + ': ' + str(ts_obj.abs().values[-1:]) + ', ' + str(ts_obj.phase().values[-1:]))"
   ]
  },
  {
   "cell_type": "markdown",
   "metadata": {},
   "source": [
    "### Load Power Calculations"
   ]
  },
  {
   "cell_type": "code",
   "execution_count": null,
   "metadata": {},
   "outputs": [],
   "source": [
    "load_I_3_s = ts_dpsim['N3.V'].values*np.conj(ts_dpsim['LOAD-I-3.I'].values)  # ref from CIM: P=225250, Q=139597\n",
    "load_H_11_s = ts_dpsim['N11.V'].values*np.conj(ts_dpsim['LOAD-H-11.I'].values) # ref from CIM: P=329800, Q=82656"
   ]
  },
  {
   "cell_type": "markdown",
   "metadata": {},
   "source": [
    "### At first timestep"
   ]
  },
  {
   "cell_type": "code",
   "execution_count": null,
   "metadata": {},
   "outputs": [],
   "source": [
    "print('Load-I-3.S' + ': ' + str(load_I_3_s[0]))\n",
    "print('Load-H-11.S' + ': ' + str(load_H_11_s[0]))"
   ]
  },
  {
   "cell_type": "markdown",
   "metadata": {},
   "source": [
    "### At last timestep"
   ]
  },
  {
   "cell_type": "code",
   "execution_count": null,
   "metadata": {},
   "outputs": [],
   "source": [
    "print('Load-I-3.S' + ': ' + str(load_I_3_s[-1]))\n",
    "print('Load-H-11.S' + ': ' + str(load_H_11_s[-1]))"
   ]
  }
 ],
 "metadata": {
  "kernelspec": {
   "display_name": "Python 3",
   "language": "python",
   "name": "python3"
  },
  "language_info": {
   "codemirror_mode": {
    "name": "ipython",
    "version": 3
   },
   "file_extension": ".py",
   "mimetype": "text/x-python",
   "name": "python",
   "nbconvert_exporter": "python",
   "pygments_lexer": "ipython3",
   "version": "3.8.7"
  },
  "tests": {
   "skip": false
  }
 },
 "nbformat": 4,
 "nbformat_minor": 4
}